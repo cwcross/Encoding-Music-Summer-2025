{
 "cells": [
  {
   "cell_type": "markdown",
   "id": "bdbf28f2",
   "metadata": {},
   "source": [
    "# Vaudeville RAG\n",
    "\n",
    "Do not run all if the kernel restarts!"
   ]
  },
  {
   "cell_type": "code",
   "execution_count": 10,
   "id": "043c3569",
   "metadata": {},
   "outputs": [],
   "source": [
    "# Imports\n",
    "import getpass\n",
    "import os\n",
    "from langchain.chat_models import init_chat_model\n",
    "from langchain_openai import OpenAIEmbeddings\n",
    "from langchain_chroma import Chroma\n",
    "from langchain_community.document_loaders.csv_loader import CSVLoader\n",
    "from pathlib import Path\n",
    "from langchain_community.document_loaders import PyPDFLoader\n",
    "from langchain.document_loaders import PDFPlumberLoader\n",
    "from langchain.schema import Document\n",
    "from langchain_text_splitters import RecursiveCharacterTextSplitter\n",
    "from typing_extensions import List, TypedDict, Optional\n",
    "from langchain_core.prompts import ChatPromptTemplate\n",
    "from langgraph.graph import START, StateGraph"
   ]
  },
  {
   "cell_type": "markdown",
   "id": "86acea3e",
   "metadata": {},
   "source": [
    "## Indexing"
   ]
  },
  {
   "cell_type": "markdown",
   "id": "f4e7818c",
   "metadata": {},
   "source": [
    "### Loading Files"
   ]
  },
  {
   "cell_type": "code",
   "execution_count": 11,
   "id": "5cfa9a86",
   "metadata": {},
   "outputs": [],
   "source": [
    "# Setting up csv loading\n",
    "# We have extra metadata in the CSV to add to each document.\n",
    "\n",
    "\n",
    "def loadCSV(filepath: str) -> list:\n",
    "    loader = CSVLoader(file_path=filepath, source_column=\"FileName\",metadata_columns=[\"Year\",\"Work\",\"Theatre\"])\n",
    "    data = loader.load()\n",
    "    return data\n"
   ]
  },
  {
   "cell_type": "code",
   "execution_count": 12,
   "id": "34c60dfd",
   "metadata": {},
   "outputs": [
    {
     "name": "stdout",
     "output_type": "stream",
     "text": [
      "As_tu_vu_la_comete_mon_gas_text.pdf\n",
      "Théâtre du Vaudeville\n"
     ]
    }
   ],
   "source": [
    "# Load CSV\n",
    "\n",
    "csv_metadata = loadCSV(r\"C:\\Users\\charl\\Documents\\VSCode\\Vaudeville\\Files\\Vaudeville_Metadata.csv\")\n",
    "print(csv_metadata[0].metadata['source'])\n",
    "print(csv_metadata[1].metadata['Theatre'])"
   ]
  },
  {
   "cell_type": "code",
   "execution_count": 13,
   "id": "3182c251",
   "metadata": {},
   "outputs": [],
   "source": [
    "# Setting up pdf loading\n",
    "\n",
    "\n",
    "\n",
    "\n",
    "async def loadPDF(filepath: str) -> list:\n",
    "    loader = PDFPlumberLoader(filepath)\n",
    "    pages = []\n",
    "    async for page in loader.alazy_load():\n",
    "        pages.append(page)   \n",
    "    return pages\n"
   ]
  },
  {
   "cell_type": "code",
   "execution_count": 14,
   "id": "b1543074",
   "metadata": {},
   "outputs": [],
   "source": [
    "\n",
    "def get_files_from_directory(directory_path: str) -> list[str]:\n",
    "    directory = Path(directory_path)\n",
    "    file_paths = [str(file) for file in directory.iterdir() if file.is_file()]\n",
    "    return file_paths\n",
    "\n",
    "\n",
    "directory_path:str = r\"C:\\Users\\charl\\Documents\\VSCode\\Vaudeville\\Files\\PDFs\"\n",
    "files: list[str] = get_files_from_directory(directory_path)"
   ]
  },
  {
   "cell_type": "code",
   "execution_count": 15,
   "id": "cc10d8cc",
   "metadata": {},
   "outputs": [],
   "source": [
    "# Load PDFs w/out metadata\n",
    "loaded_PDFs: list = []\n",
    "for file in files:\n",
    "    pages = await loadPDF(file)\n",
    "    loaded_PDFs.append(pages)"
   ]
  },
  {
   "cell_type": "code",
   "execution_count": 16,
   "id": "aece5ade",
   "metadata": {},
   "outputs": [
    {
     "name": "stdout",
     "output_type": "stream",
     "text": [
      "Document 0 \n",
      "\n",
      "[('source', 'C:\\\\Users\\\\charl\\\\Documents\\\\VSCode\\\\Vaudeville\\\\Files\\\\PDFs\\\\As_tu_vu_la_comete_mon_gas_text.pdf'), ('file_path', 'C:\\\\Users\\\\charl\\\\Documents\\\\VSCode\\\\Vaudeville\\\\Files\\\\PDFs\\\\As_tu_vu_la_comete_mon_gas_text.pdf'), ('page', 0), ('total_pages', 104), ('CreationDate', \"D:20130826123210+02'00'\"), ('Creator', 'Bibliothèque nationale de France'), ('ModDate', \"D:20250624190557-04'00'\"), ('Producer', 'iText 1.4.8 (by lowagie.com)'), ('Title', \"Cogniard, Théodore (1806-1872),Clairville (1811-1879). As-tu vu la comète, mon gas ? revue de l'année 1858, en 3 actes et 4 tableaux, par MM. Théodore Cogniard et Clairville... (Paris, Variétés, 30 décembre 1858.). 1859.\"), ('source', 'C:\\\\Users\\\\charl\\\\Documents\\\\VSCode\\\\Vaudeville\\\\Files\\\\PDFs\\\\As_tu_vu_la_comete_mon_gas_text.pdf'), ('file_path', 'C:\\\\Users\\\\charl\\\\Documents\\\\VSCode\\\\Vaudeville\\\\Files\\\\PDFs\\\\As_tu_vu_la_comete_mon_gas_text.pdf'), ('page', 1), ('total_pages', 104), ('CreationDate', \"D:20130826123210+02'00'\"), ('Creator', 'Bibliothèque nationale de France'), ('ModDate', \"D:20250624190557-04'00'\"), ('Producer', 'iText 1.4.8 (by lowagie.com)'), ('Title', \"Cogniard, Théodore (1806-1872),Clairville (1811-1879). As-tu vu la comète, mon gas ? revue de l'année 1858, en 3 actes et 4 tableaux, par MM. Théodore Cogniard et Clairville... (Paris, Variétés, 30 décembre 1858.). 1859.\"), ('source', 'C:\\\\Users\\\\charl\\\\Documents\\\\VSCode\\\\Vaudeville\\\\Files\\\\PDFs\\\\As_tu_vu_la_comete_mon_gas_text.pdf'), ('file_path', 'C:\\\\Users\\\\charl\\\\Documents\\\\VSCode\\\\Vaudeville\\\\Files\\\\PDFs\\\\As_tu_vu_la_comete_mon_gas_text.pdf'), ('page', 2), ('total_pages', 104), ('CreationDate', \"D:20130826123210+02'00'\"), ('Creator', 'Bibliothèque nationale de France'), ('ModDate', \"D:20250624190557-04'00'\"), ('Producer', 'iText 1.4.8 (by lowagie.com)'), ('Title', \"Cogniard, Théodore (1806-1872),Clairville (1811-1879). As-tu vu la comète, mon gas ? revue de l'année 1858, en 3 actes et 4 tableaux, par MM. Théodore Cogniard et Clairville... (Paris, Variétés, 30 décembre 1858.). 1859.\"), ('source', 'C:\\\\Users\\\\charl\\\\Documents\\\\VSCode\\\\Vaudeville\\\\Files\\\\PDFs\\\\As_tu_vu_la_comete_mon_gas_text.pdf'), ('file_path', 'C:\\\\Users\\\\charl\\\\Documents\\\\VSCode\\\\Vaudeville\\\\Files\\\\PDFs\\\\As_tu_vu_la_comete_mon_gas_text.pdf'), ('page', 3), ('total_pages', 104), ('CreationDate', \"D:20130826123210+02'00'\"), ('Creator', 'Bibliothèque nationale de France'), ('ModDate', \"D:20250624190557-04'00'\"), ('Producer', 'iText 1.4.8 (by lowagie.com)'), ('Title', \"Cogniard, Théodore (1806-1872),Clairville (1811-1879). As-tu vu la comète, mon gas ? revue de l'année 1858, en 3 actes et 4 tableaux, par MM. Théodore Cogniard et Clairville... (Paris, Variétés, 30 décembre 1858.). 1859.\"), ('source', 'C:\\\\Users\\\\charl\\\\Documents\\\\VSCode\\\\Vaudeville\\\\Files\\\\PDFs\\\\As_tu_vu_la_comete_mon_gas_text.pdf'), ('file_path', 'C:\\\\Users\\\\charl\\\\Documents\\\\VSCode\\\\Vaudeville\\\\Files\\\\PDFs\\\\As_tu_vu_la_comete_mon_gas_text.pdf'), ('page', 4), ('total_pages', 104), ('CreationDate', \"D:20130826123210+02'00'\"), ('Creator', 'Bibliothèque nationale de France'), ('ModDate', \"D:20250624190557-04'00'\"), ('Producer', 'iText 1.4.8 (by lowagie.com)'), ('Title', \"Cogniard, Théodore (1806-1872),Clairville (1811-1879). As-tu vu la comète, mon gas ? revue de l'année 1858, en 3 actes et 4 tableaux, par MM. Théodore Cogniard et Clairville... (Paris, Variétés, 30 décembre 1858.). 1859.\"), ('source', 'C:\\\\Users\\\\charl\\\\Documents\\\\VSCode\\\\Vaudeville\\\\Files\\\\PDFs\\\\As_tu_vu_la_comete_mon_gas_text.pdf'), ('file_path', 'C:\\\\Users\\\\charl\\\\Documents\\\\VSCode\\\\Vaudeville\\\\Files\\\\PDFs\\\\As_tu_vu_la_comete_mon_gas_text.pdf'), ('page', 5), ('total_pages', 104), ('CreationDate', \"D:20130826123210+02'00'\"), ('Creator', 'Bibliothèque nationale de France'), ('ModDate', \"D:20250624190557-04'00'\"), ('Producer', 'iText 1.4.8 (by lowagie.com)'), ('Title', \"Cogniard, Théodore (1806-1872),Clairville (1811-1879). As-tu vu la comète, mon gas ? revue de l'année 1858, en 3 actes et 4 tableaux, par MM. Théodore Cogniard et Clairville... (Paris, Variétés, 30 décembre 1858.). 1859.\"), ('source', 'C:\\\\Users\\\\charl\\\\Documents\\\\VSCode\\\\Vaudeville\\\\Files\\\\PDFs\\\\As_tu_vu_la_comete_mon_gas_text.pdf'), ('file_path', 'C:\\\\Users\\\\charl\\\\Documents\\\\VSCode\\\\Vaudeville\\\\Files\\\\PDFs\\\\As_tu_vu_la_comete_mon_gas_text.pdf'), ('page', 6), ('total_pages', 104), ('CreationDate', \"D:20130826123210+02'00'\"), ('Creator', 'Bibliothèque nationale de France'), ('ModDate', \"D:20250624190557-04'00'\"), ('Producer', 'iText 1.4.8 (by lowagie.com)'), ('Title', \"Cogniard, Théodore (1806-1872),Clairville (1811-1879). As-tu vu la comète, mon gas ? revue de l'année 1858, en 3 actes et 4 tableaux, par MM. Théodore Cogniard et Clairville... (Paris, Variétés, 30 décembre 1858.). 1859.\"), ('source', 'C:\\\\Users\\\\charl\\\\Documents\\\\VSCode\\\\Vaudeville\\\\Files\\\\PDFs\\\\As_tu_vu_la_comete_mon_gas_text.pdf'), ('file_path', 'C:\\\\Users\\\\charl\\\\Documents\\\\VSCode\\\\Vaudeville\\\\Files\\\\PDFs\\\\As_tu_vu_la_comete_mon_gas_text.pdf'), ('page', 7), ('total_pages', 104), ('CreationDate', \"D:20130826123210+02'00'\"), ('Creator', 'Bibliothèque nationale de France'), ('ModDate', \"D:20250624190557-04'00'\"), ('Producer', 'iText 1.4.8 (by lowagie.com)'), ('Title', \"Cogniard, Théodore (1806-1872),Clairville (1811-1879). As-tu vu la comète, mon gas ? revue de l'année 1858, en 3 actes et 4 tableaux, par MM. Théodore Cogniard et Clairville... (Paris, Variétés, 30 décembre 1858.). 1859.\"), ('source', 'C:\\\\Users\\\\charl\\\\Documents\\\\VSCode\\\\Vaudeville\\\\Files\\\\PDFs\\\\As_tu_vu_la_comete_mon_gas_text.pdf'), ('file_path', 'C:\\\\Users\\\\charl\\\\Documents\\\\VSCode\\\\Vaudeville\\\\Files\\\\PDFs\\\\As_tu_vu_la_comete_mon_gas_text.pdf'), ('page', 8), ('total_pages', 104), ('CreationDate', \"D:20130826123210+02'00'\"), ('Creator', 'Bibliothèque nationale de France'), ('ModDate', \"D:20250624190557-04'00'\"), ('Producer', 'iText 1.4.8 (by lowagie.com)'), ('Title', \"Cogniard, Théodore (1806-1872),Clairville (1811-1879). As-tu vu la comète, mon gas ? revue de l'année 1858, en 3 actes et 4 tableaux, par MM. Théodore Cogniard et Clairville... (Paris, Variétés, 30 décembre 1858.). 1859.\"), ('source', 'C:\\\\Users\\\\charl\\\\Documents\\\\VSCode\\\\Vaudeville\\\\Files\\\\PDFs\\\\As_tu_vu_la_comete_mon_gas_text.pdf'), ('file_path', 'C:\\\\Users\\\\charl\\\\Documents\\\\VSCode\\\\Vaudeville\\\\Files\\\\PDFs\\\\As_tu_vu_la_comete_mon_gas_text.pdf'), ('page', 9), ('total_pages', 104), ('CreationDate', \"D:20130826123210+02'00'\"), ('Creator', 'Bibliothèque nationale de France'), ('ModDate', \"D:20250624190557-04'00'\"), ('Producer', 'iText 1.4.8 (by lowagie.com)'), ('Title', \"Cogniard, Théodore (1806-1872),Clairville (1811-1879). As-tu vu la comète, mon gas ? revue de l'année 1858, en 3 actes et 4 tableaux, par MM. Théodore Cogniard et Clairville... (Paris, Variétés, 30 décembre 1858.). 1859.\"), ('source', 'C:\\\\Users\\\\charl\\\\Documents\\\\VSCode\\\\Vaudeville\\\\Files\\\\PDFs\\\\As_tu_vu_la_comete_mon_gas_text.pdf'), ('file_path', 'C:\\\\Users\\\\charl\\\\Documents\\\\VSCode\\\\Vaudeville\\\\Files\\\\PDFs\\\\As_tu_vu_la_comete_mon_gas_text.pdf'), ('page', 10), ('total_pages', 104), ('CreationDate', \"D:20130826123210+02'00'\"), ('Creator', 'Bibliothèque nationale de France'), ('ModDate', \"D:20250624190557-04'00'\"), ('Producer', 'iText 1.4.8 (by lowagie.com)'), ('Title', \"Cogniard, Théodore (1806-1872),Clairville (1811-1879). As-tu vu la comète, mon gas ? revue de l'année 1858, en 3 actes et 4 tableaux, par MM. Théodore Cogniard et Clairville... (Paris, Variétés, 30 décembre 1858.). 1859.\"), ('source', 'C:\\\\Users\\\\charl\\\\Documents\\\\VSCode\\\\Vaudeville\\\\Files\\\\PDFs\\\\As_tu_vu_la_comete_mon_gas_text.pdf'), ('file_path', 'C:\\\\Users\\\\charl\\\\Documents\\\\VSCode\\\\Vaudeville\\\\Files\\\\PDFs\\\\As_tu_vu_la_comete_mon_gas_text.pdf'), ('page', 11), ('total_pages', 104), ('CreationDate', \"D:20130826123210+02'00'\"), ('Creator', 'Bibliothèque nationale de France'), ('ModDate', \"D:20250624190557-04'00'\"), ('Producer', 'iText 1.4.8 (by lowagie.com)'), ('Title', \"Cogniard, Théodore (1806-1872),Clairville (1811-1879). As-tu vu la comète, mon gas ? revue de l'année 1858, en 3 actes et 4 tableaux, par MM. Théodore Cogniard et Clairville... (Paris, Variétés, 30 décembre 1858.). 1859.\"), ('source', 'C:\\\\Users\\\\charl\\\\Documents\\\\VSCode\\\\Vaudeville\\\\Files\\\\PDFs\\\\As_tu_vu_la_comete_mon_gas_text.pdf'), ('file_path', 'C:\\\\Users\\\\charl\\\\Documents\\\\VSCode\\\\Vaudeville\\\\Files\\\\PDFs\\\\As_tu_vu_la_comete_mon_gas_text.pdf'), ('page', 12), ('total_pages', 104), ('CreationDate', \"D:20130826123210+02'00'\"), ('Creator', 'Bibliothèque nationale de France'), ('ModDate', \"D:20250624190557-04'00'\"), ('Producer', 'iText 1.4.8 (by lowagie.com)'), ('Title', \"Cogniard, Théodore (1806-1872),Clairville (1811-1879). As-tu vu la comète, mon gas ? revue de l'année 1858, en 3 actes et 4 tableaux, par MM. Théodore Cogniard et Clairville... (Paris, Variétés, 30 décembre 1858.). 1859.\"), ('source', 'C:\\\\Users\\\\charl\\\\Documents\\\\VSCode\\\\Vaudeville\\\\Files\\\\PDFs\\\\As_tu_vu_la_comete_mon_gas_text.pdf'), ('file_path', 'C:\\\\Users\\\\charl\\\\Documents\\\\VSCode\\\\Vaudeville\\\\Files\\\\PDFs\\\\As_tu_vu_la_comete_mon_gas_text.pdf'), ('page', 13), ('total_pages', 104), ('CreationDate', \"D:20130826123210+02'00'\"), ('Creator', 'Bibliothèque nationale de France'), ('ModDate', \"D:20250624190557-04'00'\"), ('Producer', 'iText 1.4.8 (by lowagie.com)'), ('Title', \"Cogniard, Théodore (1806-1872),Clairville (1811-1879). As-tu vu la comète, mon gas ? revue de l'année 1858, en 3 actes et 4 tableaux, par MM. Théodore Cogniard et Clairville... (Paris, Variétés, 30 décembre 1858.). 1859.\"), ('source', 'C:\\\\Users\\\\charl\\\\Documents\\\\VSCode\\\\Vaudeville\\\\Files\\\\PDFs\\\\As_tu_vu_la_comete_mon_gas_text.pdf'), ('file_path', 'C:\\\\Users\\\\charl\\\\Documents\\\\VSCode\\\\Vaudeville\\\\Files\\\\PDFs\\\\As_tu_vu_la_comete_mon_gas_text.pdf'), ('page', 14), ('total_pages', 104), ('CreationDate', \"D:20130826123210+02'00'\"), ('Creator', 'Bibliothèque nationale de France'), ('ModDate', \"D:20250624190557-04'00'\"), ('Producer', 'iText 1.4.8 (by lowagie.com)'), ('Title', \"Cogniard, Théodore (1806-1872),Clairville (1811-1879). As-tu vu la comète, mon gas ? revue de l'année 1858, en 3 actes et 4 tableaux, par MM. Théodore Cogniard et Clairville... (Paris, Variétés, 30 décembre 1858.). 1859.\"), ('source', 'C:\\\\Users\\\\charl\\\\Documents\\\\VSCode\\\\Vaudeville\\\\Files\\\\PDFs\\\\As_tu_vu_la_comete_mon_gas_text.pdf'), ('file_path', 'C:\\\\Users\\\\charl\\\\Documents\\\\VSCode\\\\Vaudeville\\\\Files\\\\PDFs\\\\As_tu_vu_la_comete_mon_gas_text.pdf'), ('page', 15), ('total_pages', 104), ('CreationDate', \"D:20130826123210+02'00'\"), ('Creator', 'Bibliothèque nationale de France'), ('ModDate', \"D:20250624190557-04'00'\"), ('Producer', 'iText 1.4.8 (by lowagie.com)'), ('Title', \"Cogniard, Théodore (1806-1872),Clairville (1811-1879). As-tu vu la comète, mon gas ? revue de l'année 1858, en 3 actes et 4 tableaux, par MM. Théodore Cogniard et Clairville... (Paris, Variétés, 30 décembre 1858.). 1859.\"), ('source', 'C:\\\\Users\\\\charl\\\\Documents\\\\VSCode\\\\Vaudeville\\\\Files\\\\PDFs\\\\As_tu_vu_la_comete_mon_gas_text.pdf'), ('file_path', 'C:\\\\Users\\\\charl\\\\Documents\\\\VSCode\\\\Vaudeville\\\\Files\\\\PDFs\\\\As_tu_vu_la_comete_mon_gas_text.pdf'), ('page', 16), ('total_pages', 104), ('CreationDate', \"D:20130826123210+02'00'\"), ('Creator', 'Bibliothèque nationale de France'), ('ModDate', \"D:20250624190557-04'00'\"), ('Producer', 'iText 1.4.8 (by lowagie.com)'), ('Title', \"Cogniard, Théodore (1806-1872),Clairville (1811-1879). As-tu vu la comète, mon gas ? revue de l'année 1858, en 3 actes et 4 tableaux, par MM. Théodore Cogniard et Clairville... (Paris, Variétés, 30 décembre 1858.). 1859.\"), ('source', 'C:\\\\Users\\\\charl\\\\Documents\\\\VSCode\\\\Vaudeville\\\\Files\\\\PDFs\\\\As_tu_vu_la_comete_mon_gas_text.pdf'), ('file_path', 'C:\\\\Users\\\\charl\\\\Documents\\\\VSCode\\\\Vaudeville\\\\Files\\\\PDFs\\\\As_tu_vu_la_comete_mon_gas_text.pdf'), ('page', 17), ('total_pages', 104), ('CreationDate', \"D:20130826123210+02'00'\"), ('Creator', 'Bibliothèque nationale de France'), ('ModDate', \"D:20250624190557-04'00'\"), ('Producer', 'iText 1.4.8 (by lowagie.com)'), ('Title', \"Cogniard, Théodore (1806-1872),Clairville (1811-1879). As-tu vu la comète, mon gas ? revue de l'année 1858, en 3 actes et 4 tableaux, par MM. Théodore Cogniard et Clairville... (Paris, Variétés, 30 décembre 1858.). 1859.\"), ('source', 'C:\\\\Users\\\\charl\\\\Documents\\\\VSCode\\\\Vaudeville\\\\Files\\\\PDFs\\\\As_tu_vu_la_comete_mon_gas_text.pdf'), ('file_path', 'C:\\\\Users\\\\charl\\\\Documents\\\\VSCode\\\\Vaudeville\\\\Files\\\\PDFs\\\\As_tu_vu_la_comete_mon_gas_text.pdf'), ('page', 18), ('total_pages', 104), ('CreationDate', \"D:20130826123210+02'00'\"), ('Creator', 'Bibliothèque nationale de France'), ('ModDate', \"D:20250624190557-04'00'\"), ('Producer', 'iText 1.4.8 (by lowagie.com)'), ('Title', \"Cogniard, Théodore (1806-1872),Clairville (1811-1879). As-tu vu la comète, mon gas ? revue de l'année 1858, en 3 actes et 4 tableaux, par MM. Théodore Cogniard et Clairville... (Paris, Variétés, 30 décembre 1858.). 1859.\"), ('source', 'C:\\\\Users\\\\charl\\\\Documents\\\\VSCode\\\\Vaudeville\\\\Files\\\\PDFs\\\\As_tu_vu_la_comete_mon_gas_text.pdf'), ('file_path', 'C:\\\\Users\\\\charl\\\\Documents\\\\VSCode\\\\Vaudeville\\\\Files\\\\PDFs\\\\As_tu_vu_la_comete_mon_gas_text.pdf'), ('page', 19), ('total_pages', 104), ('CreationDate', \"D:20130826123210+02'00'\"), ('Creator', 'Bibliothèque nationale de France'), ('ModDate', \"D:20250624190557-04'00'\"), ('Producer', 'iText 1.4.8 (by lowagie.com)'), ('Title', \"Cogniard, Théodore (1806-1872),Clairville (1811-1879). As-tu vu la comète, mon gas ? revue de l'année 1858, en 3 actes et 4 tableaux, par MM. Théodore Cogniard et Clairville... (Paris, Variétés, 30 décembre 1858.). 1859.\"), ('source', 'C:\\\\Users\\\\charl\\\\Documents\\\\VSCode\\\\Vaudeville\\\\Files\\\\PDFs\\\\As_tu_vu_la_comete_mon_gas_text.pdf'), ('file_path', 'C:\\\\Users\\\\charl\\\\Documents\\\\VSCode\\\\Vaudeville\\\\Files\\\\PDFs\\\\As_tu_vu_la_comete_mon_gas_text.pdf'), ('page', 20), ('total_pages', 104), ('CreationDate', \"D:20130826123210+02'00'\"), ('Creator', 'Bibliothèque nationale de France'), ('ModDate', \"D:20250624190557-04'00'\"), ('Producer', 'iText 1.4.8 (by lowagie.com)'), ('Title', \"Cogniard, Théodore (1806-1872),Clairville (1811-1879). As-tu vu la comète, mon gas ? revue de l'année 1858, en 3 actes et 4 tableaux, par MM. Théodore Cogniard et Clairville... (Paris, Variétés, 30 décembre 1858.). 1859.\"), ('source', 'C:\\\\Users\\\\charl\\\\Documents\\\\VSCode\\\\Vaudeville\\\\Files\\\\PDFs\\\\As_tu_vu_la_comete_mon_gas_text.pdf'), ('file_path', 'C:\\\\Users\\\\charl\\\\Documents\\\\VSCode\\\\Vaudeville\\\\Files\\\\PDFs\\\\As_tu_vu_la_comete_mon_gas_text.pdf'), ('page', 21), ('total_pages', 104), ('CreationDate', \"D:20130826123210+02'00'\"), ('Creator', 'Bibliothèque nationale de France'), ('ModDate', \"D:20250624190557-04'00'\"), ('Producer', 'iText 1.4.8 (by lowagie.com)'), ('Title', \"Cogniard, Théodore (1806-1872),Clairville (1811-1879). As-tu vu la comète, mon gas ? revue de l'année 1858, en 3 actes et 4 tableaux, par MM. Théodore Cogniard et Clairville... (Paris, Variétés, 30 décembre 1858.). 1859.\"), ('source', 'C:\\\\Users\\\\charl\\\\Documents\\\\VSCode\\\\Vaudeville\\\\Files\\\\PDFs\\\\As_tu_vu_la_comete_mon_gas_text.pdf'), ('file_path', 'C:\\\\Users\\\\charl\\\\Documents\\\\VSCode\\\\Vaudeville\\\\Files\\\\PDFs\\\\As_tu_vu_la_comete_mon_gas_text.pdf'), ('page', 22), ('total_pages', 104), ('CreationDate', \"D:20130826123210+02'00'\"), ('Creator', 'Bibliothèque nationale de France'), ('ModDate', \"D:20250624190557-04'00'\"), ('Producer', 'iText 1.4.8 (by lowagie.com)'), ('Title', \"Cogniard, Théodore (1806-1872),Clairville (1811-1879). As-tu vu la comète, mon gas ? revue de l'année 1858, en 3 actes et 4 tableaux, par MM. Théodore Cogniard et Clairville... (Paris, Variétés, 30 décembre 1858.). 1859.\"), ('source', 'C:\\\\Users\\\\charl\\\\Documents\\\\VSCode\\\\Vaudeville\\\\Files\\\\PDFs\\\\As_tu_vu_la_comete_mon_gas_text.pdf'), ('file_path', 'C:\\\\Users\\\\charl\\\\Documents\\\\VSCode\\\\Vaudeville\\\\Files\\\\PDFs\\\\As_tu_vu_la_comete_mon_gas_text.pdf'), ('page', 23), ('total_pages', 104), ('CreationDate', \"D:20130826123210+02'00'\"), ('Creator', 'Bibliothèque nationale de France'), ('ModDate', \"D:20250624190557-04'00'\"), ('Producer', 'iText 1.4.8 (by lowagie.com)'), ('Title', \"Cogniard, Théodore (1806-1872),Clairville (1811-1879). As-tu vu la comète, mon gas ? revue de l'année 1858, en 3 actes et 4 tableaux, par MM. Théodore Cogniard et Clairville... (Paris, Variétés, 30 décembre 1858.). 1859.\"), ('source', 'C:\\\\Users\\\\charl\\\\Documents\\\\VSCode\\\\Vaudeville\\\\Files\\\\PDFs\\\\As_tu_vu_la_comete_mon_gas_text.pdf'), ('file_path', 'C:\\\\Users\\\\charl\\\\Documents\\\\VSCode\\\\Vaudeville\\\\Files\\\\PDFs\\\\As_tu_vu_la_comete_mon_gas_text.pdf'), ('page', 24), ('total_pages', 104), ('CreationDate', \"D:20130826123210+02'00'\"), ('Creator', 'Bibliothèque nationale de France'), ('ModDate', \"D:20250624190557-04'00'\"), ('Producer', 'iText 1.4.8 (by lowagie.com)'), ('Title', \"Cogniard, Théodore (1806-1872),Clairville (1811-1879). As-tu vu la comète, mon gas ? revue de l'année 1858, en 3 actes et 4 tableaux, par MM. Théodore Cogniard et Clairville... (Paris, Variétés, 30 décembre 1858.). 1859.\"), ('source', 'C:\\\\Users\\\\charl\\\\Documents\\\\VSCode\\\\Vaudeville\\\\Files\\\\PDFs\\\\As_tu_vu_la_comete_mon_gas_text.pdf'), ('file_path', 'C:\\\\Users\\\\charl\\\\Documents\\\\VSCode\\\\Vaudeville\\\\Files\\\\PDFs\\\\As_tu_vu_la_comete_mon_gas_text.pdf'), ('page', 25), ('total_pages', 104), ('CreationDate', \"D:20130826123210+02'00'\"), ('Creator', 'Bibliothèque nationale de France'), ('ModDate', \"D:20250624190557-04'00'\"), ('Producer', 'iText 1.4.8 (by lowagie.com)'), ('Title', \"Cogniard, Théodore (1806-1872),Clairville (1811-1879). As-tu vu la comète, mon gas ? revue de l'année 1858, en 3 actes et 4 tableaux, par MM. Théodore Cogniard et Clairville... (Paris, Variétés, 30 décembre 1858.). 1859.\"), ('source', 'C:\\\\Users\\\\charl\\\\Documents\\\\VSCode\\\\Vaudeville\\\\Files\\\\PDFs\\\\As_tu_vu_la_comete_mon_gas_text.pdf'), ('file_path', 'C:\\\\Users\\\\charl\\\\Documents\\\\VSCode\\\\Vaudeville\\\\Files\\\\PDFs\\\\As_tu_vu_la_comete_mon_gas_text.pdf'), ('page', 26), ('total_pages', 104), ('CreationDate', \"D:20130826123210+02'00'\"), ('Creator', 'Bibliothèque nationale de France'), ('ModDate', \"D:20250624190557-04'00'\"), ('Producer', 'iText 1.4.8 (by lowagie.com)'), ('Title', \"Cogniard, Théodore (1806-1872),Clairville (1811-1879). As-tu vu la comète, mon gas ? revue de l'année 1858, en 3 actes et 4 tableaux, par MM. Théodore Cogniard et Clairville... (Paris, Variétés, 30 décembre 1858.). 1859.\"), ('source', 'C:\\\\Users\\\\charl\\\\Documents\\\\VSCode\\\\Vaudeville\\\\Files\\\\PDFs\\\\As_tu_vu_la_comete_mon_gas_text.pdf'), ('file_path', 'C:\\\\Users\\\\charl\\\\Documents\\\\VSCode\\\\Vaudeville\\\\Files\\\\PDFs\\\\As_tu_vu_la_comete_mon_gas_text.pdf'), ('page', 27), ('total_pages', 104), ('CreationDate', \"D:20130826123210+02'00'\"), ('Creator', 'Bibliothèque nationale de France'), ('ModDate', \"D:20250624190557-04'00'\"), ('Producer', 'iText 1.4.8 (by lowagie.com)'), ('Title', \"Cogniard, Théodore (1806-1872),Clairville (1811-1879). As-tu vu la comète, mon gas ? revue de l'année 1858, en 3 actes et 4 tableaux, par MM. Théodore Cogniard et Clairville... (Paris, Variétés, 30 décembre 1858.). 1859.\"), ('source', 'C:\\\\Users\\\\charl\\\\Documents\\\\VSCode\\\\Vaudeville\\\\Files\\\\PDFs\\\\As_tu_vu_la_comete_mon_gas_text.pdf'), ('file_path', 'C:\\\\Users\\\\charl\\\\Documents\\\\VSCode\\\\Vaudeville\\\\Files\\\\PDFs\\\\As_tu_vu_la_comete_mon_gas_text.pdf'), ('page', 28), ('total_pages', 104), ('CreationDate', \"D:20130826123210+02'00'\"), ('Creator', 'Bibliothèque nationale de France'), ('ModDate', \"D:20250624190557-04'00'\"), ('Producer', 'iText 1.4.8 (by lowagie.com)'), ('Title', \"Cogniard, Théodore (1806-1872),Clairville (1811-1879). As-tu vu la comète, mon gas ? revue de l'année 1858, en 3 actes et 4 tableaux, par MM. Théodore Cogniard et Clairville... (Paris, Variétés, 30 décembre 1858.). 1859.\"), ('source', 'C:\\\\Users\\\\charl\\\\Documents\\\\VSCode\\\\Vaudeville\\\\Files\\\\PDFs\\\\As_tu_vu_la_comete_mon_gas_text.pdf'), ('file_path', 'C:\\\\Users\\\\charl\\\\Documents\\\\VSCode\\\\Vaudeville\\\\Files\\\\PDFs\\\\As_tu_vu_la_comete_mon_gas_text.pdf'), ('page', 29), ('total_pages', 104), ('CreationDate', \"D:20130826123210+02'00'\"), ('Creator', 'Bibliothèque nationale de France'), ('ModDate', \"D:20250624190557-04'00'\"), ('Producer', 'iText 1.4.8 (by lowagie.com)'), ('Title', \"Cogniard, Théodore (1806-1872),Clairville (1811-1879). As-tu vu la comète, mon gas ? revue de l'année 1858, en 3 actes et 4 tableaux, par MM. Théodore Cogniard et Clairville... (Paris, Variétés, 30 décembre 1858.). 1859.\"), ('source', 'C:\\\\Users\\\\charl\\\\Documents\\\\VSCode\\\\Vaudeville\\\\Files\\\\PDFs\\\\As_tu_vu_la_comete_mon_gas_text.pdf'), ('file_path', 'C:\\\\Users\\\\charl\\\\Documents\\\\VSCode\\\\Vaudeville\\\\Files\\\\PDFs\\\\As_tu_vu_la_comete_mon_gas_text.pdf'), ('page', 30), ('total_pages', 104), ('CreationDate', \"D:20130826123210+02'00'\"), ('Creator', 'Bibliothèque nationale de France'), ('ModDate', \"D:20250624190557-04'00'\"), ('Producer', 'iText 1.4.8 (by lowagie.com)'), ('Title', \"Cogniard, Théodore (1806-1872),Clairville (1811-1879). As-tu vu la comète, mon gas ? revue de l'année 1858, en 3 actes et 4 tableaux, par MM. Théodore Cogniard et Clairville... (Paris, Variétés, 30 décembre 1858.). 1859.\"), ('source', 'C:\\\\Users\\\\charl\\\\Documents\\\\VSCode\\\\Vaudeville\\\\Files\\\\PDFs\\\\As_tu_vu_la_comete_mon_gas_text.pdf'), ('file_path', 'C:\\\\Users\\\\charl\\\\Documents\\\\VSCode\\\\Vaudeville\\\\Files\\\\PDFs\\\\As_tu_vu_la_comete_mon_gas_text.pdf'), ('page', 31), ('total_pages', 104), ('CreationDate', \"D:20130826123210+02'00'\"), ('Creator', 'Bibliothèque nationale de France'), ('ModDate', \"D:20250624190557-04'00'\"), ('Producer', 'iText 1.4.8 (by lowagie.com)'), ('Title', \"Cogniard, Théodore (1806-1872),Clairville (1811-1879). As-tu vu la comète, mon gas ? revue de l'année 1858, en 3 actes et 4 tableaux, par MM. Théodore Cogniard et Clairville... (Paris, Variétés, 30 décembre 1858.). 1859.\"), ('source', 'C:\\\\Users\\\\charl\\\\Documents\\\\VSCode\\\\Vaudeville\\\\Files\\\\PDFs\\\\As_tu_vu_la_comete_mon_gas_text.pdf'), ('file_path', 'C:\\\\Users\\\\charl\\\\Documents\\\\VSCode\\\\Vaudeville\\\\Files\\\\PDFs\\\\As_tu_vu_la_comete_mon_gas_text.pdf'), ('page', 32), ('total_pages', 104), ('CreationDate', \"D:20130826123210+02'00'\"), ('Creator', 'Bibliothèque nationale de France'), ('ModDate', \"D:20250624190557-04'00'\"), ('Producer', 'iText 1.4.8 (by lowagie.com)'), ('Title', \"Cogniard, Théodore (1806-1872),Clairville (1811-1879). As-tu vu la comète, mon gas ? revue de l'année 1858, en 3 actes et 4 tableaux, par MM. Théodore Cogniard et Clairville... (Paris, Variétés, 30 décembre 1858.). 1859.\"), ('source', 'C:\\\\Users\\\\charl\\\\Documents\\\\VSCode\\\\Vaudeville\\\\Files\\\\PDFs\\\\As_tu_vu_la_comete_mon_gas_text.pdf'), ('file_path', 'C:\\\\Users\\\\charl\\\\Documents\\\\VSCode\\\\Vaudeville\\\\Files\\\\PDFs\\\\As_tu_vu_la_comete_mon_gas_text.pdf'), ('page', 33), ('total_pages', 104), ('CreationDate', \"D:20130826123210+02'00'\"), ('Creator', 'Bibliothèque nationale de France'), ('ModDate', \"D:20250624190557-04'00'\"), ('Producer', 'iText 1.4.8 (by lowagie.com)'), ('Title', \"Cogniard, Théodore (1806-1872),Clairville (1811-1879). As-tu vu la comète, mon gas ? revue de l'année 1858, en 3 actes et 4 tableaux, par MM. Théodore Cogniard et Clairville... (Paris, Variétés, 30 décembre 1858.). 1859.\"), ('source', 'C:\\\\Users\\\\charl\\\\Documents\\\\VSCode\\\\Vaudeville\\\\Files\\\\PDFs\\\\As_tu_vu_la_comete_mon_gas_text.pdf'), ('file_path', 'C:\\\\Users\\\\charl\\\\Documents\\\\VSCode\\\\Vaudeville\\\\Files\\\\PDFs\\\\As_tu_vu_la_comete_mon_gas_text.pdf'), ('page', 34), ('total_pages', 104), ('CreationDate', \"D:20130826123210+02'00'\"), ('Creator', 'Bibliothèque nationale de France'), ('ModDate', \"D:20250624190557-04'00'\"), ('Producer', 'iText 1.4.8 (by lowagie.com)'), ('Title', \"Cogniard, Théodore (1806-1872),Clairville (1811-1879). As-tu vu la comète, mon gas ? revue de l'année 1858, en 3 actes et 4 tableaux, par MM. Théodore Cogniard et Clairville... (Paris, Variétés, 30 décembre 1858.). 1859.\"), ('source', 'C:\\\\Users\\\\charl\\\\Documents\\\\VSCode\\\\Vaudeville\\\\Files\\\\PDFs\\\\As_tu_vu_la_comete_mon_gas_text.pdf'), ('file_path', 'C:\\\\Users\\\\charl\\\\Documents\\\\VSCode\\\\Vaudeville\\\\Files\\\\PDFs\\\\As_tu_vu_la_comete_mon_gas_text.pdf'), ('page', 35), ('total_pages', 104), ('CreationDate', \"D:20130826123210+02'00'\"), ('Creator', 'Bibliothèque nationale de France'), ('ModDate', \"D:20250624190557-04'00'\"), ('Producer', 'iText 1.4.8 (by lowagie.com)'), ('Title', \"Cogniard, Théodore (1806-1872),Clairville (1811-1879). As-tu vu la comète, mon gas ? revue de l'année 1858, en 3 actes et 4 tableaux, par MM. Théodore Cogniard et Clairville... (Paris, Variétés, 30 décembre 1858.). 1859.\"), ('source', 'C:\\\\Users\\\\charl\\\\Documents\\\\VSCode\\\\Vaudeville\\\\Files\\\\PDFs\\\\As_tu_vu_la_comete_mon_gas_text.pdf'), ('file_path', 'C:\\\\Users\\\\charl\\\\Documents\\\\VSCode\\\\Vaudeville\\\\Files\\\\PDFs\\\\As_tu_vu_la_comete_mon_gas_text.pdf'), ('page', 36), ('total_pages', 104), ('CreationDate', \"D:20130826123210+02'00'\"), ('Creator', 'Bibliothèque nationale de France'), ('ModDate', \"D:20250624190557-04'00'\"), ('Producer', 'iText 1.4.8 (by lowagie.com)'), ('Title', \"Cogniard, Théodore (1806-1872),Clairville (1811-1879). As-tu vu la comète, mon gas ? revue de l'année 1858, en 3 actes et 4 tableaux, par MM. Théodore Cogniard et Clairville... (Paris, Variétés, 30 décembre 1858.). 1859.\"), ('source', 'C:\\\\Users\\\\charl\\\\Documents\\\\VSCode\\\\Vaudeville\\\\Files\\\\PDFs\\\\As_tu_vu_la_comete_mon_gas_text.pdf'), ('file_path', 'C:\\\\Users\\\\charl\\\\Documents\\\\VSCode\\\\Vaudeville\\\\Files\\\\PDFs\\\\As_tu_vu_la_comete_mon_gas_text.pdf'), ('page', 37), ('total_pages', 104), ('CreationDate', \"D:20130826123210+02'00'\"), ('Creator', 'Bibliothèque nationale de France'), ('ModDate', \"D:20250624190557-04'00'\"), ('Producer', 'iText 1.4.8 (by lowagie.com)'), ('Title', \"Cogniard, Théodore (1806-1872),Clairville (1811-1879). As-tu vu la comète, mon gas ? revue de l'année 1858, en 3 actes et 4 tableaux, par MM. Théodore Cogniard et Clairville... (Paris, Variétés, 30 décembre 1858.). 1859.\"), ('source', 'C:\\\\Users\\\\charl\\\\Documents\\\\VSCode\\\\Vaudeville\\\\Files\\\\PDFs\\\\As_tu_vu_la_comete_mon_gas_text.pdf'), ('file_path', 'C:\\\\Users\\\\charl\\\\Documents\\\\VSCode\\\\Vaudeville\\\\Files\\\\PDFs\\\\As_tu_vu_la_comete_mon_gas_text.pdf'), ('page', 38), ('total_pages', 104), ('CreationDate', \"D:20130826123210+02'00'\"), ('Creator', 'Bibliothèque nationale de France'), ('ModDate', \"D:20250624190557-04'00'\"), ('Producer', 'iText 1.4.8 (by lowagie.com)'), ('Title', \"Cogniard, Théodore (1806-1872),Clairville (1811-1879). As-tu vu la comète, mon gas ? revue de l'année 1858, en 3 actes et 4 tableaux, par MM. Théodore Cogniard et Clairville... (Paris, Variétés, 30 décembre 1858.). 1859.\"), ('source', 'C:\\\\Users\\\\charl\\\\Documents\\\\VSCode\\\\Vaudeville\\\\Files\\\\PDFs\\\\As_tu_vu_la_comete_mon_gas_text.pdf'), ('file_path', 'C:\\\\Users\\\\charl\\\\Documents\\\\VSCode\\\\Vaudeville\\\\Files\\\\PDFs\\\\As_tu_vu_la_comete_mon_gas_text.pdf'), ('page', 39), ('total_pages', 104), ('CreationDate', \"D:20130826123210+02'00'\"), ('Creator', 'Bibliothèque nationale de France'), ('ModDate', \"D:20250624190557-04'00'\"), ('Producer', 'iText 1.4.8 (by lowagie.com)'), ('Title', \"Cogniard, Théodore (1806-1872),Clairville (1811-1879). As-tu vu la comète, mon gas ? revue de l'année 1858, en 3 actes et 4 tableaux, par MM. Théodore Cogniard et Clairville... (Paris, Variétés, 30 décembre 1858.). 1859.\"), ('source', 'C:\\\\Users\\\\charl\\\\Documents\\\\VSCode\\\\Vaudeville\\\\Files\\\\PDFs\\\\As_tu_vu_la_comete_mon_gas_text.pdf'), ('file_path', 'C:\\\\Users\\\\charl\\\\Documents\\\\VSCode\\\\Vaudeville\\\\Files\\\\PDFs\\\\As_tu_vu_la_comete_mon_gas_text.pdf'), ('page', 40), ('total_pages', 104), ('CreationDate', \"D:20130826123210+02'00'\"), ('Creator', 'Bibliothèque nationale de France'), ('ModDate', \"D:20250624190557-04'00'\"), ('Producer', 'iText 1.4.8 (by lowagie.com)'), ('Title', \"Cogniard, Théodore (1806-1872),Clairville (1811-1879). As-tu vu la comète, mon gas ? revue de l'année 1858, en 3 actes et 4 tableaux, par MM. Théodore Cogniard et Clairville... (Paris, Variétés, 30 décembre 1858.). 1859.\"), ('source', 'C:\\\\Users\\\\charl\\\\Documents\\\\VSCode\\\\Vaudeville\\\\Files\\\\PDFs\\\\As_tu_vu_la_comete_mon_gas_text.pdf'), ('file_path', 'C:\\\\Users\\\\charl\\\\Documents\\\\VSCode\\\\Vaudeville\\\\Files\\\\PDFs\\\\As_tu_vu_la_comete_mon_gas_text.pdf'), ('page', 41), ('total_pages', 104), ('CreationDate', \"D:20130826123210+02'00'\"), ('Creator', 'Bibliothèque nationale de France'), ('ModDate', \"D:20250624190557-04'00'\"), ('Producer', 'iText 1.4.8 (by lowagie.com)'), ('Title', \"Cogniard, Théodore (1806-1872),Clairville (1811-1879). As-tu vu la comète, mon gas ? revue de l'année 1858, en 3 actes et 4 tableaux, par MM. Théodore Cogniard et Clairville... (Paris, Variétés, 30 décembre 1858.). 1859.\"), ('source', 'C:\\\\Users\\\\charl\\\\Documents\\\\VSCode\\\\Vaudeville\\\\Files\\\\PDFs\\\\As_tu_vu_la_comete_mon_gas_text.pdf'), ('file_path', 'C:\\\\Users\\\\charl\\\\Documents\\\\VSCode\\\\Vaudeville\\\\Files\\\\PDFs\\\\As_tu_vu_la_comete_mon_gas_text.pdf'), ('page', 42), ('total_pages', 104), ('CreationDate', \"D:20130826123210+02'00'\"), ('Creator', 'Bibliothèque nationale de France'), ('ModDate', \"D:20250624190557-04'00'\"), ('Producer', 'iText 1.4.8 (by lowagie.com)'), ('Title', \"Cogniard, Théodore (1806-1872),Clairville (1811-1879). As-tu vu la comète, mon gas ? revue de l'année 1858, en 3 actes et 4 tableaux, par MM. Théodore Cogniard et Clairville... (Paris, Variétés, 30 décembre 1858.). 1859.\"), ('source', 'C:\\\\Users\\\\charl\\\\Documents\\\\VSCode\\\\Vaudeville\\\\Files\\\\PDFs\\\\As_tu_vu_la_comete_mon_gas_text.pdf'), ('file_path', 'C:\\\\Users\\\\charl\\\\Documents\\\\VSCode\\\\Vaudeville\\\\Files\\\\PDFs\\\\As_tu_vu_la_comete_mon_gas_text.pdf'), ('page', 43), ('total_pages', 104), ('CreationDate', \"D:20130826123210+02'00'\"), ('Creator', 'Bibliothèque nationale de France'), ('ModDate', \"D:20250624190557-04'00'\"), ('Producer', 'iText 1.4.8 (by lowagie.com)'), ('Title', \"Cogniard, Théodore (1806-1872),Clairville (1811-1879). As-tu vu la comète, mon gas ? revue de l'année 1858, en 3 actes et 4 tableaux, par MM. Théodore Cogniard et Clairville... (Paris, Variétés, 30 décembre 1858.). 1859.\"), ('source', 'C:\\\\Users\\\\charl\\\\Documents\\\\VSCode\\\\Vaudeville\\\\Files\\\\PDFs\\\\As_tu_vu_la_comete_mon_gas_text.pdf'), ('file_path', 'C:\\\\Users\\\\charl\\\\Documents\\\\VSCode\\\\Vaudeville\\\\Files\\\\PDFs\\\\As_tu_vu_la_comete_mon_gas_text.pdf'), ('page', 44), ('total_pages', 104), ('CreationDate', \"D:20130826123210+02'00'\"), ('Creator', 'Bibliothèque nationale de France'), ('ModDate', \"D:20250624190557-04'00'\"), ('Producer', 'iText 1.4.8 (by lowagie.com)'), ('Title', \"Cogniard, Théodore (1806-1872),Clairville (1811-1879). As-tu vu la comète, mon gas ? revue de l'année 1858, en 3 actes et 4 tableaux, par MM. Théodore Cogniard et Clairville... (Paris, Variétés, 30 décembre 1858.). 1859.\"), ('source', 'C:\\\\Users\\\\charl\\\\Documents\\\\VSCode\\\\Vaudeville\\\\Files\\\\PDFs\\\\As_tu_vu_la_comete_mon_gas_text.pdf'), ('file_path', 'C:\\\\Users\\\\charl\\\\Documents\\\\VSCode\\\\Vaudeville\\\\Files\\\\PDFs\\\\As_tu_vu_la_comete_mon_gas_text.pdf'), ('page', 45), ('total_pages', 104), ('CreationDate', \"D:20130826123210+02'00'\"), ('Creator', 'Bibliothèque nationale de France'), ('ModDate', \"D:20250624190557-04'00'\"), ('Producer', 'iText 1.4.8 (by lowagie.com)'), ('Title', \"Cogniard, Théodore (1806-1872),Clairville (1811-1879). As-tu vu la comète, mon gas ? revue de l'année 1858, en 3 actes et 4 tableaux, par MM. Théodore Cogniard et Clairville... (Paris, Variétés, 30 décembre 1858.). 1859.\"), ('source', 'C:\\\\Users\\\\charl\\\\Documents\\\\VSCode\\\\Vaudeville\\\\Files\\\\PDFs\\\\As_tu_vu_la_comete_mon_gas_text.pdf'), ('file_path', 'C:\\\\Users\\\\charl\\\\Documents\\\\VSCode\\\\Vaudeville\\\\Files\\\\PDFs\\\\As_tu_vu_la_comete_mon_gas_text.pdf'), ('page', 46), ('total_pages', 104), ('CreationDate', \"D:20130826123210+02'00'\"), ('Creator', 'Bibliothèque nationale de France'), ('ModDate', \"D:20250624190557-04'00'\"), ('Producer', 'iText 1.4.8 (by lowagie.com)'), ('Title', \"Cogniard, Théodore (1806-1872),Clairville (1811-1879). As-tu vu la comète, mon gas ? revue de l'année 1858, en 3 actes et 4 tableaux, par MM. Théodore Cogniard et Clairville... (Paris, Variétés, 30 décembre 1858.). 1859.\"), ('source', 'C:\\\\Users\\\\charl\\\\Documents\\\\VSCode\\\\Vaudeville\\\\Files\\\\PDFs\\\\As_tu_vu_la_comete_mon_gas_text.pdf'), ('file_path', 'C:\\\\Users\\\\charl\\\\Documents\\\\VSCode\\\\Vaudeville\\\\Files\\\\PDFs\\\\As_tu_vu_la_comete_mon_gas_text.pdf'), ('page', 47), ('total_pages', 104), ('CreationDate', \"D:20130826123210+02'00'\"), ('Creator', 'Bibliothèque nationale de France'), ('ModDate', \"D:20250624190557-04'00'\"), ('Producer', 'iText 1.4.8 (by lowagie.com)'), ('Title', \"Cogniard, Théodore (1806-1872),Clairville (1811-1879). As-tu vu la comète, mon gas ? revue de l'année 1858, en 3 actes et 4 tableaux, par MM. Théodore Cogniard et Clairville... (Paris, Variétés, 30 décembre 1858.). 1859.\"), ('source', 'C:\\\\Users\\\\charl\\\\Documents\\\\VSCode\\\\Vaudeville\\\\Files\\\\PDFs\\\\As_tu_vu_la_comete_mon_gas_text.pdf'), ('file_path', 'C:\\\\Users\\\\charl\\\\Documents\\\\VSCode\\\\Vaudeville\\\\Files\\\\PDFs\\\\As_tu_vu_la_comete_mon_gas_text.pdf'), ('page', 48), ('total_pages', 104), ('CreationDate', \"D:20130826123210+02'00'\"), ('Creator', 'Bibliothèque nationale de France'), ('ModDate', \"D:20250624190557-04'00'\"), ('Producer', 'iText 1.4.8 (by lowagie.com)'), ('Title', \"Cogniard, Théodore (1806-1872),Clairville (1811-1879). As-tu vu la comète, mon gas ? revue de l'année 1858, en 3 actes et 4 tableaux, par MM. Théodore Cogniard et Clairville... (Paris, Variétés, 30 décembre 1858.). 1859.\"), ('source', 'C:\\\\Users\\\\charl\\\\Documents\\\\VSCode\\\\Vaudeville\\\\Files\\\\PDFs\\\\As_tu_vu_la_comete_mon_gas_text.pdf'), ('file_path', 'C:\\\\Users\\\\charl\\\\Documents\\\\VSCode\\\\Vaudeville\\\\Files\\\\PDFs\\\\As_tu_vu_la_comete_mon_gas_text.pdf'), ('page', 49), ('total_pages', 104), ('CreationDate', \"D:20130826123210+02'00'\"), ('Creator', 'Bibliothèque nationale de France'), ('ModDate', \"D:20250624190557-04'00'\"), ('Producer', 'iText 1.4.8 (by lowagie.com)'), ('Title', \"Cogniard, Théodore (1806-1872),Clairville (1811-1879). As-tu vu la comète, mon gas ? revue de l'année 1858, en 3 actes et 4 tableaux, par MM. Théodore Cogniard et Clairville... (Paris, Variétés, 30 décembre 1858.). 1859.\"), ('source', 'C:\\\\Users\\\\charl\\\\Documents\\\\VSCode\\\\Vaudeville\\\\Files\\\\PDFs\\\\As_tu_vu_la_comete_mon_gas_text.pdf'), ('file_path', 'C:\\\\Users\\\\charl\\\\Documents\\\\VSCode\\\\Vaudeville\\\\Files\\\\PDFs\\\\As_tu_vu_la_comete_mon_gas_text.pdf'), ('page', 50), ('total_pages', 104), ('CreationDate', \"D:20130826123210+02'00'\"), ('Creator', 'Bibliothèque nationale de France'), ('ModDate', \"D:20250624190557-04'00'\"), ('Producer', 'iText 1.4.8 (by lowagie.com)'), ('Title', \"Cogniard, Théodore (1806-1872),Clairville (1811-1879). As-tu vu la comète, mon gas ? revue de l'année 1858, en 3 actes et 4 tableaux, par MM. Théodore Cogniard et Clairville... (Paris, Variétés, 30 décembre 1858.). 1859.\"), ('source', 'C:\\\\Users\\\\charl\\\\Documents\\\\VSCode\\\\Vaudeville\\\\Files\\\\PDFs\\\\As_tu_vu_la_comete_mon_gas_text.pdf'), ('file_path', 'C:\\\\Users\\\\charl\\\\Documents\\\\VSCode\\\\Vaudeville\\\\Files\\\\PDFs\\\\As_tu_vu_la_comete_mon_gas_text.pdf'), ('page', 51), ('total_pages', 104), ('CreationDate', \"D:20130826123210+02'00'\"), ('Creator', 'Bibliothèque nationale de France'), ('ModDate', \"D:20250624190557-04'00'\"), ('Producer', 'iText 1.4.8 (by lowagie.com)'), ('Title', \"Cogniard, Théodore (1806-1872),Clairville (1811-1879). As-tu vu la comète, mon gas ? revue de l'année 1858, en 3 actes et 4 tableaux, par MM. Théodore Cogniard et Clairville... (Paris, Variétés, 30 décembre 1858.). 1859.\"), ('source', 'C:\\\\Users\\\\charl\\\\Documents\\\\VSCode\\\\Vaudeville\\\\Files\\\\PDFs\\\\As_tu_vu_la_comete_mon_gas_text.pdf'), ('file_path', 'C:\\\\Users\\\\charl\\\\Documents\\\\VSCode\\\\Vaudeville\\\\Files\\\\PDFs\\\\As_tu_vu_la_comete_mon_gas_text.pdf'), ('page', 52), ('total_pages', 104), ('CreationDate', \"D:20130826123210+02'00'\"), ('Creator', 'Bibliothèque nationale de France'), ('ModDate', \"D:20250624190557-04'00'\"), ('Producer', 'iText 1.4.8 (by lowagie.com)'), ('Title', \"Cogniard, Théodore (1806-1872),Clairville (1811-1879). As-tu vu la comète, mon gas ? revue de l'année 1858, en 3 actes et 4 tableaux, par MM. Théodore Cogniard et Clairville... (Paris, Variétés, 30 décembre 1858.). 1859.\"), ('source', 'C:\\\\Users\\\\charl\\\\Documents\\\\VSCode\\\\Vaudeville\\\\Files\\\\PDFs\\\\As_tu_vu_la_comete_mon_gas_text.pdf'), ('file_path', 'C:\\\\Users\\\\charl\\\\Documents\\\\VSCode\\\\Vaudeville\\\\Files\\\\PDFs\\\\As_tu_vu_la_comete_mon_gas_text.pdf'), ('page', 53), ('total_pages', 104), ('CreationDate', \"D:20130826123210+02'00'\"), ('Creator', 'Bibliothèque nationale de France'), ('ModDate', \"D:20250624190557-04'00'\"), ('Producer', 'iText 1.4.8 (by lowagie.com)'), ('Title', \"Cogniard, Théodore (1806-1872),Clairville (1811-1879). As-tu vu la comète, mon gas ? revue de l'année 1858, en 3 actes et 4 tableaux, par MM. Théodore Cogniard et Clairville... (Paris, Variétés, 30 décembre 1858.). 1859.\"), ('source', 'C:\\\\Users\\\\charl\\\\Documents\\\\VSCode\\\\Vaudeville\\\\Files\\\\PDFs\\\\As_tu_vu_la_comete_mon_gas_text.pdf'), ('file_path', 'C:\\\\Users\\\\charl\\\\Documents\\\\VSCode\\\\Vaudeville\\\\Files\\\\PDFs\\\\As_tu_vu_la_comete_mon_gas_text.pdf'), ('page', 54), ('total_pages', 104), ('CreationDate', \"D:20130826123210+02'00'\"), ('Creator', 'Bibliothèque nationale de France'), ('ModDate', \"D:20250624190557-04'00'\"), ('Producer', 'iText 1.4.8 (by lowagie.com)'), ('Title', \"Cogniard, Théodore (1806-1872),Clairville (1811-1879). As-tu vu la comète, mon gas ? revue de l'année 1858, en 3 actes et 4 tableaux, par MM. Théodore Cogniard et Clairville... (Paris, Variétés, 30 décembre 1858.). 1859.\"), ('source', 'C:\\\\Users\\\\charl\\\\Documents\\\\VSCode\\\\Vaudeville\\\\Files\\\\PDFs\\\\As_tu_vu_la_comete_mon_gas_text.pdf'), ('file_path', 'C:\\\\Users\\\\charl\\\\Documents\\\\VSCode\\\\Vaudeville\\\\Files\\\\PDFs\\\\As_tu_vu_la_comete_mon_gas_text.pdf'), ('page', 55), ('total_pages', 104), ('CreationDate', \"D:20130826123210+02'00'\"), ('Creator', 'Bibliothèque nationale de France'), ('ModDate', \"D:20250624190557-04'00'\"), ('Producer', 'iText 1.4.8 (by lowagie.com)'), ('Title', \"Cogniard, Théodore (1806-1872),Clairville (1811-1879). As-tu vu la comète, mon gas ? revue de l'année 1858, en 3 actes et 4 tableaux, par MM. Théodore Cogniard et Clairville... (Paris, Variétés, 30 décembre 1858.). 1859.\"), ('source', 'C:\\\\Users\\\\charl\\\\Documents\\\\VSCode\\\\Vaudeville\\\\Files\\\\PDFs\\\\As_tu_vu_la_comete_mon_gas_text.pdf'), ('file_path', 'C:\\\\Users\\\\charl\\\\Documents\\\\VSCode\\\\Vaudeville\\\\Files\\\\PDFs\\\\As_tu_vu_la_comete_mon_gas_text.pdf'), ('page', 56), ('total_pages', 104), ('CreationDate', \"D:20130826123210+02'00'\"), ('Creator', 'Bibliothèque nationale de France'), ('ModDate', \"D:20250624190557-04'00'\"), ('Producer', 'iText 1.4.8 (by lowagie.com)'), ('Title', \"Cogniard, Théodore (1806-1872),Clairville (1811-1879). As-tu vu la comète, mon gas ? revue de l'année 1858, en 3 actes et 4 tableaux, par MM. Théodore Cogniard et Clairville... (Paris, Variétés, 30 décembre 1858.). 1859.\"), ('source', 'C:\\\\Users\\\\charl\\\\Documents\\\\VSCode\\\\Vaudeville\\\\Files\\\\PDFs\\\\As_tu_vu_la_comete_mon_gas_text.pdf'), ('file_path', 'C:\\\\Users\\\\charl\\\\Documents\\\\VSCode\\\\Vaudeville\\\\Files\\\\PDFs\\\\As_tu_vu_la_comete_mon_gas_text.pdf'), ('page', 57), ('total_pages', 104), ('CreationDate', \"D:20130826123210+02'00'\"), ('Creator', 'Bibliothèque nationale de France'), ('ModDate', \"D:20250624190557-04'00'\"), ('Producer', 'iText 1.4.8 (by lowagie.com)'), ('Title', \"Cogniard, Théodore (1806-1872),Clairville (1811-1879). As-tu vu la comète, mon gas ? revue de l'année 1858, en 3 actes et 4 tableaux, par MM. Théodore Cogniard et Clairville... (Paris, Variétés, 30 décembre 1858.). 1859.\"), ('source', 'C:\\\\Users\\\\charl\\\\Documents\\\\VSCode\\\\Vaudeville\\\\Files\\\\PDFs\\\\As_tu_vu_la_comete_mon_gas_text.pdf'), ('file_path', 'C:\\\\Users\\\\charl\\\\Documents\\\\VSCode\\\\Vaudeville\\\\Files\\\\PDFs\\\\As_tu_vu_la_comete_mon_gas_text.pdf'), ('page', 58), ('total_pages', 104), ('CreationDate', \"D:20130826123210+02'00'\"), ('Creator', 'Bibliothèque nationale de France'), ('ModDate', \"D:20250624190557-04'00'\"), ('Producer', 'iText 1.4.8 (by lowagie.com)'), ('Title', \"Cogniard, Théodore (1806-1872),Clairville (1811-1879). As-tu vu la comète, mon gas ? revue de l'année 1858, en 3 actes et 4 tableaux, par MM. Théodore Cogniard et Clairville... (Paris, Variétés, 30 décembre 1858.). 1859.\"), ('source', 'C:\\\\Users\\\\charl\\\\Documents\\\\VSCode\\\\Vaudeville\\\\Files\\\\PDFs\\\\As_tu_vu_la_comete_mon_gas_text.pdf'), ('file_path', 'C:\\\\Users\\\\charl\\\\Documents\\\\VSCode\\\\Vaudeville\\\\Files\\\\PDFs\\\\As_tu_vu_la_comete_mon_gas_text.pdf'), ('page', 59), ('total_pages', 104), ('CreationDate', \"D:20130826123210+02'00'\"), ('Creator', 'Bibliothèque nationale de France'), ('ModDate', \"D:20250624190557-04'00'\"), ('Producer', 'iText 1.4.8 (by lowagie.com)'), ('Title', \"Cogniard, Théodore (1806-1872),Clairville (1811-1879). As-tu vu la comète, mon gas ? revue de l'année 1858, en 3 actes et 4 tableaux, par MM. Théodore Cogniard et Clairville... (Paris, Variétés, 30 décembre 1858.). 1859.\"), ('source', 'C:\\\\Users\\\\charl\\\\Documents\\\\VSCode\\\\Vaudeville\\\\Files\\\\PDFs\\\\As_tu_vu_la_comete_mon_gas_text.pdf'), ('file_path', 'C:\\\\Users\\\\charl\\\\Documents\\\\VSCode\\\\Vaudeville\\\\Files\\\\PDFs\\\\As_tu_vu_la_comete_mon_gas_text.pdf'), ('page', 60), ('total_pages', 104), ('CreationDate', \"D:20130826123210+02'00'\"), ('Creator', 'Bibliothèque nationale de France'), ('ModDate', \"D:20250624190557-04'00'\"), ('Producer', 'iText 1.4.8 (by lowagie.com)'), ('Title', \"Cogniard, Théodore (1806-1872),Clairville (1811-1879). As-tu vu la comète, mon gas ? revue de l'année 1858, en 3 actes et 4 tableaux, par MM. Théodore Cogniard et Clairville... (Paris, Variétés, 30 décembre 1858.). 1859.\"), ('source', 'C:\\\\Users\\\\charl\\\\Documents\\\\VSCode\\\\Vaudeville\\\\Files\\\\PDFs\\\\As_tu_vu_la_comete_mon_gas_text.pdf'), ('file_path', 'C:\\\\Users\\\\charl\\\\Documents\\\\VSCode\\\\Vaudeville\\\\Files\\\\PDFs\\\\As_tu_vu_la_comete_mon_gas_text.pdf'), ('page', 61), ('total_pages', 104), ('CreationDate', \"D:20130826123210+02'00'\"), ('Creator', 'Bibliothèque nationale de France'), ('ModDate', \"D:20250624190557-04'00'\"), ('Producer', 'iText 1.4.8 (by lowagie.com)'), ('Title', \"Cogniard, Théodore (1806-1872),Clairville (1811-1879). As-tu vu la comète, mon gas ? revue de l'année 1858, en 3 actes et 4 tableaux, par MM. Théodore Cogniard et Clairville... (Paris, Variétés, 30 décembre 1858.). 1859.\"), ('source', 'C:\\\\Users\\\\charl\\\\Documents\\\\VSCode\\\\Vaudeville\\\\Files\\\\PDFs\\\\As_tu_vu_la_comete_mon_gas_text.pdf'), ('file_path', 'C:\\\\Users\\\\charl\\\\Documents\\\\VSCode\\\\Vaudeville\\\\Files\\\\PDFs\\\\As_tu_vu_la_comete_mon_gas_text.pdf'), ('page', 62), ('total_pages', 104), ('CreationDate', \"D:20130826123210+02'00'\"), ('Creator', 'Bibliothèque nationale de France'), ('ModDate', \"D:20250624190557-04'00'\"), ('Producer', 'iText 1.4.8 (by lowagie.com)'), ('Title', \"Cogniard, Théodore (1806-1872),Clairville (1811-1879). As-tu vu la comète, mon gas ? revue de l'année 1858, en 3 actes et 4 tableaux, par MM. Théodore Cogniard et Clairville... (Paris, Variétés, 30 décembre 1858.). 1859.\"), ('source', 'C:\\\\Users\\\\charl\\\\Documents\\\\VSCode\\\\Vaudeville\\\\Files\\\\PDFs\\\\As_tu_vu_la_comete_mon_gas_text.pdf'), ('file_path', 'C:\\\\Users\\\\charl\\\\Documents\\\\VSCode\\\\Vaudeville\\\\Files\\\\PDFs\\\\As_tu_vu_la_comete_mon_gas_text.pdf'), ('page', 63), ('total_pages', 104), ('CreationDate', \"D:20130826123210+02'00'\"), ('Creator', 'Bibliothèque nationale de France'), ('ModDate', \"D:20250624190557-04'00'\"), ('Producer', 'iText 1.4.8 (by lowagie.com)'), ('Title', \"Cogniard, Théodore (1806-1872),Clairville (1811-1879). As-tu vu la comète, mon gas ? revue de l'année 1858, en 3 actes et 4 tableaux, par MM. Théodore Cogniard et Clairville... (Paris, Variétés, 30 décembre 1858.). 1859.\"), ('source', 'C:\\\\Users\\\\charl\\\\Documents\\\\VSCode\\\\Vaudeville\\\\Files\\\\PDFs\\\\As_tu_vu_la_comete_mon_gas_text.pdf'), ('file_path', 'C:\\\\Users\\\\charl\\\\Documents\\\\VSCode\\\\Vaudeville\\\\Files\\\\PDFs\\\\As_tu_vu_la_comete_mon_gas_text.pdf'), ('page', 64), ('total_pages', 104), ('CreationDate', \"D:20130826123210+02'00'\"), ('Creator', 'Bibliothèque nationale de France'), ('ModDate', \"D:20250624190557-04'00'\"), ('Producer', 'iText 1.4.8 (by lowagie.com)'), ('Title', \"Cogniard, Théodore (1806-1872),Clairville (1811-1879). As-tu vu la comète, mon gas ? revue de l'année 1858, en 3 actes et 4 tableaux, par MM. Théodore Cogniard et Clairville... (Paris, Variétés, 30 décembre 1858.). 1859.\"), ('source', 'C:\\\\Users\\\\charl\\\\Documents\\\\VSCode\\\\Vaudeville\\\\Files\\\\PDFs\\\\As_tu_vu_la_comete_mon_gas_text.pdf'), ('file_path', 'C:\\\\Users\\\\charl\\\\Documents\\\\VSCode\\\\Vaudeville\\\\Files\\\\PDFs\\\\As_tu_vu_la_comete_mon_gas_text.pdf'), ('page', 65), ('total_pages', 104), ('CreationDate', \"D:20130826123210+02'00'\"), ('Creator', 'Bibliothèque nationale de France'), ('ModDate', \"D:20250624190557-04'00'\"), ('Producer', 'iText 1.4.8 (by lowagie.com)'), ('Title', \"Cogniard, Théodore (1806-1872),Clairville (1811-1879). As-tu vu la comète, mon gas ? revue de l'année 1858, en 3 actes et 4 tableaux, par MM. Théodore Cogniard et Clairville... (Paris, Variétés, 30 décembre 1858.). 1859.\"), ('source', 'C:\\\\Users\\\\charl\\\\Documents\\\\VSCode\\\\Vaudeville\\\\Files\\\\PDFs\\\\As_tu_vu_la_comete_mon_gas_text.pdf'), ('file_path', 'C:\\\\Users\\\\charl\\\\Documents\\\\VSCode\\\\Vaudeville\\\\Files\\\\PDFs\\\\As_tu_vu_la_comete_mon_gas_text.pdf'), ('page', 66), ('total_pages', 104), ('CreationDate', \"D:20130826123210+02'00'\"), ('Creator', 'Bibliothèque nationale de France'), ('ModDate', \"D:20250624190557-04'00'\"), ('Producer', 'iText 1.4.8 (by lowagie.com)'), ('Title', \"Cogniard, Théodore (1806-1872),Clairville (1811-1879). As-tu vu la comète, mon gas ? revue de l'année 1858, en 3 actes et 4 tableaux, par MM. Théodore Cogniard et Clairville... (Paris, Variétés, 30 décembre 1858.). 1859.\"), ('source', 'C:\\\\Users\\\\charl\\\\Documents\\\\VSCode\\\\Vaudeville\\\\Files\\\\PDFs\\\\As_tu_vu_la_comete_mon_gas_text.pdf'), ('file_path', 'C:\\\\Users\\\\charl\\\\Documents\\\\VSCode\\\\Vaudeville\\\\Files\\\\PDFs\\\\As_tu_vu_la_comete_mon_gas_text.pdf'), ('page', 67), ('total_pages', 104), ('CreationDate', \"D:20130826123210+02'00'\"), ('Creator', 'Bibliothèque nationale de France'), ('ModDate', \"D:20250624190557-04'00'\"), ('Producer', 'iText 1.4.8 (by lowagie.com)'), ('Title', \"Cogniard, Théodore (1806-1872),Clairville (1811-1879). As-tu vu la comète, mon gas ? revue de l'année 1858, en 3 actes et 4 tableaux, par MM. Théodore Cogniard et Clairville... (Paris, Variétés, 30 décembre 1858.). 1859.\"), ('source', 'C:\\\\Users\\\\charl\\\\Documents\\\\VSCode\\\\Vaudeville\\\\Files\\\\PDFs\\\\As_tu_vu_la_comete_mon_gas_text.pdf'), ('file_path', 'C:\\\\Users\\\\charl\\\\Documents\\\\VSCode\\\\Vaudeville\\\\Files\\\\PDFs\\\\As_tu_vu_la_comete_mon_gas_text.pdf'), ('page', 68), ('total_pages', 104), ('CreationDate', \"D:20130826123210+02'00'\"), ('Creator', 'Bibliothèque nationale de France'), ('ModDate', \"D:20250624190557-04'00'\"), ('Producer', 'iText 1.4.8 (by lowagie.com)'), ('Title', \"Cogniard, Théodore (1806-1872),Clairville (1811-1879). As-tu vu la comète, mon gas ? revue de l'année 1858, en 3 actes et 4 tableaux, par MM. Théodore Cogniard et Clairville... (Paris, Variétés, 30 décembre 1858.). 1859.\"), ('source', 'C:\\\\Users\\\\charl\\\\Documents\\\\VSCode\\\\Vaudeville\\\\Files\\\\PDFs\\\\As_tu_vu_la_comete_mon_gas_text.pdf'), ('file_path', 'C:\\\\Users\\\\charl\\\\Documents\\\\VSCode\\\\Vaudeville\\\\Files\\\\PDFs\\\\As_tu_vu_la_comete_mon_gas_text.pdf'), ('page', 69), ('total_pages', 104), ('CreationDate', \"D:20130826123210+02'00'\"), ('Creator', 'Bibliothèque nationale de France'), ('ModDate', \"D:20250624190557-04'00'\"), ('Producer', 'iText 1.4.8 (by lowagie.com)'), ('Title', \"Cogniard, Théodore (1806-1872),Clairville (1811-1879). As-tu vu la comète, mon gas ? revue de l'année 1858, en 3 actes et 4 tableaux, par MM. Théodore Cogniard et Clairville... (Paris, Variétés, 30 décembre 1858.). 1859.\"), ('source', 'C:\\\\Users\\\\charl\\\\Documents\\\\VSCode\\\\Vaudeville\\\\Files\\\\PDFs\\\\As_tu_vu_la_comete_mon_gas_text.pdf'), ('file_path', 'C:\\\\Users\\\\charl\\\\Documents\\\\VSCode\\\\Vaudeville\\\\Files\\\\PDFs\\\\As_tu_vu_la_comete_mon_gas_text.pdf'), ('page', 70), ('total_pages', 104), ('CreationDate', \"D:20130826123210+02'00'\"), ('Creator', 'Bibliothèque nationale de France'), ('ModDate', \"D:20250624190557-04'00'\"), ('Producer', 'iText 1.4.8 (by lowagie.com)'), ('Title', \"Cogniard, Théodore (1806-1872),Clairville (1811-1879). As-tu vu la comète, mon gas ? revue de l'année 1858, en 3 actes et 4 tableaux, par MM. Théodore Cogniard et Clairville... (Paris, Variétés, 30 décembre 1858.). 1859.\"), ('source', 'C:\\\\Users\\\\charl\\\\Documents\\\\VSCode\\\\Vaudeville\\\\Files\\\\PDFs\\\\As_tu_vu_la_comete_mon_gas_text.pdf'), ('file_path', 'C:\\\\Users\\\\charl\\\\Documents\\\\VSCode\\\\Vaudeville\\\\Files\\\\PDFs\\\\As_tu_vu_la_comete_mon_gas_text.pdf'), ('page', 71), ('total_pages', 104), ('CreationDate', \"D:20130826123210+02'00'\"), ('Creator', 'Bibliothèque nationale de France'), ('ModDate', \"D:20250624190557-04'00'\"), ('Producer', 'iText 1.4.8 (by lowagie.com)'), ('Title', \"Cogniard, Théodore (1806-1872),Clairville (1811-1879). As-tu vu la comète, mon gas ? revue de l'année 1858, en 3 actes et 4 tableaux, par MM. Théodore Cogniard et Clairville... (Paris, Variétés, 30 décembre 1858.). 1859.\"), ('source', 'C:\\\\Users\\\\charl\\\\Documents\\\\VSCode\\\\Vaudeville\\\\Files\\\\PDFs\\\\As_tu_vu_la_comete_mon_gas_text.pdf'), ('file_path', 'C:\\\\Users\\\\charl\\\\Documents\\\\VSCode\\\\Vaudeville\\\\Files\\\\PDFs\\\\As_tu_vu_la_comete_mon_gas_text.pdf'), ('page', 72), ('total_pages', 104), ('CreationDate', \"D:20130826123210+02'00'\"), ('Creator', 'Bibliothèque nationale de France'), ('ModDate', \"D:20250624190557-04'00'\"), ('Producer', 'iText 1.4.8 (by lowagie.com)'), ('Title', \"Cogniard, Théodore (1806-1872),Clairville (1811-1879). As-tu vu la comète, mon gas ? revue de l'année 1858, en 3 actes et 4 tableaux, par MM. Théodore Cogniard et Clairville... (Paris, Variétés, 30 décembre 1858.). 1859.\"), ('source', 'C:\\\\Users\\\\charl\\\\Documents\\\\VSCode\\\\Vaudeville\\\\Files\\\\PDFs\\\\As_tu_vu_la_comete_mon_gas_text.pdf'), ('file_path', 'C:\\\\Users\\\\charl\\\\Documents\\\\VSCode\\\\Vaudeville\\\\Files\\\\PDFs\\\\As_tu_vu_la_comete_mon_gas_text.pdf'), ('page', 73), ('total_pages', 104), ('CreationDate', \"D:20130826123210+02'00'\"), ('Creator', 'Bibliothèque nationale de France'), ('ModDate', \"D:20250624190557-04'00'\"), ('Producer', 'iText 1.4.8 (by lowagie.com)'), ('Title', \"Cogniard, Théodore (1806-1872),Clairville (1811-1879). As-tu vu la comète, mon gas ? revue de l'année 1858, en 3 actes et 4 tableaux, par MM. Théodore Cogniard et Clairville... (Paris, Variétés, 30 décembre 1858.). 1859.\"), ('source', 'C:\\\\Users\\\\charl\\\\Documents\\\\VSCode\\\\Vaudeville\\\\Files\\\\PDFs\\\\As_tu_vu_la_comete_mon_gas_text.pdf'), ('file_path', 'C:\\\\Users\\\\charl\\\\Documents\\\\VSCode\\\\Vaudeville\\\\Files\\\\PDFs\\\\As_tu_vu_la_comete_mon_gas_text.pdf'), ('page', 74), ('total_pages', 104), ('CreationDate', \"D:20130826123210+02'00'\"), ('Creator', 'Bibliothèque nationale de France'), ('ModDate', \"D:20250624190557-04'00'\"), ('Producer', 'iText 1.4.8 (by lowagie.com)'), ('Title', \"Cogniard, Théodore (1806-1872),Clairville (1811-1879). As-tu vu la comète, mon gas ? revue de l'année 1858, en 3 actes et 4 tableaux, par MM. Théodore Cogniard et Clairville... (Paris, Variétés, 30 décembre 1858.). 1859.\"), ('source', 'C:\\\\Users\\\\charl\\\\Documents\\\\VSCode\\\\Vaudeville\\\\Files\\\\PDFs\\\\As_tu_vu_la_comete_mon_gas_text.pdf'), ('file_path', 'C:\\\\Users\\\\charl\\\\Documents\\\\VSCode\\\\Vaudeville\\\\Files\\\\PDFs\\\\As_tu_vu_la_comete_mon_gas_text.pdf'), ('page', 75), ('total_pages', 104), ('CreationDate', \"D:20130826123210+02'00'\"), ('Creator', 'Bibliothèque nationale de France'), ('ModDate', \"D:20250624190557-04'00'\"), ('Producer', 'iText 1.4.8 (by lowagie.com)'), ('Title', \"Cogniard, Théodore (1806-1872),Clairville (1811-1879). As-tu vu la comète, mon gas ? revue de l'année 1858, en 3 actes et 4 tableaux, par MM. Théodore Cogniard et Clairville... (Paris, Variétés, 30 décembre 1858.). 1859.\"), ('source', 'C:\\\\Users\\\\charl\\\\Documents\\\\VSCode\\\\Vaudeville\\\\Files\\\\PDFs\\\\As_tu_vu_la_comete_mon_gas_text.pdf'), ('file_path', 'C:\\\\Users\\\\charl\\\\Documents\\\\VSCode\\\\Vaudeville\\\\Files\\\\PDFs\\\\As_tu_vu_la_comete_mon_gas_text.pdf'), ('page', 76), ('total_pages', 104), ('CreationDate', \"D:20130826123210+02'00'\"), ('Creator', 'Bibliothèque nationale de France'), ('ModDate', \"D:20250624190557-04'00'\"), ('Producer', 'iText 1.4.8 (by lowagie.com)'), ('Title', \"Cogniard, Théodore (1806-1872),Clairville (1811-1879). As-tu vu la comète, mon gas ? revue de l'année 1858, en 3 actes et 4 tableaux, par MM. Théodore Cogniard et Clairville... (Paris, Variétés, 30 décembre 1858.). 1859.\"), ('source', 'C:\\\\Users\\\\charl\\\\Documents\\\\VSCode\\\\Vaudeville\\\\Files\\\\PDFs\\\\As_tu_vu_la_comete_mon_gas_text.pdf'), ('file_path', 'C:\\\\Users\\\\charl\\\\Documents\\\\VSCode\\\\Vaudeville\\\\Files\\\\PDFs\\\\As_tu_vu_la_comete_mon_gas_text.pdf'), ('page', 77), ('total_pages', 104), ('CreationDate', \"D:20130826123210+02'00'\"), ('Creator', 'Bibliothèque nationale de France'), ('ModDate', \"D:20250624190557-04'00'\"), ('Producer', 'iText 1.4.8 (by lowagie.com)'), ('Title', \"Cogniard, Théodore (1806-1872),Clairville (1811-1879). As-tu vu la comète, mon gas ? revue de l'année 1858, en 3 actes et 4 tableaux, par MM. Théodore Cogniard et Clairville... (Paris, Variétés, 30 décembre 1858.). 1859.\"), ('source', 'C:\\\\Users\\\\charl\\\\Documents\\\\VSCode\\\\Vaudeville\\\\Files\\\\PDFs\\\\As_tu_vu_la_comete_mon_gas_text.pdf'), ('file_path', 'C:\\\\Users\\\\charl\\\\Documents\\\\VSCode\\\\Vaudeville\\\\Files\\\\PDFs\\\\As_tu_vu_la_comete_mon_gas_text.pdf'), ('page', 78), ('total_pages', 104), ('CreationDate', \"D:20130826123210+02'00'\"), ('Creator', 'Bibliothèque nationale de France'), ('ModDate', \"D:20250624190557-04'00'\"), ('Producer', 'iText 1.4.8 (by lowagie.com)'), ('Title', \"Cogniard, Théodore (1806-1872),Clairville (1811-1879). As-tu vu la comète, mon gas ? revue de l'année 1858, en 3 actes et 4 tableaux, par MM. Théodore Cogniard et Clairville... (Paris, Variétés, 30 décembre 1858.). 1859.\"), ('source', 'C:\\\\Users\\\\charl\\\\Documents\\\\VSCode\\\\Vaudeville\\\\Files\\\\PDFs\\\\As_tu_vu_la_comete_mon_gas_text.pdf'), ('file_path', 'C:\\\\Users\\\\charl\\\\Documents\\\\VSCode\\\\Vaudeville\\\\Files\\\\PDFs\\\\As_tu_vu_la_comete_mon_gas_text.pdf'), ('page', 79), ('total_pages', 104), ('CreationDate', \"D:20130826123210+02'00'\"), ('Creator', 'Bibliothèque nationale de France'), ('ModDate', \"D:20250624190557-04'00'\"), ('Producer', 'iText 1.4.8 (by lowagie.com)'), ('Title', \"Cogniard, Théodore (1806-1872),Clairville (1811-1879). As-tu vu la comète, mon gas ? revue de l'année 1858, en 3 actes et 4 tableaux, par MM. Théodore Cogniard et Clairville... (Paris, Variétés, 30 décembre 1858.). 1859.\"), ('source', 'C:\\\\Users\\\\charl\\\\Documents\\\\VSCode\\\\Vaudeville\\\\Files\\\\PDFs\\\\As_tu_vu_la_comete_mon_gas_text.pdf'), ('file_path', 'C:\\\\Users\\\\charl\\\\Documents\\\\VSCode\\\\Vaudeville\\\\Files\\\\PDFs\\\\As_tu_vu_la_comete_mon_gas_text.pdf'), ('page', 80), ('total_pages', 104), ('CreationDate', \"D:20130826123210+02'00'\"), ('Creator', 'Bibliothèque nationale de France'), ('ModDate', \"D:20250624190557-04'00'\"), ('Producer', 'iText 1.4.8 (by lowagie.com)'), ('Title', \"Cogniard, Théodore (1806-1872),Clairville (1811-1879). As-tu vu la comète, mon gas ? revue de l'année 1858, en 3 actes et 4 tableaux, par MM. Théodore Cogniard et Clairville... (Paris, Variétés, 30 décembre 1858.). 1859.\"), ('source', 'C:\\\\Users\\\\charl\\\\Documents\\\\VSCode\\\\Vaudeville\\\\Files\\\\PDFs\\\\As_tu_vu_la_comete_mon_gas_text.pdf'), ('file_path', 'C:\\\\Users\\\\charl\\\\Documents\\\\VSCode\\\\Vaudeville\\\\Files\\\\PDFs\\\\As_tu_vu_la_comete_mon_gas_text.pdf'), ('page', 81), ('total_pages', 104), ('CreationDate', \"D:20130826123210+02'00'\"), ('Creator', 'Bibliothèque nationale de France'), ('ModDate', \"D:20250624190557-04'00'\"), ('Producer', 'iText 1.4.8 (by lowagie.com)'), ('Title', \"Cogniard, Théodore (1806-1872),Clairville (1811-1879). As-tu vu la comète, mon gas ? revue de l'année 1858, en 3 actes et 4 tableaux, par MM. Théodore Cogniard et Clairville... (Paris, Variétés, 30 décembre 1858.). 1859.\"), ('source', 'C:\\\\Users\\\\charl\\\\Documents\\\\VSCode\\\\Vaudeville\\\\Files\\\\PDFs\\\\As_tu_vu_la_comete_mon_gas_text.pdf'), ('file_path', 'C:\\\\Users\\\\charl\\\\Documents\\\\VSCode\\\\Vaudeville\\\\Files\\\\PDFs\\\\As_tu_vu_la_comete_mon_gas_text.pdf'), ('page', 82), ('total_pages', 104), ('CreationDate', \"D:20130826123210+02'00'\"), ('Creator', 'Bibliothèque nationale de France'), ('ModDate', \"D:20250624190557-04'00'\"), ('Producer', 'iText 1.4.8 (by lowagie.com)'), ('Title', \"Cogniard, Théodore (1806-1872),Clairville (1811-1879). As-tu vu la comète, mon gas ? revue de l'année 1858, en 3 actes et 4 tableaux, par MM. Théodore Cogniard et Clairville... (Paris, Variétés, 30 décembre 1858.). 1859.\"), ('source', 'C:\\\\Users\\\\charl\\\\Documents\\\\VSCode\\\\Vaudeville\\\\Files\\\\PDFs\\\\As_tu_vu_la_comete_mon_gas_text.pdf'), ('file_path', 'C:\\\\Users\\\\charl\\\\Documents\\\\VSCode\\\\Vaudeville\\\\Files\\\\PDFs\\\\As_tu_vu_la_comete_mon_gas_text.pdf'), ('page', 83), ('total_pages', 104), ('CreationDate', \"D:20130826123210+02'00'\"), ('Creator', 'Bibliothèque nationale de France'), ('ModDate', \"D:20250624190557-04'00'\"), ('Producer', 'iText 1.4.8 (by lowagie.com)'), ('Title', \"Cogniard, Théodore (1806-1872),Clairville (1811-1879). As-tu vu la comète, mon gas ? revue de l'année 1858, en 3 actes et 4 tableaux, par MM. Théodore Cogniard et Clairville... (Paris, Variétés, 30 décembre 1858.). 1859.\"), ('source', 'C:\\\\Users\\\\charl\\\\Documents\\\\VSCode\\\\Vaudeville\\\\Files\\\\PDFs\\\\As_tu_vu_la_comete_mon_gas_text.pdf'), ('file_path', 'C:\\\\Users\\\\charl\\\\Documents\\\\VSCode\\\\Vaudeville\\\\Files\\\\PDFs\\\\As_tu_vu_la_comete_mon_gas_text.pdf'), ('page', 84), ('total_pages', 104), ('CreationDate', \"D:20130826123210+02'00'\"), ('Creator', 'Bibliothèque nationale de France'), ('ModDate', \"D:20250624190557-04'00'\"), ('Producer', 'iText 1.4.8 (by lowagie.com)'), ('Title', \"Cogniard, Théodore (1806-1872),Clairville (1811-1879). As-tu vu la comète, mon gas ? revue de l'année 1858, en 3 actes et 4 tableaux, par MM. Théodore Cogniard et Clairville... (Paris, Variétés, 30 décembre 1858.). 1859.\"), ('source', 'C:\\\\Users\\\\charl\\\\Documents\\\\VSCode\\\\Vaudeville\\\\Files\\\\PDFs\\\\As_tu_vu_la_comete_mon_gas_text.pdf'), ('file_path', 'C:\\\\Users\\\\charl\\\\Documents\\\\VSCode\\\\Vaudeville\\\\Files\\\\PDFs\\\\As_tu_vu_la_comete_mon_gas_text.pdf'), ('page', 85), ('total_pages', 104), ('CreationDate', \"D:20130826123210+02'00'\"), ('Creator', 'Bibliothèque nationale de France'), ('ModDate', \"D:20250624190557-04'00'\"), ('Producer', 'iText 1.4.8 (by lowagie.com)'), ('Title', \"Cogniard, Théodore (1806-1872),Clairville (1811-1879). As-tu vu la comète, mon gas ? revue de l'année 1858, en 3 actes et 4 tableaux, par MM. Théodore Cogniard et Clairville... (Paris, Variétés, 30 décembre 1858.). 1859.\"), ('source', 'C:\\\\Users\\\\charl\\\\Documents\\\\VSCode\\\\Vaudeville\\\\Files\\\\PDFs\\\\As_tu_vu_la_comete_mon_gas_text.pdf'), ('file_path', 'C:\\\\Users\\\\charl\\\\Documents\\\\VSCode\\\\Vaudeville\\\\Files\\\\PDFs\\\\As_tu_vu_la_comete_mon_gas_text.pdf'), ('page', 86), ('total_pages', 104), ('CreationDate', \"D:20130826123210+02'00'\"), ('Creator', 'Bibliothèque nationale de France'), ('ModDate', \"D:20250624190557-04'00'\"), ('Producer', 'iText 1.4.8 (by lowagie.com)'), ('Title', \"Cogniard, Théodore (1806-1872),Clairville (1811-1879). As-tu vu la comète, mon gas ? revue de l'année 1858, en 3 actes et 4 tableaux, par MM. Théodore Cogniard et Clairville... (Paris, Variétés, 30 décembre 1858.). 1859.\"), ('source', 'C:\\\\Users\\\\charl\\\\Documents\\\\VSCode\\\\Vaudeville\\\\Files\\\\PDFs\\\\As_tu_vu_la_comete_mon_gas_text.pdf'), ('file_path', 'C:\\\\Users\\\\charl\\\\Documents\\\\VSCode\\\\Vaudeville\\\\Files\\\\PDFs\\\\As_tu_vu_la_comete_mon_gas_text.pdf'), ('page', 87), ('total_pages', 104), ('CreationDate', \"D:20130826123210+02'00'\"), ('Creator', 'Bibliothèque nationale de France'), ('ModDate', \"D:20250624190557-04'00'\"), ('Producer', 'iText 1.4.8 (by lowagie.com)'), ('Title', \"Cogniard, Théodore (1806-1872),Clairville (1811-1879). As-tu vu la comète, mon gas ? revue de l'année 1858, en 3 actes et 4 tableaux, par MM. Théodore Cogniard et Clairville... (Paris, Variétés, 30 décembre 1858.). 1859.\"), ('source', 'C:\\\\Users\\\\charl\\\\Documents\\\\VSCode\\\\Vaudeville\\\\Files\\\\PDFs\\\\As_tu_vu_la_comete_mon_gas_text.pdf'), ('file_path', 'C:\\\\Users\\\\charl\\\\Documents\\\\VSCode\\\\Vaudeville\\\\Files\\\\PDFs\\\\As_tu_vu_la_comete_mon_gas_text.pdf'), ('page', 88), ('total_pages', 104), ('CreationDate', \"D:20130826123210+02'00'\"), ('Creator', 'Bibliothèque nationale de France'), ('ModDate', \"D:20250624190557-04'00'\"), ('Producer', 'iText 1.4.8 (by lowagie.com)'), ('Title', \"Cogniard, Théodore (1806-1872),Clairville (1811-1879). As-tu vu la comète, mon gas ? revue de l'année 1858, en 3 actes et 4 tableaux, par MM. Théodore Cogniard et Clairville... (Paris, Variétés, 30 décembre 1858.). 1859.\"), ('source', 'C:\\\\Users\\\\charl\\\\Documents\\\\VSCode\\\\Vaudeville\\\\Files\\\\PDFs\\\\As_tu_vu_la_comete_mon_gas_text.pdf'), ('file_path', 'C:\\\\Users\\\\charl\\\\Documents\\\\VSCode\\\\Vaudeville\\\\Files\\\\PDFs\\\\As_tu_vu_la_comete_mon_gas_text.pdf'), ('page', 89), ('total_pages', 104), ('CreationDate', \"D:20130826123210+02'00'\"), ('Creator', 'Bibliothèque nationale de France'), ('ModDate', \"D:20250624190557-04'00'\"), ('Producer', 'iText 1.4.8 (by lowagie.com)'), ('Title', \"Cogniard, Théodore (1806-1872),Clairville (1811-1879). As-tu vu la comète, mon gas ? revue de l'année 1858, en 3 actes et 4 tableaux, par MM. Théodore Cogniard et Clairville... (Paris, Variétés, 30 décembre 1858.). 1859.\"), ('source', 'C:\\\\Users\\\\charl\\\\Documents\\\\VSCode\\\\Vaudeville\\\\Files\\\\PDFs\\\\As_tu_vu_la_comete_mon_gas_text.pdf'), ('file_path', 'C:\\\\Users\\\\charl\\\\Documents\\\\VSCode\\\\Vaudeville\\\\Files\\\\PDFs\\\\As_tu_vu_la_comete_mon_gas_text.pdf'), ('page', 90), ('total_pages', 104), ('CreationDate', \"D:20130826123210+02'00'\"), ('Creator', 'Bibliothèque nationale de France'), ('ModDate', \"D:20250624190557-04'00'\"), ('Producer', 'iText 1.4.8 (by lowagie.com)'), ('Title', \"Cogniard, Théodore (1806-1872),Clairville (1811-1879). As-tu vu la comète, mon gas ? revue de l'année 1858, en 3 actes et 4 tableaux, par MM. Théodore Cogniard et Clairville... (Paris, Variétés, 30 décembre 1858.). 1859.\"), ('source', 'C:\\\\Users\\\\charl\\\\Documents\\\\VSCode\\\\Vaudeville\\\\Files\\\\PDFs\\\\As_tu_vu_la_comete_mon_gas_text.pdf'), ('file_path', 'C:\\\\Users\\\\charl\\\\Documents\\\\VSCode\\\\Vaudeville\\\\Files\\\\PDFs\\\\As_tu_vu_la_comete_mon_gas_text.pdf'), ('page', 91), ('total_pages', 104), ('CreationDate', \"D:20130826123210+02'00'\"), ('Creator', 'Bibliothèque nationale de France'), ('ModDate', \"D:20250624190557-04'00'\"), ('Producer', 'iText 1.4.8 (by lowagie.com)'), ('Title', \"Cogniard, Théodore (1806-1872),Clairville (1811-1879). As-tu vu la comète, mon gas ? revue de l'année 1858, en 3 actes et 4 tableaux, par MM. Théodore Cogniard et Clairville... (Paris, Variétés, 30 décembre 1858.). 1859.\"), ('source', 'C:\\\\Users\\\\charl\\\\Documents\\\\VSCode\\\\Vaudeville\\\\Files\\\\PDFs\\\\As_tu_vu_la_comete_mon_gas_text.pdf'), ('file_path', 'C:\\\\Users\\\\charl\\\\Documents\\\\VSCode\\\\Vaudeville\\\\Files\\\\PDFs\\\\As_tu_vu_la_comete_mon_gas_text.pdf'), ('page', 92), ('total_pages', 104), ('CreationDate', \"D:20130826123210+02'00'\"), ('Creator', 'Bibliothèque nationale de France'), ('ModDate', \"D:20250624190557-04'00'\"), ('Producer', 'iText 1.4.8 (by lowagie.com)'), ('Title', \"Cogniard, Théodore (1806-1872),Clairville (1811-1879). As-tu vu la comète, mon gas ? revue de l'année 1858, en 3 actes et 4 tableaux, par MM. Théodore Cogniard et Clairville... (Paris, Variétés, 30 décembre 1858.). 1859.\"), ('source', 'C:\\\\Users\\\\charl\\\\Documents\\\\VSCode\\\\Vaudeville\\\\Files\\\\PDFs\\\\As_tu_vu_la_comete_mon_gas_text.pdf'), ('file_path', 'C:\\\\Users\\\\charl\\\\Documents\\\\VSCode\\\\Vaudeville\\\\Files\\\\PDFs\\\\As_tu_vu_la_comete_mon_gas_text.pdf'), ('page', 93), ('total_pages', 104), ('CreationDate', \"D:20130826123210+02'00'\"), ('Creator', 'Bibliothèque nationale de France'), ('ModDate', \"D:20250624190557-04'00'\"), ('Producer', 'iText 1.4.8 (by lowagie.com)'), ('Title', \"Cogniard, Théodore (1806-1872),Clairville (1811-1879). As-tu vu la comète, mon gas ? revue de l'année 1858, en 3 actes et 4 tableaux, par MM. Théodore Cogniard et Clairville... (Paris, Variétés, 30 décembre 1858.). 1859.\"), ('source', 'C:\\\\Users\\\\charl\\\\Documents\\\\VSCode\\\\Vaudeville\\\\Files\\\\PDFs\\\\As_tu_vu_la_comete_mon_gas_text.pdf'), ('file_path', 'C:\\\\Users\\\\charl\\\\Documents\\\\VSCode\\\\Vaudeville\\\\Files\\\\PDFs\\\\As_tu_vu_la_comete_mon_gas_text.pdf'), ('page', 94), ('total_pages', 104), ('CreationDate', \"D:20130826123210+02'00'\"), ('Creator', 'Bibliothèque nationale de France'), ('ModDate', \"D:20250624190557-04'00'\"), ('Producer', 'iText 1.4.8 (by lowagie.com)'), ('Title', \"Cogniard, Théodore (1806-1872),Clairville (1811-1879). As-tu vu la comète, mon gas ? revue de l'année 1858, en 3 actes et 4 tableaux, par MM. Théodore Cogniard et Clairville... (Paris, Variétés, 30 décembre 1858.). 1859.\"), ('source', 'C:\\\\Users\\\\charl\\\\Documents\\\\VSCode\\\\Vaudeville\\\\Files\\\\PDFs\\\\As_tu_vu_la_comete_mon_gas_text.pdf'), ('file_path', 'C:\\\\Users\\\\charl\\\\Documents\\\\VSCode\\\\Vaudeville\\\\Files\\\\PDFs\\\\As_tu_vu_la_comete_mon_gas_text.pdf'), ('page', 95), ('total_pages', 104), ('CreationDate', \"D:20130826123210+02'00'\"), ('Creator', 'Bibliothèque nationale de France'), ('ModDate', \"D:20250624190557-04'00'\"), ('Producer', 'iText 1.4.8 (by lowagie.com)'), ('Title', \"Cogniard, Théodore (1806-1872),Clairville (1811-1879). As-tu vu la comète, mon gas ? revue de l'année 1858, en 3 actes et 4 tableaux, par MM. Théodore Cogniard et Clairville... (Paris, Variétés, 30 décembre 1858.). 1859.\"), ('source', 'C:\\\\Users\\\\charl\\\\Documents\\\\VSCode\\\\Vaudeville\\\\Files\\\\PDFs\\\\As_tu_vu_la_comete_mon_gas_text.pdf'), ('file_path', 'C:\\\\Users\\\\charl\\\\Documents\\\\VSCode\\\\Vaudeville\\\\Files\\\\PDFs\\\\As_tu_vu_la_comete_mon_gas_text.pdf'), ('page', 96), ('total_pages', 104), ('CreationDate', \"D:20130826123210+02'00'\"), ('Creator', 'Bibliothèque nationale de France'), ('ModDate', \"D:20250624190557-04'00'\"), ('Producer', 'iText 1.4.8 (by lowagie.com)'), ('Title', \"Cogniard, Théodore (1806-1872),Clairville (1811-1879). As-tu vu la comète, mon gas ? revue de l'année 1858, en 3 actes et 4 tableaux, par MM. Théodore Cogniard et Clairville... (Paris, Variétés, 30 décembre 1858.). 1859.\"), ('source', 'C:\\\\Users\\\\charl\\\\Documents\\\\VSCode\\\\Vaudeville\\\\Files\\\\PDFs\\\\As_tu_vu_la_comete_mon_gas_text.pdf'), ('file_path', 'C:\\\\Users\\\\charl\\\\Documents\\\\VSCode\\\\Vaudeville\\\\Files\\\\PDFs\\\\As_tu_vu_la_comete_mon_gas_text.pdf'), ('page', 97), ('total_pages', 104), ('CreationDate', \"D:20130826123210+02'00'\"), ('Creator', 'Bibliothèque nationale de France'), ('ModDate', \"D:20250624190557-04'00'\"), ('Producer', 'iText 1.4.8 (by lowagie.com)'), ('Title', \"Cogniard, Théodore (1806-1872),Clairville (1811-1879). As-tu vu la comète, mon gas ? revue de l'année 1858, en 3 actes et 4 tableaux, par MM. Théodore Cogniard et Clairville... (Paris, Variétés, 30 décembre 1858.). 1859.\"), ('source', 'C:\\\\Users\\\\charl\\\\Documents\\\\VSCode\\\\Vaudeville\\\\Files\\\\PDFs\\\\As_tu_vu_la_comete_mon_gas_text.pdf'), ('file_path', 'C:\\\\Users\\\\charl\\\\Documents\\\\VSCode\\\\Vaudeville\\\\Files\\\\PDFs\\\\As_tu_vu_la_comete_mon_gas_text.pdf'), ('page', 98), ('total_pages', 104), ('CreationDate', \"D:20130826123210+02'00'\"), ('Creator', 'Bibliothèque nationale de France'), ('ModDate', \"D:20250624190557-04'00'\"), ('Producer', 'iText 1.4.8 (by lowagie.com)'), ('Title', \"Cogniard, Théodore (1806-1872),Clairville (1811-1879). As-tu vu la comète, mon gas ? revue de l'année 1858, en 3 actes et 4 tableaux, par MM. Théodore Cogniard et Clairville... (Paris, Variétés, 30 décembre 1858.). 1859.\"), ('source', 'C:\\\\Users\\\\charl\\\\Documents\\\\VSCode\\\\Vaudeville\\\\Files\\\\PDFs\\\\As_tu_vu_la_comete_mon_gas_text.pdf'), ('file_path', 'C:\\\\Users\\\\charl\\\\Documents\\\\VSCode\\\\Vaudeville\\\\Files\\\\PDFs\\\\As_tu_vu_la_comete_mon_gas_text.pdf'), ('page', 99), ('total_pages', 104), ('CreationDate', \"D:20130826123210+02'00'\"), ('Creator', 'Bibliothèque nationale de France'), ('ModDate', \"D:20250624190557-04'00'\"), ('Producer', 'iText 1.4.8 (by lowagie.com)'), ('Title', \"Cogniard, Théodore (1806-1872),Clairville (1811-1879). As-tu vu la comète, mon gas ? revue de l'année 1858, en 3 actes et 4 tableaux, par MM. Théodore Cogniard et Clairville... (Paris, Variétés, 30 décembre 1858.). 1859.\"), ('source', 'C:\\\\Users\\\\charl\\\\Documents\\\\VSCode\\\\Vaudeville\\\\Files\\\\PDFs\\\\As_tu_vu_la_comete_mon_gas_text.pdf'), ('file_path', 'C:\\\\Users\\\\charl\\\\Documents\\\\VSCode\\\\Vaudeville\\\\Files\\\\PDFs\\\\As_tu_vu_la_comete_mon_gas_text.pdf'), ('page', 100), ('total_pages', 104), ('CreationDate', \"D:20130826123210+02'00'\"), ('Creator', 'Bibliothèque nationale de France'), ('ModDate', \"D:20250624190557-04'00'\"), ('Producer', 'iText 1.4.8 (by lowagie.com)'), ('Title', \"Cogniard, Théodore (1806-1872),Clairville (1811-1879). As-tu vu la comète, mon gas ? revue de l'année 1858, en 3 actes et 4 tableaux, par MM. Théodore Cogniard et Clairville... (Paris, Variétés, 30 décembre 1858.). 1859.\"), ('source', 'C:\\\\Users\\\\charl\\\\Documents\\\\VSCode\\\\Vaudeville\\\\Files\\\\PDFs\\\\As_tu_vu_la_comete_mon_gas_text.pdf'), ('file_path', 'C:\\\\Users\\\\charl\\\\Documents\\\\VSCode\\\\Vaudeville\\\\Files\\\\PDFs\\\\As_tu_vu_la_comete_mon_gas_text.pdf'), ('page', 101), ('total_pages', 104), ('CreationDate', \"D:20130826123210+02'00'\"), ('Creator', 'Bibliothèque nationale de France'), ('ModDate', \"D:20250624190557-04'00'\"), ('Producer', 'iText 1.4.8 (by lowagie.com)'), ('Title', \"Cogniard, Théodore (1806-1872),Clairville (1811-1879). As-tu vu la comète, mon gas ? revue de l'année 1858, en 3 actes et 4 tableaux, par MM. Théodore Cogniard et Clairville... (Paris, Variétés, 30 décembre 1858.). 1859.\"), ('source', 'C:\\\\Users\\\\charl\\\\Documents\\\\VSCode\\\\Vaudeville\\\\Files\\\\PDFs\\\\As_tu_vu_la_comete_mon_gas_text.pdf'), ('file_path', 'C:\\\\Users\\\\charl\\\\Documents\\\\VSCode\\\\Vaudeville\\\\Files\\\\PDFs\\\\As_tu_vu_la_comete_mon_gas_text.pdf'), ('page', 102), ('total_pages', 104), ('CreationDate', \"D:20130826123210+02'00'\"), ('Creator', 'Bibliothèque nationale de France'), ('ModDate', \"D:20250624190557-04'00'\"), ('Producer', 'iText 1.4.8 (by lowagie.com)'), ('Title', \"Cogniard, Théodore (1806-1872),Clairville (1811-1879). As-tu vu la comète, mon gas ? revue de l'année 1858, en 3 actes et 4 tableaux, par MM. Théodore Cogniard et Clairville... (Paris, Variétés, 30 décembre 1858.). 1859.\"), ('source', 'C:\\\\Users\\\\charl\\\\Documents\\\\VSCode\\\\Vaudeville\\\\Files\\\\PDFs\\\\As_tu_vu_la_comete_mon_gas_text.pdf'), ('file_path', 'C:\\\\Users\\\\charl\\\\Documents\\\\VSCode\\\\Vaudeville\\\\Files\\\\PDFs\\\\As_tu_vu_la_comete_mon_gas_text.pdf'), ('page', 103), ('total_pages', 104), ('CreationDate', \"D:20130826123210+02'00'\"), ('Creator', 'Bibliothèque nationale de France'), ('ModDate', \"D:20250624190557-04'00'\"), ('Producer', 'iText 1.4.8 (by lowagie.com)'), ('Title', \"Cogniard, Théodore (1806-1872),Clairville (1811-1879). As-tu vu la comète, mon gas ? revue de l'année 1858, en 3 actes et 4 tableaux, par MM. Théodore Cogniard et Clairville... (Paris, Variétés, 30 décembre 1858.). 1859.\")]\n",
      "Document 1 \n",
      "\n",
      "[('source', 'C:\\\\Users\\\\charl\\\\Documents\\\\VSCode\\\\Vaudeville\\\\Files\\\\PDFs\\\\Brutus_ou_le_dernier_soldat.pdf'), ('file_path', 'C:\\\\Users\\\\charl\\\\Documents\\\\VSCode\\\\Vaudeville\\\\Files\\\\PDFs\\\\Brutus_ou_le_dernier_soldat.pdf'), ('page', 0), ('total_pages', 47), ('ModDate', \"D:20250624190336-04'00'\"), ('source', 'C:\\\\Users\\\\charl\\\\Documents\\\\VSCode\\\\Vaudeville\\\\Files\\\\PDFs\\\\Brutus_ou_le_dernier_soldat.pdf'), ('file_path', 'C:\\\\Users\\\\charl\\\\Documents\\\\VSCode\\\\Vaudeville\\\\Files\\\\PDFs\\\\Brutus_ou_le_dernier_soldat.pdf'), ('page', 1), ('total_pages', 47), ('ModDate', \"D:20250624190336-04'00'\"), ('source', 'C:\\\\Users\\\\charl\\\\Documents\\\\VSCode\\\\Vaudeville\\\\Files\\\\PDFs\\\\Brutus_ou_le_dernier_soldat.pdf'), ('file_path', 'C:\\\\Users\\\\charl\\\\Documents\\\\VSCode\\\\Vaudeville\\\\Files\\\\PDFs\\\\Brutus_ou_le_dernier_soldat.pdf'), ('page', 2), ('total_pages', 47), ('ModDate', \"D:20250624190336-04'00'\"), ('source', 'C:\\\\Users\\\\charl\\\\Documents\\\\VSCode\\\\Vaudeville\\\\Files\\\\PDFs\\\\Brutus_ou_le_dernier_soldat.pdf'), ('file_path', 'C:\\\\Users\\\\charl\\\\Documents\\\\VSCode\\\\Vaudeville\\\\Files\\\\PDFs\\\\Brutus_ou_le_dernier_soldat.pdf'), ('page', 3), ('total_pages', 47), ('ModDate', \"D:20250624190336-04'00'\"), ('source', 'C:\\\\Users\\\\charl\\\\Documents\\\\VSCode\\\\Vaudeville\\\\Files\\\\PDFs\\\\Brutus_ou_le_dernier_soldat.pdf'), ('file_path', 'C:\\\\Users\\\\charl\\\\Documents\\\\VSCode\\\\Vaudeville\\\\Files\\\\PDFs\\\\Brutus_ou_le_dernier_soldat.pdf'), ('page', 4), ('total_pages', 47), ('ModDate', \"D:20250624190336-04'00'\"), ('source', 'C:\\\\Users\\\\charl\\\\Documents\\\\VSCode\\\\Vaudeville\\\\Files\\\\PDFs\\\\Brutus_ou_le_dernier_soldat.pdf'), ('file_path', 'C:\\\\Users\\\\charl\\\\Documents\\\\VSCode\\\\Vaudeville\\\\Files\\\\PDFs\\\\Brutus_ou_le_dernier_soldat.pdf'), ('page', 5), ('total_pages', 47), ('ModDate', \"D:20250624190336-04'00'\"), ('source', 'C:\\\\Users\\\\charl\\\\Documents\\\\VSCode\\\\Vaudeville\\\\Files\\\\PDFs\\\\Brutus_ou_le_dernier_soldat.pdf'), ('file_path', 'C:\\\\Users\\\\charl\\\\Documents\\\\VSCode\\\\Vaudeville\\\\Files\\\\PDFs\\\\Brutus_ou_le_dernier_soldat.pdf'), ('page', 6), ('total_pages', 47), ('ModDate', \"D:20250624190336-04'00'\"), ('source', 'C:\\\\Users\\\\charl\\\\Documents\\\\VSCode\\\\Vaudeville\\\\Files\\\\PDFs\\\\Brutus_ou_le_dernier_soldat.pdf'), ('file_path', 'C:\\\\Users\\\\charl\\\\Documents\\\\VSCode\\\\Vaudeville\\\\Files\\\\PDFs\\\\Brutus_ou_le_dernier_soldat.pdf'), ('page', 7), ('total_pages', 47), ('ModDate', \"D:20250624190336-04'00'\"), ('source', 'C:\\\\Users\\\\charl\\\\Documents\\\\VSCode\\\\Vaudeville\\\\Files\\\\PDFs\\\\Brutus_ou_le_dernier_soldat.pdf'), ('file_path', 'C:\\\\Users\\\\charl\\\\Documents\\\\VSCode\\\\Vaudeville\\\\Files\\\\PDFs\\\\Brutus_ou_le_dernier_soldat.pdf'), ('page', 8), ('total_pages', 47), ('ModDate', \"D:20250624190336-04'00'\"), ('source', 'C:\\\\Users\\\\charl\\\\Documents\\\\VSCode\\\\Vaudeville\\\\Files\\\\PDFs\\\\Brutus_ou_le_dernier_soldat.pdf'), ('file_path', 'C:\\\\Users\\\\charl\\\\Documents\\\\VSCode\\\\Vaudeville\\\\Files\\\\PDFs\\\\Brutus_ou_le_dernier_soldat.pdf'), ('page', 9), ('total_pages', 47), ('ModDate', \"D:20250624190336-04'00'\"), ('source', 'C:\\\\Users\\\\charl\\\\Documents\\\\VSCode\\\\Vaudeville\\\\Files\\\\PDFs\\\\Brutus_ou_le_dernier_soldat.pdf'), ('file_path', 'C:\\\\Users\\\\charl\\\\Documents\\\\VSCode\\\\Vaudeville\\\\Files\\\\PDFs\\\\Brutus_ou_le_dernier_soldat.pdf'), ('page', 10), ('total_pages', 47), ('ModDate', \"D:20250624190336-04'00'\"), ('source', 'C:\\\\Users\\\\charl\\\\Documents\\\\VSCode\\\\Vaudeville\\\\Files\\\\PDFs\\\\Brutus_ou_le_dernier_soldat.pdf'), ('file_path', 'C:\\\\Users\\\\charl\\\\Documents\\\\VSCode\\\\Vaudeville\\\\Files\\\\PDFs\\\\Brutus_ou_le_dernier_soldat.pdf'), ('page', 11), ('total_pages', 47), ('ModDate', \"D:20250624190336-04'00'\"), ('source', 'C:\\\\Users\\\\charl\\\\Documents\\\\VSCode\\\\Vaudeville\\\\Files\\\\PDFs\\\\Brutus_ou_le_dernier_soldat.pdf'), ('file_path', 'C:\\\\Users\\\\charl\\\\Documents\\\\VSCode\\\\Vaudeville\\\\Files\\\\PDFs\\\\Brutus_ou_le_dernier_soldat.pdf'), ('page', 12), ('total_pages', 47), ('ModDate', \"D:20250624190336-04'00'\"), ('source', 'C:\\\\Users\\\\charl\\\\Documents\\\\VSCode\\\\Vaudeville\\\\Files\\\\PDFs\\\\Brutus_ou_le_dernier_soldat.pdf'), ('file_path', 'C:\\\\Users\\\\charl\\\\Documents\\\\VSCode\\\\Vaudeville\\\\Files\\\\PDFs\\\\Brutus_ou_le_dernier_soldat.pdf'), ('page', 13), ('total_pages', 47), ('ModDate', \"D:20250624190336-04'00'\"), ('source', 'C:\\\\Users\\\\charl\\\\Documents\\\\VSCode\\\\Vaudeville\\\\Files\\\\PDFs\\\\Brutus_ou_le_dernier_soldat.pdf'), ('file_path', 'C:\\\\Users\\\\charl\\\\Documents\\\\VSCode\\\\Vaudeville\\\\Files\\\\PDFs\\\\Brutus_ou_le_dernier_soldat.pdf'), ('page', 14), ('total_pages', 47), ('ModDate', \"D:20250624190336-04'00'\"), ('source', 'C:\\\\Users\\\\charl\\\\Documents\\\\VSCode\\\\Vaudeville\\\\Files\\\\PDFs\\\\Brutus_ou_le_dernier_soldat.pdf'), ('file_path', 'C:\\\\Users\\\\charl\\\\Documents\\\\VSCode\\\\Vaudeville\\\\Files\\\\PDFs\\\\Brutus_ou_le_dernier_soldat.pdf'), ('page', 15), ('total_pages', 47), ('ModDate', \"D:20250624190336-04'00'\"), ('source', 'C:\\\\Users\\\\charl\\\\Documents\\\\VSCode\\\\Vaudeville\\\\Files\\\\PDFs\\\\Brutus_ou_le_dernier_soldat.pdf'), ('file_path', 'C:\\\\Users\\\\charl\\\\Documents\\\\VSCode\\\\Vaudeville\\\\Files\\\\PDFs\\\\Brutus_ou_le_dernier_soldat.pdf'), ('page', 16), ('total_pages', 47), ('ModDate', \"D:20250624190336-04'00'\"), ('source', 'C:\\\\Users\\\\charl\\\\Documents\\\\VSCode\\\\Vaudeville\\\\Files\\\\PDFs\\\\Brutus_ou_le_dernier_soldat.pdf'), ('file_path', 'C:\\\\Users\\\\charl\\\\Documents\\\\VSCode\\\\Vaudeville\\\\Files\\\\PDFs\\\\Brutus_ou_le_dernier_soldat.pdf'), ('page', 17), ('total_pages', 47), ('ModDate', \"D:20250624190336-04'00'\"), ('source', 'C:\\\\Users\\\\charl\\\\Documents\\\\VSCode\\\\Vaudeville\\\\Files\\\\PDFs\\\\Brutus_ou_le_dernier_soldat.pdf'), ('file_path', 'C:\\\\Users\\\\charl\\\\Documents\\\\VSCode\\\\Vaudeville\\\\Files\\\\PDFs\\\\Brutus_ou_le_dernier_soldat.pdf'), ('page', 18), ('total_pages', 47), ('ModDate', \"D:20250624190336-04'00'\"), ('source', 'C:\\\\Users\\\\charl\\\\Documents\\\\VSCode\\\\Vaudeville\\\\Files\\\\PDFs\\\\Brutus_ou_le_dernier_soldat.pdf'), ('file_path', 'C:\\\\Users\\\\charl\\\\Documents\\\\VSCode\\\\Vaudeville\\\\Files\\\\PDFs\\\\Brutus_ou_le_dernier_soldat.pdf'), ('page', 19), ('total_pages', 47), ('ModDate', \"D:20250624190336-04'00'\"), ('source', 'C:\\\\Users\\\\charl\\\\Documents\\\\VSCode\\\\Vaudeville\\\\Files\\\\PDFs\\\\Brutus_ou_le_dernier_soldat.pdf'), ('file_path', 'C:\\\\Users\\\\charl\\\\Documents\\\\VSCode\\\\Vaudeville\\\\Files\\\\PDFs\\\\Brutus_ou_le_dernier_soldat.pdf'), ('page', 20), ('total_pages', 47), ('ModDate', \"D:20250624190336-04'00'\"), ('source', 'C:\\\\Users\\\\charl\\\\Documents\\\\VSCode\\\\Vaudeville\\\\Files\\\\PDFs\\\\Brutus_ou_le_dernier_soldat.pdf'), ('file_path', 'C:\\\\Users\\\\charl\\\\Documents\\\\VSCode\\\\Vaudeville\\\\Files\\\\PDFs\\\\Brutus_ou_le_dernier_soldat.pdf'), ('page', 21), ('total_pages', 47), ('ModDate', \"D:20250624190336-04'00'\"), ('source', 'C:\\\\Users\\\\charl\\\\Documents\\\\VSCode\\\\Vaudeville\\\\Files\\\\PDFs\\\\Brutus_ou_le_dernier_soldat.pdf'), ('file_path', 'C:\\\\Users\\\\charl\\\\Documents\\\\VSCode\\\\Vaudeville\\\\Files\\\\PDFs\\\\Brutus_ou_le_dernier_soldat.pdf'), ('page', 22), ('total_pages', 47), ('ModDate', \"D:20250624190336-04'00'\"), ('source', 'C:\\\\Users\\\\charl\\\\Documents\\\\VSCode\\\\Vaudeville\\\\Files\\\\PDFs\\\\Brutus_ou_le_dernier_soldat.pdf'), ('file_path', 'C:\\\\Users\\\\charl\\\\Documents\\\\VSCode\\\\Vaudeville\\\\Files\\\\PDFs\\\\Brutus_ou_le_dernier_soldat.pdf'), ('page', 23), ('total_pages', 47), ('ModDate', \"D:20250624190336-04'00'\"), ('source', 'C:\\\\Users\\\\charl\\\\Documents\\\\VSCode\\\\Vaudeville\\\\Files\\\\PDFs\\\\Brutus_ou_le_dernier_soldat.pdf'), ('file_path', 'C:\\\\Users\\\\charl\\\\Documents\\\\VSCode\\\\Vaudeville\\\\Files\\\\PDFs\\\\Brutus_ou_le_dernier_soldat.pdf'), ('page', 24), ('total_pages', 47), ('ModDate', \"D:20250624190336-04'00'\"), ('source', 'C:\\\\Users\\\\charl\\\\Documents\\\\VSCode\\\\Vaudeville\\\\Files\\\\PDFs\\\\Brutus_ou_le_dernier_soldat.pdf'), ('file_path', 'C:\\\\Users\\\\charl\\\\Documents\\\\VSCode\\\\Vaudeville\\\\Files\\\\PDFs\\\\Brutus_ou_le_dernier_soldat.pdf'), ('page', 25), ('total_pages', 47), ('ModDate', \"D:20250624190336-04'00'\"), ('source', 'C:\\\\Users\\\\charl\\\\Documents\\\\VSCode\\\\Vaudeville\\\\Files\\\\PDFs\\\\Brutus_ou_le_dernier_soldat.pdf'), ('file_path', 'C:\\\\Users\\\\charl\\\\Documents\\\\VSCode\\\\Vaudeville\\\\Files\\\\PDFs\\\\Brutus_ou_le_dernier_soldat.pdf'), ('page', 26), ('total_pages', 47), ('ModDate', \"D:20250624190336-04'00'\"), ('source', 'C:\\\\Users\\\\charl\\\\Documents\\\\VSCode\\\\Vaudeville\\\\Files\\\\PDFs\\\\Brutus_ou_le_dernier_soldat.pdf'), ('file_path', 'C:\\\\Users\\\\charl\\\\Documents\\\\VSCode\\\\Vaudeville\\\\Files\\\\PDFs\\\\Brutus_ou_le_dernier_soldat.pdf'), ('page', 27), ('total_pages', 47), ('ModDate', \"D:20250624190336-04'00'\"), ('source', 'C:\\\\Users\\\\charl\\\\Documents\\\\VSCode\\\\Vaudeville\\\\Files\\\\PDFs\\\\Brutus_ou_le_dernier_soldat.pdf'), ('file_path', 'C:\\\\Users\\\\charl\\\\Documents\\\\VSCode\\\\Vaudeville\\\\Files\\\\PDFs\\\\Brutus_ou_le_dernier_soldat.pdf'), ('page', 28), ('total_pages', 47), ('ModDate', \"D:20250624190336-04'00'\"), ('source', 'C:\\\\Users\\\\charl\\\\Documents\\\\VSCode\\\\Vaudeville\\\\Files\\\\PDFs\\\\Brutus_ou_le_dernier_soldat.pdf'), ('file_path', 'C:\\\\Users\\\\charl\\\\Documents\\\\VSCode\\\\Vaudeville\\\\Files\\\\PDFs\\\\Brutus_ou_le_dernier_soldat.pdf'), ('page', 29), ('total_pages', 47), ('ModDate', \"D:20250624190336-04'00'\"), ('source', 'C:\\\\Users\\\\charl\\\\Documents\\\\VSCode\\\\Vaudeville\\\\Files\\\\PDFs\\\\Brutus_ou_le_dernier_soldat.pdf'), ('file_path', 'C:\\\\Users\\\\charl\\\\Documents\\\\VSCode\\\\Vaudeville\\\\Files\\\\PDFs\\\\Brutus_ou_le_dernier_soldat.pdf'), ('page', 30), ('total_pages', 47), ('ModDate', \"D:20250624190336-04'00'\"), ('source', 'C:\\\\Users\\\\charl\\\\Documents\\\\VSCode\\\\Vaudeville\\\\Files\\\\PDFs\\\\Brutus_ou_le_dernier_soldat.pdf'), ('file_path', 'C:\\\\Users\\\\charl\\\\Documents\\\\VSCode\\\\Vaudeville\\\\Files\\\\PDFs\\\\Brutus_ou_le_dernier_soldat.pdf'), ('page', 31), ('total_pages', 47), ('ModDate', \"D:20250624190336-04'00'\"), ('source', 'C:\\\\Users\\\\charl\\\\Documents\\\\VSCode\\\\Vaudeville\\\\Files\\\\PDFs\\\\Brutus_ou_le_dernier_soldat.pdf'), ('file_path', 'C:\\\\Users\\\\charl\\\\Documents\\\\VSCode\\\\Vaudeville\\\\Files\\\\PDFs\\\\Brutus_ou_le_dernier_soldat.pdf'), ('page', 32), ('total_pages', 47), ('ModDate', \"D:20250624190336-04'00'\"), ('source', 'C:\\\\Users\\\\charl\\\\Documents\\\\VSCode\\\\Vaudeville\\\\Files\\\\PDFs\\\\Brutus_ou_le_dernier_soldat.pdf'), ('file_path', 'C:\\\\Users\\\\charl\\\\Documents\\\\VSCode\\\\Vaudeville\\\\Files\\\\PDFs\\\\Brutus_ou_le_dernier_soldat.pdf'), ('page', 33), ('total_pages', 47), ('ModDate', \"D:20250624190336-04'00'\"), ('source', 'C:\\\\Users\\\\charl\\\\Documents\\\\VSCode\\\\Vaudeville\\\\Files\\\\PDFs\\\\Brutus_ou_le_dernier_soldat.pdf'), ('file_path', 'C:\\\\Users\\\\charl\\\\Documents\\\\VSCode\\\\Vaudeville\\\\Files\\\\PDFs\\\\Brutus_ou_le_dernier_soldat.pdf'), ('page', 34), ('total_pages', 47), ('ModDate', \"D:20250624190336-04'00'\"), ('source', 'C:\\\\Users\\\\charl\\\\Documents\\\\VSCode\\\\Vaudeville\\\\Files\\\\PDFs\\\\Brutus_ou_le_dernier_soldat.pdf'), ('file_path', 'C:\\\\Users\\\\charl\\\\Documents\\\\VSCode\\\\Vaudeville\\\\Files\\\\PDFs\\\\Brutus_ou_le_dernier_soldat.pdf'), ('page', 35), ('total_pages', 47), ('ModDate', \"D:20250624190336-04'00'\"), ('source', 'C:\\\\Users\\\\charl\\\\Documents\\\\VSCode\\\\Vaudeville\\\\Files\\\\PDFs\\\\Brutus_ou_le_dernier_soldat.pdf'), ('file_path', 'C:\\\\Users\\\\charl\\\\Documents\\\\VSCode\\\\Vaudeville\\\\Files\\\\PDFs\\\\Brutus_ou_le_dernier_soldat.pdf'), ('page', 36), ('total_pages', 47), ('ModDate', \"D:20250624190336-04'00'\"), ('source', 'C:\\\\Users\\\\charl\\\\Documents\\\\VSCode\\\\Vaudeville\\\\Files\\\\PDFs\\\\Brutus_ou_le_dernier_soldat.pdf'), ('file_path', 'C:\\\\Users\\\\charl\\\\Documents\\\\VSCode\\\\Vaudeville\\\\Files\\\\PDFs\\\\Brutus_ou_le_dernier_soldat.pdf'), ('page', 37), ('total_pages', 47), ('ModDate', \"D:20250624190336-04'00'\"), ('source', 'C:\\\\Users\\\\charl\\\\Documents\\\\VSCode\\\\Vaudeville\\\\Files\\\\PDFs\\\\Brutus_ou_le_dernier_soldat.pdf'), ('file_path', 'C:\\\\Users\\\\charl\\\\Documents\\\\VSCode\\\\Vaudeville\\\\Files\\\\PDFs\\\\Brutus_ou_le_dernier_soldat.pdf'), ('page', 38), ('total_pages', 47), ('ModDate', \"D:20250624190336-04'00'\"), ('source', 'C:\\\\Users\\\\charl\\\\Documents\\\\VSCode\\\\Vaudeville\\\\Files\\\\PDFs\\\\Brutus_ou_le_dernier_soldat.pdf'), ('file_path', 'C:\\\\Users\\\\charl\\\\Documents\\\\VSCode\\\\Vaudeville\\\\Files\\\\PDFs\\\\Brutus_ou_le_dernier_soldat.pdf'), ('page', 39), ('total_pages', 47), ('ModDate', \"D:20250624190336-04'00'\"), ('source', 'C:\\\\Users\\\\charl\\\\Documents\\\\VSCode\\\\Vaudeville\\\\Files\\\\PDFs\\\\Brutus_ou_le_dernier_soldat.pdf'), ('file_path', 'C:\\\\Users\\\\charl\\\\Documents\\\\VSCode\\\\Vaudeville\\\\Files\\\\PDFs\\\\Brutus_ou_le_dernier_soldat.pdf'), ('page', 40), ('total_pages', 47), ('ModDate', \"D:20250624190336-04'00'\"), ('source', 'C:\\\\Users\\\\charl\\\\Documents\\\\VSCode\\\\Vaudeville\\\\Files\\\\PDFs\\\\Brutus_ou_le_dernier_soldat.pdf'), ('file_path', 'C:\\\\Users\\\\charl\\\\Documents\\\\VSCode\\\\Vaudeville\\\\Files\\\\PDFs\\\\Brutus_ou_le_dernier_soldat.pdf'), ('page', 41), ('total_pages', 47), ('ModDate', \"D:20250624190336-04'00'\"), ('source', 'C:\\\\Users\\\\charl\\\\Documents\\\\VSCode\\\\Vaudeville\\\\Files\\\\PDFs\\\\Brutus_ou_le_dernier_soldat.pdf'), ('file_path', 'C:\\\\Users\\\\charl\\\\Documents\\\\VSCode\\\\Vaudeville\\\\Files\\\\PDFs\\\\Brutus_ou_le_dernier_soldat.pdf'), ('page', 42), ('total_pages', 47), ('ModDate', \"D:20250624190336-04'00'\"), ('source', 'C:\\\\Users\\\\charl\\\\Documents\\\\VSCode\\\\Vaudeville\\\\Files\\\\PDFs\\\\Brutus_ou_le_dernier_soldat.pdf'), ('file_path', 'C:\\\\Users\\\\charl\\\\Documents\\\\VSCode\\\\Vaudeville\\\\Files\\\\PDFs\\\\Brutus_ou_le_dernier_soldat.pdf'), ('page', 43), ('total_pages', 47), ('ModDate', \"D:20250624190336-04'00'\"), ('source', 'C:\\\\Users\\\\charl\\\\Documents\\\\VSCode\\\\Vaudeville\\\\Files\\\\PDFs\\\\Brutus_ou_le_dernier_soldat.pdf'), ('file_path', 'C:\\\\Users\\\\charl\\\\Documents\\\\VSCode\\\\Vaudeville\\\\Files\\\\PDFs\\\\Brutus_ou_le_dernier_soldat.pdf'), ('page', 44), ('total_pages', 47), ('ModDate', \"D:20250624190336-04'00'\"), ('source', 'C:\\\\Users\\\\charl\\\\Documents\\\\VSCode\\\\Vaudeville\\\\Files\\\\PDFs\\\\Brutus_ou_le_dernier_soldat.pdf'), ('file_path', 'C:\\\\Users\\\\charl\\\\Documents\\\\VSCode\\\\Vaudeville\\\\Files\\\\PDFs\\\\Brutus_ou_le_dernier_soldat.pdf'), ('page', 45), ('total_pages', 47), ('ModDate', \"D:20250624190336-04'00'\"), ('source', 'C:\\\\Users\\\\charl\\\\Documents\\\\VSCode\\\\Vaudeville\\\\Files\\\\PDFs\\\\Brutus_ou_le_dernier_soldat.pdf'), ('file_path', 'C:\\\\Users\\\\charl\\\\Documents\\\\VSCode\\\\Vaudeville\\\\Files\\\\PDFs\\\\Brutus_ou_le_dernier_soldat.pdf'), ('page', 46), ('total_pages', 47), ('ModDate', \"D:20250624190336-04'00'\")]\n",
      "Document 2 \n",
      "\n",
      "[('source', 'C:\\\\Users\\\\charl\\\\Documents\\\\VSCode\\\\Vaudeville\\\\Files\\\\PDFs\\\\Clairville_Garet_Le_Palais_de_Chrysocale_(1855).pdf'), ('file_path', 'C:\\\\Users\\\\charl\\\\Documents\\\\VSCode\\\\Vaudeville\\\\Files\\\\PDFs\\\\Clairville_Garet_Le_Palais_de_Chrysocale_(1855).pdf'), ('page', 0), ('total_pages', 14), ('Author', 'Clairville (M.)'), ('ModDate', \"D:20250624190059-04'00'\"), ('Producer', 'Google Books PDF Converter (rel 3 12/12/14)'), ('Title', 'Le palais de chrysocale ou les exposants et les exposés'), ('source', 'C:\\\\Users\\\\charl\\\\Documents\\\\VSCode\\\\Vaudeville\\\\Files\\\\PDFs\\\\Clairville_Garet_Le_Palais_de_Chrysocale_(1855).pdf'), ('file_path', 'C:\\\\Users\\\\charl\\\\Documents\\\\VSCode\\\\Vaudeville\\\\Files\\\\PDFs\\\\Clairville_Garet_Le_Palais_de_Chrysocale_(1855).pdf'), ('page', 1), ('total_pages', 14), ('Author', 'Clairville (M.)'), ('ModDate', \"D:20250624190059-04'00'\"), ('Producer', 'Google Books PDF Converter (rel 3 12/12/14)'), ('Title', 'Le palais de chrysocale ou les exposants et les exposés'), ('source', 'C:\\\\Users\\\\charl\\\\Documents\\\\VSCode\\\\Vaudeville\\\\Files\\\\PDFs\\\\Clairville_Garet_Le_Palais_de_Chrysocale_(1855).pdf'), ('file_path', 'C:\\\\Users\\\\charl\\\\Documents\\\\VSCode\\\\Vaudeville\\\\Files\\\\PDFs\\\\Clairville_Garet_Le_Palais_de_Chrysocale_(1855).pdf'), ('page', 2), ('total_pages', 14), ('Author', 'Clairville (M.)'), ('ModDate', \"D:20250624190059-04'00'\"), ('Producer', 'Google Books PDF Converter (rel 3 12/12/14)'), ('Title', 'Le palais de chrysocale ou les exposants et les exposés'), ('source', 'C:\\\\Users\\\\charl\\\\Documents\\\\VSCode\\\\Vaudeville\\\\Files\\\\PDFs\\\\Clairville_Garet_Le_Palais_de_Chrysocale_(1855).pdf'), ('file_path', 'C:\\\\Users\\\\charl\\\\Documents\\\\VSCode\\\\Vaudeville\\\\Files\\\\PDFs\\\\Clairville_Garet_Le_Palais_de_Chrysocale_(1855).pdf'), ('page', 3), ('total_pages', 14), ('Author', 'Clairville (M.)'), ('ModDate', \"D:20250624190059-04'00'\"), ('Producer', 'Google Books PDF Converter (rel 3 12/12/14)'), ('Title', 'Le palais de chrysocale ou les exposants et les exposés'), ('source', 'C:\\\\Users\\\\charl\\\\Documents\\\\VSCode\\\\Vaudeville\\\\Files\\\\PDFs\\\\Clairville_Garet_Le_Palais_de_Chrysocale_(1855).pdf'), ('file_path', 'C:\\\\Users\\\\charl\\\\Documents\\\\VSCode\\\\Vaudeville\\\\Files\\\\PDFs\\\\Clairville_Garet_Le_Palais_de_Chrysocale_(1855).pdf'), ('page', 4), ('total_pages', 14), ('Author', 'Clairville (M.)'), ('ModDate', \"D:20250624190059-04'00'\"), ('Producer', 'Google Books PDF Converter (rel 3 12/12/14)'), ('Title', 'Le palais de chrysocale ou les exposants et les exposés'), ('source', 'C:\\\\Users\\\\charl\\\\Documents\\\\VSCode\\\\Vaudeville\\\\Files\\\\PDFs\\\\Clairville_Garet_Le_Palais_de_Chrysocale_(1855).pdf'), ('file_path', 'C:\\\\Users\\\\charl\\\\Documents\\\\VSCode\\\\Vaudeville\\\\Files\\\\PDFs\\\\Clairville_Garet_Le_Palais_de_Chrysocale_(1855).pdf'), ('page', 5), ('total_pages', 14), ('Author', 'Clairville (M.)'), ('ModDate', \"D:20250624190059-04'00'\"), ('Producer', 'Google Books PDF Converter (rel 3 12/12/14)'), ('Title', 'Le palais de chrysocale ou les exposants et les exposés'), ('source', 'C:\\\\Users\\\\charl\\\\Documents\\\\VSCode\\\\Vaudeville\\\\Files\\\\PDFs\\\\Clairville_Garet_Le_Palais_de_Chrysocale_(1855).pdf'), ('file_path', 'C:\\\\Users\\\\charl\\\\Documents\\\\VSCode\\\\Vaudeville\\\\Files\\\\PDFs\\\\Clairville_Garet_Le_Palais_de_Chrysocale_(1855).pdf'), ('page', 6), ('total_pages', 14), ('Author', 'Clairville (M.)'), ('ModDate', \"D:20250624190059-04'00'\"), ('Producer', 'Google Books PDF Converter (rel 3 12/12/14)'), ('Title', 'Le palais de chrysocale ou les exposants et les exposés'), ('source', 'C:\\\\Users\\\\charl\\\\Documents\\\\VSCode\\\\Vaudeville\\\\Files\\\\PDFs\\\\Clairville_Garet_Le_Palais_de_Chrysocale_(1855).pdf'), ('file_path', 'C:\\\\Users\\\\charl\\\\Documents\\\\VSCode\\\\Vaudeville\\\\Files\\\\PDFs\\\\Clairville_Garet_Le_Palais_de_Chrysocale_(1855).pdf'), ('page', 7), ('total_pages', 14), ('Author', 'Clairville (M.)'), ('ModDate', \"D:20250624190059-04'00'\"), ('Producer', 'Google Books PDF Converter (rel 3 12/12/14)'), ('Title', 'Le palais de chrysocale ou les exposants et les exposés'), ('source', 'C:\\\\Users\\\\charl\\\\Documents\\\\VSCode\\\\Vaudeville\\\\Files\\\\PDFs\\\\Clairville_Garet_Le_Palais_de_Chrysocale_(1855).pdf'), ('file_path', 'C:\\\\Users\\\\charl\\\\Documents\\\\VSCode\\\\Vaudeville\\\\Files\\\\PDFs\\\\Clairville_Garet_Le_Palais_de_Chrysocale_(1855).pdf'), ('page', 8), ('total_pages', 14), ('Author', 'Clairville (M.)'), ('ModDate', \"D:20250624190059-04'00'\"), ('Producer', 'Google Books PDF Converter (rel 3 12/12/14)'), ('Title', 'Le palais de chrysocale ou les exposants et les exposés'), ('source', 'C:\\\\Users\\\\charl\\\\Documents\\\\VSCode\\\\Vaudeville\\\\Files\\\\PDFs\\\\Clairville_Garet_Le_Palais_de_Chrysocale_(1855).pdf'), ('file_path', 'C:\\\\Users\\\\charl\\\\Documents\\\\VSCode\\\\Vaudeville\\\\Files\\\\PDFs\\\\Clairville_Garet_Le_Palais_de_Chrysocale_(1855).pdf'), ('page', 9), ('total_pages', 14), ('Author', 'Clairville (M.)'), ('ModDate', \"D:20250624190059-04'00'\"), ('Producer', 'Google Books PDF Converter (rel 3 12/12/14)'), ('Title', 'Le palais de chrysocale ou les exposants et les exposés'), ('source', 'C:\\\\Users\\\\charl\\\\Documents\\\\VSCode\\\\Vaudeville\\\\Files\\\\PDFs\\\\Clairville_Garet_Le_Palais_de_Chrysocale_(1855).pdf'), ('file_path', 'C:\\\\Users\\\\charl\\\\Documents\\\\VSCode\\\\Vaudeville\\\\Files\\\\PDFs\\\\Clairville_Garet_Le_Palais_de_Chrysocale_(1855).pdf'), ('page', 10), ('total_pages', 14), ('Author', 'Clairville (M.)'), ('ModDate', \"D:20250624190059-04'00'\"), ('Producer', 'Google Books PDF Converter (rel 3 12/12/14)'), ('Title', 'Le palais de chrysocale ou les exposants et les exposés'), ('source', 'C:\\\\Users\\\\charl\\\\Documents\\\\VSCode\\\\Vaudeville\\\\Files\\\\PDFs\\\\Clairville_Garet_Le_Palais_de_Chrysocale_(1855).pdf'), ('file_path', 'C:\\\\Users\\\\charl\\\\Documents\\\\VSCode\\\\Vaudeville\\\\Files\\\\PDFs\\\\Clairville_Garet_Le_Palais_de_Chrysocale_(1855).pdf'), ('page', 11), ('total_pages', 14), ('Author', 'Clairville (M.)'), ('ModDate', \"D:20250624190059-04'00'\"), ('Producer', 'Google Books PDF Converter (rel 3 12/12/14)'), ('Title', 'Le palais de chrysocale ou les exposants et les exposés'), ('source', 'C:\\\\Users\\\\charl\\\\Documents\\\\VSCode\\\\Vaudeville\\\\Files\\\\PDFs\\\\Clairville_Garet_Le_Palais_de_Chrysocale_(1855).pdf'), ('file_path', 'C:\\\\Users\\\\charl\\\\Documents\\\\VSCode\\\\Vaudeville\\\\Files\\\\PDFs\\\\Clairville_Garet_Le_Palais_de_Chrysocale_(1855).pdf'), ('page', 12), ('total_pages', 14), ('Author', 'Clairville (M.)'), ('ModDate', \"D:20250624190059-04'00'\"), ('Producer', 'Google Books PDF Converter (rel 3 12/12/14)'), ('Title', 'Le palais de chrysocale ou les exposants et les exposés'), ('source', 'C:\\\\Users\\\\charl\\\\Documents\\\\VSCode\\\\Vaudeville\\\\Files\\\\PDFs\\\\Clairville_Garet_Le_Palais_de_Chrysocale_(1855).pdf'), ('file_path', 'C:\\\\Users\\\\charl\\\\Documents\\\\VSCode\\\\Vaudeville\\\\Files\\\\PDFs\\\\Clairville_Garet_Le_Palais_de_Chrysocale_(1855).pdf'), ('page', 13), ('total_pages', 14), ('Author', 'Clairville (M.)'), ('ModDate', \"D:20250624190059-04'00'\"), ('Producer', 'Google Books PDF Converter (rel 3 12/12/14)'), ('Title', 'Le palais de chrysocale ou les exposants et les exposés')]\n"
     ]
    }
   ],
   "source": [
    "# Check PDF metadata\n",
    "for i in range(3):\n",
    "    document = loaded_PDFs[i]\n",
    "    print(f\"Document {i} \\n\")\n",
    "    document_metadata: list = []\n",
    "    for document_page in document:\n",
    "        document_metadata += document_page.metadata.items()\n",
    "    print(document_metadata)"
   ]
  },
  {
   "cell_type": "markdown",
   "id": "41b3f8eb",
   "metadata": {},
   "source": [
    "So, some of this info is useful and some isn't.\n",
    "\n",
    "We should keep:\n",
    "* Source (but clean it so it's just the filename)\n",
    "* Filepath\n",
    "* Page\n",
    "* Total pages\n",
    "* Creator\n",
    "* Title\n",
    "\n",
    "We should remove:\n",
    "* CreationDate (the date it was turned to pdf is not relevant)\n",
    "* ModDate\n",
    "* Producer\n",
    "\n",
    "We also want to add the CSV metadata in as extra rows in the metadata dictionary"
   ]
  },
  {
   "cell_type": "code",
   "execution_count": 17,
   "id": "e0981b1b",
   "metadata": {},
   "outputs": [
    {
     "name": "stderr",
     "output_type": "stream",
     "text": [
      "<>:4: SyntaxWarning: invalid escape sequence '\\P'\n",
      "<>:4: SyntaxWarning: invalid escape sequence '\\P'\n",
      "C:\\Users\\charl\\AppData\\Local\\Temp\\ipykernel_37468\\1981925325.py:4: SyntaxWarning: invalid escape sequence '\\P'\n",
      "  page.metadata['source'] = page.metadata['source'].replace(\"C:\\\\Users\\\\charl\\\\Documents\\\\VSCode\\\\Vaudeville\\\\Files\\PDFs\\\\\",\"\")\n"
     ]
    }
   ],
   "source": [
    "# Cleaning the sources to match with the CSV source names\n",
    "for source in loaded_PDFs:\n",
    "    for page in source:\n",
    "        page.metadata['source'] = page.metadata['source'].replace(\"C:\\\\Users\\\\charl\\\\Documents\\\\VSCode\\\\Vaudeville\\\\Files\\PDFs\\\\\",\"\")"
   ]
  },
  {
   "cell_type": "code",
   "execution_count": 18,
   "id": "523ed3b9",
   "metadata": {},
   "outputs": [],
   "source": [
    "# Sorting both the CSV and PDF metadata to match\n",
    "csv_metadata.sort(key=lambda x: x.metadata['source'])\n",
    "loaded_PDFs.sort(key=lambda x: x[0].metadata['source'])"
   ]
  },
  {
   "cell_type": "code",
   "execution_count": 19,
   "id": "8701f5f8",
   "metadata": {},
   "outputs": [],
   "source": [
    "# Use assert to ensure the sources match\n",
    "for i in range(32,len(csv_metadata)):\n",
    "    assert csv_metadata[i].metadata['source'] == loaded_PDFs[i][0].metadata['source'], f\"Mismatch at index {i}: {csv_metadata[i].metadata['source']} != {loaded_PDFs[i][0].metadata['source']}\""
   ]
  },
  {
   "cell_type": "markdown",
   "id": "dea387c1",
   "metadata": {},
   "source": [
    "I had to change the lower index because there were various slight mismatches, but we've checked that all files are actually the same so we're moving on."
   ]
  },
  {
   "cell_type": "markdown",
   "id": "1a5dcdcf",
   "metadata": {},
   "source": [
    "#### Cleaning PDF Metadata and Adding CSV Content"
   ]
  },
  {
   "cell_type": "markdown",
   "id": "a4f7e272",
   "metadata": {},
   "source": [
    "We should remove:\n",
    "* CreationDate (the date it was turned to pdf is not relevant)\n",
    "* ModDate\n",
    "* Producer"
   ]
  },
  {
   "cell_type": "code",
   "execution_count": 20,
   "id": "f07b78c2",
   "metadata": {},
   "outputs": [
    {
     "name": "stdout",
     "output_type": "stream",
     "text": [
      "35\n",
      "35\n"
     ]
    }
   ],
   "source": [
    "print(len(csv_metadata))\n",
    "print(len(loaded_PDFs))"
   ]
  },
  {
   "cell_type": "code",
   "execution_count": 21,
   "id": "b3c20c6f",
   "metadata": {},
   "outputs": [],
   "source": [
    "irrelevant_metadata = ['CreationDate', 'ModDate', 'Producer']\n",
    "\n",
    "for i in range(len(loaded_PDFs)):\n",
    "    document = loaded_PDFs[i]\n",
    "    for page in document:\n",
    "        for key in irrelevant_metadata:\n",
    "            if key in page.metadata:\n",
    "                del page.metadata[key]\n",
    "        # Add the category and year from the CSV metadata\n",
    "        # assert page.metadata['source'] == csv_metadata[i].metadata['source'], \"Source mismatch between PDF and CSV metadata\"\n",
    "        for row in csv_metadata[i].metadata.items():\n",
    "            page.metadata.update({row[0]: row[1]})"
   ]
  },
  {
   "cell_type": "code",
   "execution_count": 22,
   "id": "79b9ec67",
   "metadata": {},
   "outputs": [],
   "source": [
    "# Convert each sublist into a single document\n",
    "def convert_list_to_document(pages: list) -> Document:\n",
    "    document_content: str = \"\"\n",
    "    for page in pages:\n",
    "        document_content += page.page_content\n",
    "    document: Document = Document(\n",
    "        page_content=document_content,\n",
    "        metadata=pages[0].metadata  # Use the metadata from the first page\n",
    "    )\n",
    "    return document\n",
    "\n",
    "# Convert loaded PDFs to documents\n",
    "docs = []\n",
    "for source in loaded_PDFs:\n",
    "    doc = convert_list_to_document(source)\n",
    "    docs.append(doc)  # Append the single Document object"
   ]
  },
  {
   "cell_type": "code",
   "execution_count": 23,
   "id": "4dde23fb",
   "metadata": {},
   "outputs": [
    {
     "data": {
      "text/plain": [
       "Document(metadata={'source': 'Brutus_ou_le_dernier_soldat.pdf', 'file_path': 'C:\\\\Users\\\\charl\\\\Documents\\\\VSCode\\\\Vaudeville\\\\Files\\\\PDFs\\\\Brutus_ou_le_dernier_soldat.pdf', 'page': 0, 'total_pages': 47, 'row': 1, 'Year': '1843', 'Work': 'Brutus ou le dernier soldat du guet', 'Theatre': 'Théâtre du Vaudeville'}, page_content='\\n\\n\\n\\n\\n\\n\\n\\n\\n\\n\\n\\n\\n\\n\\n\\n\\n\\n\\n\\n\\n\\n\\n\\n\\n\\n\\n\\n\\n\\n\\n\\n\\n\\n\\n\\n\\n\\n\\n\\n\\n\\n\\n\\n\\n\\n\\n')"
      ]
     },
     "execution_count": 23,
     "metadata": {},
     "output_type": "execute_result"
    }
   ],
   "source": [
    "docs.pop(0)  # Remove the first document because it rendered as empty\n",
    "docs.pop(0)  # Remove the second document because it rendered as empty\n",
    "# To get these working, we'll have to OCR them first."
   ]
  },
  {
   "cell_type": "code",
   "execution_count": 24,
   "id": "b33ec257",
   "metadata": {},
   "outputs": [
    {
     "name": "stdout",
     "output_type": "stream",
     "text": [
      "Document 0 Metadata: {'source': 'Clairville_Garet_Le_Palais_de_Chrysocale_(1855).pdf', 'file_path': 'C:\\\\Users\\\\charl\\\\Documents\\\\VSCode\\\\Vaudeville\\\\Files\\\\PDFs\\\\Clairville_Garet_Le_Palais_de_Chrysocale_(1855).pdf', 'page': 0, 'total_pages': 14, 'Author': 'Clairville (M.)', 'Title': 'Le palais de chrysocale ou les exposants et les exposés', 'row': 2, 'Year': '1855', 'Work': 'Le Palais de Chrysocale', 'Theatre': 'Théâtre des Variétés'}\n",
      "Document 1 Metadata: {'source': 'Clairville_Thiboust_Le_quart_du_monde_(1855).pdf', 'file_path': 'C:\\\\Users\\\\charl\\\\Documents\\\\VSCode\\\\Vaudeville\\\\Files\\\\PDFs\\\\Clairville_Thiboust_Le_quart_du_monde_(1855).pdf', 'page': 0, 'total_pages': 10, 'Author': 'Lambert-Thiboust (1826-1867)', 'Creator': 'Bibliothèque nationale de France', 'Title': 'Le Quart de monde, ou le Danger d\\'une particulière pleine de malice pour un individu vraiment impressionnable (parodie du \"Demi-monde\"), étude réaliste mêlée de couplets et d\\'effets de style, par MM. Clairville et Lambert ...', 'row': 3, 'Year': '1855', 'Work': 'Le Quart de Monde', 'Theatre': 'Théâtre des Variétés'}\n",
      "Document 2 Metadata: {'source': 'Coraly_ou_la_soeur_et_le_Frere.pdf', 'file_path': 'C:\\\\Users\\\\charl\\\\Documents\\\\VSCode\\\\Vaudeville\\\\Files\\\\PDFs\\\\Coraly_ou_la_soeur_et_le_Frere.pdf', 'page': 0, 'total_pages': 47, 'Author': 'Eugène Scribe', 'Title': 'Coraly, ou la soeur et le Frere, comedie-vaudeville en 1 acte', 'row': 4, 'Year': '1824', 'Work': 'Coraly', 'Theatre': 'Théâtre du Gymnase-Dramatique'}\n",
      "Document 3 Metadata: {'source': 'D_Aranda_ou_les_grandes_passions_comédi_p_19.pdf', 'file_path': 'C:\\\\Users\\\\charl\\\\Documents\\\\VSCode\\\\Vaudeville\\\\Files\\\\PDFs\\\\D_Aranda_ou_les_grandes_passions_comédi_p_19.pdf', 'page': 0, 'total_pages': 28, 'Author': 'Eugène Scribe', 'Title': \"D'Aranda ou les grandes passions, comédie-vaudeville en deux actes, de E. Scribe, Représentée pour la première fois, sur le théâtre du Gymnase-Dramatique, le 6 avril 1847\", 'row': 5, 'Year': '1847', 'Work': 'D’Aranda', 'Theatre': 'Théâtre du Gymnase-Dramatique'}\n",
      "Document 4 Metadata: {'source': 'Dupin_Dumanoir_La_toque_bleue_(1834).pdf', 'file_path': 'C:\\\\Users\\\\charl\\\\Documents\\\\VSCode\\\\Vaudeville\\\\Files\\\\PDFs\\\\Dupin_Dumanoir_La_toque_bleue_(1834).pdf', 'page': 0, 'total_pages': 16, 'Author': 'Henri Dupin, Dumanoir (M., Philippe)', 'Title': 'La toque bleue ; comedie-vaudeville en un acte', 'row': 6, 'Year': '1834', 'Work': 'La Toque bleue', 'Theatre': 'Théâtre du Gymnase-Dramatique'}\n",
      "Document 5 Metadata: {'source': 'Duval_Les_artistes_par_occasion_(1807).pdf', 'file_path': 'C:\\\\Users\\\\charl\\\\Documents\\\\VSCode\\\\Vaudeville\\\\Files\\\\PDFs\\\\Duval_Les_artistes_par_occasion_(1807).pdf', 'page': 0, 'total_pages': 40, 'Author': 'Duval, Alexandre (1767-1842)', 'Creator': 'Bibliothèque nationale de France', 'Title': \"Les artistes par occasion, ou l'Amateur de Tivoli : comédie en un acte et en prose,... [Paris, Opéra-comique, 22 février 1807.] / paroles de M. Alexandre Duval,... ; musique de M. Catel\", 'row': 7, 'Year': '1807', 'Work': 'Les Artistes par occasion', 'Theatre': 'Opéra-Comique'}\n",
      "Document 6 Metadata: {'source': 'L_apprenti_ou_l_art_de_faire_une_maître.pdf', 'file_path': 'C:\\\\Users\\\\charl\\\\Documents\\\\VSCode\\\\Vaudeville\\\\Files\\\\PDFs\\\\L_apprenti_ou_l_art_de_faire_une_maître.pdf', 'page': 0, 'total_pages': 17, 'Author': 'Théodore Cogniard', 'Title': \"L'apprenti ou l'art de faire une maîtresse\", 'row': 8, 'Year': '1834', 'Work': 'L’Apprenti', 'Theatre': 'Théâtre des Variétés'}\n",
      "Document 7 Metadata: {'source': 'L_isle_des_noirs_ou_Les_deux_ingénues.pdf', 'file_path': 'C:\\\\Users\\\\charl\\\\Documents\\\\VSCode\\\\Vaudeville\\\\Files\\\\PDFs\\\\L_isle_des_noirs_ou_Les_deux_ingénues.pdf', 'page': 0, 'total_pages': 32, 'Author': \"Armand d' Artois\", 'Title': \"L'isle des noirs, ou Les deux ingénues\", 'row': 9, 'Year': '1823', 'Work': 'Isle des noirs', 'Theatre': 'Théâtre du Vaudeville'}\n",
      "Document 8 Metadata: {'source': 'La_Dette_d_honneur.pdf', 'file_path': 'C:\\\\Users\\\\charl\\\\Documents\\\\VSCode\\\\Vaudeville\\\\Files\\\\PDFs\\\\La_Dette_d_honneur.pdf', 'page': 0, 'total_pages': 63, 'Author': 'Michel CAPUS', 'Creator': 'Microsoft® Office Word 2007', 'Title': \"De Villeneuve-Dupeuty-Langlé - La Dette d'honneur\", 'row': 10, 'Year': '1826', 'Work': 'La Dette d’honneur', 'Theatre': 'Théâtre du Vaudeville'}\n",
      "Document 9 Metadata: {'source': 'La_favorite_comedie_vaudeville_en_1_acte.pdf', 'file_path': 'C:\\\\Users\\\\charl\\\\Documents\\\\VSCode\\\\Vaudeville\\\\Files\\\\PDFs\\\\La_favorite_comedie_vaudeville_en_1_acte.pdf', 'page': 0, 'total_pages': 114, 'Author': 'Eugène Scribe', 'Title': 'La favorite, comedie-vaudeville en 1 acte', 'row': 11, 'Year': '1831', 'Work': 'La Favorite', 'Theatre': 'Théâtre du Gymnase-Dramatique'}\n"
     ]
    }
   ],
   "source": [
    "# Double check metadata\n",
    "for i in range(0,10):\n",
    "    print(f\"Document {i} Metadata: {docs[i].metadata}\")"
   ]
  },
  {
   "cell_type": "markdown",
   "id": "9037fd67",
   "metadata": {},
   "source": [
    "### Chunking Files"
   ]
  },
  {
   "cell_type": "code",
   "execution_count": 25,
   "id": "cefb36ff",
   "metadata": {},
   "outputs": [
    {
     "name": "stdout",
     "output_type": "stream",
     "text": [
      "Split 33 PDFs into 1415 sub-documents.\n"
     ]
    }
   ],
   "source": [
    "# Here, we're just splitting the documents by an arbitrary character count. \n",
    "\n",
    "text_splitter = RecursiveCharacterTextSplitter(\n",
    "    chunk_size=2000,  # chunk size (characters)\n",
    "    chunk_overlap=400,  # chunk overlap (characters)\n",
    "    add_start_index=True,  # track index in original document\n",
    ")\n",
    "all_splits = text_splitter.split_documents(docs)\n",
    "\n",
    "print(f\"Split {len(docs)} PDFs into {len(all_splits)} sub-documents.\")"
   ]
  },
  {
   "cell_type": "markdown",
   "id": "c7af950a",
   "metadata": {},
   "source": [
    "### Embedding and adding to the vector database"
   ]
  },
  {
   "cell_type": "code",
   "execution_count": 26,
   "id": "1b55be21",
   "metadata": {},
   "outputs": [
    {
     "name": "stdout",
     "output_type": "stream",
     "text": [
      "1415\n"
     ]
    }
   ],
   "source": [
    "print(len(all_splits))"
   ]
  },
  {
   "cell_type": "markdown",
   "id": "7b6bf940",
   "metadata": {},
   "source": [
    "Warning!!! Don't run this next cell more than once, even if your kernel dies or you restart VSCode. Once  these have been added to your vector store, they'll be stored in your persistent directory. If you run it again, you'll have duplicates!!"
   ]
  },
  {
   "cell_type": "code",
   "execution_count": 27,
   "id": "db179e8a",
   "metadata": {},
   "outputs": [],
   "source": [
    "from langchain_chroma import Chroma\n",
    "\n",
    "embeddings = OpenAIEmbeddings(model=\"text-embedding-3-large\")\n",
    "\n",
    "vector_store = Chroma(\n",
    "    collection_name=\"example_collection\",\n",
    "    embedding_function=embeddings,\n",
    "    persist_directory=\"./chroma_langchain_db\",  # Where we stored our data before\n",
    ")"
   ]
  },
  {
   "cell_type": "code",
   "execution_count": 28,
   "id": "5c6c5c1a",
   "metadata": {},
   "outputs": [
    {
     "data": {
      "text/plain": [
       "'\\nvector_store.add_documents(documents=all_splits[:350])\\nvector_store.add_documents(documents=all_splits[350:700])\\nvector_store.add_documents(documents=all_splits[700:1050])\\nvector_store.add_documents(documents=all_splits[1050:])\\n'"
      ]
     },
     "execution_count": 28,
     "metadata": {},
     "output_type": "execute_result"
    }
   ],
   "source": [
    "# If we run this again when reestablishing variables, it will duplicate documents and charge us\n",
    "\n",
    "# Splitting into three chunks to avoid overloading the vector store - you can only add so many documents at once\n",
    "\n",
    "# They're commented out so I don't accidentally run this again and duplicate the documents in the vector store.\n",
    "\"\"\"\n",
    "vector_store.add_documents(documents=all_splits[:350])\n",
    "vector_store.add_documents(documents=all_splits[350:700])\n",
    "vector_store.add_documents(documents=all_splits[700:1050])\n",
    "vector_store.add_documents(documents=all_splits[1050:])\n",
    "\"\"\""
   ]
  },
  {
   "cell_type": "markdown",
   "id": "974cea33",
   "metadata": {},
   "source": [
    "## Setting Up Retrieval and Generation w/ Filters"
   ]
  },
  {
   "cell_type": "markdown",
   "id": "679fdbc8",
   "metadata": {},
   "source": [
    "You'll notice that this next cell has some of the same code as above. This is because this cell sets up everything, so that if our kernel dies or if we close VSCode, we can just run this cell (and nothing above) and we'll be able to ask questions about our data. This is because our full vector store is kept locally in our directory, using its persistent directory."
   ]
  },
  {
   "cell_type": "code",
   "execution_count": 29,
   "id": "49cce979",
   "metadata": {},
   "outputs": [],
   "source": [
    "# Setting up chat model\n",
    "import getpass\n",
    "import os\n",
    "\n",
    "if not os.environ.get(\"OPENAI_API_KEY\"):\n",
    "  os.environ[\"OPENAI_API_KEY\"] = getpass.getpass(\"Enter API key for OpenAI: \")\n",
    "\n",
    "from langchain.chat_models import init_chat_model\n",
    "\n",
    "llm = init_chat_model(\"gpt-4o\", model_provider=\"openai\") # Could be any chat model. We use gpt-4o here because analyzing poetry is a pretty complex task.\n",
    "\n",
    "# Setting up embeddings\n",
    "import getpass\n",
    "import os\n",
    "\n",
    "if not os.environ.get(\"OPENAI_API_KEY\"):\n",
    "  os.environ[\"OPENAI_API_KEY\"] = getpass.getpass(\"Enter API key for OpenAI: \")\n",
    "\n",
    "from langchain_openai import OpenAIEmbeddings\n",
    "\n",
    "embeddings = OpenAIEmbeddings(model=\"text-embedding-3-large\")\n",
    "\n",
    "# Reestablishing up our persist directory for Chroma\n",
    "from langchain_chroma import Chroma\n",
    "\n",
    "vector_store = Chroma(\n",
    "    collection_name=\"example_collection\",\n",
    "    embedding_function=embeddings,\n",
    "    persist_directory=\"./chroma_langchain_db\",  # This is reused from above, but reestablishes our vector store if we only run this cell.\n",
    ")\n",
    "\n",
    "# Reestablishing retrieval and generation functions\n",
    "from langchain_core.documents import Document\n",
    "from typing_extensions import List, TypedDict, Optional\n",
    "from langchain_core.prompts import ChatPromptTemplate\n",
    "\n",
    "\n",
    "# This is where we set up our system prompt (tell the llm its job), and the format for our question and context.\n",
    "prompt = ChatPromptTemplate.from_messages([\n",
    "    (\"system\", 'You are an expert in French musical theatre and opera of the 19th century.  You will help us explore the texts (librettos) of vaudevilles, which are dramatic productions that include periodic musical numbers, which might be songs, choruses, instrumental dances, and other sonic events. \\n '\n",
    "    'Many of these musical moments reuse some preexisting (and often well-known)  melody or tune.  These are variously called “melodie”, or “air”, and identified with a short title that refers in some way to an opera or collection of melodies from which it was drawn.  The titles might include the names of works, or other characters in those original works. '\n",
    "    '\\n In the context of the plays, these tunes become the vehicle for newly composed lyrics, which are normally rhymed, and which normally follow the poetic scansion and structure of the original lyrics.  Rhyme, versification and structure are thus of interest to us. \\n Keep the following attributes in mind as you answer questions based on the texts provided:'\n",
    "    '-the act and scene in which the event takes place'\n",
    "    '-the character or characters who are singing (or otherwise making music),'\n",
    "    '-the dramatic situation (a love scene, a crowd scene)'\n",
    "    '-the name of the air or melodie'\n",
    "    '-the poetic text'\n",
    "    '-the rhyme scheme'\n",
    "    '-form of the poetic text, which might involve some refrain'\n",
    "    '-the end accent for each line (masculine or féminine)'\n",
    "    '-syllable count for each line'\n",
    "    '-any irregularities you notice'\n",
    "    'If you cannot find the answers for anything within the context provided, state \"I dont know\" or similar - do not make assumptions beyond what is actually in the context.\\n\\n'),\n",
    "    (\"human\", \"Context:\\n{context}\\n\\nQuestion: {question}\")\n",
    "])\n",
    "\n",
    "# This stores the state of our application, which includes the question, filter, context, and answer. It is required to use langgraph, and is the sole argument of all steps.\n",
    "class State(TypedDict):\n",
    "    question: str\n",
    "    filter: Optional[dict]\n",
    "    context: List[Document]\n",
    "    answer: str\n",
    "\n",
    "# These are all nodes in our graph, or steps. This one allows you to apply a metadata filter to the documents in the vector store.\n",
    "def apply_filter(state: State):\n",
    "    if \"filter\" in state and state[\"filter\"]:\n",
    "        state[\"filter\"] = {k: v for k, v in state[\"filter\"].items() if v is not None}\n",
    "    else:\n",
    "        state[\"filter\"] = None\n",
    "    return state\n",
    "\n",
    "# Uses similarity search to retrieve the 15 most similar documents to the question from the vector store, applying any filter if provided. The k value determines the number of documents.\n",
    "def retrieve(state: State):\n",
    "    filter_dict = state[\"filter\"] if state.get(\"filter\") else None\n",
    "    retrieved_docs = vector_store.similarity_search(state[\"question\"], k=15, filter=filter_dict)\n",
    "    return {\"context\": retrieved_docs}\n",
    "\n",
    "# Generates an answer to the question using the retrieved context. It formats the context and question into a message, invokes the LLM, and returns the answer.\n",
    "def generate(state: State):\n",
    "    docs_content = \"\"\n",
    "    for doc in state[\"context\"]:\n",
    "        docs_content += f\"The following text is a chunk from document titled: {doc.metadata[\"Work\"]}. There are a total of {doc.metadata[\"total_pages\"]} pages in this play. \\n\"\n",
    "        docs_content += doc.page_content + \"\\n\\n\"\n",
    "    message = prompt.invoke({\"question\": state[\"question\"], \"context\": docs_content})\n",
    "    response = llm.invoke(message)\n",
    "    return {\"answer\": response.content}\n",
    "\n",
    "# Setting up the sequence of the graph. \n",
    "from langgraph.graph import START, StateGraph\n",
    "\n",
    "graph_builder = StateGraph(State).add_sequence([apply_filter, retrieve, generate])\n",
    "graph_builder.add_edge(START, \"apply_filter\")\n",
    "graph = graph_builder.compile()"
   ]
  },
  {
   "cell_type": "code",
   "execution_count": 30,
   "id": "8b9f712f",
   "metadata": {},
   "outputs": [],
   "source": [
    "def analyze_play(i: int):\n",
    "\n",
    "    if i < 0 or i >= len(docs):\n",
    "        raise ValueError(\"Index out of range for the documents list.\")\n",
    "    \n",
    "    # Apply the graph to the state\n",
    "    message = prompt.invoke({\"question\": \"Analyze this play according to the system prompt.\", \"context\": docs[i].page_content})\n",
    "    return llm.invoke(message).content\n"
   ]
  },
  {
   "cell_type": "markdown",
   "id": "6b094069",
   "metadata": {},
   "source": [
    "## Testing"
   ]
  },
  {
   "cell_type": "markdown",
   "id": "48f3a6a3",
   "metadata": {},
   "source": [
    "The full setup is done and now we can test. As you'll see, since there are so many chunks it has trouble pulling accurate ones, so the LLM gets confused. Thus, we add in another node to check the accuracy of documents before sending them below. You can then see that the query is more accurate."
   ]
  },
  {
   "cell_type": "code",
   "execution_count": 31,
   "id": "00584004",
   "metadata": {},
   "outputs": [
    {
     "name": "stdout",
     "output_type": "stream",
     "text": [
      "Answer: In \"Un Docteur en Herbe,\" we are dealing with a vaudeville, a comedic play that incorporates songs and musical elements. Let me address the elements you've asked for:\n",
      "\n",
      "**Act and Scene:** The provided excerpts span across various scenes from the play's two acts. Specific scenes mentioned include Act I, Scene I to Act II, Scene XVI.\n",
      "\n",
      "**Characters:** Some of the prominent characters are:\n",
      "- Derbigny, a father figure\n",
      "- Isidore, his son and a central character in comedic scenarios\n",
      "- Lambert, a young doctor\n",
      "- Delapierre Meulière, another older character\n",
      "- Pauline, a young woman of interest, possibly a love interest for Isidore\n",
      "- Pamela, a grisette with connections to the characters\n",
      "- Other characters include townspeople and minor roles.\n",
      "\n",
      "**Dramatic Situations:** \n",
      "- Isidore's preparation for an examination and the comedic mishaps that follow.\n",
      "- Love and flirtatious moments, like Isidore's interactions with Pauline.\n",
      "- Moments of misunderstanding, comical confrontations, and reconciliations, often involving physical comedy or melodramatic expressions.\n",
      "\n",
      "**Musical Elements and Airs:**\n",
      "- Various \"airs\" or known melodies might be referred to, such as \"AIR Ne vois-tu pas, jeune imprudent,\" used for a specific scene involving Derbigny and others.\n",
      "\n",
      "**Poetic Text:**\n",
      "- There are refrains and songs within the dialogue. For instance, at the end of Act I, there is a choral piece mentioned which uses the melody of \"Ociel! quelle aventure!\" \n",
      "\n",
      "**Rhyme Scheme and Versification:** \n",
      "- The exact rhyme scheme isn't detailed in the provided excerpts, but French vaudevilles often use couplets or quatrains with consistent rhyme and meter.\n",
      "\n",
      "**End Accent and Syllable Count:**\n",
      "- Given it is French, there is often a mix of masculine and feminine rhymes, seen in classical French versification, although specific examples need analysis in the full text.\n",
      "\n",
      "**Irregularities:**\n",
      "- The typical comedic timing and delivery often create fluctuations in strict poetic form for effect.\n",
      "\n",
      "Overall, \"Un Docteur en Herbe\" mixes humor, social commentary, and musical elements typical of 19th-century French vaudeville, with a premise that supports comedic misunderstandings and resolutions.\n",
      "\n",
      "\n",
      "Sources:\n",
      "Source 1: Un_docteur_en_herbe.pdf\n",
      "Source 2: Un_docteur_en_herbe.pdf\n",
      "Source 3: Ohé_Les_p_tits_agneaux_revue.pdf\n",
      "Source 4: Ohé_Les_p_tits_agneaux_revue.pdf\n",
      "Source 5: Un_docteur_en_herbe.pdf\n",
      "Source 6: Un_docteur_en_herbe.pdf\n",
      "Source 7: Ohé_Les_p_tits_agneaux_revue.pdf\n",
      "Source 8: Un_docteur_en_herbe.pdf\n",
      "Source 9: Un_docteur_en_herbe.pdf\n",
      "Source 10: Un_docteur_en_herbe.pdf\n",
      "Source 11: Un_docteur_en_herbe.pdf\n",
      "Source 12: Un_docteur_en_herbe.pdf\n",
      "Source 13: Un_docteur_en_herbe.pdf\n",
      "Source 14: Un_docteur_en_herbe.pdf\n",
      "Source 15: Un_docteur_en_herbe.pdf\n"
     ]
    }
   ],
   "source": [
    "result = graph.invoke({\"question\": \"Tell me about the elements of Un Docteur en Herbe\"})\n",
    "\n",
    "print(f'Answer: {result[\"answer\"]}')\n",
    "print(\"\\n\\nSources:\")\n",
    "for i, source in enumerate(result[\"context\"]):\n",
    "    print(f'Source {i+1}: {source.metadata[\"source\"]}')"
   ]
  },
  {
   "cell_type": "code",
   "execution_count": 32,
   "id": "8eeb72c1",
   "metadata": {},
   "outputs": [
    {
     "name": "stdout",
     "output_type": "stream",
     "text": [
      "Answer: \"Un Docteur en Herbe\" is a comédie-vaudeville in two acts by MM. Duvert et Lausanne. It premiered at the Théâtre du Palais-Royal in Paris on April 1, 1847. Here's a breakdown of its elements based on the provided excerpts:\n",
      "\n",
      "1. **Act and Scene Structure:**\n",
      "   - The play is divided into two acts. The excerpts provide insights into scenes spanning across both acts.\n",
      "\n",
      "2. **Characters:**\n",
      "   - **Derbigny:** A character who appears to be authoritative and possibly a father figure, reminding Isidore about his exam.\n",
      "   - **Isidore:** A young character, Derbigny's son, portrayed as somewhat careless and naive.\n",
      "   - **Lambert:** A young doctor, friend to Isidore, with a somewhat playful and humorous disposition.\n",
      "   - **Delapierre Meulière:** Another character involved in a subplot involving unions and dowry.\n",
      "   - **Pauline:** A young woman of 17, associated with Isidore.\n",
      "   - **Paméla:** Described as a \"grisette,\" a term for a young working-class woman.\n",
      "\n",
      "3. **Dramatic Situations:**\n",
      "   - The play appears to revolve around familial dynamics, love interests, comedic misunderstandings, and preparations for examinations, with elements of social and romantic conflict.\n",
      "\n",
      "4. **Musical Elements:**\n",
      "   - Songs and airs are integral, with at least one air titled \"Ne vois-tu pas, jeune imprudent,\" providing moments of musical relief and furthering character interactions.\n",
      "\n",
      "5. **Poetic Text and Rhyme Scheme:**\n",
      "   - The dialogue includes rhymed songs such as the one sung to the air \"Ne vois-tu pas, jeune imprudent,\" with recognizable rhyme schemes and versification, although specific rhyme schemes are difficult to determine without full lyrical excerpts.\n",
      "\n",
      "6. **Form and Refrain:**\n",
      "   - The poetic text seems to employ refrains, underlined by the presence of ensemble singing and choruses, which is characteristic of vaudeville.\n",
      "\n",
      "7. **End Accent and Syllable Count:**\n",
      "   - Detailed analysis of end accents and syllable count requires the full poetic text for accuracy.\n",
      "\n",
      "8. **Irregularities:**\n",
      "   - The play employs comedic misunderstandings and character misconceptions to drive the narrative, such as Lambert's playful deception about his identity to a \"princess.\"\n",
      "\n",
      "Overall, \"Un Docteur en Herbe\" utilizes typical elements of comedic vaudeville with a combination of music, humorous misunderstanding, and social commentary dispersed throughout its narrative.\n",
      "\n",
      "\n",
      "Sources:\n",
      "Source 1: Un_docteur_en_herbe.pdf\n",
      "Source 2: Un_docteur_en_herbe.pdf\n",
      "Source 3: Un_docteur_en_herbe.pdf\n",
      "Source 4: Un_docteur_en_herbe.pdf\n",
      "Source 5: Un_docteur_en_herbe.pdf\n",
      "Source 6: Un_docteur_en_herbe.pdf\n",
      "Source 7: Un_docteur_en_herbe.pdf\n",
      "Source 8: Un_docteur_en_herbe.pdf\n",
      "Source 9: Un_docteur_en_herbe.pdf\n",
      "Source 10: Un_docteur_en_herbe.pdf\n",
      "Source 11: Un_docteur_en_herbe.pdf\n",
      "Source 12: Un_docteur_en_herbe.pdf\n",
      "Source 13: Un_docteur_en_herbe.pdf\n",
      "Source 14: Un_docteur_en_herbe.pdf\n",
      "Source 15: Un_docteur_en_herbe.pdf\n"
     ]
    }
   ],
   "source": [
    "result = graph.invoke({\"question\": \"Tell me about the elements of Un Docteur en Herbe\",\n",
    "                       \"filter\": {\"Work\": \"Un Docteur en herbe\"}})\n",
    "\n",
    "print(f'Answer: {result[\"answer\"]}')\n",
    "print(\"\\n\\nSources:\")\n",
    "for i, source in enumerate(result[\"context\"]):\n",
    "    print(f'Source {i+1}: {source.metadata[\"source\"]}')"
   ]
  },
  {
   "cell_type": "code",
   "execution_count": 33,
   "id": "1d038126",
   "metadata": {},
   "outputs": [
    {
     "name": "stdout",
     "output_type": "stream",
     "text": [
      "Answer: Comparing \"Un Docteur en Herbe\" to \"Les Artistes par occasion\" provides us insight into the typical structure and thematic elements of 19th-century French vaudeville. \n",
      "\n",
      "1. **Structure and Setting:**\n",
      "   - \"Un Docteur en Herbe\" is a two-act vaudeville that takes place in different settings: an inn in Paris for the first act and Derbigny's home in Briare for the second act. This shift in location might represent a change in the social environment or the escalation of the dramatic narrative.\n",
      "   - \"Les Artistes par occasion,\" on the other hand, is a one-act comedy set in Tivoli, in the outskirts of Rome. The setting is an extensive, picturesque garden, indicative of an open and airy setting that may support more lighthearted or sentimental scenes.\n",
      "\n",
      "2. **Characters and Roles:**\n",
      "   - In \"Un Docteur en Herbe,\" the distribution of roles includes various members from different generations and engages in familial and romantic conflict. We observe characters like Derbigny, his son Isidore, and acquaintances like Lambert, creating a domestic and almost familial dynamic.\n",
      "   - \"Les Artistes par occasion\" includes characters such as Élénore, a young widow, and Zerbina, her maid. The dynamic here appears more focused on romance and possibly intrigue with characters like Delmonte and the amateur Fomboni, suggesting a format involved with mistaken identities or romantic entanglements.\n",
      "\n",
      "3. **Music and Dramatic Situations:**\n",
      "   - In \"Un Docteur en Herbe,\" music is heavily intertwined with the narrative. For example, the song \"AIR Ne vois-tu pas, jeune imprudent\" is incorporated into the dialogue, reflecting on youth and forgiveness, which aligns with the dramatic context of reconciling youthful folly with adult responsibilities.\n",
      "   - In \"Les Artistes par occasion,\" music such as ariettes plays a vital role with Élénore singing while playing the harp. This denotes a reflective and perhaps emotional character moment, suggesting that songs here may be used to express deeper emotional or romantic themes.\n",
      "\n",
      "4. **Themes and Motifs:**\n",
      "   - \"Un Docteur en Herbe\" seems to focus on themes of youth, education, romantic entanglements, and generational differences. Isidore's character is particularly highlighted as being torn between his father’s expectations and his desires, leading to comedic and tense situations.\n",
      "   - \"Les Artistes par occasion\" is likely to lean more towards romantic or self-reflective themes given the melancholic romance sung by Élénore and the character dynamics involving an amateur and renowned artists.\n",
      "\n",
      "5. **Dramatic Techniques and Language:**\n",
      "   - \"Un Docteur en Herbe\" uses a blend of dialogue and musical interjections to drive the narrative and provide comedic relief, particularly through Isidore's naive character.\n",
      "   - The language in \"Les Artistes par occasion\" is likely to be more conversational, mingling prose with musical performance, as indicated by the reference to \"comédie en prose,\" suggesting the usage of every-day language to express characters' thoughts and emotions.\n",
      "\n",
      "In conclusion, both plays utilize music and a mixed dramatic format typical of vaudeville, but they emphasize different settings, themes, and character dynamics to engage their audience. \"Un Docteur en Herbe\" leans towards familial and societal expectations while \"Les Artistes par occasion\" may delve more into artistic and romantic experimentation.\n",
      "\n",
      "\n",
      "Sources:\n",
      "Source 1: Un_docteur_en_herbe.pdf\n",
      "Source 2: Un_docteur_en_herbe.pdf\n",
      "Source 3: Un_docteur_en_herbe.pdf\n",
      "Source 4: Un_docteur_en_herbe.pdf\n",
      "Source 5: Un_docteur_en_herbe.pdf\n",
      "Source 6: Duval_Les_artistes_par_occasion_(1807).pdf\n",
      "Source 7: Un_docteur_en_herbe.pdf\n",
      "Source 8: Un_docteur_en_herbe.pdf\n",
      "Source 9: Duval_Les_artistes_par_occasion_(1807).pdf\n",
      "Source 10: Un_docteur_en_herbe.pdf\n",
      "Source 11: Un_docteur_en_herbe.pdf\n",
      "Source 12: Un_docteur_en_herbe.pdf\n",
      "Source 13: Un_docteur_en_herbe.pdf\n",
      "Source 14: Un_docteur_en_herbe.pdf\n",
      "Source 15: Un_docteur_en_herbe.pdf\n"
     ]
    }
   ],
   "source": [
    "result = graph.invoke({\"question\": \"Compare Un Docteur en Herbe to Les Artistes par occasion.\",\n",
    "                       \"filter\": {\"$or\": [{\"Work\": \"Un Docteur en herbe\"},{\"Work\": \"Les Artistes par occasion\"}]}})\n",
    "\n",
    "print(f'Answer: {result[\"answer\"]}')\n",
    "print(\"\\n\\nSources:\")\n",
    "for i, source in enumerate(result[\"context\"]):\n",
    "    print(f'Source {i+1}: {source.metadata[\"source\"]}')"
   ]
  },
  {
   "cell_type": "code",
   "execution_count": 34,
   "id": "5029b148",
   "metadata": {},
   "outputs": [
    {
     "name": "stdout",
     "output_type": "stream",
     "text": [
      "Answer: To intelligently compare the elements of \"Un Docteur en Herbe\" to \"Les Artistes par Occasion\", let's focus on the structural and thematic facets, including characters, dramatic situations, and musical aspects as expressed through the librettos provided:\n",
      "\n",
      "1. **Structure and Scenes:**\n",
      "   - \"Un Docteur en Herbe\" is a comédie-vaudeville in two acts. Scenes involve domestic interiors like hotel rooms and homes. The play mixes comedy with everyday relational and societal conflicts, notably concerning education and professional expectations.\n",
      "   - \"Les Artistes par Occasion\" is a comedic piece in one act interspersed with ariettes, a type of short opera piece. It involves a setting in a picturesque Italian garden, using a lighter and more romantic tone focusing on artistic enthusiasts.\n",
      "\n",
      "2. **Characters:**\n",
      "   - In \"Un Docteur en Herbe\", characters include Derbigny, Isidore, and Lambert, with roles revolving around family, expectations, and youthful misadventures in professional realms like law and medicine.\n",
      "   - \"Les Artistes par Occasion\" features characters such as Fomboni, Delmonte, and Pedro—actors or artists highlighted for their engagement with creative arts and humorous deception regarding identities as prominent figures.\n",
      "\n",
      "3. **Dramatic Situations:**\n",
      "   - \"Un Docteur en Herbe\" portrays situations related to parental expectations, academic pursuits, and social interactions, with humor often derived from misunderstandings or youthful indiscretions.\n",
      "   - \"Les Artistes par Occasion\" presents situations revolving around mistaken identities, artistic pretensions, and humorous social exchanges in a setting of high art aspirations versus reality.\n",
      "\n",
      "4. **Musical Elements:**\n",
      "   - \"Un Docteur en Herbe\" includes references to airs, which are melodic segments with humorous dialogues and reflections on societal norms, typically set within the quarrels of the main plot.\n",
      "   - In contrast, \"Les Artistes par Occasion\" incorporates ariettes, which are more focused on expressing the characters’ artistic fervor and their humorous interplay with art and reality.\n",
      "\n",
      "5. **Themes:**\n",
      "   - Both plays critically yet comically engage with societal roles, expectations, and the juxtaposition between appearance and reality. \"Un Docteur en Herbe\" leans more towards familial and personal development themes, while \"Les Artistes par Occasion\" is more concerned with artistic life and societal perceptions of talent.\n",
      "\n",
      "6. **Language and Style:**\n",
      "   - In both texts, the use of comedic dialogue and the embedding of musical references drive the narrative. The vocabulary in \"Un Docteur en Herbe\" leans towards everyday vernacular with a focus on familial situations, whereas \"Les Artistes par Occasion\" features more artistic and expressive language suited to its theme of opera and theatricality.\n",
      "\n",
      "7. **Literary and Musical References:**\n",
      "   - Both plays engage with known cultural and musical conventions of 19th-century France, embedding them into the narrative to create a familiar comedic environment for the audience.\n",
      "\n",
      "These elements provide a framework for seeing how both plays utilize comedic setups, musical interludes, and articulate character types to explore themes pertinent to French society at the time. They balance humor with satirical commentary, each within the context of their particular thematic concerns.\n",
      "\n",
      "\n",
      "Sources:\n",
      "Source 1: Un_docteur_en_herbe.pdf\n",
      "Source 2: Un_docteur_en_herbe.pdf\n",
      "Source 3: Un_docteur_en_herbe.pdf\n",
      "Source 4: Un_docteur_en_herbe.pdf\n",
      "Source 5: Un_docteur_en_herbe.pdf\n",
      "Source 6: Duval_Les_artistes_par_occasion_(1807).pdf\n",
      "Source 7: Un_docteur_en_herbe.pdf\n",
      "Source 8: Un_docteur_en_herbe.pdf\n",
      "Source 9: Un_docteur_en_herbe.pdf\n",
      "Source 10: Un_docteur_en_herbe.pdf\n",
      "Source 11: Un_docteur_en_herbe.pdf\n",
      "Source 12: Un_docteur_en_herbe.pdf\n",
      "Source 13: Duval_Les_artistes_par_occasion_(1807).pdf\n",
      "Source 14: Duval_Les_artistes_par_occasion_(1807).pdf\n",
      "Source 15: Un_docteur_en_herbe.pdf\n"
     ]
    }
   ],
   "source": [
    "result = graph.invoke({\"question\": \"Compare the elements of Un Docteur en Herbe to Les Artistes par occasion.\",\n",
    "                       \"filter\": {\"$or\": [{\"Work\": \"Un Docteur en herbe\"},{\"Work\": \"Les Artistes par occasion\"}]}})\n",
    "\n",
    "print(f'Answer: {result[\"answer\"]}')\n",
    "print(\"\\n\\nSources:\")\n",
    "for i, source in enumerate(result[\"context\"]):\n",
    "    print(f'Source {i+1}: {source.metadata[\"source\"]}')"
   ]
  },
  {
   "cell_type": "code",
   "execution_count": 35,
   "id": "2501eed8",
   "metadata": {},
   "outputs": [
    {
     "name": "stdout",
     "output_type": "stream",
     "text": [
      "Answer: The poetic elements of \"Un Docteur en Herbe\" as seen in the provided excerpts include various forms typical of 19th-century French vaudeville, with a notable emphasis on rhyme, versification, and integration of well-known melodies with new lyrics. \n",
      "\n",
      "In \"Un Docteur en Herbe,\" several songs feature clearly defined rhyme schemes, often employing rhymed couplets or alternate rhyme patterns—a hallmark of the genre intended to maintain a light, comedic, and sometimes whimsical tone. For instance, the air \"Ne vois-tu pas, jeune imprudent\" uses rhyming couplets, a common technique in vaudeville to provide rhythmic cohesion and enhance the comedic effect.\n",
      "\n",
      "The syllable count in the lines tends to be consistent with traditional French versification, although not every line may adhere strictly to classical alexandrine form (12 syllables), demonstrating flexibility typical in vaudeville for comedic effect or to fit the rhythm of the pre-existing melody. The accentuation at the end of the lines alternates between masculine and feminine, which provides melodic variety and aligns with French poetic conventions where a feminine ending typically adds an unstressed syllable.\n",
      "\n",
      "The use of pre-existing airs, such as \"Air: Ah! si madame me voyait,\" is another characteristic feature in these works, allowing the audience to connect with the music through familiarity while enjoying new, contextually relevant lyrics. This creates an interactive experience, as audiences are likely to recognize melodies and appreciate the cleverness in adapting them to the narrative situation.\n",
      "\n",
      "When comparing \"Un Docteur en Herbe\" to other works cited in the excerpts, such as \"Ohé! les p’tits agneaux!\" or \"La Dette d’honneur,\" the elements appear similar in their lighter, more humorous, and accessible approach. The recurring theme across these works is the playful and humorous reinterpretation of music, full of cultural references and social commentary, which is a defining characteristic of vaudeville and reflects the lively, communal atmosphere of 19th-century French theater.\n",
      "\n",
      "In summary, \"Un Docteur en Herbe\" shares many conventional poetic elements with other contemporary vaudeville productions, including rhyme schemes, familiarity with melodies, syllable balance, and alternating accentuation—all crafted to contribute to the comedic and musical nature of the performance.\n",
      "\n",
      "\n",
      "Sources:\n",
      "Source 1: Un_docteur_en_herbe.pdf\n",
      "Source 2: Un_docteur_en_herbe.pdf\n",
      "Source 3: Ohé_Les_p_tits_agneaux_revue.pdf\n",
      "Source 4: Ohé_Les_p_tits_agneaux_revue.pdf\n",
      "Source 5: Un_docteur_en_herbe.pdf\n",
      "Source 6: Labiche_Rue_de_l'Homme_armé_(1849).pdf\n",
      "Source 7: Un_docteur_en_herbe.pdf\n",
      "Source 8: Un_docteur_en_herbe.pdf\n",
      "Source 9: Ohé_Les_p_tits_agneaux_revue.pdf\n",
      "Source 10: La_Dette_d_honneur.pdf\n",
      "Source 11: Le_Mari_par_Intérim_Comédie_vaudeville.pdf\n",
      "Source 12: Un_docteur_en_herbe.pdf\n",
      "Source 13: Les_ensorcelés_ou_les_amans_ignorans.pdf\n",
      "Source 14: Labiche_Rue_de_l'Homme_armé_(1849).pdf\n",
      "Source 15: Un_docteur_en_herbe.pdf\n"
     ]
    }
   ],
   "source": [
    "result = graph.invoke({\"question\": \"How do the poetic elements of Un Docteur en Herbe compare to other works?\"})\n",
    "\n",
    "print(f'Answer: {result[\"answer\"]}')\n",
    "print(\"\\n\\nSources:\")\n",
    "for i, source in enumerate(result[\"context\"]):\n",
    "    print(f'Source {i+1}: {source.metadata[\"source\"]}')"
   ]
  },
  {
   "cell_type": "code",
   "execution_count": 36,
   "id": "807bb654",
   "metadata": {},
   "outputs": [
    {
     "name": "stdout",
     "output_type": "stream",
     "text": [
      "Answer: I don't know. The context provided does not include specific information about the airs or melodies present in \"Les Modistes.\" Additional information or a specific excerpt from the libretto would be needed to identify the airs used in this vaudeville.\n",
      "\n",
      "\n",
      "Sources:\n"
     ]
    }
   ],
   "source": [
    "result = graph.invoke({\"question\": \"What airs / melodies are present in Les Modistes?\", \"filter\": {\"Work\": \"Les Modistes\"}})\n",
    "\n",
    "print(f'Answer: {result[\"answer\"]}')\n",
    "print(\"\\n\\nSources:\")\n",
    "for i, source in enumerate(result[\"context\"]):\n",
    "    print(f'Source {i+1}: {source.metadata[\"source\"]}')"
   ]
  },
  {
   "cell_type": "code",
   "execution_count": 37,
   "id": "f784905b",
   "metadata": {},
   "outputs": [
    {
     "name": "stdout",
     "output_type": "stream",
     "text": [
      "Answer: In the provided excerpts from various 19th-century French plays, we encounter instances of airs or melodies used in romantic dramatic situations. Here are some examples: \n",
      "\n",
      "1. **\"Coraly\"**: The text references an \"AIR du Fleuve de la vie,\" indicating a romantic melodic moment where the character Roland expresses his emotions towards another with lyrics that highlight beauty and inspiration. This suggests a setting of romantic contemplation or confession.\n",
      "\n",
      "2. **\"La Dette d’honneur\"**: The air \"Femmes, voulez-vous éprouver\" is used in a light-hearted romantic context where Madame Delaunay speaks to Pauline, reassuring her about a lover's spat and suggesting an underlying romance. The air used here likely supports a playful yet sincere interaction about romantic relationships.\n",
      "\n",
      "3. **\"Le Fifre du roi de Prusse, ou les Prisonniers de Spandau\"**: An air \"De Doche\" sets a romantic scene with Amélie and Alfred where Alfred reminisces about Amélie's charm and seeks her affection through song, indicative of a love or reunion scene.\n",
      "\n",
      "Each air or melody is employed to enhance the romantic elements of the scene, whether through direct expression of love, playfulness in relationships, or longing and admiration. These musical moments serve to heighten the dramatic impact and emotional resonance of the romantic situations in the plays.\n",
      "\n",
      "\n",
      "Sources:\n",
      "Source 1: Duval_Les_artistes_par_occasion_(1807).pdf\n",
      "Source 2: Coraly_ou_la_soeur_et_le_Frere.pdf\n",
      "Source 3: Revel_=_Le_Fifre_du_roi_de_Prusse,_ou_les_Prisonniers_de_Spandau_(1818).pdf\n",
      "Source 4: Revel_=_Le_Fifre_du_roi_de_Prusse,_ou_les_Prisonniers_de_Spandau_(1818).pdf\n",
      "Source 5: L_isle_des_noirs_ou_Les_deux_ingénues.pdf\n",
      "Source 6: Ohé_Les_p_tits_agneaux_revue.pdf\n",
      "Source 7: Les_maris_sans_femmes.pdf\n",
      "Source 8: La_Dette_d_honneur.pdf\n",
      "Source 9: Revel_=_Le_Fifre_du_roi_de_Prusse,_ou_les_Prisonniers_de_Spandau_(1818).pdf\n",
      "Source 10: Les_maris_sans_femmes.pdf\n",
      "Source 11: Coraly_ou_la_soeur_et_le_Frere.pdf\n",
      "Source 12: D_Aranda_ou_les_grandes_passions_comédi_p_19.pdf\n",
      "Source 13: Revel_=_Le_Fifre_du_roi_de_Prusse,_ou_les_Prisonniers_de_Spandau_(1818).pdf\n",
      "Source 14: La_grisette_et_l_héritière.pdf\n",
      "Source 15: Revel_=_Le_Fifre_du_roi_de_Prusse,_ou_les_Prisonniers_de_Spandau_(1818).pdf\n"
     ]
    }
   ],
   "source": [
    "result = graph.invoke({\"question\": \"What types of airs / melodies are present in dramatic situations of romance?\"})\n",
    "\n",
    "print(f'Answer: {result[\"answer\"]}')\n",
    "print(\"\\n\\nSources:\")\n",
    "for i, source in enumerate(result[\"context\"]):\n",
    "    print(f'Source {i+1}: {source.metadata[\"source\"]}')"
   ]
  },
  {
   "cell_type": "markdown",
   "id": "ab0de84c",
   "metadata": {},
   "source": [
    "## Fixes"
   ]
  },
  {
   "cell_type": "code",
   "execution_count": 38,
   "id": "3661495a",
   "metadata": {},
   "outputs": [],
   "source": [
    "# Setting up chat model\n",
    "import getpass\n",
    "import os\n",
    "\n",
    "if not os.environ.get(\"OPENAI_API_KEY\"):\n",
    "  os.environ[\"OPENAI_API_KEY\"] = getpass.getpass(\"Enter API key for OpenAI: \")\n",
    "\n",
    "from langchain.chat_models import init_chat_model\n",
    "\n",
    "llm = init_chat_model(\"gpt-4o\", model_provider=\"openai\") # Could be any chat model. We use gpt-4o here because analyzing poetry is a pretty complex task.\n",
    "\n",
    "# Setting up embeddings\n",
    "import getpass\n",
    "import os\n",
    "\n",
    "if not os.environ.get(\"OPENAI_API_KEY\"):\n",
    "  os.environ[\"OPENAI_API_KEY\"] = getpass.getpass(\"Enter API key for OpenAI: \")\n",
    "\n",
    "from langchain_openai import OpenAIEmbeddings\n",
    "\n",
    "embeddings = OpenAIEmbeddings(model=\"text-embedding-3-large\")\n",
    "\n",
    "# Reestablishing up our persist directory for Chroma\n",
    "from langchain_chroma import Chroma\n",
    "\n",
    "vector_store = Chroma(\n",
    "    collection_name=\"example_collection\",\n",
    "    embedding_function=embeddings,\n",
    "    persist_directory=\"./chroma_langchain_db\",  # This is reused from above, but reestablishes our vector store if we only run this cell.\n",
    ")\n",
    "\n",
    "# Reestablishing retrieval and generation functions\n",
    "from langchain_core.documents import Document\n",
    "from typing_extensions import List, TypedDict, Optional\n",
    "from langchain_core.prompts import ChatPromptTemplate\n",
    "\n",
    "\n",
    "# This is where we set up our system prompt (tell the llm its job), and the format for our question and context.\n",
    "prompt = ChatPromptTemplate.from_messages([\n",
    "    (\"system\", 'You are an expert in French musical theatre and opera of the 19th century.  You will help us explore the texts (librettos) of vaudevilles, which are dramatic productions that include periodic musical numbers, which might be songs, choruses, instrumental dances, and other sonic events. \\n '\n",
    "    'Many of these musical moments reuse some preexisting (and often well-known)  melody or tune.  These are variously called “melodie”, or “air”, and identified with a short title that refers in some way to an opera or collection of melodies from which it was drawn.  The titles might include the names of works, or other characters in those original works. '\n",
    "    '\\n In the context of the plays, these tunes become the vehicle for newly composed lyrics, which are normally rhymed, and which normally follow the poetic scansion and structure of the original lyrics.  Rhyme, versification and structure are thus of interest to us. \\n Keep the following attributes in mind as you answer questions based on the texts provided:'\n",
    "    '-the act and scene in which the event takes place'\n",
    "    '-the character or characters who are singing (or otherwise making music),'\n",
    "    '-the dramatic situation (a love scene, a crowd scene)'\n",
    "    '-the name of the air or melodie'\n",
    "    '-the poetic text'\n",
    "    '-the rhyme scheme'\n",
    "    '-form of the poetic text, which might involve some refrain'\n",
    "    '-the end accent for each line (masculine or féminine)'\n",
    "    '-syllable count for each line'\n",
    "    '-any irregularities you notice'\n",
    "    'If you cannot find the answers for anything within the context provided, state \"I dont know\" or similar - do not make assumptions beyond what is actually in the context.\\n\\n'),\n",
    "    (\"human\", \"Context:\\n{context}\\n\\nQuestion: {question}\")\n",
    "])\n",
    "\n",
    "# This stores the state of our application, which includes the question, filter, context, and answer. It is required to use langgraph, and is the sole argument of all steps.\n",
    "class State(TypedDict):\n",
    "    question: str\n",
    "    filter: Optional[dict]\n",
    "    context: List[Document]\n",
    "    answer: str\n",
    "\n",
    "# These are all nodes in our graph, or steps. This one allows you to apply a metadata filter to the documents in the vector store.\n",
    "def apply_filter(state: State):\n",
    "    if \"filter\" in state and state[\"filter\"]:\n",
    "        state[\"filter\"] = {k: v for k, v in state[\"filter\"].items() if v is not None}\n",
    "    else:\n",
    "        state[\"filter\"] = None\n",
    "    return state\n",
    "\n",
    "# Uses similarity search to retrieve the 15 most similar documents to the question from the vector store, applying any filter if provided. The k value determines the number of documents.\n",
    "def retrieve(state: State):\n",
    "    filter_dict = state[\"filter\"] if state.get(\"filter\") else None\n",
    "    retrieved_docs = vector_store.similarity_search(state[\"question\"], k=15, filter=filter_dict)\n",
    "    return {\"context\": retrieved_docs}\n",
    "\n",
    "\n",
    "retriever = vector_store.as_retriever()\n",
    "\n",
    "### Retrieval Grader\n",
    "\n",
    "\n",
    "from langchain_core.prompts import ChatPromptTemplate\n",
    "from langchain_openai import ChatOpenAI\n",
    "\n",
    "from pydantic import BaseModel, Field\n",
    "\n",
    "\n",
    "# Data model\n",
    "class GradeDocuments(BaseModel):\n",
    "    \"\"\"Binary score for relevance check on retrieved documents.\"\"\"\n",
    "\n",
    "    binary_score: str = Field(\n",
    "        description=\"Documents are relevant to the question, 'yes' or 'no'\"\n",
    "    )\n",
    "\n",
    "\n",
    "# LLM with function call\n",
    "llm = ChatOpenAI(model=\"gpt-4o-mini\", temperature=0)\n",
    "structured_llm_grader = llm.with_structured_output(GradeDocuments)\n",
    "\n",
    "# Prompt\n",
    "system = \"\"\"You are a grader assessing relevance of a retrieved document to a user question. \\n \n",
    "    It does not need to be a stringent test. The goal is to filter out erroneous retrievals. \\n\n",
    "    If the document contains keyword(s) or semantic meaning related to the user question, grade it as relevant. \\n\n",
    "    Give a binary score 'yes' or 'no' score to indicate whether the document is relevant to the question.\"\"\"\n",
    "grade_prompt = ChatPromptTemplate.from_messages(\n",
    "    [\n",
    "        (\"system\", system),\n",
    "        (\"human\", \"Retrieved document: \\n\\n {document} \\n\\n User question: {question}\"),\n",
    "    ]\n",
    ")\n",
    "\n",
    "retrieval_grader = grade_prompt | structured_llm_grader\n",
    "\n",
    "def grade_documents(state):\n",
    "    \"\"\"\n",
    "    Determines whether the retrieved documents are relevant to the question.\n",
    "\n",
    "    Args:\n",
    "        state (dict): The current graph state\n",
    "\n",
    "    Returns:\n",
    "        state (dict): Updates documents key with only filtered relevant documents\n",
    "    \"\"\"\n",
    "\n",
    "    print(\"---CHECK DOCUMENT RELEVANCE TO QUESTION---\")\n",
    "    question = state[\"question\"]\n",
    "    documents = state[\"context\"]\n",
    "\n",
    "    # Score each doc\n",
    "    filtered_docs = []\n",
    "    for i,d in enumerate(documents):\n",
    "        score = retrieval_grader.invoke(\n",
    "            {\"question\": question, \"document\": d.page_content}\n",
    "        )\n",
    "        grade = score.binary_score\n",
    "        if grade == \"yes\":\n",
    "            print(f\"---GRADE {i}: DOCUMENT RELEVANT---\")\n",
    "            filtered_docs.append(d)\n",
    "        else:\n",
    "            print(f\"---GRADE {i}: DOCUMENT NOT RELEVANT---\")\n",
    "            continue\n",
    "    return {\"documents\": filtered_docs, \"question\": question}\n",
    "\n",
    "def decide_to_generate(state):\n",
    "    \"\"\"\n",
    "    Determines whether to generate an answer, or re-generate a question.\n",
    "\n",
    "    Args:\n",
    "        state (dict): The current graph state\n",
    "\n",
    "    Returns:\n",
    "        str: Binary decision for next node to call\n",
    "    \"\"\"\n",
    "\n",
    "    print(\"---ASSESS GRADED DOCUMENTS---\")\n",
    "    state[\"question\"]\n",
    "    filtered_documents = state[\"documents\"]\n",
    "\n",
    "    if not filtered_documents:\n",
    "        # All documents have been filtered check_relevance\n",
    "        # We will re-generate a new query\n",
    "        print(\n",
    "            \"---DECISION: ALL DOCUMENTS ARE NOT RELEVANT TO QUESTION, TRANSFORM QUERY---\"\n",
    "        )\n",
    "        return \"transform_query\"\n",
    "    else:\n",
    "        # We have relevant documents, so generate answer\n",
    "        print(\"---DECISION: GENERATE---\")\n",
    "        return \"generate\"\n",
    "def generate(state: State):\n",
    "    docs_content = \"\"\n",
    "    for doc in state[\"context\"]:\n",
    "        docs_content += f\"The following text is a chunk from document titled: {doc.metadata[\"Work\"]}. There are a total of {doc.metadata[\"total_pages\"]} pages in this play. \\n\"\n",
    "        docs_content += doc.page_content + \"\\n\\n\"\n",
    "    message = prompt.invoke({\"question\": state[\"question\"], \"context\": docs_content})\n",
    "    response = llm.invoke(message)\n",
    "    return {\"answer\": response.content}\n",
    "\n",
    "# Set up langgraph. This is a much more complicated graph, so we set it up with individual nodes and edges.\n",
    "from langgraph.graph import START, StateGraph\n",
    "\n",
    "from langgraph.graph import END, StateGraph, START\n",
    "\n",
    "workflow = StateGraph(State)\n",
    "\n",
    "# Define the nodes\n",
    "workflow.add_node(\"retrieve\", retrieve)  # retrieve\n",
    "workflow.add_node(\"grade_documents\", grade_documents)  # grade documents\n",
    "workflow.add_node(\"generate\", generate)  # generate\n",
    "\n",
    "# Build graph\n",
    "workflow.add_edge(START, \"retrieve\")\n",
    "workflow.add_edge(\"retrieve\", \"grade_documents\")\n",
    "workflow.add_conditional_edges(\n",
    "    \"grade_documents\",\n",
    "    decide_to_generate\n",
    ")\n",
    "workflow.add_edge(\"generate\", END)\n",
    "\n",
    "# Compile\n",
    "app = workflow.compile()"
   ]
  },
  {
   "cell_type": "code",
   "execution_count": 39,
   "id": "2f72cc6d",
   "metadata": {},
   "outputs": [
    {
     "name": "stdout",
     "output_type": "stream",
     "text": [
      "Answer: In the provided texts, several types of airs or melodies are present in dramatic situations of romance. Here are some examples:\n",
      "\n",
      "1. **AIR du Fleuve de la vie** (from \"Coraly\"):\n",
      "   - **Dramatic Situation**: Roland expresses his feelings for his beloved while contemplating the challenges posed by her family.\n",
      "   - **Context**: This air reflects the inner turmoil and romantic longing of the character.\n",
      "\n",
      "2. **AIR : Voulant par ses œuvres complètes** (from \"Isle des noirs\"):\n",
      "   - **Dramatic Situation**: The characters discuss the effects of love and its potential to change people, highlighting the romantic theme.\n",
      "   - **Context**: This air serves to convey the emotional weight of love and its consequences.\n",
      "\n",
      "3. **AIR : Femmes, voulez-vous éprouver** (from \"La Dette d’honneur\"):\n",
      "   - **Dramatic Situation**: Madame Delaunay reassures Pauline about her romantic troubles, emphasizing the ups and downs of love.\n",
      "   - **Context**: This air captures the playful yet serious nature of romantic relationships.\n",
      "\n",
      "4. **AIR : Ah! si madame me voyait** (from \"Les Maris sans femmes\"):\n",
      "   - **Dramatic Situation**: Clarisse reflects on her past and the pressures of marriage, revealing her romantic aspirations.\n",
      "   - **Context**: This air highlights the tension between personal desires and societal expectations in romance.\n",
      "\n",
      "5. **AIR : Impossible** (from \"Le Fifre du roi de Prusse\"):\n",
      "   - **Dramatic Situation**: Constance expresses her frustration with a suitor who is unyielding in his affections.\n",
      "   - **Context**: This air illustrates the challenges faced in romantic pursuits and the emotional stakes involved.\n",
      "\n",
      "These airs serve as vehicles for the characters to express their feelings, desires, and conflicts related to romance, often using well-known melodies to enhance the emotional impact of the lyrics.\n",
      "\n",
      "\n",
      "Sources:\n",
      "Source 1: Duval_Les_artistes_par_occasion_(1807).pdf\n",
      "Source 2: Coraly_ou_la_soeur_et_le_Frere.pdf\n",
      "Source 3: Revel_=_Le_Fifre_du_roi_de_Prusse,_ou_les_Prisonniers_de_Spandau_(1818).pdf\n",
      "Source 4: Revel_=_Le_Fifre_du_roi_de_Prusse,_ou_les_Prisonniers_de_Spandau_(1818).pdf\n",
      "Source 5: L_isle_des_noirs_ou_Les_deux_ingénues.pdf\n",
      "Source 6: Ohé_Les_p_tits_agneaux_revue.pdf\n",
      "Source 7: Les_maris_sans_femmes.pdf\n",
      "Source 8: La_Dette_d_honneur.pdf\n",
      "Source 9: Revel_=_Le_Fifre_du_roi_de_Prusse,_ou_les_Prisonniers_de_Spandau_(1818).pdf\n",
      "Source 10: Les_maris_sans_femmes.pdf\n",
      "Source 11: Coraly_ou_la_soeur_et_le_Frere.pdf\n",
      "Source 12: D_Aranda_ou_les_grandes_passions_comédi_p_19.pdf\n",
      "Source 13: Revel_=_Le_Fifre_du_roi_de_Prusse,_ou_les_Prisonniers_de_Spandau_(1818).pdf\n",
      "Source 14: La_grisette_et_l_héritière.pdf\n",
      "Source 15: Revel_=_Le_Fifre_du_roi_de_Prusse,_ou_les_Prisonniers_de_Spandau_(1818).pdf\n"
     ]
    }
   ],
   "source": [
    "result = graph.invoke({\"question\": \"What types of airs / melodies are present in dramatic situations of romance?\"})\n",
    "\n",
    "print(f'Answer: {result[\"answer\"]}')\n",
    "print(\"\\n\\nSources:\")\n",
    "for i, source in enumerate(result[\"context\"]):\n",
    "    print(f'Source {i+1}: {source.metadata[\"source\"]}')"
   ]
  }
 ],
 "metadata": {
  "kernelspec": {
   "display_name": "AI_Projects",
   "language": "python",
   "name": "python3"
  },
  "language_info": {
   "codemirror_mode": {
    "name": "ipython",
    "version": 3
   },
   "file_extension": ".py",
   "mimetype": "text/x-python",
   "name": "python",
   "nbconvert_exporter": "python",
   "pygments_lexer": "ipython3",
   "version": "3.12.11"
  }
 },
 "nbformat": 4,
 "nbformat_minor": 5
}
