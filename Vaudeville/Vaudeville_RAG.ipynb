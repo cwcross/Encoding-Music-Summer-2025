{
 "cells": [
  {
   "cell_type": "raw",
   "id": "1931dccd",
   "metadata": {
    "vscode": {
     "languageId": "raw"
    }
   },
   "source": [
    "---\n",
    "title: \"Vaudeville RAG\"\n",
    "author: 'Charlie Cross'\n",
    "date: 'July 7, 2025'\n",
    "\n",
    "format:\n",
    "  html:\n",
    "    code-fold: true\n",
    "    embed-resources: true\n",
    "plotly-connected: true\n",
    "jupyter: python3\n",
    "\n",
    "---"
   ]
  },
  {
   "cell_type": "markdown",
   "id": "bdbf28f2",
   "metadata": {},
   "source": [
    "# Vaudeville RAG\n",
    "\n",
    "Do not run all if the kernel restarts!"
   ]
  },
  {
   "cell_type": "markdown",
   "id": "37882477",
   "metadata": {},
   "source": [
    "## Goals\n",
    "\n",
    "In this notebook, we attempt to build a Retrieval Augmented Generation (RAG) application for 35 19th century Vaudeville plays. \n",
    "\n",
    "This app allows us to chat with the data, and ask \"needle in the haystack\" questions."
   ]
  },
  {
   "cell_type": "markdown",
   "id": "08824dd1",
   "metadata": {},
   "source": [
    "## Imports and API's"
   ]
  },
  {
   "cell_type": "code",
   "execution_count": 1,
   "id": "dda6062b",
   "metadata": {},
   "outputs": [],
   "source": [
    "# Imports\n",
    "import getpass\n",
    "import os\n",
    "from langchain.chat_models import init_chat_model\n",
    "from langchain_openai import OpenAIEmbeddings\n",
    "from langchain_chroma import Chroma\n",
    "from langchain_community.document_loaders.csv_loader import CSVLoader\n",
    "from pathlib import Path\n",
    "from langchain.document_loaders import PDFPlumberLoader\n",
    "from langchain.schema import Document\n",
    "from langchain_text_splitters import RecursiveCharacterTextSplitter\n",
    "from typing_extensions import List, TypedDict, Optional\n",
    "from langchain_core.prompts import ChatPromptTemplate\n",
    "from langgraph.graph import START, StateGraph"
   ]
  },
  {
   "cell_type": "code",
   "execution_count": 2,
   "id": "910d232d",
   "metadata": {},
   "outputs": [],
   "source": [
    "# Setting up chat model\n",
    "if not os.environ.get(\"OPENAI_API_KEY\"):\n",
    "  os.environ[\"OPENAI_API_KEY\"] = getpass.getpass(\"Enter API key for OpenAI: \")\n",
    "\n",
    "\n",
    "llm = init_chat_model(\"gpt-4o-mini\", model_provider=\"openai\")\n",
    "# Setting up embeddings\n",
    "\n",
    "embeddings = OpenAIEmbeddings(model=\"text-embedding-3-large\")\n",
    "# Setting up chroma\n",
    "\n",
    "vector_store = Chroma(\n",
    "    collection_name=\"example_collection\",\n",
    "    embedding_function=embeddings,\n",
    "    persist_directory=\"./chroma_langchain_db\",  # Where to save data locally, remove if not necessary\n",
    ")"
   ]
  },
  {
   "cell_type": "markdown",
   "id": "86acea3e",
   "metadata": {},
   "source": [
    "## Indexing"
   ]
  },
  {
   "cell_type": "markdown",
   "id": "5aca9aa5",
   "metadata": {},
   "source": [
    "Indexing Steps:\n",
    "\n",
    "* Load CSV and PDF\n",
    "* Work with metadata:\n",
    "    * Keep relevant PDF metadata; remove irrelevant or empty fields\n",
    "    * Add CSV metadata \n",
    "* Spilt into chunks\n",
    "* Run embeddings model (in three batches, because of the character limit per call), and create a vector database"
   ]
  },
  {
   "cell_type": "markdown",
   "id": "f4e7818c",
   "metadata": {},
   "source": [
    "### Loading Files"
   ]
  },
  {
   "cell_type": "code",
   "execution_count": 3,
   "id": "5cfa9a86",
   "metadata": {},
   "outputs": [],
   "source": [
    "# Setting up csv loading\n",
    "\n",
    "def loadCSV(filepath: str) -> list:\n",
    "    loader = CSVLoader(file_path=filepath, source_column=\"FileName\",metadata_columns=[\"Year\",\"Work\",\"Theatre\"])\n",
    "    data = loader.load()\n",
    "    return data\n"
   ]
  },
  {
   "cell_type": "code",
   "execution_count": 4,
   "id": "1bec9d48",
   "metadata": {},
   "outputs": [
    {
     "name": "stdout",
     "output_type": "stream",
     "text": [
      "c:\\Users\\charl\\Documents\\VSCode\\Encoding Music\\Vaudeville\n"
     ]
    }
   ],
   "source": [
    "print(os.getcwd())"
   ]
  },
  {
   "cell_type": "code",
   "execution_count": 5,
   "id": "34c60dfd",
   "metadata": {},
   "outputs": [
    {
     "name": "stdout",
     "output_type": "stream",
     "text": [
      "As_tu_vu_la_comete_mon_gas_text.pdf\n",
      "Théâtre du Vaudeville\n"
     ]
    }
   ],
   "source": [
    "# Load CSV\n",
    "\n",
    "csv_metadata = loadCSV(\"Files/Vaudeville_Metadata.csv\")\n",
    "print(csv_metadata[0].metadata['source'])\n",
    "print(csv_metadata[1].metadata['Theatre'])"
   ]
  },
  {
   "cell_type": "code",
   "execution_count": 6,
   "id": "3182c251",
   "metadata": {},
   "outputs": [],
   "source": [
    "# Setting up pdf loading\n",
    "\n",
    "async def loadPDF(filepath: str) -> list:\n",
    "    loader = PDFPlumberLoader(filepath)\n",
    "    pages = []\n",
    "    async for page in loader.alazy_load():\n",
    "        pages.append(page)   \n",
    "    return pages"
   ]
  },
  {
   "cell_type": "code",
   "execution_count": 7,
   "id": "b1543074",
   "metadata": {},
   "outputs": [],
   "source": [
    "def get_files_from_directory(directory_path: str) -> list[str]:\n",
    "    directory = Path(directory_path)\n",
    "    file_paths = [str(file) for file in directory.iterdir() if file.is_file()]\n",
    "    return file_paths\n",
    "\n",
    "directory_path:str = \"Files/PDFs\"\n",
    "files: list[str] = get_files_from_directory(directory_path)"
   ]
  },
  {
   "cell_type": "code",
   "execution_count": 8,
   "id": "cc10d8cc",
   "metadata": {},
   "outputs": [],
   "source": [
    "# Load PDFs w/out metadata\n",
    "loaded_PDFs: list = []\n",
    "for file in files:\n",
    "    pages = await loadPDF(file)\n",
    "    loaded_PDFs.append(pages)"
   ]
  },
  {
   "cell_type": "markdown",
   "id": "a524ee05",
   "metadata": {},
   "source": [
    "It's good to check the loaded content for each PDF. Here, it is commented out to prevent the sources from taking up a lot of space."
   ]
  },
  {
   "cell_type": "code",
   "execution_count": 9,
   "id": "10275c58",
   "metadata": {},
   "outputs": [],
   "source": [
    "# Check PDF content\n",
    "# for i in range(len(loaded_PDFs)):\n",
    "#     document = loaded_PDFs[i]\n",
    "#     print(f\"## Document {i}: {document[0].metadata[\"source\"][54:]} \\n\")\n",
    "#     document_content: str = \"\"\n",
    "#     for document_page in document:\n",
    "#         document_content += document_page.page_content[0:500]\n",
    "#     print(document_content + \"\\n \\n\")"
   ]
  },
  {
   "cell_type": "markdown",
   "id": "e49d9cf4",
   "metadata": {},
   "source": [
    "The first PDF has not been OCR'ed, so it showed up as empty. The rest worked. "
   ]
  },
  {
   "cell_type": "code",
   "execution_count": 10,
   "id": "aece5ade",
   "metadata": {},
   "outputs": [
    {
     "name": "stdout",
     "output_type": "stream",
     "text": [
      "Document 0 \n",
      "\n",
      "[('source', 'Files\\\\PDFs\\\\As_tu_vu_la_comete_mon_gas_text.pdf'), ('file_path', 'Files\\\\PDFs\\\\As_tu_vu_la_comete_mon_gas_text.pdf'), ('page', 0), ('total_pages', 104), ('CreationDate', \"D:20130826123210+02'00'\"), ('Creator', 'Bibliothèque nationale de France'), ('ModDate', \"D:20250624190557-04'00'\"), ('Producer', 'iText 1.4.8 (by lowagie.com)'), ('Title', \"Cogniard, Théodore (1806-1872),Clairville (1811-1879). As-tu vu la comète, mon gas ? revue de l'année 1858, en 3 actes et 4 tableaux, par MM. Théodore Cogniard et Clairville... (Paris, Variétés, 30 décembre 1858.). 1859.\"), ('source', 'Files\\\\PDFs\\\\As_tu_vu_la_comete_mon_gas_text.pdf'), ('file_path', 'Files\\\\PDFs\\\\As_tu_vu_la_comete_mon_gas_text.pdf'), ('page', 1), ('total_pages', 104), ('CreationDate', \"D:20130826123210+02'00'\"), ('Creator', 'Bibliothèque nationale de France'), ('ModDate', \"D:20250624190557-04'00'\"), ('Producer', 'iText 1.4.8 (by lowagie.com)'), ('Title', \"Cogniard, Théodore (1806-1872),Clairville (1811-1879). As-tu vu la comète, mon gas ? revue de l'année 1858, en 3 actes et 4 tableaux, par MM. Théodore Cogniard et Clairville... (Paris, Variétés, 30 décembre 1858.). 1859.\"), ('source', 'Files\\\\PDFs\\\\As_tu_vu_la_comete_mon_gas_text.pdf'), ('file_path', 'Files\\\\PDFs\\\\As_tu_vu_la_comete_mon_gas_text.pdf'), ('page', 2), ('total_pages', 104), ('CreationDate', \"D:20130826123210+02'00'\"), ('Creator', 'Bibliothèque nationale de France'), ('ModDate', \"D:20250624190557-04'00'\"), ('Producer', 'iText 1.4.8 (by lowagie.com)'), ('Title', \"Cogniard, Théodore (1806-1872),Clairville (1811-1879). As-tu vu la comète, mon gas ? revue de l'année 1858, en 3 actes et 4 tableaux, par MM. Théodore Cogniard et Clairville... (Paris, Variétés, 30 décembre 1858.). 1859.\"), ('source', 'Files\\\\PDFs\\\\As_tu_vu_la_comete_mon_gas_text.pdf'), ('file_path', 'Files\\\\PDFs\\\\As_tu_vu_la_comete_mon_gas_text.pdf'), ('page', 3), ('total_pages', 104), ('CreationDate', \"D:20130826123210+02'00'\"), ('Creator', 'Bibliothèque nationale de France'), ('ModDate', \"D:20250624190557-04'00'\"), ('Producer', 'iText 1.4.8 (by lowagie.com)'), ('Title', \"Cogniard, Théodore (1806-1872),Clairville (1811-1879). As-tu vu la comète, mon gas ? revue de l'année 1858, en 3 actes et 4 tableaux, par MM. Théodore Cogniard et Clairville... (Paris, Variétés, 30 décembre 1858.). 1859.\"), ('source', 'Files\\\\PDFs\\\\As_tu_vu_la_comete_mon_gas_text.pdf'), ('file_path', 'Files\\\\PDFs\\\\As_tu_vu_la_comete_mon_gas_text.pdf'), ('page', 4), ('total_pages', 104), ('CreationDate', \"D:20130826123210+02'00'\"), ('Creator', 'Bibliothèque nationale de France'), ('ModDate', \"D:20250624190557-04'00'\"), ('Producer', 'iText 1.4.8 (by lowagie.com)'), ('Title', \"Cogniard, Théodore (1806-1872),Clairville (1811-1879). As-tu vu la comète, mon gas ? revue de l'année 1858, en 3 actes et 4 tableaux, par MM. Théodore Cogniard et Clairville... (Paris, Variétés, 30 décembre 1858.). 1859.\"), ('source', 'Files\\\\PDFs\\\\As_tu_vu_la_comete_mon_gas_text.pdf'), ('file_path', 'Files\\\\PDFs\\\\As_tu_vu_la_comete_mon_gas_text.pdf'), ('page', 5), ('total_pages', 104), ('CreationDate', \"D:20130826123210+02'00'\"), ('Creator', 'Bibliothèque nationale de France'), ('ModDate', \"D:20250624190557-04'00'\"), ('Producer', 'iText 1.4.8 (by lowagie.com)'), ('Title', \"Cogniard, Théodore (1806-1872),Clairville (1811-1879). As-tu vu la comète, mon gas ? revue de l'année 1858, en 3 actes et 4 tableaux, par MM. Théodore Cogniard et Clairville... (Paris, Variétés, 30 décembre 1858.). 1859.\"), ('source', 'Files\\\\PDFs\\\\As_tu_vu_la_comete_mon_gas_text.pdf'), ('file_path', 'Files\\\\PDFs\\\\As_tu_vu_la_comete_mon_gas_text.pdf'), ('page', 6), ('total_pages', 104), ('CreationDate', \"D:20130826123210+02'00'\"), ('Creator', 'Bibliothèque nationale de France'), ('ModDate', \"D:20250624190557-04'00'\"), ('Producer', 'iText 1.4.8 (by lowagie.com)'), ('Title', \"Cogniard, Théodore (1806-1872),Clairville (1811-1879). As-tu vu la comète, mon gas ? revue de l'année 1858, en 3 actes et 4 tableaux, par MM. Théodore Cogniard et Clairville... (Paris, Variétés, 30 décembre 1858.). 1859.\"), ('source', 'Files\\\\PDFs\\\\As_tu_vu_la_comete_mon_gas_text.pdf'), ('file_path', 'Files\\\\PDFs\\\\As_tu_vu_la_comete_mon_gas_text.pdf'), ('page', 7), ('total_pages', 104), ('CreationDate', \"D:20130826123210+02'00'\"), ('Creator', 'Bibliothèque nationale de France'), ('ModDate', \"D:20250624190557-04'00'\"), ('Producer', 'iText 1.4.8 (by lowagie.com)'), ('Title', \"Cogniard, Théodore (1806-1872),Clairville (1811-1879). As-tu vu la comète, mon gas ? revue de l'année 1858, en 3 actes et 4 tableaux, par MM. Théodore Cogniard et Clairville... (Paris, Variétés, 30 décembre 1858.). 1859.\"), ('source', 'Files\\\\PDFs\\\\As_tu_vu_la_comete_mon_gas_text.pdf'), ('file_path', 'Files\\\\PDFs\\\\As_tu_vu_la_comete_mon_gas_text.pdf'), ('page', 8), ('total_pages', 104), ('CreationDate', \"D:20130826123210+02'00'\"), ('Creator', 'Bibliothèque nationale de France'), ('ModDate', \"D:20250624190557-04'00'\"), ('Producer', 'iText 1.4.8 (by lowagie.com)'), ('Title', \"Cogniard, Théodore (1806-1872),Clairville (1811-1879). As-tu vu la comète, mon gas ? revue de l'année 1858, en 3 actes et 4 tableaux, par MM. Théodore Cogniard et Clairville... (Paris, Variétés, 30 décembre 1858.). 1859.\"), ('source', 'Files\\\\PDFs\\\\As_tu_vu_la_comete_mon_gas_text.pdf'), ('file_path', 'Files\\\\PDFs\\\\As_tu_vu_la_comete_mon_gas_text.pdf'), ('page', 9), ('total_pages', 104), ('CreationDate', \"D:20130826123210+02'00'\"), ('Creator', 'Bibliothèque nationale de France'), ('ModDate', \"D:20250624190557-04'00'\"), ('Producer', 'iText 1.4.8 (by lowagie.com)'), ('Title', \"Cogniard, Théodore (1806-1872),Clairville (1811-1879). As-tu vu la comète, mon gas ? revue de l'année 1858, en 3 actes et 4 tableaux, par MM. Théodore Cogniard et Clairville... (Paris, Variétés, 30 décembre 1858.). 1859.\"), ('source', 'Files\\\\PDFs\\\\As_tu_vu_la_comete_mon_gas_text.pdf'), ('file_path', 'Files\\\\PDFs\\\\As_tu_vu_la_comete_mon_gas_text.pdf'), ('page', 10), ('total_pages', 104), ('CreationDate', \"D:20130826123210+02'00'\"), ('Creator', 'Bibliothèque nationale de France'), ('ModDate', \"D:20250624190557-04'00'\"), ('Producer', 'iText 1.4.8 (by lowagie.com)'), ('Title', \"Cogniard, Théodore (1806-1872),Clairville (1811-1879). As-tu vu la comète, mon gas ? revue de l'année 1858, en 3 actes et 4 tableaux, par MM. Théodore Cogniard et Clairville... (Paris, Variétés, 30 décembre 1858.). 1859.\"), ('source', 'Files\\\\PDFs\\\\As_tu_vu_la_comete_mon_gas_text.pdf'), ('file_path', 'Files\\\\PDFs\\\\As_tu_vu_la_comete_mon_gas_text.pdf'), ('page', 11), ('total_pages', 104), ('CreationDate', \"D:20130826123210+02'00'\"), ('Creator', 'Bibliothèque nationale de France'), ('ModDate', \"D:20250624190557-04'00'\"), ('Producer', 'iText 1.4.8 (by lowagie.com)'), ('Title', \"Cogniard, Théodore (1806-1872),Clairville (1811-1879). As-tu vu la comète, mon gas ? revue de l'année 1858, en 3 actes et 4 tableaux, par MM. Théodore Cogniard et Clairville... (Paris, Variétés, 30 décembre 1858.). 1859.\"), ('source', 'Files\\\\PDFs\\\\As_tu_vu_la_comete_mon_gas_text.pdf'), ('file_path', 'Files\\\\PDFs\\\\As_tu_vu_la_comete_mon_gas_text.pdf'), ('page', 12), ('total_pages', 104), ('CreationDate', \"D:20130826123210+02'00'\"), ('Creator', 'Bibliothèque nationale de France'), ('ModDate', \"D:20250624190557-04'00'\"), ('Producer', 'iText 1.4.8 (by lowagie.com)'), ('Title', \"Cogniard, Théodore (1806-1872),Clairville (1811-1879). As-tu vu la comète, mon gas ? revue de l'année 1858, en 3 actes et 4 tableaux, par MM. Théodore Cogniard et Clairville... (Paris, Variétés, 30 décembre 1858.). 1859.\"), ('source', 'Files\\\\PDFs\\\\As_tu_vu_la_comete_mon_gas_text.pdf'), ('file_path', 'Files\\\\PDFs\\\\As_tu_vu_la_comete_mon_gas_text.pdf'), ('page', 13), ('total_pages', 104), ('CreationDate', \"D:20130826123210+02'00'\"), ('Creator', 'Bibliothèque nationale de France'), ('ModDate', \"D:20250624190557-04'00'\"), ('Producer', 'iText 1.4.8 (by lowagie.com)'), ('Title', \"Cogniard, Théodore (1806-1872),Clairville (1811-1879). As-tu vu la comète, mon gas ? revue de l'année 1858, en 3 actes et 4 tableaux, par MM. Théodore Cogniard et Clairville... (Paris, Variétés, 30 décembre 1858.). 1859.\"), ('source', 'Files\\\\PDFs\\\\As_tu_vu_la_comete_mon_gas_text.pdf'), ('file_path', 'Files\\\\PDFs\\\\As_tu_vu_la_comete_mon_gas_text.pdf'), ('page', 14), ('total_pages', 104), ('CreationDate', \"D:20130826123210+02'00'\"), ('Creator', 'Bibliothèque nationale de France'), ('ModDate', \"D:20250624190557-04'00'\"), ('Producer', 'iText 1.4.8 (by lowagie.com)'), ('Title', \"Cogniard, Théodore (1806-1872),Clairville (1811-1879). As-tu vu la comète, mon gas ? revue de l'année 1858, en 3 actes et 4 tableaux, par MM. Théodore Cogniard et Clairville... (Paris, Variétés, 30 décembre 1858.). 1859.\"), ('source', 'Files\\\\PDFs\\\\As_tu_vu_la_comete_mon_gas_text.pdf'), ('file_path', 'Files\\\\PDFs\\\\As_tu_vu_la_comete_mon_gas_text.pdf'), ('page', 15), ('total_pages', 104), ('CreationDate', \"D:20130826123210+02'00'\"), ('Creator', 'Bibliothèque nationale de France'), ('ModDate', \"D:20250624190557-04'00'\"), ('Producer', 'iText 1.4.8 (by lowagie.com)'), ('Title', \"Cogniard, Théodore (1806-1872),Clairville (1811-1879). As-tu vu la comète, mon gas ? revue de l'année 1858, en 3 actes et 4 tableaux, par MM. Théodore Cogniard et Clairville... (Paris, Variétés, 30 décembre 1858.). 1859.\"), ('source', 'Files\\\\PDFs\\\\As_tu_vu_la_comete_mon_gas_text.pdf'), ('file_path', 'Files\\\\PDFs\\\\As_tu_vu_la_comete_mon_gas_text.pdf'), ('page', 16), ('total_pages', 104), ('CreationDate', \"D:20130826123210+02'00'\"), ('Creator', 'Bibliothèque nationale de France'), ('ModDate', \"D:20250624190557-04'00'\"), ('Producer', 'iText 1.4.8 (by lowagie.com)'), ('Title', \"Cogniard, Théodore (1806-1872),Clairville (1811-1879). As-tu vu la comète, mon gas ? revue de l'année 1858, en 3 actes et 4 tableaux, par MM. Théodore Cogniard et Clairville... (Paris, Variétés, 30 décembre 1858.). 1859.\"), ('source', 'Files\\\\PDFs\\\\As_tu_vu_la_comete_mon_gas_text.pdf'), ('file_path', 'Files\\\\PDFs\\\\As_tu_vu_la_comete_mon_gas_text.pdf'), ('page', 17), ('total_pages', 104), ('CreationDate', \"D:20130826123210+02'00'\"), ('Creator', 'Bibliothèque nationale de France'), ('ModDate', \"D:20250624190557-04'00'\"), ('Producer', 'iText 1.4.8 (by lowagie.com)'), ('Title', \"Cogniard, Théodore (1806-1872),Clairville (1811-1879). As-tu vu la comète, mon gas ? revue de l'année 1858, en 3 actes et 4 tableaux, par MM. Théodore Cogniard et Clairville... (Paris, Variétés, 30 décembre 1858.). 1859.\"), ('source', 'Files\\\\PDFs\\\\As_tu_vu_la_comete_mon_gas_text.pdf'), ('file_path', 'Files\\\\PDFs\\\\As_tu_vu_la_comete_mon_gas_text.pdf'), ('page', 18), ('total_pages', 104), ('CreationDate', \"D:20130826123210+02'00'\"), ('Creator', 'Bibliothèque nationale de France'), ('ModDate', \"D:20250624190557-04'00'\"), ('Producer', 'iText 1.4.8 (by lowagie.com)'), ('Title', \"Cogniard, Théodore (1806-1872),Clairville (1811-1879). As-tu vu la comète, mon gas ? revue de l'année 1858, en 3 actes et 4 tableaux, par MM. Théodore Cogniard et Clairville... (Paris, Variétés, 30 décembre 1858.). 1859.\"), ('source', 'Files\\\\PDFs\\\\As_tu_vu_la_comete_mon_gas_text.pdf'), ('file_path', 'Files\\\\PDFs\\\\As_tu_vu_la_comete_mon_gas_text.pdf'), ('page', 19), ('total_pages', 104), ('CreationDate', \"D:20130826123210+02'00'\"), ('Creator', 'Bibliothèque nationale de France'), ('ModDate', \"D:20250624190557-04'00'\"), ('Producer', 'iText 1.4.8 (by lowagie.com)'), ('Title', \"Cogniard, Théodore (1806-1872),Clairville (1811-1879). As-tu vu la comète, mon gas ? revue de l'année 1858, en 3 actes et 4 tableaux, par MM. Théodore Cogniard et Clairville... (Paris, Variétés, 30 décembre 1858.). 1859.\"), ('source', 'Files\\\\PDFs\\\\As_tu_vu_la_comete_mon_gas_text.pdf'), ('file_path', 'Files\\\\PDFs\\\\As_tu_vu_la_comete_mon_gas_text.pdf'), ('page', 20), ('total_pages', 104), ('CreationDate', \"D:20130826123210+02'00'\"), ('Creator', 'Bibliothèque nationale de France'), ('ModDate', \"D:20250624190557-04'00'\"), ('Producer', 'iText 1.4.8 (by lowagie.com)'), ('Title', \"Cogniard, Théodore (1806-1872),Clairville (1811-1879). As-tu vu la comète, mon gas ? revue de l'année 1858, en 3 actes et 4 tableaux, par MM. Théodore Cogniard et Clairville... (Paris, Variétés, 30 décembre 1858.). 1859.\"), ('source', 'Files\\\\PDFs\\\\As_tu_vu_la_comete_mon_gas_text.pdf'), ('file_path', 'Files\\\\PDFs\\\\As_tu_vu_la_comete_mon_gas_text.pdf'), ('page', 21), ('total_pages', 104), ('CreationDate', \"D:20130826123210+02'00'\"), ('Creator', 'Bibliothèque nationale de France'), ('ModDate', \"D:20250624190557-04'00'\"), ('Producer', 'iText 1.4.8 (by lowagie.com)'), ('Title', \"Cogniard, Théodore (1806-1872),Clairville (1811-1879). As-tu vu la comète, mon gas ? revue de l'année 1858, en 3 actes et 4 tableaux, par MM. Théodore Cogniard et Clairville... (Paris, Variétés, 30 décembre 1858.). 1859.\"), ('source', 'Files\\\\PDFs\\\\As_tu_vu_la_comete_mon_gas_text.pdf'), ('file_path', 'Files\\\\PDFs\\\\As_tu_vu_la_comete_mon_gas_text.pdf'), ('page', 22), ('total_pages', 104), ('CreationDate', \"D:20130826123210+02'00'\"), ('Creator', 'Bibliothèque nationale de France'), ('ModDate', \"D:20250624190557-04'00'\"), ('Producer', 'iText 1.4.8 (by lowagie.com)'), ('Title', \"Cogniard, Théodore (1806-1872),Clairville (1811-1879). As-tu vu la comète, mon gas ? revue de l'année 1858, en 3 actes et 4 tableaux, par MM. Théodore Cogniard et Clairville... (Paris, Variétés, 30 décembre 1858.). 1859.\"), ('source', 'Files\\\\PDFs\\\\As_tu_vu_la_comete_mon_gas_text.pdf'), ('file_path', 'Files\\\\PDFs\\\\As_tu_vu_la_comete_mon_gas_text.pdf'), ('page', 23), ('total_pages', 104), ('CreationDate', \"D:20130826123210+02'00'\"), ('Creator', 'Bibliothèque nationale de France'), ('ModDate', \"D:20250624190557-04'00'\"), ('Producer', 'iText 1.4.8 (by lowagie.com)'), ('Title', \"Cogniard, Théodore (1806-1872),Clairville (1811-1879). As-tu vu la comète, mon gas ? revue de l'année 1858, en 3 actes et 4 tableaux, par MM. Théodore Cogniard et Clairville... (Paris, Variétés, 30 décembre 1858.). 1859.\"), ('source', 'Files\\\\PDFs\\\\As_tu_vu_la_comete_mon_gas_text.pdf'), ('file_path', 'Files\\\\PDFs\\\\As_tu_vu_la_comete_mon_gas_text.pdf'), ('page', 24), ('total_pages', 104), ('CreationDate', \"D:20130826123210+02'00'\"), ('Creator', 'Bibliothèque nationale de France'), ('ModDate', \"D:20250624190557-04'00'\"), ('Producer', 'iText 1.4.8 (by lowagie.com)'), ('Title', \"Cogniard, Théodore (1806-1872),Clairville (1811-1879). As-tu vu la comète, mon gas ? revue de l'année 1858, en 3 actes et 4 tableaux, par MM. Théodore Cogniard et Clairville... (Paris, Variétés, 30 décembre 1858.). 1859.\"), ('source', 'Files\\\\PDFs\\\\As_tu_vu_la_comete_mon_gas_text.pdf'), ('file_path', 'Files\\\\PDFs\\\\As_tu_vu_la_comete_mon_gas_text.pdf'), ('page', 25), ('total_pages', 104), ('CreationDate', \"D:20130826123210+02'00'\"), ('Creator', 'Bibliothèque nationale de France'), ('ModDate', \"D:20250624190557-04'00'\"), ('Producer', 'iText 1.4.8 (by lowagie.com)'), ('Title', \"Cogniard, Théodore (1806-1872),Clairville (1811-1879). As-tu vu la comète, mon gas ? revue de l'année 1858, en 3 actes et 4 tableaux, par MM. Théodore Cogniard et Clairville... (Paris, Variétés, 30 décembre 1858.). 1859.\"), ('source', 'Files\\\\PDFs\\\\As_tu_vu_la_comete_mon_gas_text.pdf'), ('file_path', 'Files\\\\PDFs\\\\As_tu_vu_la_comete_mon_gas_text.pdf'), ('page', 26), ('total_pages', 104), ('CreationDate', \"D:20130826123210+02'00'\"), ('Creator', 'Bibliothèque nationale de France'), ('ModDate', \"D:20250624190557-04'00'\"), ('Producer', 'iText 1.4.8 (by lowagie.com)'), ('Title', \"Cogniard, Théodore (1806-1872),Clairville (1811-1879). As-tu vu la comète, mon gas ? revue de l'année 1858, en 3 actes et 4 tableaux, par MM. Théodore Cogniard et Clairville... (Paris, Variétés, 30 décembre 1858.). 1859.\"), ('source', 'Files\\\\PDFs\\\\As_tu_vu_la_comete_mon_gas_text.pdf'), ('file_path', 'Files\\\\PDFs\\\\As_tu_vu_la_comete_mon_gas_text.pdf'), ('page', 27), ('total_pages', 104), ('CreationDate', \"D:20130826123210+02'00'\"), ('Creator', 'Bibliothèque nationale de France'), ('ModDate', \"D:20250624190557-04'00'\"), ('Producer', 'iText 1.4.8 (by lowagie.com)'), ('Title', \"Cogniard, Théodore (1806-1872),Clairville (1811-1879). As-tu vu la comète, mon gas ? revue de l'année 1858, en 3 actes et 4 tableaux, par MM. Théodore Cogniard et Clairville... (Paris, Variétés, 30 décembre 1858.). 1859.\"), ('source', 'Files\\\\PDFs\\\\As_tu_vu_la_comete_mon_gas_text.pdf'), ('file_path', 'Files\\\\PDFs\\\\As_tu_vu_la_comete_mon_gas_text.pdf'), ('page', 28), ('total_pages', 104), ('CreationDate', \"D:20130826123210+02'00'\"), ('Creator', 'Bibliothèque nationale de France'), ('ModDate', \"D:20250624190557-04'00'\"), ('Producer', 'iText 1.4.8 (by lowagie.com)'), ('Title', \"Cogniard, Théodore (1806-1872),Clairville (1811-1879). As-tu vu la comète, mon gas ? revue de l'année 1858, en 3 actes et 4 tableaux, par MM. Théodore Cogniard et Clairville... (Paris, Variétés, 30 décembre 1858.). 1859.\"), ('source', 'Files\\\\PDFs\\\\As_tu_vu_la_comete_mon_gas_text.pdf'), ('file_path', 'Files\\\\PDFs\\\\As_tu_vu_la_comete_mon_gas_text.pdf'), ('page', 29), ('total_pages', 104), ('CreationDate', \"D:20130826123210+02'00'\"), ('Creator', 'Bibliothèque nationale de France'), ('ModDate', \"D:20250624190557-04'00'\"), ('Producer', 'iText 1.4.8 (by lowagie.com)'), ('Title', \"Cogniard, Théodore (1806-1872),Clairville (1811-1879). As-tu vu la comète, mon gas ? revue de l'année 1858, en 3 actes et 4 tableaux, par MM. Théodore Cogniard et Clairville... (Paris, Variétés, 30 décembre 1858.). 1859.\"), ('source', 'Files\\\\PDFs\\\\As_tu_vu_la_comete_mon_gas_text.pdf'), ('file_path', 'Files\\\\PDFs\\\\As_tu_vu_la_comete_mon_gas_text.pdf'), ('page', 30), ('total_pages', 104), ('CreationDate', \"D:20130826123210+02'00'\"), ('Creator', 'Bibliothèque nationale de France'), ('ModDate', \"D:20250624190557-04'00'\"), ('Producer', 'iText 1.4.8 (by lowagie.com)'), ('Title', \"Cogniard, Théodore (1806-1872),Clairville (1811-1879). As-tu vu la comète, mon gas ? revue de l'année 1858, en 3 actes et 4 tableaux, par MM. Théodore Cogniard et Clairville... (Paris, Variétés, 30 décembre 1858.). 1859.\"), ('source', 'Files\\\\PDFs\\\\As_tu_vu_la_comete_mon_gas_text.pdf'), ('file_path', 'Files\\\\PDFs\\\\As_tu_vu_la_comete_mon_gas_text.pdf'), ('page', 31), ('total_pages', 104), ('CreationDate', \"D:20130826123210+02'00'\"), ('Creator', 'Bibliothèque nationale de France'), ('ModDate', \"D:20250624190557-04'00'\"), ('Producer', 'iText 1.4.8 (by lowagie.com)'), ('Title', \"Cogniard, Théodore (1806-1872),Clairville (1811-1879). As-tu vu la comète, mon gas ? revue de l'année 1858, en 3 actes et 4 tableaux, par MM. Théodore Cogniard et Clairville... (Paris, Variétés, 30 décembre 1858.). 1859.\"), ('source', 'Files\\\\PDFs\\\\As_tu_vu_la_comete_mon_gas_text.pdf'), ('file_path', 'Files\\\\PDFs\\\\As_tu_vu_la_comete_mon_gas_text.pdf'), ('page', 32), ('total_pages', 104), ('CreationDate', \"D:20130826123210+02'00'\"), ('Creator', 'Bibliothèque nationale de France'), ('ModDate', \"D:20250624190557-04'00'\"), ('Producer', 'iText 1.4.8 (by lowagie.com)'), ('Title', \"Cogniard, Théodore (1806-1872),Clairville (1811-1879). As-tu vu la comète, mon gas ? revue de l'année 1858, en 3 actes et 4 tableaux, par MM. Théodore Cogniard et Clairville... (Paris, Variétés, 30 décembre 1858.). 1859.\"), ('source', 'Files\\\\PDFs\\\\As_tu_vu_la_comete_mon_gas_text.pdf'), ('file_path', 'Files\\\\PDFs\\\\As_tu_vu_la_comete_mon_gas_text.pdf'), ('page', 33), ('total_pages', 104), ('CreationDate', \"D:20130826123210+02'00'\"), ('Creator', 'Bibliothèque nationale de France'), ('ModDate', \"D:20250624190557-04'00'\"), ('Producer', 'iText 1.4.8 (by lowagie.com)'), ('Title', \"Cogniard, Théodore (1806-1872),Clairville (1811-1879). As-tu vu la comète, mon gas ? revue de l'année 1858, en 3 actes et 4 tableaux, par MM. Théodore Cogniard et Clairville... (Paris, Variétés, 30 décembre 1858.). 1859.\"), ('source', 'Files\\\\PDFs\\\\As_tu_vu_la_comete_mon_gas_text.pdf'), ('file_path', 'Files\\\\PDFs\\\\As_tu_vu_la_comete_mon_gas_text.pdf'), ('page', 34), ('total_pages', 104), ('CreationDate', \"D:20130826123210+02'00'\"), ('Creator', 'Bibliothèque nationale de France'), ('ModDate', \"D:20250624190557-04'00'\"), ('Producer', 'iText 1.4.8 (by lowagie.com)'), ('Title', \"Cogniard, Théodore (1806-1872),Clairville (1811-1879). As-tu vu la comète, mon gas ? revue de l'année 1858, en 3 actes et 4 tableaux, par MM. Théodore Cogniard et Clairville... (Paris, Variétés, 30 décembre 1858.). 1859.\"), ('source', 'Files\\\\PDFs\\\\As_tu_vu_la_comete_mon_gas_text.pdf'), ('file_path', 'Files\\\\PDFs\\\\As_tu_vu_la_comete_mon_gas_text.pdf'), ('page', 35), ('total_pages', 104), ('CreationDate', \"D:20130826123210+02'00'\"), ('Creator', 'Bibliothèque nationale de France'), ('ModDate', \"D:20250624190557-04'00'\"), ('Producer', 'iText 1.4.8 (by lowagie.com)'), ('Title', \"Cogniard, Théodore (1806-1872),Clairville (1811-1879). As-tu vu la comète, mon gas ? revue de l'année 1858, en 3 actes et 4 tableaux, par MM. Théodore Cogniard et Clairville... (Paris, Variétés, 30 décembre 1858.). 1859.\"), ('source', 'Files\\\\PDFs\\\\As_tu_vu_la_comete_mon_gas_text.pdf'), ('file_path', 'Files\\\\PDFs\\\\As_tu_vu_la_comete_mon_gas_text.pdf'), ('page', 36), ('total_pages', 104), ('CreationDate', \"D:20130826123210+02'00'\"), ('Creator', 'Bibliothèque nationale de France'), ('ModDate', \"D:20250624190557-04'00'\"), ('Producer', 'iText 1.4.8 (by lowagie.com)'), ('Title', \"Cogniard, Théodore (1806-1872),Clairville (1811-1879). As-tu vu la comète, mon gas ? revue de l'année 1858, en 3 actes et 4 tableaux, par MM. Théodore Cogniard et Clairville... (Paris, Variétés, 30 décembre 1858.). 1859.\"), ('source', 'Files\\\\PDFs\\\\As_tu_vu_la_comete_mon_gas_text.pdf'), ('file_path', 'Files\\\\PDFs\\\\As_tu_vu_la_comete_mon_gas_text.pdf'), ('page', 37), ('total_pages', 104), ('CreationDate', \"D:20130826123210+02'00'\"), ('Creator', 'Bibliothèque nationale de France'), ('ModDate', \"D:20250624190557-04'00'\"), ('Producer', 'iText 1.4.8 (by lowagie.com)'), ('Title', \"Cogniard, Théodore (1806-1872),Clairville (1811-1879). As-tu vu la comète, mon gas ? revue de l'année 1858, en 3 actes et 4 tableaux, par MM. Théodore Cogniard et Clairville... (Paris, Variétés, 30 décembre 1858.). 1859.\"), ('source', 'Files\\\\PDFs\\\\As_tu_vu_la_comete_mon_gas_text.pdf'), ('file_path', 'Files\\\\PDFs\\\\As_tu_vu_la_comete_mon_gas_text.pdf'), ('page', 38), ('total_pages', 104), ('CreationDate', \"D:20130826123210+02'00'\"), ('Creator', 'Bibliothèque nationale de France'), ('ModDate', \"D:20250624190557-04'00'\"), ('Producer', 'iText 1.4.8 (by lowagie.com)'), ('Title', \"Cogniard, Théodore (1806-1872),Clairville (1811-1879). As-tu vu la comète, mon gas ? revue de l'année 1858, en 3 actes et 4 tableaux, par MM. Théodore Cogniard et Clairville... (Paris, Variétés, 30 décembre 1858.). 1859.\"), ('source', 'Files\\\\PDFs\\\\As_tu_vu_la_comete_mon_gas_text.pdf'), ('file_path', 'Files\\\\PDFs\\\\As_tu_vu_la_comete_mon_gas_text.pdf'), ('page', 39), ('total_pages', 104), ('CreationDate', \"D:20130826123210+02'00'\"), ('Creator', 'Bibliothèque nationale de France'), ('ModDate', \"D:20250624190557-04'00'\"), ('Producer', 'iText 1.4.8 (by lowagie.com)'), ('Title', \"Cogniard, Théodore (1806-1872),Clairville (1811-1879). As-tu vu la comète, mon gas ? revue de l'année 1858, en 3 actes et 4 tableaux, par MM. Théodore Cogniard et Clairville... (Paris, Variétés, 30 décembre 1858.). 1859.\"), ('source', 'Files\\\\PDFs\\\\As_tu_vu_la_comete_mon_gas_text.pdf'), ('file_path', 'Files\\\\PDFs\\\\As_tu_vu_la_comete_mon_gas_text.pdf'), ('page', 40), ('total_pages', 104), ('CreationDate', \"D:20130826123210+02'00'\"), ('Creator', 'Bibliothèque nationale de France'), ('ModDate', \"D:20250624190557-04'00'\"), ('Producer', 'iText 1.4.8 (by lowagie.com)'), ('Title', \"Cogniard, Théodore (1806-1872),Clairville (1811-1879). As-tu vu la comète, mon gas ? revue de l'année 1858, en 3 actes et 4 tableaux, par MM. Théodore Cogniard et Clairville... (Paris, Variétés, 30 décembre 1858.). 1859.\"), ('source', 'Files\\\\PDFs\\\\As_tu_vu_la_comete_mon_gas_text.pdf'), ('file_path', 'Files\\\\PDFs\\\\As_tu_vu_la_comete_mon_gas_text.pdf'), ('page', 41), ('total_pages', 104), ('CreationDate', \"D:20130826123210+02'00'\"), ('Creator', 'Bibliothèque nationale de France'), ('ModDate', \"D:20250624190557-04'00'\"), ('Producer', 'iText 1.4.8 (by lowagie.com)'), ('Title', \"Cogniard, Théodore (1806-1872),Clairville (1811-1879). As-tu vu la comète, mon gas ? revue de l'année 1858, en 3 actes et 4 tableaux, par MM. Théodore Cogniard et Clairville... (Paris, Variétés, 30 décembre 1858.). 1859.\"), ('source', 'Files\\\\PDFs\\\\As_tu_vu_la_comete_mon_gas_text.pdf'), ('file_path', 'Files\\\\PDFs\\\\As_tu_vu_la_comete_mon_gas_text.pdf'), ('page', 42), ('total_pages', 104), ('CreationDate', \"D:20130826123210+02'00'\"), ('Creator', 'Bibliothèque nationale de France'), ('ModDate', \"D:20250624190557-04'00'\"), ('Producer', 'iText 1.4.8 (by lowagie.com)'), ('Title', \"Cogniard, Théodore (1806-1872),Clairville (1811-1879). As-tu vu la comète, mon gas ? revue de l'année 1858, en 3 actes et 4 tableaux, par MM. Théodore Cogniard et Clairville... (Paris, Variétés, 30 décembre 1858.). 1859.\"), ('source', 'Files\\\\PDFs\\\\As_tu_vu_la_comete_mon_gas_text.pdf'), ('file_path', 'Files\\\\PDFs\\\\As_tu_vu_la_comete_mon_gas_text.pdf'), ('page', 43), ('total_pages', 104), ('CreationDate', \"D:20130826123210+02'00'\"), ('Creator', 'Bibliothèque nationale de France'), ('ModDate', \"D:20250624190557-04'00'\"), ('Producer', 'iText 1.4.8 (by lowagie.com)'), ('Title', \"Cogniard, Théodore (1806-1872),Clairville (1811-1879). As-tu vu la comète, mon gas ? revue de l'année 1858, en 3 actes et 4 tableaux, par MM. Théodore Cogniard et Clairville... (Paris, Variétés, 30 décembre 1858.). 1859.\"), ('source', 'Files\\\\PDFs\\\\As_tu_vu_la_comete_mon_gas_text.pdf'), ('file_path', 'Files\\\\PDFs\\\\As_tu_vu_la_comete_mon_gas_text.pdf'), ('page', 44), ('total_pages', 104), ('CreationDate', \"D:20130826123210+02'00'\"), ('Creator', 'Bibliothèque nationale de France'), ('ModDate', \"D:20250624190557-04'00'\"), ('Producer', 'iText 1.4.8 (by lowagie.com)'), ('Title', \"Cogniard, Théodore (1806-1872),Clairville (1811-1879). As-tu vu la comète, mon gas ? revue de l'année 1858, en 3 actes et 4 tableaux, par MM. Théodore Cogniard et Clairville... (Paris, Variétés, 30 décembre 1858.). 1859.\"), ('source', 'Files\\\\PDFs\\\\As_tu_vu_la_comete_mon_gas_text.pdf'), ('file_path', 'Files\\\\PDFs\\\\As_tu_vu_la_comete_mon_gas_text.pdf'), ('page', 45), ('total_pages', 104), ('CreationDate', \"D:20130826123210+02'00'\"), ('Creator', 'Bibliothèque nationale de France'), ('ModDate', \"D:20250624190557-04'00'\"), ('Producer', 'iText 1.4.8 (by lowagie.com)'), ('Title', \"Cogniard, Théodore (1806-1872),Clairville (1811-1879). As-tu vu la comète, mon gas ? revue de l'année 1858, en 3 actes et 4 tableaux, par MM. Théodore Cogniard et Clairville... (Paris, Variétés, 30 décembre 1858.). 1859.\"), ('source', 'Files\\\\PDFs\\\\As_tu_vu_la_comete_mon_gas_text.pdf'), ('file_path', 'Files\\\\PDFs\\\\As_tu_vu_la_comete_mon_gas_text.pdf'), ('page', 46), ('total_pages', 104), ('CreationDate', \"D:20130826123210+02'00'\"), ('Creator', 'Bibliothèque nationale de France'), ('ModDate', \"D:20250624190557-04'00'\"), ('Producer', 'iText 1.4.8 (by lowagie.com)'), ('Title', \"Cogniard, Théodore (1806-1872),Clairville (1811-1879). As-tu vu la comète, mon gas ? revue de l'année 1858, en 3 actes et 4 tableaux, par MM. Théodore Cogniard et Clairville... (Paris, Variétés, 30 décembre 1858.). 1859.\"), ('source', 'Files\\\\PDFs\\\\As_tu_vu_la_comete_mon_gas_text.pdf'), ('file_path', 'Files\\\\PDFs\\\\As_tu_vu_la_comete_mon_gas_text.pdf'), ('page', 47), ('total_pages', 104), ('CreationDate', \"D:20130826123210+02'00'\"), ('Creator', 'Bibliothèque nationale de France'), ('ModDate', \"D:20250624190557-04'00'\"), ('Producer', 'iText 1.4.8 (by lowagie.com)'), ('Title', \"Cogniard, Théodore (1806-1872),Clairville (1811-1879). As-tu vu la comète, mon gas ? revue de l'année 1858, en 3 actes et 4 tableaux, par MM. Théodore Cogniard et Clairville... (Paris, Variétés, 30 décembre 1858.). 1859.\"), ('source', 'Files\\\\PDFs\\\\As_tu_vu_la_comete_mon_gas_text.pdf'), ('file_path', 'Files\\\\PDFs\\\\As_tu_vu_la_comete_mon_gas_text.pdf'), ('page', 48), ('total_pages', 104), ('CreationDate', \"D:20130826123210+02'00'\"), ('Creator', 'Bibliothèque nationale de France'), ('ModDate', \"D:20250624190557-04'00'\"), ('Producer', 'iText 1.4.8 (by lowagie.com)'), ('Title', \"Cogniard, Théodore (1806-1872),Clairville (1811-1879). As-tu vu la comète, mon gas ? revue de l'année 1858, en 3 actes et 4 tableaux, par MM. Théodore Cogniard et Clairville... (Paris, Variétés, 30 décembre 1858.). 1859.\"), ('source', 'Files\\\\PDFs\\\\As_tu_vu_la_comete_mon_gas_text.pdf'), ('file_path', 'Files\\\\PDFs\\\\As_tu_vu_la_comete_mon_gas_text.pdf'), ('page', 49), ('total_pages', 104), ('CreationDate', \"D:20130826123210+02'00'\"), ('Creator', 'Bibliothèque nationale de France'), ('ModDate', \"D:20250624190557-04'00'\"), ('Producer', 'iText 1.4.8 (by lowagie.com)'), ('Title', \"Cogniard, Théodore (1806-1872),Clairville (1811-1879). As-tu vu la comète, mon gas ? revue de l'année 1858, en 3 actes et 4 tableaux, par MM. Théodore Cogniard et Clairville... (Paris, Variétés, 30 décembre 1858.). 1859.\"), ('source', 'Files\\\\PDFs\\\\As_tu_vu_la_comete_mon_gas_text.pdf'), ('file_path', 'Files\\\\PDFs\\\\As_tu_vu_la_comete_mon_gas_text.pdf'), ('page', 50), ('total_pages', 104), ('CreationDate', \"D:20130826123210+02'00'\"), ('Creator', 'Bibliothèque nationale de France'), ('ModDate', \"D:20250624190557-04'00'\"), ('Producer', 'iText 1.4.8 (by lowagie.com)'), ('Title', \"Cogniard, Théodore (1806-1872),Clairville (1811-1879). As-tu vu la comète, mon gas ? revue de l'année 1858, en 3 actes et 4 tableaux, par MM. Théodore Cogniard et Clairville... (Paris, Variétés, 30 décembre 1858.). 1859.\"), ('source', 'Files\\\\PDFs\\\\As_tu_vu_la_comete_mon_gas_text.pdf'), ('file_path', 'Files\\\\PDFs\\\\As_tu_vu_la_comete_mon_gas_text.pdf'), ('page', 51), ('total_pages', 104), ('CreationDate', \"D:20130826123210+02'00'\"), ('Creator', 'Bibliothèque nationale de France'), ('ModDate', \"D:20250624190557-04'00'\"), ('Producer', 'iText 1.4.8 (by lowagie.com)'), ('Title', \"Cogniard, Théodore (1806-1872),Clairville (1811-1879). As-tu vu la comète, mon gas ? revue de l'année 1858, en 3 actes et 4 tableaux, par MM. Théodore Cogniard et Clairville... (Paris, Variétés, 30 décembre 1858.). 1859.\"), ('source', 'Files\\\\PDFs\\\\As_tu_vu_la_comete_mon_gas_text.pdf'), ('file_path', 'Files\\\\PDFs\\\\As_tu_vu_la_comete_mon_gas_text.pdf'), ('page', 52), ('total_pages', 104), ('CreationDate', \"D:20130826123210+02'00'\"), ('Creator', 'Bibliothèque nationale de France'), ('ModDate', \"D:20250624190557-04'00'\"), ('Producer', 'iText 1.4.8 (by lowagie.com)'), ('Title', \"Cogniard, Théodore (1806-1872),Clairville (1811-1879). As-tu vu la comète, mon gas ? revue de l'année 1858, en 3 actes et 4 tableaux, par MM. Théodore Cogniard et Clairville... (Paris, Variétés, 30 décembre 1858.). 1859.\"), ('source', 'Files\\\\PDFs\\\\As_tu_vu_la_comete_mon_gas_text.pdf'), ('file_path', 'Files\\\\PDFs\\\\As_tu_vu_la_comete_mon_gas_text.pdf'), ('page', 53), ('total_pages', 104), ('CreationDate', \"D:20130826123210+02'00'\"), ('Creator', 'Bibliothèque nationale de France'), ('ModDate', \"D:20250624190557-04'00'\"), ('Producer', 'iText 1.4.8 (by lowagie.com)'), ('Title', \"Cogniard, Théodore (1806-1872),Clairville (1811-1879). As-tu vu la comète, mon gas ? revue de l'année 1858, en 3 actes et 4 tableaux, par MM. Théodore Cogniard et Clairville... (Paris, Variétés, 30 décembre 1858.). 1859.\"), ('source', 'Files\\\\PDFs\\\\As_tu_vu_la_comete_mon_gas_text.pdf'), ('file_path', 'Files\\\\PDFs\\\\As_tu_vu_la_comete_mon_gas_text.pdf'), ('page', 54), ('total_pages', 104), ('CreationDate', \"D:20130826123210+02'00'\"), ('Creator', 'Bibliothèque nationale de France'), ('ModDate', \"D:20250624190557-04'00'\"), ('Producer', 'iText 1.4.8 (by lowagie.com)'), ('Title', \"Cogniard, Théodore (1806-1872),Clairville (1811-1879). As-tu vu la comète, mon gas ? revue de l'année 1858, en 3 actes et 4 tableaux, par MM. Théodore Cogniard et Clairville... (Paris, Variétés, 30 décembre 1858.). 1859.\"), ('source', 'Files\\\\PDFs\\\\As_tu_vu_la_comete_mon_gas_text.pdf'), ('file_path', 'Files\\\\PDFs\\\\As_tu_vu_la_comete_mon_gas_text.pdf'), ('page', 55), ('total_pages', 104), ('CreationDate', \"D:20130826123210+02'00'\"), ('Creator', 'Bibliothèque nationale de France'), ('ModDate', \"D:20250624190557-04'00'\"), ('Producer', 'iText 1.4.8 (by lowagie.com)'), ('Title', \"Cogniard, Théodore (1806-1872),Clairville (1811-1879). As-tu vu la comète, mon gas ? revue de l'année 1858, en 3 actes et 4 tableaux, par MM. Théodore Cogniard et Clairville... (Paris, Variétés, 30 décembre 1858.). 1859.\"), ('source', 'Files\\\\PDFs\\\\As_tu_vu_la_comete_mon_gas_text.pdf'), ('file_path', 'Files\\\\PDFs\\\\As_tu_vu_la_comete_mon_gas_text.pdf'), ('page', 56), ('total_pages', 104), ('CreationDate', \"D:20130826123210+02'00'\"), ('Creator', 'Bibliothèque nationale de France'), ('ModDate', \"D:20250624190557-04'00'\"), ('Producer', 'iText 1.4.8 (by lowagie.com)'), ('Title', \"Cogniard, Théodore (1806-1872),Clairville (1811-1879). As-tu vu la comète, mon gas ? revue de l'année 1858, en 3 actes et 4 tableaux, par MM. Théodore Cogniard et Clairville... (Paris, Variétés, 30 décembre 1858.). 1859.\"), ('source', 'Files\\\\PDFs\\\\As_tu_vu_la_comete_mon_gas_text.pdf'), ('file_path', 'Files\\\\PDFs\\\\As_tu_vu_la_comete_mon_gas_text.pdf'), ('page', 57), ('total_pages', 104), ('CreationDate', \"D:20130826123210+02'00'\"), ('Creator', 'Bibliothèque nationale de France'), ('ModDate', \"D:20250624190557-04'00'\"), ('Producer', 'iText 1.4.8 (by lowagie.com)'), ('Title', \"Cogniard, Théodore (1806-1872),Clairville (1811-1879). As-tu vu la comète, mon gas ? revue de l'année 1858, en 3 actes et 4 tableaux, par MM. Théodore Cogniard et Clairville... (Paris, Variétés, 30 décembre 1858.). 1859.\"), ('source', 'Files\\\\PDFs\\\\As_tu_vu_la_comete_mon_gas_text.pdf'), ('file_path', 'Files\\\\PDFs\\\\As_tu_vu_la_comete_mon_gas_text.pdf'), ('page', 58), ('total_pages', 104), ('CreationDate', \"D:20130826123210+02'00'\"), ('Creator', 'Bibliothèque nationale de France'), ('ModDate', \"D:20250624190557-04'00'\"), ('Producer', 'iText 1.4.8 (by lowagie.com)'), ('Title', \"Cogniard, Théodore (1806-1872),Clairville (1811-1879). As-tu vu la comète, mon gas ? revue de l'année 1858, en 3 actes et 4 tableaux, par MM. Théodore Cogniard et Clairville... (Paris, Variétés, 30 décembre 1858.). 1859.\"), ('source', 'Files\\\\PDFs\\\\As_tu_vu_la_comete_mon_gas_text.pdf'), ('file_path', 'Files\\\\PDFs\\\\As_tu_vu_la_comete_mon_gas_text.pdf'), ('page', 59), ('total_pages', 104), ('CreationDate', \"D:20130826123210+02'00'\"), ('Creator', 'Bibliothèque nationale de France'), ('ModDate', \"D:20250624190557-04'00'\"), ('Producer', 'iText 1.4.8 (by lowagie.com)'), ('Title', \"Cogniard, Théodore (1806-1872),Clairville (1811-1879). As-tu vu la comète, mon gas ? revue de l'année 1858, en 3 actes et 4 tableaux, par MM. Théodore Cogniard et Clairville... (Paris, Variétés, 30 décembre 1858.). 1859.\"), ('source', 'Files\\\\PDFs\\\\As_tu_vu_la_comete_mon_gas_text.pdf'), ('file_path', 'Files\\\\PDFs\\\\As_tu_vu_la_comete_mon_gas_text.pdf'), ('page', 60), ('total_pages', 104), ('CreationDate', \"D:20130826123210+02'00'\"), ('Creator', 'Bibliothèque nationale de France'), ('ModDate', \"D:20250624190557-04'00'\"), ('Producer', 'iText 1.4.8 (by lowagie.com)'), ('Title', \"Cogniard, Théodore (1806-1872),Clairville (1811-1879). As-tu vu la comète, mon gas ? revue de l'année 1858, en 3 actes et 4 tableaux, par MM. Théodore Cogniard et Clairville... (Paris, Variétés, 30 décembre 1858.). 1859.\"), ('source', 'Files\\\\PDFs\\\\As_tu_vu_la_comete_mon_gas_text.pdf'), ('file_path', 'Files\\\\PDFs\\\\As_tu_vu_la_comete_mon_gas_text.pdf'), ('page', 61), ('total_pages', 104), ('CreationDate', \"D:20130826123210+02'00'\"), ('Creator', 'Bibliothèque nationale de France'), ('ModDate', \"D:20250624190557-04'00'\"), ('Producer', 'iText 1.4.8 (by lowagie.com)'), ('Title', \"Cogniard, Théodore (1806-1872),Clairville (1811-1879). As-tu vu la comète, mon gas ? revue de l'année 1858, en 3 actes et 4 tableaux, par MM. Théodore Cogniard et Clairville... (Paris, Variétés, 30 décembre 1858.). 1859.\"), ('source', 'Files\\\\PDFs\\\\As_tu_vu_la_comete_mon_gas_text.pdf'), ('file_path', 'Files\\\\PDFs\\\\As_tu_vu_la_comete_mon_gas_text.pdf'), ('page', 62), ('total_pages', 104), ('CreationDate', \"D:20130826123210+02'00'\"), ('Creator', 'Bibliothèque nationale de France'), ('ModDate', \"D:20250624190557-04'00'\"), ('Producer', 'iText 1.4.8 (by lowagie.com)'), ('Title', \"Cogniard, Théodore (1806-1872),Clairville (1811-1879). As-tu vu la comète, mon gas ? revue de l'année 1858, en 3 actes et 4 tableaux, par MM. Théodore Cogniard et Clairville... (Paris, Variétés, 30 décembre 1858.). 1859.\"), ('source', 'Files\\\\PDFs\\\\As_tu_vu_la_comete_mon_gas_text.pdf'), ('file_path', 'Files\\\\PDFs\\\\As_tu_vu_la_comete_mon_gas_text.pdf'), ('page', 63), ('total_pages', 104), ('CreationDate', \"D:20130826123210+02'00'\"), ('Creator', 'Bibliothèque nationale de France'), ('ModDate', \"D:20250624190557-04'00'\"), ('Producer', 'iText 1.4.8 (by lowagie.com)'), ('Title', \"Cogniard, Théodore (1806-1872),Clairville (1811-1879). As-tu vu la comète, mon gas ? revue de l'année 1858, en 3 actes et 4 tableaux, par MM. Théodore Cogniard et Clairville... (Paris, Variétés, 30 décembre 1858.). 1859.\"), ('source', 'Files\\\\PDFs\\\\As_tu_vu_la_comete_mon_gas_text.pdf'), ('file_path', 'Files\\\\PDFs\\\\As_tu_vu_la_comete_mon_gas_text.pdf'), ('page', 64), ('total_pages', 104), ('CreationDate', \"D:20130826123210+02'00'\"), ('Creator', 'Bibliothèque nationale de France'), ('ModDate', \"D:20250624190557-04'00'\"), ('Producer', 'iText 1.4.8 (by lowagie.com)'), ('Title', \"Cogniard, Théodore (1806-1872),Clairville (1811-1879). As-tu vu la comète, mon gas ? revue de l'année 1858, en 3 actes et 4 tableaux, par MM. Théodore Cogniard et Clairville... (Paris, Variétés, 30 décembre 1858.). 1859.\"), ('source', 'Files\\\\PDFs\\\\As_tu_vu_la_comete_mon_gas_text.pdf'), ('file_path', 'Files\\\\PDFs\\\\As_tu_vu_la_comete_mon_gas_text.pdf'), ('page', 65), ('total_pages', 104), ('CreationDate', \"D:20130826123210+02'00'\"), ('Creator', 'Bibliothèque nationale de France'), ('ModDate', \"D:20250624190557-04'00'\"), ('Producer', 'iText 1.4.8 (by lowagie.com)'), ('Title', \"Cogniard, Théodore (1806-1872),Clairville (1811-1879). As-tu vu la comète, mon gas ? revue de l'année 1858, en 3 actes et 4 tableaux, par MM. Théodore Cogniard et Clairville... (Paris, Variétés, 30 décembre 1858.). 1859.\"), ('source', 'Files\\\\PDFs\\\\As_tu_vu_la_comete_mon_gas_text.pdf'), ('file_path', 'Files\\\\PDFs\\\\As_tu_vu_la_comete_mon_gas_text.pdf'), ('page', 66), ('total_pages', 104), ('CreationDate', \"D:20130826123210+02'00'\"), ('Creator', 'Bibliothèque nationale de France'), ('ModDate', \"D:20250624190557-04'00'\"), ('Producer', 'iText 1.4.8 (by lowagie.com)'), ('Title', \"Cogniard, Théodore (1806-1872),Clairville (1811-1879). As-tu vu la comète, mon gas ? revue de l'année 1858, en 3 actes et 4 tableaux, par MM. Théodore Cogniard et Clairville... (Paris, Variétés, 30 décembre 1858.). 1859.\"), ('source', 'Files\\\\PDFs\\\\As_tu_vu_la_comete_mon_gas_text.pdf'), ('file_path', 'Files\\\\PDFs\\\\As_tu_vu_la_comete_mon_gas_text.pdf'), ('page', 67), ('total_pages', 104), ('CreationDate', \"D:20130826123210+02'00'\"), ('Creator', 'Bibliothèque nationale de France'), ('ModDate', \"D:20250624190557-04'00'\"), ('Producer', 'iText 1.4.8 (by lowagie.com)'), ('Title', \"Cogniard, Théodore (1806-1872),Clairville (1811-1879). As-tu vu la comète, mon gas ? revue de l'année 1858, en 3 actes et 4 tableaux, par MM. Théodore Cogniard et Clairville... (Paris, Variétés, 30 décembre 1858.). 1859.\"), ('source', 'Files\\\\PDFs\\\\As_tu_vu_la_comete_mon_gas_text.pdf'), ('file_path', 'Files\\\\PDFs\\\\As_tu_vu_la_comete_mon_gas_text.pdf'), ('page', 68), ('total_pages', 104), ('CreationDate', \"D:20130826123210+02'00'\"), ('Creator', 'Bibliothèque nationale de France'), ('ModDate', \"D:20250624190557-04'00'\"), ('Producer', 'iText 1.4.8 (by lowagie.com)'), ('Title', \"Cogniard, Théodore (1806-1872),Clairville (1811-1879). As-tu vu la comète, mon gas ? revue de l'année 1858, en 3 actes et 4 tableaux, par MM. Théodore Cogniard et Clairville... (Paris, Variétés, 30 décembre 1858.). 1859.\"), ('source', 'Files\\\\PDFs\\\\As_tu_vu_la_comete_mon_gas_text.pdf'), ('file_path', 'Files\\\\PDFs\\\\As_tu_vu_la_comete_mon_gas_text.pdf'), ('page', 69), ('total_pages', 104), ('CreationDate', \"D:20130826123210+02'00'\"), ('Creator', 'Bibliothèque nationale de France'), ('ModDate', \"D:20250624190557-04'00'\"), ('Producer', 'iText 1.4.8 (by lowagie.com)'), ('Title', \"Cogniard, Théodore (1806-1872),Clairville (1811-1879). As-tu vu la comète, mon gas ? revue de l'année 1858, en 3 actes et 4 tableaux, par MM. Théodore Cogniard et Clairville... (Paris, Variétés, 30 décembre 1858.). 1859.\"), ('source', 'Files\\\\PDFs\\\\As_tu_vu_la_comete_mon_gas_text.pdf'), ('file_path', 'Files\\\\PDFs\\\\As_tu_vu_la_comete_mon_gas_text.pdf'), ('page', 70), ('total_pages', 104), ('CreationDate', \"D:20130826123210+02'00'\"), ('Creator', 'Bibliothèque nationale de France'), ('ModDate', \"D:20250624190557-04'00'\"), ('Producer', 'iText 1.4.8 (by lowagie.com)'), ('Title', \"Cogniard, Théodore (1806-1872),Clairville (1811-1879). As-tu vu la comète, mon gas ? revue de l'année 1858, en 3 actes et 4 tableaux, par MM. Théodore Cogniard et Clairville... (Paris, Variétés, 30 décembre 1858.). 1859.\"), ('source', 'Files\\\\PDFs\\\\As_tu_vu_la_comete_mon_gas_text.pdf'), ('file_path', 'Files\\\\PDFs\\\\As_tu_vu_la_comete_mon_gas_text.pdf'), ('page', 71), ('total_pages', 104), ('CreationDate', \"D:20130826123210+02'00'\"), ('Creator', 'Bibliothèque nationale de France'), ('ModDate', \"D:20250624190557-04'00'\"), ('Producer', 'iText 1.4.8 (by lowagie.com)'), ('Title', \"Cogniard, Théodore (1806-1872),Clairville (1811-1879). As-tu vu la comète, mon gas ? revue de l'année 1858, en 3 actes et 4 tableaux, par MM. Théodore Cogniard et Clairville... (Paris, Variétés, 30 décembre 1858.). 1859.\"), ('source', 'Files\\\\PDFs\\\\As_tu_vu_la_comete_mon_gas_text.pdf'), ('file_path', 'Files\\\\PDFs\\\\As_tu_vu_la_comete_mon_gas_text.pdf'), ('page', 72), ('total_pages', 104), ('CreationDate', \"D:20130826123210+02'00'\"), ('Creator', 'Bibliothèque nationale de France'), ('ModDate', \"D:20250624190557-04'00'\"), ('Producer', 'iText 1.4.8 (by lowagie.com)'), ('Title', \"Cogniard, Théodore (1806-1872),Clairville (1811-1879). As-tu vu la comète, mon gas ? revue de l'année 1858, en 3 actes et 4 tableaux, par MM. Théodore Cogniard et Clairville... (Paris, Variétés, 30 décembre 1858.). 1859.\"), ('source', 'Files\\\\PDFs\\\\As_tu_vu_la_comete_mon_gas_text.pdf'), ('file_path', 'Files\\\\PDFs\\\\As_tu_vu_la_comete_mon_gas_text.pdf'), ('page', 73), ('total_pages', 104), ('CreationDate', \"D:20130826123210+02'00'\"), ('Creator', 'Bibliothèque nationale de France'), ('ModDate', \"D:20250624190557-04'00'\"), ('Producer', 'iText 1.4.8 (by lowagie.com)'), ('Title', \"Cogniard, Théodore (1806-1872),Clairville (1811-1879). As-tu vu la comète, mon gas ? revue de l'année 1858, en 3 actes et 4 tableaux, par MM. Théodore Cogniard et Clairville... (Paris, Variétés, 30 décembre 1858.). 1859.\"), ('source', 'Files\\\\PDFs\\\\As_tu_vu_la_comete_mon_gas_text.pdf'), ('file_path', 'Files\\\\PDFs\\\\As_tu_vu_la_comete_mon_gas_text.pdf'), ('page', 74), ('total_pages', 104), ('CreationDate', \"D:20130826123210+02'00'\"), ('Creator', 'Bibliothèque nationale de France'), ('ModDate', \"D:20250624190557-04'00'\"), ('Producer', 'iText 1.4.8 (by lowagie.com)'), ('Title', \"Cogniard, Théodore (1806-1872),Clairville (1811-1879). As-tu vu la comète, mon gas ? revue de l'année 1858, en 3 actes et 4 tableaux, par MM. Théodore Cogniard et Clairville... (Paris, Variétés, 30 décembre 1858.). 1859.\"), ('source', 'Files\\\\PDFs\\\\As_tu_vu_la_comete_mon_gas_text.pdf'), ('file_path', 'Files\\\\PDFs\\\\As_tu_vu_la_comete_mon_gas_text.pdf'), ('page', 75), ('total_pages', 104), ('CreationDate', \"D:20130826123210+02'00'\"), ('Creator', 'Bibliothèque nationale de France'), ('ModDate', \"D:20250624190557-04'00'\"), ('Producer', 'iText 1.4.8 (by lowagie.com)'), ('Title', \"Cogniard, Théodore (1806-1872),Clairville (1811-1879). As-tu vu la comète, mon gas ? revue de l'année 1858, en 3 actes et 4 tableaux, par MM. Théodore Cogniard et Clairville... (Paris, Variétés, 30 décembre 1858.). 1859.\"), ('source', 'Files\\\\PDFs\\\\As_tu_vu_la_comete_mon_gas_text.pdf'), ('file_path', 'Files\\\\PDFs\\\\As_tu_vu_la_comete_mon_gas_text.pdf'), ('page', 76), ('total_pages', 104), ('CreationDate', \"D:20130826123210+02'00'\"), ('Creator', 'Bibliothèque nationale de France'), ('ModDate', \"D:20250624190557-04'00'\"), ('Producer', 'iText 1.4.8 (by lowagie.com)'), ('Title', \"Cogniard, Théodore (1806-1872),Clairville (1811-1879). As-tu vu la comète, mon gas ? revue de l'année 1858, en 3 actes et 4 tableaux, par MM. Théodore Cogniard et Clairville... (Paris, Variétés, 30 décembre 1858.). 1859.\"), ('source', 'Files\\\\PDFs\\\\As_tu_vu_la_comete_mon_gas_text.pdf'), ('file_path', 'Files\\\\PDFs\\\\As_tu_vu_la_comete_mon_gas_text.pdf'), ('page', 77), ('total_pages', 104), ('CreationDate', \"D:20130826123210+02'00'\"), ('Creator', 'Bibliothèque nationale de France'), ('ModDate', \"D:20250624190557-04'00'\"), ('Producer', 'iText 1.4.8 (by lowagie.com)'), ('Title', \"Cogniard, Théodore (1806-1872),Clairville (1811-1879). As-tu vu la comète, mon gas ? revue de l'année 1858, en 3 actes et 4 tableaux, par MM. Théodore Cogniard et Clairville... (Paris, Variétés, 30 décembre 1858.). 1859.\"), ('source', 'Files\\\\PDFs\\\\As_tu_vu_la_comete_mon_gas_text.pdf'), ('file_path', 'Files\\\\PDFs\\\\As_tu_vu_la_comete_mon_gas_text.pdf'), ('page', 78), ('total_pages', 104), ('CreationDate', \"D:20130826123210+02'00'\"), ('Creator', 'Bibliothèque nationale de France'), ('ModDate', \"D:20250624190557-04'00'\"), ('Producer', 'iText 1.4.8 (by lowagie.com)'), ('Title', \"Cogniard, Théodore (1806-1872),Clairville (1811-1879). As-tu vu la comète, mon gas ? revue de l'année 1858, en 3 actes et 4 tableaux, par MM. Théodore Cogniard et Clairville... (Paris, Variétés, 30 décembre 1858.). 1859.\"), ('source', 'Files\\\\PDFs\\\\As_tu_vu_la_comete_mon_gas_text.pdf'), ('file_path', 'Files\\\\PDFs\\\\As_tu_vu_la_comete_mon_gas_text.pdf'), ('page', 79), ('total_pages', 104), ('CreationDate', \"D:20130826123210+02'00'\"), ('Creator', 'Bibliothèque nationale de France'), ('ModDate', \"D:20250624190557-04'00'\"), ('Producer', 'iText 1.4.8 (by lowagie.com)'), ('Title', \"Cogniard, Théodore (1806-1872),Clairville (1811-1879). As-tu vu la comète, mon gas ? revue de l'année 1858, en 3 actes et 4 tableaux, par MM. Théodore Cogniard et Clairville... (Paris, Variétés, 30 décembre 1858.). 1859.\"), ('source', 'Files\\\\PDFs\\\\As_tu_vu_la_comete_mon_gas_text.pdf'), ('file_path', 'Files\\\\PDFs\\\\As_tu_vu_la_comete_mon_gas_text.pdf'), ('page', 80), ('total_pages', 104), ('CreationDate', \"D:20130826123210+02'00'\"), ('Creator', 'Bibliothèque nationale de France'), ('ModDate', \"D:20250624190557-04'00'\"), ('Producer', 'iText 1.4.8 (by lowagie.com)'), ('Title', \"Cogniard, Théodore (1806-1872),Clairville (1811-1879). As-tu vu la comète, mon gas ? revue de l'année 1858, en 3 actes et 4 tableaux, par MM. Théodore Cogniard et Clairville... (Paris, Variétés, 30 décembre 1858.). 1859.\"), ('source', 'Files\\\\PDFs\\\\As_tu_vu_la_comete_mon_gas_text.pdf'), ('file_path', 'Files\\\\PDFs\\\\As_tu_vu_la_comete_mon_gas_text.pdf'), ('page', 81), ('total_pages', 104), ('CreationDate', \"D:20130826123210+02'00'\"), ('Creator', 'Bibliothèque nationale de France'), ('ModDate', \"D:20250624190557-04'00'\"), ('Producer', 'iText 1.4.8 (by lowagie.com)'), ('Title', \"Cogniard, Théodore (1806-1872),Clairville (1811-1879). As-tu vu la comète, mon gas ? revue de l'année 1858, en 3 actes et 4 tableaux, par MM. Théodore Cogniard et Clairville... (Paris, Variétés, 30 décembre 1858.). 1859.\"), ('source', 'Files\\\\PDFs\\\\As_tu_vu_la_comete_mon_gas_text.pdf'), ('file_path', 'Files\\\\PDFs\\\\As_tu_vu_la_comete_mon_gas_text.pdf'), ('page', 82), ('total_pages', 104), ('CreationDate', \"D:20130826123210+02'00'\"), ('Creator', 'Bibliothèque nationale de France'), ('ModDate', \"D:20250624190557-04'00'\"), ('Producer', 'iText 1.4.8 (by lowagie.com)'), ('Title', \"Cogniard, Théodore (1806-1872),Clairville (1811-1879). As-tu vu la comète, mon gas ? revue de l'année 1858, en 3 actes et 4 tableaux, par MM. Théodore Cogniard et Clairville... (Paris, Variétés, 30 décembre 1858.). 1859.\"), ('source', 'Files\\\\PDFs\\\\As_tu_vu_la_comete_mon_gas_text.pdf'), ('file_path', 'Files\\\\PDFs\\\\As_tu_vu_la_comete_mon_gas_text.pdf'), ('page', 83), ('total_pages', 104), ('CreationDate', \"D:20130826123210+02'00'\"), ('Creator', 'Bibliothèque nationale de France'), ('ModDate', \"D:20250624190557-04'00'\"), ('Producer', 'iText 1.4.8 (by lowagie.com)'), ('Title', \"Cogniard, Théodore (1806-1872),Clairville (1811-1879). As-tu vu la comète, mon gas ? revue de l'année 1858, en 3 actes et 4 tableaux, par MM. Théodore Cogniard et Clairville... (Paris, Variétés, 30 décembre 1858.). 1859.\"), ('source', 'Files\\\\PDFs\\\\As_tu_vu_la_comete_mon_gas_text.pdf'), ('file_path', 'Files\\\\PDFs\\\\As_tu_vu_la_comete_mon_gas_text.pdf'), ('page', 84), ('total_pages', 104), ('CreationDate', \"D:20130826123210+02'00'\"), ('Creator', 'Bibliothèque nationale de France'), ('ModDate', \"D:20250624190557-04'00'\"), ('Producer', 'iText 1.4.8 (by lowagie.com)'), ('Title', \"Cogniard, Théodore (1806-1872),Clairville (1811-1879). As-tu vu la comète, mon gas ? revue de l'année 1858, en 3 actes et 4 tableaux, par MM. Théodore Cogniard et Clairville... (Paris, Variétés, 30 décembre 1858.). 1859.\"), ('source', 'Files\\\\PDFs\\\\As_tu_vu_la_comete_mon_gas_text.pdf'), ('file_path', 'Files\\\\PDFs\\\\As_tu_vu_la_comete_mon_gas_text.pdf'), ('page', 85), ('total_pages', 104), ('CreationDate', \"D:20130826123210+02'00'\"), ('Creator', 'Bibliothèque nationale de France'), ('ModDate', \"D:20250624190557-04'00'\"), ('Producer', 'iText 1.4.8 (by lowagie.com)'), ('Title', \"Cogniard, Théodore (1806-1872),Clairville (1811-1879). As-tu vu la comète, mon gas ? revue de l'année 1858, en 3 actes et 4 tableaux, par MM. Théodore Cogniard et Clairville... (Paris, Variétés, 30 décembre 1858.). 1859.\"), ('source', 'Files\\\\PDFs\\\\As_tu_vu_la_comete_mon_gas_text.pdf'), ('file_path', 'Files\\\\PDFs\\\\As_tu_vu_la_comete_mon_gas_text.pdf'), ('page', 86), ('total_pages', 104), ('CreationDate', \"D:20130826123210+02'00'\"), ('Creator', 'Bibliothèque nationale de France'), ('ModDate', \"D:20250624190557-04'00'\"), ('Producer', 'iText 1.4.8 (by lowagie.com)'), ('Title', \"Cogniard, Théodore (1806-1872),Clairville (1811-1879). As-tu vu la comète, mon gas ? revue de l'année 1858, en 3 actes et 4 tableaux, par MM. Théodore Cogniard et Clairville... (Paris, Variétés, 30 décembre 1858.). 1859.\"), ('source', 'Files\\\\PDFs\\\\As_tu_vu_la_comete_mon_gas_text.pdf'), ('file_path', 'Files\\\\PDFs\\\\As_tu_vu_la_comete_mon_gas_text.pdf'), ('page', 87), ('total_pages', 104), ('CreationDate', \"D:20130826123210+02'00'\"), ('Creator', 'Bibliothèque nationale de France'), ('ModDate', \"D:20250624190557-04'00'\"), ('Producer', 'iText 1.4.8 (by lowagie.com)'), ('Title', \"Cogniard, Théodore (1806-1872),Clairville (1811-1879). As-tu vu la comète, mon gas ? revue de l'année 1858, en 3 actes et 4 tableaux, par MM. Théodore Cogniard et Clairville... (Paris, Variétés, 30 décembre 1858.). 1859.\"), ('source', 'Files\\\\PDFs\\\\As_tu_vu_la_comete_mon_gas_text.pdf'), ('file_path', 'Files\\\\PDFs\\\\As_tu_vu_la_comete_mon_gas_text.pdf'), ('page', 88), ('total_pages', 104), ('CreationDate', \"D:20130826123210+02'00'\"), ('Creator', 'Bibliothèque nationale de France'), ('ModDate', \"D:20250624190557-04'00'\"), ('Producer', 'iText 1.4.8 (by lowagie.com)'), ('Title', \"Cogniard, Théodore (1806-1872),Clairville (1811-1879). As-tu vu la comète, mon gas ? revue de l'année 1858, en 3 actes et 4 tableaux, par MM. Théodore Cogniard et Clairville... (Paris, Variétés, 30 décembre 1858.). 1859.\"), ('source', 'Files\\\\PDFs\\\\As_tu_vu_la_comete_mon_gas_text.pdf'), ('file_path', 'Files\\\\PDFs\\\\As_tu_vu_la_comete_mon_gas_text.pdf'), ('page', 89), ('total_pages', 104), ('CreationDate', \"D:20130826123210+02'00'\"), ('Creator', 'Bibliothèque nationale de France'), ('ModDate', \"D:20250624190557-04'00'\"), ('Producer', 'iText 1.4.8 (by lowagie.com)'), ('Title', \"Cogniard, Théodore (1806-1872),Clairville (1811-1879). As-tu vu la comète, mon gas ? revue de l'année 1858, en 3 actes et 4 tableaux, par MM. Théodore Cogniard et Clairville... (Paris, Variétés, 30 décembre 1858.). 1859.\"), ('source', 'Files\\\\PDFs\\\\As_tu_vu_la_comete_mon_gas_text.pdf'), ('file_path', 'Files\\\\PDFs\\\\As_tu_vu_la_comete_mon_gas_text.pdf'), ('page', 90), ('total_pages', 104), ('CreationDate', \"D:20130826123210+02'00'\"), ('Creator', 'Bibliothèque nationale de France'), ('ModDate', \"D:20250624190557-04'00'\"), ('Producer', 'iText 1.4.8 (by lowagie.com)'), ('Title', \"Cogniard, Théodore (1806-1872),Clairville (1811-1879). As-tu vu la comète, mon gas ? revue de l'année 1858, en 3 actes et 4 tableaux, par MM. Théodore Cogniard et Clairville... (Paris, Variétés, 30 décembre 1858.). 1859.\"), ('source', 'Files\\\\PDFs\\\\As_tu_vu_la_comete_mon_gas_text.pdf'), ('file_path', 'Files\\\\PDFs\\\\As_tu_vu_la_comete_mon_gas_text.pdf'), ('page', 91), ('total_pages', 104), ('CreationDate', \"D:20130826123210+02'00'\"), ('Creator', 'Bibliothèque nationale de France'), ('ModDate', \"D:20250624190557-04'00'\"), ('Producer', 'iText 1.4.8 (by lowagie.com)'), ('Title', \"Cogniard, Théodore (1806-1872),Clairville (1811-1879). As-tu vu la comète, mon gas ? revue de l'année 1858, en 3 actes et 4 tableaux, par MM. Théodore Cogniard et Clairville... (Paris, Variétés, 30 décembre 1858.). 1859.\"), ('source', 'Files\\\\PDFs\\\\As_tu_vu_la_comete_mon_gas_text.pdf'), ('file_path', 'Files\\\\PDFs\\\\As_tu_vu_la_comete_mon_gas_text.pdf'), ('page', 92), ('total_pages', 104), ('CreationDate', \"D:20130826123210+02'00'\"), ('Creator', 'Bibliothèque nationale de France'), ('ModDate', \"D:20250624190557-04'00'\"), ('Producer', 'iText 1.4.8 (by lowagie.com)'), ('Title', \"Cogniard, Théodore (1806-1872),Clairville (1811-1879). As-tu vu la comète, mon gas ? revue de l'année 1858, en 3 actes et 4 tableaux, par MM. Théodore Cogniard et Clairville... (Paris, Variétés, 30 décembre 1858.). 1859.\"), ('source', 'Files\\\\PDFs\\\\As_tu_vu_la_comete_mon_gas_text.pdf'), ('file_path', 'Files\\\\PDFs\\\\As_tu_vu_la_comete_mon_gas_text.pdf'), ('page', 93), ('total_pages', 104), ('CreationDate', \"D:20130826123210+02'00'\"), ('Creator', 'Bibliothèque nationale de France'), ('ModDate', \"D:20250624190557-04'00'\"), ('Producer', 'iText 1.4.8 (by lowagie.com)'), ('Title', \"Cogniard, Théodore (1806-1872),Clairville (1811-1879). As-tu vu la comète, mon gas ? revue de l'année 1858, en 3 actes et 4 tableaux, par MM. Théodore Cogniard et Clairville... (Paris, Variétés, 30 décembre 1858.). 1859.\"), ('source', 'Files\\\\PDFs\\\\As_tu_vu_la_comete_mon_gas_text.pdf'), ('file_path', 'Files\\\\PDFs\\\\As_tu_vu_la_comete_mon_gas_text.pdf'), ('page', 94), ('total_pages', 104), ('CreationDate', \"D:20130826123210+02'00'\"), ('Creator', 'Bibliothèque nationale de France'), ('ModDate', \"D:20250624190557-04'00'\"), ('Producer', 'iText 1.4.8 (by lowagie.com)'), ('Title', \"Cogniard, Théodore (1806-1872),Clairville (1811-1879). As-tu vu la comète, mon gas ? revue de l'année 1858, en 3 actes et 4 tableaux, par MM. Théodore Cogniard et Clairville... (Paris, Variétés, 30 décembre 1858.). 1859.\"), ('source', 'Files\\\\PDFs\\\\As_tu_vu_la_comete_mon_gas_text.pdf'), ('file_path', 'Files\\\\PDFs\\\\As_tu_vu_la_comete_mon_gas_text.pdf'), ('page', 95), ('total_pages', 104), ('CreationDate', \"D:20130826123210+02'00'\"), ('Creator', 'Bibliothèque nationale de France'), ('ModDate', \"D:20250624190557-04'00'\"), ('Producer', 'iText 1.4.8 (by lowagie.com)'), ('Title', \"Cogniard, Théodore (1806-1872),Clairville (1811-1879). As-tu vu la comète, mon gas ? revue de l'année 1858, en 3 actes et 4 tableaux, par MM. Théodore Cogniard et Clairville... (Paris, Variétés, 30 décembre 1858.). 1859.\"), ('source', 'Files\\\\PDFs\\\\As_tu_vu_la_comete_mon_gas_text.pdf'), ('file_path', 'Files\\\\PDFs\\\\As_tu_vu_la_comete_mon_gas_text.pdf'), ('page', 96), ('total_pages', 104), ('CreationDate', \"D:20130826123210+02'00'\"), ('Creator', 'Bibliothèque nationale de France'), ('ModDate', \"D:20250624190557-04'00'\"), ('Producer', 'iText 1.4.8 (by lowagie.com)'), ('Title', \"Cogniard, Théodore (1806-1872),Clairville (1811-1879). As-tu vu la comète, mon gas ? revue de l'année 1858, en 3 actes et 4 tableaux, par MM. Théodore Cogniard et Clairville... (Paris, Variétés, 30 décembre 1858.). 1859.\"), ('source', 'Files\\\\PDFs\\\\As_tu_vu_la_comete_mon_gas_text.pdf'), ('file_path', 'Files\\\\PDFs\\\\As_tu_vu_la_comete_mon_gas_text.pdf'), ('page', 97), ('total_pages', 104), ('CreationDate', \"D:20130826123210+02'00'\"), ('Creator', 'Bibliothèque nationale de France'), ('ModDate', \"D:20250624190557-04'00'\"), ('Producer', 'iText 1.4.8 (by lowagie.com)'), ('Title', \"Cogniard, Théodore (1806-1872),Clairville (1811-1879). As-tu vu la comète, mon gas ? revue de l'année 1858, en 3 actes et 4 tableaux, par MM. Théodore Cogniard et Clairville... (Paris, Variétés, 30 décembre 1858.). 1859.\"), ('source', 'Files\\\\PDFs\\\\As_tu_vu_la_comete_mon_gas_text.pdf'), ('file_path', 'Files\\\\PDFs\\\\As_tu_vu_la_comete_mon_gas_text.pdf'), ('page', 98), ('total_pages', 104), ('CreationDate', \"D:20130826123210+02'00'\"), ('Creator', 'Bibliothèque nationale de France'), ('ModDate', \"D:20250624190557-04'00'\"), ('Producer', 'iText 1.4.8 (by lowagie.com)'), ('Title', \"Cogniard, Théodore (1806-1872),Clairville (1811-1879). As-tu vu la comète, mon gas ? revue de l'année 1858, en 3 actes et 4 tableaux, par MM. Théodore Cogniard et Clairville... (Paris, Variétés, 30 décembre 1858.). 1859.\"), ('source', 'Files\\\\PDFs\\\\As_tu_vu_la_comete_mon_gas_text.pdf'), ('file_path', 'Files\\\\PDFs\\\\As_tu_vu_la_comete_mon_gas_text.pdf'), ('page', 99), ('total_pages', 104), ('CreationDate', \"D:20130826123210+02'00'\"), ('Creator', 'Bibliothèque nationale de France'), ('ModDate', \"D:20250624190557-04'00'\"), ('Producer', 'iText 1.4.8 (by lowagie.com)'), ('Title', \"Cogniard, Théodore (1806-1872),Clairville (1811-1879). As-tu vu la comète, mon gas ? revue de l'année 1858, en 3 actes et 4 tableaux, par MM. Théodore Cogniard et Clairville... (Paris, Variétés, 30 décembre 1858.). 1859.\"), ('source', 'Files\\\\PDFs\\\\As_tu_vu_la_comete_mon_gas_text.pdf'), ('file_path', 'Files\\\\PDFs\\\\As_tu_vu_la_comete_mon_gas_text.pdf'), ('page', 100), ('total_pages', 104), ('CreationDate', \"D:20130826123210+02'00'\"), ('Creator', 'Bibliothèque nationale de France'), ('ModDate', \"D:20250624190557-04'00'\"), ('Producer', 'iText 1.4.8 (by lowagie.com)'), ('Title', \"Cogniard, Théodore (1806-1872),Clairville (1811-1879). As-tu vu la comète, mon gas ? revue de l'année 1858, en 3 actes et 4 tableaux, par MM. Théodore Cogniard et Clairville... (Paris, Variétés, 30 décembre 1858.). 1859.\"), ('source', 'Files\\\\PDFs\\\\As_tu_vu_la_comete_mon_gas_text.pdf'), ('file_path', 'Files\\\\PDFs\\\\As_tu_vu_la_comete_mon_gas_text.pdf'), ('page', 101), ('total_pages', 104), ('CreationDate', \"D:20130826123210+02'00'\"), ('Creator', 'Bibliothèque nationale de France'), ('ModDate', \"D:20250624190557-04'00'\"), ('Producer', 'iText 1.4.8 (by lowagie.com)'), ('Title', \"Cogniard, Théodore (1806-1872),Clairville (1811-1879). As-tu vu la comète, mon gas ? revue de l'année 1858, en 3 actes et 4 tableaux, par MM. Théodore Cogniard et Clairville... (Paris, Variétés, 30 décembre 1858.). 1859.\"), ('source', 'Files\\\\PDFs\\\\As_tu_vu_la_comete_mon_gas_text.pdf'), ('file_path', 'Files\\\\PDFs\\\\As_tu_vu_la_comete_mon_gas_text.pdf'), ('page', 102), ('total_pages', 104), ('CreationDate', \"D:20130826123210+02'00'\"), ('Creator', 'Bibliothèque nationale de France'), ('ModDate', \"D:20250624190557-04'00'\"), ('Producer', 'iText 1.4.8 (by lowagie.com)'), ('Title', \"Cogniard, Théodore (1806-1872),Clairville (1811-1879). As-tu vu la comète, mon gas ? revue de l'année 1858, en 3 actes et 4 tableaux, par MM. Théodore Cogniard et Clairville... (Paris, Variétés, 30 décembre 1858.). 1859.\"), ('source', 'Files\\\\PDFs\\\\As_tu_vu_la_comete_mon_gas_text.pdf'), ('file_path', 'Files\\\\PDFs\\\\As_tu_vu_la_comete_mon_gas_text.pdf'), ('page', 103), ('total_pages', 104), ('CreationDate', \"D:20130826123210+02'00'\"), ('Creator', 'Bibliothèque nationale de France'), ('ModDate', \"D:20250624190557-04'00'\"), ('Producer', 'iText 1.4.8 (by lowagie.com)'), ('Title', \"Cogniard, Théodore (1806-1872),Clairville (1811-1879). As-tu vu la comète, mon gas ? revue de l'année 1858, en 3 actes et 4 tableaux, par MM. Théodore Cogniard et Clairville... (Paris, Variétés, 30 décembre 1858.). 1859.\")]\n",
      "Document 1 \n",
      "\n",
      "[('source', 'Files\\\\PDFs\\\\Brutus_ou_le_dernier_soldat.pdf'), ('file_path', 'Files\\\\PDFs\\\\Brutus_ou_le_dernier_soldat.pdf'), ('page', 0), ('total_pages', 47), ('ModDate', \"D:20250624190336-04'00'\"), ('source', 'Files\\\\PDFs\\\\Brutus_ou_le_dernier_soldat.pdf'), ('file_path', 'Files\\\\PDFs\\\\Brutus_ou_le_dernier_soldat.pdf'), ('page', 1), ('total_pages', 47), ('ModDate', \"D:20250624190336-04'00'\"), ('source', 'Files\\\\PDFs\\\\Brutus_ou_le_dernier_soldat.pdf'), ('file_path', 'Files\\\\PDFs\\\\Brutus_ou_le_dernier_soldat.pdf'), ('page', 2), ('total_pages', 47), ('ModDate', \"D:20250624190336-04'00'\"), ('source', 'Files\\\\PDFs\\\\Brutus_ou_le_dernier_soldat.pdf'), ('file_path', 'Files\\\\PDFs\\\\Brutus_ou_le_dernier_soldat.pdf'), ('page', 3), ('total_pages', 47), ('ModDate', \"D:20250624190336-04'00'\"), ('source', 'Files\\\\PDFs\\\\Brutus_ou_le_dernier_soldat.pdf'), ('file_path', 'Files\\\\PDFs\\\\Brutus_ou_le_dernier_soldat.pdf'), ('page', 4), ('total_pages', 47), ('ModDate', \"D:20250624190336-04'00'\"), ('source', 'Files\\\\PDFs\\\\Brutus_ou_le_dernier_soldat.pdf'), ('file_path', 'Files\\\\PDFs\\\\Brutus_ou_le_dernier_soldat.pdf'), ('page', 5), ('total_pages', 47), ('ModDate', \"D:20250624190336-04'00'\"), ('source', 'Files\\\\PDFs\\\\Brutus_ou_le_dernier_soldat.pdf'), ('file_path', 'Files\\\\PDFs\\\\Brutus_ou_le_dernier_soldat.pdf'), ('page', 6), ('total_pages', 47), ('ModDate', \"D:20250624190336-04'00'\"), ('source', 'Files\\\\PDFs\\\\Brutus_ou_le_dernier_soldat.pdf'), ('file_path', 'Files\\\\PDFs\\\\Brutus_ou_le_dernier_soldat.pdf'), ('page', 7), ('total_pages', 47), ('ModDate', \"D:20250624190336-04'00'\"), ('source', 'Files\\\\PDFs\\\\Brutus_ou_le_dernier_soldat.pdf'), ('file_path', 'Files\\\\PDFs\\\\Brutus_ou_le_dernier_soldat.pdf'), ('page', 8), ('total_pages', 47), ('ModDate', \"D:20250624190336-04'00'\"), ('source', 'Files\\\\PDFs\\\\Brutus_ou_le_dernier_soldat.pdf'), ('file_path', 'Files\\\\PDFs\\\\Brutus_ou_le_dernier_soldat.pdf'), ('page', 9), ('total_pages', 47), ('ModDate', \"D:20250624190336-04'00'\"), ('source', 'Files\\\\PDFs\\\\Brutus_ou_le_dernier_soldat.pdf'), ('file_path', 'Files\\\\PDFs\\\\Brutus_ou_le_dernier_soldat.pdf'), ('page', 10), ('total_pages', 47), ('ModDate', \"D:20250624190336-04'00'\"), ('source', 'Files\\\\PDFs\\\\Brutus_ou_le_dernier_soldat.pdf'), ('file_path', 'Files\\\\PDFs\\\\Brutus_ou_le_dernier_soldat.pdf'), ('page', 11), ('total_pages', 47), ('ModDate', \"D:20250624190336-04'00'\"), ('source', 'Files\\\\PDFs\\\\Brutus_ou_le_dernier_soldat.pdf'), ('file_path', 'Files\\\\PDFs\\\\Brutus_ou_le_dernier_soldat.pdf'), ('page', 12), ('total_pages', 47), ('ModDate', \"D:20250624190336-04'00'\"), ('source', 'Files\\\\PDFs\\\\Brutus_ou_le_dernier_soldat.pdf'), ('file_path', 'Files\\\\PDFs\\\\Brutus_ou_le_dernier_soldat.pdf'), ('page', 13), ('total_pages', 47), ('ModDate', \"D:20250624190336-04'00'\"), ('source', 'Files\\\\PDFs\\\\Brutus_ou_le_dernier_soldat.pdf'), ('file_path', 'Files\\\\PDFs\\\\Brutus_ou_le_dernier_soldat.pdf'), ('page', 14), ('total_pages', 47), ('ModDate', \"D:20250624190336-04'00'\"), ('source', 'Files\\\\PDFs\\\\Brutus_ou_le_dernier_soldat.pdf'), ('file_path', 'Files\\\\PDFs\\\\Brutus_ou_le_dernier_soldat.pdf'), ('page', 15), ('total_pages', 47), ('ModDate', \"D:20250624190336-04'00'\"), ('source', 'Files\\\\PDFs\\\\Brutus_ou_le_dernier_soldat.pdf'), ('file_path', 'Files\\\\PDFs\\\\Brutus_ou_le_dernier_soldat.pdf'), ('page', 16), ('total_pages', 47), ('ModDate', \"D:20250624190336-04'00'\"), ('source', 'Files\\\\PDFs\\\\Brutus_ou_le_dernier_soldat.pdf'), ('file_path', 'Files\\\\PDFs\\\\Brutus_ou_le_dernier_soldat.pdf'), ('page', 17), ('total_pages', 47), ('ModDate', \"D:20250624190336-04'00'\"), ('source', 'Files\\\\PDFs\\\\Brutus_ou_le_dernier_soldat.pdf'), ('file_path', 'Files\\\\PDFs\\\\Brutus_ou_le_dernier_soldat.pdf'), ('page', 18), ('total_pages', 47), ('ModDate', \"D:20250624190336-04'00'\"), ('source', 'Files\\\\PDFs\\\\Brutus_ou_le_dernier_soldat.pdf'), ('file_path', 'Files\\\\PDFs\\\\Brutus_ou_le_dernier_soldat.pdf'), ('page', 19), ('total_pages', 47), ('ModDate', \"D:20250624190336-04'00'\"), ('source', 'Files\\\\PDFs\\\\Brutus_ou_le_dernier_soldat.pdf'), ('file_path', 'Files\\\\PDFs\\\\Brutus_ou_le_dernier_soldat.pdf'), ('page', 20), ('total_pages', 47), ('ModDate', \"D:20250624190336-04'00'\"), ('source', 'Files\\\\PDFs\\\\Brutus_ou_le_dernier_soldat.pdf'), ('file_path', 'Files\\\\PDFs\\\\Brutus_ou_le_dernier_soldat.pdf'), ('page', 21), ('total_pages', 47), ('ModDate', \"D:20250624190336-04'00'\"), ('source', 'Files\\\\PDFs\\\\Brutus_ou_le_dernier_soldat.pdf'), ('file_path', 'Files\\\\PDFs\\\\Brutus_ou_le_dernier_soldat.pdf'), ('page', 22), ('total_pages', 47), ('ModDate', \"D:20250624190336-04'00'\"), ('source', 'Files\\\\PDFs\\\\Brutus_ou_le_dernier_soldat.pdf'), ('file_path', 'Files\\\\PDFs\\\\Brutus_ou_le_dernier_soldat.pdf'), ('page', 23), ('total_pages', 47), ('ModDate', \"D:20250624190336-04'00'\"), ('source', 'Files\\\\PDFs\\\\Brutus_ou_le_dernier_soldat.pdf'), ('file_path', 'Files\\\\PDFs\\\\Brutus_ou_le_dernier_soldat.pdf'), ('page', 24), ('total_pages', 47), ('ModDate', \"D:20250624190336-04'00'\"), ('source', 'Files\\\\PDFs\\\\Brutus_ou_le_dernier_soldat.pdf'), ('file_path', 'Files\\\\PDFs\\\\Brutus_ou_le_dernier_soldat.pdf'), ('page', 25), ('total_pages', 47), ('ModDate', \"D:20250624190336-04'00'\"), ('source', 'Files\\\\PDFs\\\\Brutus_ou_le_dernier_soldat.pdf'), ('file_path', 'Files\\\\PDFs\\\\Brutus_ou_le_dernier_soldat.pdf'), ('page', 26), ('total_pages', 47), ('ModDate', \"D:20250624190336-04'00'\"), ('source', 'Files\\\\PDFs\\\\Brutus_ou_le_dernier_soldat.pdf'), ('file_path', 'Files\\\\PDFs\\\\Brutus_ou_le_dernier_soldat.pdf'), ('page', 27), ('total_pages', 47), ('ModDate', \"D:20250624190336-04'00'\"), ('source', 'Files\\\\PDFs\\\\Brutus_ou_le_dernier_soldat.pdf'), ('file_path', 'Files\\\\PDFs\\\\Brutus_ou_le_dernier_soldat.pdf'), ('page', 28), ('total_pages', 47), ('ModDate', \"D:20250624190336-04'00'\"), ('source', 'Files\\\\PDFs\\\\Brutus_ou_le_dernier_soldat.pdf'), ('file_path', 'Files\\\\PDFs\\\\Brutus_ou_le_dernier_soldat.pdf'), ('page', 29), ('total_pages', 47), ('ModDate', \"D:20250624190336-04'00'\"), ('source', 'Files\\\\PDFs\\\\Brutus_ou_le_dernier_soldat.pdf'), ('file_path', 'Files\\\\PDFs\\\\Brutus_ou_le_dernier_soldat.pdf'), ('page', 30), ('total_pages', 47), ('ModDate', \"D:20250624190336-04'00'\"), ('source', 'Files\\\\PDFs\\\\Brutus_ou_le_dernier_soldat.pdf'), ('file_path', 'Files\\\\PDFs\\\\Brutus_ou_le_dernier_soldat.pdf'), ('page', 31), ('total_pages', 47), ('ModDate', \"D:20250624190336-04'00'\"), ('source', 'Files\\\\PDFs\\\\Brutus_ou_le_dernier_soldat.pdf'), ('file_path', 'Files\\\\PDFs\\\\Brutus_ou_le_dernier_soldat.pdf'), ('page', 32), ('total_pages', 47), ('ModDate', \"D:20250624190336-04'00'\"), ('source', 'Files\\\\PDFs\\\\Brutus_ou_le_dernier_soldat.pdf'), ('file_path', 'Files\\\\PDFs\\\\Brutus_ou_le_dernier_soldat.pdf'), ('page', 33), ('total_pages', 47), ('ModDate', \"D:20250624190336-04'00'\"), ('source', 'Files\\\\PDFs\\\\Brutus_ou_le_dernier_soldat.pdf'), ('file_path', 'Files\\\\PDFs\\\\Brutus_ou_le_dernier_soldat.pdf'), ('page', 34), ('total_pages', 47), ('ModDate', \"D:20250624190336-04'00'\"), ('source', 'Files\\\\PDFs\\\\Brutus_ou_le_dernier_soldat.pdf'), ('file_path', 'Files\\\\PDFs\\\\Brutus_ou_le_dernier_soldat.pdf'), ('page', 35), ('total_pages', 47), ('ModDate', \"D:20250624190336-04'00'\"), ('source', 'Files\\\\PDFs\\\\Brutus_ou_le_dernier_soldat.pdf'), ('file_path', 'Files\\\\PDFs\\\\Brutus_ou_le_dernier_soldat.pdf'), ('page', 36), ('total_pages', 47), ('ModDate', \"D:20250624190336-04'00'\"), ('source', 'Files\\\\PDFs\\\\Brutus_ou_le_dernier_soldat.pdf'), ('file_path', 'Files\\\\PDFs\\\\Brutus_ou_le_dernier_soldat.pdf'), ('page', 37), ('total_pages', 47), ('ModDate', \"D:20250624190336-04'00'\"), ('source', 'Files\\\\PDFs\\\\Brutus_ou_le_dernier_soldat.pdf'), ('file_path', 'Files\\\\PDFs\\\\Brutus_ou_le_dernier_soldat.pdf'), ('page', 38), ('total_pages', 47), ('ModDate', \"D:20250624190336-04'00'\"), ('source', 'Files\\\\PDFs\\\\Brutus_ou_le_dernier_soldat.pdf'), ('file_path', 'Files\\\\PDFs\\\\Brutus_ou_le_dernier_soldat.pdf'), ('page', 39), ('total_pages', 47), ('ModDate', \"D:20250624190336-04'00'\"), ('source', 'Files\\\\PDFs\\\\Brutus_ou_le_dernier_soldat.pdf'), ('file_path', 'Files\\\\PDFs\\\\Brutus_ou_le_dernier_soldat.pdf'), ('page', 40), ('total_pages', 47), ('ModDate', \"D:20250624190336-04'00'\"), ('source', 'Files\\\\PDFs\\\\Brutus_ou_le_dernier_soldat.pdf'), ('file_path', 'Files\\\\PDFs\\\\Brutus_ou_le_dernier_soldat.pdf'), ('page', 41), ('total_pages', 47), ('ModDate', \"D:20250624190336-04'00'\"), ('source', 'Files\\\\PDFs\\\\Brutus_ou_le_dernier_soldat.pdf'), ('file_path', 'Files\\\\PDFs\\\\Brutus_ou_le_dernier_soldat.pdf'), ('page', 42), ('total_pages', 47), ('ModDate', \"D:20250624190336-04'00'\"), ('source', 'Files\\\\PDFs\\\\Brutus_ou_le_dernier_soldat.pdf'), ('file_path', 'Files\\\\PDFs\\\\Brutus_ou_le_dernier_soldat.pdf'), ('page', 43), ('total_pages', 47), ('ModDate', \"D:20250624190336-04'00'\"), ('source', 'Files\\\\PDFs\\\\Brutus_ou_le_dernier_soldat.pdf'), ('file_path', 'Files\\\\PDFs\\\\Brutus_ou_le_dernier_soldat.pdf'), ('page', 44), ('total_pages', 47), ('ModDate', \"D:20250624190336-04'00'\"), ('source', 'Files\\\\PDFs\\\\Brutus_ou_le_dernier_soldat.pdf'), ('file_path', 'Files\\\\PDFs\\\\Brutus_ou_le_dernier_soldat.pdf'), ('page', 45), ('total_pages', 47), ('ModDate', \"D:20250624190336-04'00'\"), ('source', 'Files\\\\PDFs\\\\Brutus_ou_le_dernier_soldat.pdf'), ('file_path', 'Files\\\\PDFs\\\\Brutus_ou_le_dernier_soldat.pdf'), ('page', 46), ('total_pages', 47), ('ModDate', \"D:20250624190336-04'00'\")]\n",
      "Document 2 \n",
      "\n",
      "[('source', 'Files\\\\PDFs\\\\Clairville_Garet_Le_Palais_de_Chrysocale_(1855).pdf'), ('file_path', 'Files\\\\PDFs\\\\Clairville_Garet_Le_Palais_de_Chrysocale_(1855).pdf'), ('page', 0), ('total_pages', 14), ('Author', 'Clairville (M.)'), ('ModDate', \"D:20250624190059-04'00'\"), ('Producer', 'Google Books PDF Converter (rel 3 12/12/14)'), ('Title', 'Le palais de chrysocale ou les exposants et les exposés'), ('source', 'Files\\\\PDFs\\\\Clairville_Garet_Le_Palais_de_Chrysocale_(1855).pdf'), ('file_path', 'Files\\\\PDFs\\\\Clairville_Garet_Le_Palais_de_Chrysocale_(1855).pdf'), ('page', 1), ('total_pages', 14), ('Author', 'Clairville (M.)'), ('ModDate', \"D:20250624190059-04'00'\"), ('Producer', 'Google Books PDF Converter (rel 3 12/12/14)'), ('Title', 'Le palais de chrysocale ou les exposants et les exposés'), ('source', 'Files\\\\PDFs\\\\Clairville_Garet_Le_Palais_de_Chrysocale_(1855).pdf'), ('file_path', 'Files\\\\PDFs\\\\Clairville_Garet_Le_Palais_de_Chrysocale_(1855).pdf'), ('page', 2), ('total_pages', 14), ('Author', 'Clairville (M.)'), ('ModDate', \"D:20250624190059-04'00'\"), ('Producer', 'Google Books PDF Converter (rel 3 12/12/14)'), ('Title', 'Le palais de chrysocale ou les exposants et les exposés'), ('source', 'Files\\\\PDFs\\\\Clairville_Garet_Le_Palais_de_Chrysocale_(1855).pdf'), ('file_path', 'Files\\\\PDFs\\\\Clairville_Garet_Le_Palais_de_Chrysocale_(1855).pdf'), ('page', 3), ('total_pages', 14), ('Author', 'Clairville (M.)'), ('ModDate', \"D:20250624190059-04'00'\"), ('Producer', 'Google Books PDF Converter (rel 3 12/12/14)'), ('Title', 'Le palais de chrysocale ou les exposants et les exposés'), ('source', 'Files\\\\PDFs\\\\Clairville_Garet_Le_Palais_de_Chrysocale_(1855).pdf'), ('file_path', 'Files\\\\PDFs\\\\Clairville_Garet_Le_Palais_de_Chrysocale_(1855).pdf'), ('page', 4), ('total_pages', 14), ('Author', 'Clairville (M.)'), ('ModDate', \"D:20250624190059-04'00'\"), ('Producer', 'Google Books PDF Converter (rel 3 12/12/14)'), ('Title', 'Le palais de chrysocale ou les exposants et les exposés'), ('source', 'Files\\\\PDFs\\\\Clairville_Garet_Le_Palais_de_Chrysocale_(1855).pdf'), ('file_path', 'Files\\\\PDFs\\\\Clairville_Garet_Le_Palais_de_Chrysocale_(1855).pdf'), ('page', 5), ('total_pages', 14), ('Author', 'Clairville (M.)'), ('ModDate', \"D:20250624190059-04'00'\"), ('Producer', 'Google Books PDF Converter (rel 3 12/12/14)'), ('Title', 'Le palais de chrysocale ou les exposants et les exposés'), ('source', 'Files\\\\PDFs\\\\Clairville_Garet_Le_Palais_de_Chrysocale_(1855).pdf'), ('file_path', 'Files\\\\PDFs\\\\Clairville_Garet_Le_Palais_de_Chrysocale_(1855).pdf'), ('page', 6), ('total_pages', 14), ('Author', 'Clairville (M.)'), ('ModDate', \"D:20250624190059-04'00'\"), ('Producer', 'Google Books PDF Converter (rel 3 12/12/14)'), ('Title', 'Le palais de chrysocale ou les exposants et les exposés'), ('source', 'Files\\\\PDFs\\\\Clairville_Garet_Le_Palais_de_Chrysocale_(1855).pdf'), ('file_path', 'Files\\\\PDFs\\\\Clairville_Garet_Le_Palais_de_Chrysocale_(1855).pdf'), ('page', 7), ('total_pages', 14), ('Author', 'Clairville (M.)'), ('ModDate', \"D:20250624190059-04'00'\"), ('Producer', 'Google Books PDF Converter (rel 3 12/12/14)'), ('Title', 'Le palais de chrysocale ou les exposants et les exposés'), ('source', 'Files\\\\PDFs\\\\Clairville_Garet_Le_Palais_de_Chrysocale_(1855).pdf'), ('file_path', 'Files\\\\PDFs\\\\Clairville_Garet_Le_Palais_de_Chrysocale_(1855).pdf'), ('page', 8), ('total_pages', 14), ('Author', 'Clairville (M.)'), ('ModDate', \"D:20250624190059-04'00'\"), ('Producer', 'Google Books PDF Converter (rel 3 12/12/14)'), ('Title', 'Le palais de chrysocale ou les exposants et les exposés'), ('source', 'Files\\\\PDFs\\\\Clairville_Garet_Le_Palais_de_Chrysocale_(1855).pdf'), ('file_path', 'Files\\\\PDFs\\\\Clairville_Garet_Le_Palais_de_Chrysocale_(1855).pdf'), ('page', 9), ('total_pages', 14), ('Author', 'Clairville (M.)'), ('ModDate', \"D:20250624190059-04'00'\"), ('Producer', 'Google Books PDF Converter (rel 3 12/12/14)'), ('Title', 'Le palais de chrysocale ou les exposants et les exposés'), ('source', 'Files\\\\PDFs\\\\Clairville_Garet_Le_Palais_de_Chrysocale_(1855).pdf'), ('file_path', 'Files\\\\PDFs\\\\Clairville_Garet_Le_Palais_de_Chrysocale_(1855).pdf'), ('page', 10), ('total_pages', 14), ('Author', 'Clairville (M.)'), ('ModDate', \"D:20250624190059-04'00'\"), ('Producer', 'Google Books PDF Converter (rel 3 12/12/14)'), ('Title', 'Le palais de chrysocale ou les exposants et les exposés'), ('source', 'Files\\\\PDFs\\\\Clairville_Garet_Le_Palais_de_Chrysocale_(1855).pdf'), ('file_path', 'Files\\\\PDFs\\\\Clairville_Garet_Le_Palais_de_Chrysocale_(1855).pdf'), ('page', 11), ('total_pages', 14), ('Author', 'Clairville (M.)'), ('ModDate', \"D:20250624190059-04'00'\"), ('Producer', 'Google Books PDF Converter (rel 3 12/12/14)'), ('Title', 'Le palais de chrysocale ou les exposants et les exposés'), ('source', 'Files\\\\PDFs\\\\Clairville_Garet_Le_Palais_de_Chrysocale_(1855).pdf'), ('file_path', 'Files\\\\PDFs\\\\Clairville_Garet_Le_Palais_de_Chrysocale_(1855).pdf'), ('page', 12), ('total_pages', 14), ('Author', 'Clairville (M.)'), ('ModDate', \"D:20250624190059-04'00'\"), ('Producer', 'Google Books PDF Converter (rel 3 12/12/14)'), ('Title', 'Le palais de chrysocale ou les exposants et les exposés'), ('source', 'Files\\\\PDFs\\\\Clairville_Garet_Le_Palais_de_Chrysocale_(1855).pdf'), ('file_path', 'Files\\\\PDFs\\\\Clairville_Garet_Le_Palais_de_Chrysocale_(1855).pdf'), ('page', 13), ('total_pages', 14), ('Author', 'Clairville (M.)'), ('ModDate', \"D:20250624190059-04'00'\"), ('Producer', 'Google Books PDF Converter (rel 3 12/12/14)'), ('Title', 'Le palais de chrysocale ou les exposants et les exposés')]\n"
     ]
    }
   ],
   "source": [
    "# Check PDF metadata\n",
    "for i in range(3):\n",
    "    document = loaded_PDFs[i]\n",
    "    print(f\"Document {i} \\n\")\n",
    "    document_metadata: list = []\n",
    "    for document_page in document:\n",
    "        document_metadata += document_page.metadata.items()\n",
    "    print(document_metadata)"
   ]
  },
  {
   "cell_type": "markdown",
   "id": "41b3f8eb",
   "metadata": {},
   "source": [
    "So, some of this info is useful and some isn't.\n",
    "\n",
    "We should keep:\n",
    "* Source (but clean it so it's just the filename)\n",
    "* Filepath\n",
    "* Page\n",
    "* Total pages\n",
    "* Creator\n",
    "* Title\n",
    "\n",
    "We should remove:\n",
    "* CreationDate (the date it was turned to pdf is not relevant)\n",
    "* ModDate\n",
    "* Producer\n",
    "\n",
    "We also want to add the CSV metadata in as extra rows in the metadata dictionary"
   ]
  },
  {
   "cell_type": "code",
   "execution_count": 11,
   "id": "e0981b1b",
   "metadata": {},
   "outputs": [
    {
     "name": "stdout",
     "output_type": "stream",
     "text": [
      "As_tu_vu_la_comete_mon_gas_text.pdf\n",
      "Brutus_ou_le_dernier_soldat.pdf\n",
      "Clairville_Garet_Le_Palais_de_Chrysocale_(1855).pdf\n",
      "Clairville_Thiboust_Le_quart_du_monde_(1855).pdf\n",
      "Coraly_ou_la_soeur_et_le_Frere.pdf\n",
      "Dupin_Dumanoir_La_toque_bleue_(1834).pdf\n"
     ]
    }
   ],
   "source": [
    "# Cleaning the sources to match with the CSV source names\n",
    "for i,source in enumerate(loaded_PDFs):\n",
    "    for page in source:\n",
    "        page.metadata['source'] = page.metadata['source'].replace(\"Files\\\\PDFs\\\\\", \"\")\n",
    "    if i < 6:\n",
    "        print(source[0].metadata['source'])"
   ]
  },
  {
   "cell_type": "code",
   "execution_count": 28,
   "id": "523ed3b9",
   "metadata": {},
   "outputs": [],
   "source": [
    "# Sorting both the CSV and PDF metadata to match\n",
    "csv_metadata.sort(key=lambda x: x.metadata['source'])\n",
    "loaded_PDFs.sort(key=lambda x: x[0].metadata['source'])"
   ]
  },
  {
   "cell_type": "code",
   "execution_count": 29,
   "id": "8701f5f8",
   "metadata": {},
   "outputs": [],
   "source": [
    "# Use assert to ensure the sources match\n",
    "for i in range(32,len(csv_metadata)):\n",
    "    assert csv_metadata[i].metadata['source'] == loaded_PDFs[i][0].metadata['source'], f\"Mismatch at index {i}: {csv_metadata[i].metadata['source']} != {loaded_PDFs[i][0].metadata['source']}\""
   ]
  },
  {
   "cell_type": "markdown",
   "id": "dea387c1",
   "metadata": {},
   "source": [
    "I had to change the lower index because there were various slight mismatches, but we've checked that all files are actually the same so we're moving on."
   ]
  },
  {
   "cell_type": "markdown",
   "id": "1a5dcdcf",
   "metadata": {},
   "source": [
    "#### Cleaning PDF Metadata and Adding CSV Content"
   ]
  },
  {
   "cell_type": "markdown",
   "id": "a4f7e272",
   "metadata": {},
   "source": [
    "We should remove:\n",
    "* CreationDate (the date it was turned to pdf is not relevant)\n",
    "* ModDate\n",
    "* Producer"
   ]
  },
  {
   "cell_type": "code",
   "execution_count": 30,
   "id": "f07b78c2",
   "metadata": {},
   "outputs": [
    {
     "name": "stdout",
     "output_type": "stream",
     "text": [
      "35\n",
      "35\n"
     ]
    }
   ],
   "source": [
    "print(len(csv_metadata))\n",
    "print(len(loaded_PDFs))"
   ]
  },
  {
   "cell_type": "code",
   "execution_count": 33,
   "id": "b3c20c6f",
   "metadata": {},
   "outputs": [
    {
     "name": "stdout",
     "output_type": "stream",
     "text": [
      "{'source': 'As_tu_vu_la_comete_mon_gas_text.pdf', 'file_path': 'Files\\\\PDFs\\\\As_tu_vu_la_comete_mon_gas_text.pdf', 'page': 0, 'total_pages': 104, 'Creator': 'Bibliothèque nationale de France', 'Title': \"Cogniard, Théodore (1806-1872),Clairville (1811-1879). As-tu vu la comète, mon gas ? revue de l'année 1858, en 3 actes et 4 tableaux, par MM. Théodore Cogniard et Clairville... (Paris, Variétés, 30 décembre 1858.). 1859.\", 'row': 0, 'Year': '1858', 'Work': 'As-tu vu la comète, mon gas?', 'Theatre': 'Théâtre des Variétés'}\n",
      "{'source': 'Brutus_ou_le_dernier_soldat.pdf', 'file_path': 'Files\\\\PDFs\\\\Brutus_ou_le_dernier_soldat.pdf', 'page': 0, 'total_pages': 47, 'row': 1, 'Year': '1843', 'Work': 'Brutus ou le dernier soldat du guet', 'Theatre': 'Théâtre du Vaudeville'}\n",
      "{'source': 'Clairville_Garet_Le_Palais_de_Chrysocale_(1855).pdf', 'file_path': 'Files\\\\PDFs\\\\Clairville_Garet_Le_Palais_de_Chrysocale_(1855).pdf', 'page': 0, 'total_pages': 14, 'Author': 'Clairville (M.)', 'Title': 'Le palais de chrysocale ou les exposants et les exposés', 'row': 2, 'Year': '1855', 'Work': 'Le Palais de Chrysocale', 'Theatre': 'Théâtre des Variétés'}\n",
      "{'source': 'Clairville_Thiboust_Le_quart_du_monde_(1855).pdf', 'file_path': 'Files\\\\PDFs\\\\Clairville_Thiboust_Le_quart_du_monde_(1855).pdf', 'page': 0, 'total_pages': 10, 'Author': 'Lambert-Thiboust (1826-1867)', 'Creator': 'Bibliothèque nationale de France', 'Title': 'Le Quart de monde, ou le Danger d\\'une particulière pleine de malice pour un individu vraiment impressionnable (parodie du \"Demi-monde\"), étude réaliste mêlée de couplets et d\\'effets de style, par MM. Clairville et Lambert ...', 'row': 3, 'Year': '1855', 'Work': 'Le Quart de Monde', 'Theatre': 'Théâtre des Variétés'}\n",
      "{'source': 'Coraly_ou_la_soeur_et_le_Frere.pdf', 'file_path': 'Files\\\\PDFs\\\\Coraly_ou_la_soeur_et_le_Frere.pdf', 'page': 0, 'total_pages': 47, 'Author': 'Eugène Scribe', 'Title': 'Coraly, ou la soeur et le Frere, comedie-vaudeville en 1 acte', 'row': 4, 'Year': '1824', 'Work': 'Coraly', 'Theatre': 'Théâtre du Gymnase-Dramatique'}\n"
     ]
    }
   ],
   "source": [
    "irrelevant_metadata = ['CreationDate', 'ModDate', 'Producer']\n",
    "\n",
    "for i in range(len(loaded_PDFs)):\n",
    "    document = loaded_PDFs[i]\n",
    "    for page in document:\n",
    "        for key in irrelevant_metadata:\n",
    "            if key in page.metadata:\n",
    "                del page.metadata[key]\n",
    "        # Add the category and year from the CSV metadata\n",
    "        # assert page.metadata['source'] == csv_metadata[i].metadata['source'], \"Source mismatch between PDF and CSV metadata\"\n",
    "        for row in csv_metadata[i].metadata.items():\n",
    "            page.metadata.update({row[0]: row[1]})\n",
    "\n",
    "for i in range(5):\n",
    "    document = loaded_PDFs[i]\n",
    "    print(document[0].metadata)"
   ]
  },
  {
   "cell_type": "code",
   "execution_count": 34,
   "id": "79b9ec67",
   "metadata": {},
   "outputs": [],
   "source": [
    "# Convert each sublist into a single document\n",
    "def convert_list_to_document(pages: list) -> Document:\n",
    "    document_content: str = \"\"\n",
    "    for page in pages:\n",
    "        document_content += page.page_content\n",
    "    document: Document = Document(\n",
    "        page_content=document_content,\n",
    "        metadata=pages[0].metadata  # Use the metadata from the first page\n",
    "    )\n",
    "    return document\n",
    "\n",
    "# Convert loaded PDFs to documents\n",
    "docs = []\n",
    "for source in loaded_PDFs:\n",
    "    doc = convert_list_to_document(source)\n",
    "    docs.append(doc)  # Append the single Document object"
   ]
  },
  {
   "cell_type": "code",
   "execution_count": 38,
   "id": "811de870",
   "metadata": {},
   "outputs": [
    {
     "name": "stdout",
     "output_type": "stream",
     "text": [
      "N, Espagnole........ BODIN.\n",
      "LISBETH, Allemande.. MARIE.\n",
      "..\n",
      "MARGOT, femmede Canichon, paysanne. MmeLEQUIEN.\n",
      "..\n",
      "NATA, Chinoise... MilesRAUCOURT.\n",
      "...\n",
      "NELLY, Hollandaise.... MADELEINE.\n",
      "....\n",
      "UNE LOUEUSE DE CHAISES.. CLÉMENCE.\n",
      "...\n",
      "UNE MARCHANDE DE PLAISIRS.. GILLES.\n",
      "UNE MARCHANDE DE BOUQUETS....... Mine MARQUILLY.\n",
      "..\n",
      "Foulede Curieux, Commissionnaires..\n",
      "Touteslesindications sontprisesdela gauche etdeladroiteduspectateur.Les personnages sontinscrits\n",
      "entêtedesscènesdansl'ordrequ'ils occupentauthéâtre;les\n"
     ]
    }
   ],
   "source": [
    "print(docs[2].page_content[1000:1500])"
   ]
  },
  {
   "cell_type": "code",
   "execution_count": null,
   "id": "4dde23fb",
   "metadata": {},
   "outputs": [
    {
     "data": {
      "text/plain": [
       "Document(metadata={'source': 'Brutus_ou_le_dernier_soldat.pdf', 'file_path': 'C:\\\\Users\\\\charl\\\\Documents\\\\VSCode\\\\Vaudeville\\\\Files\\\\PDFs\\\\Brutus_ou_le_dernier_soldat.pdf', 'page': 0, 'total_pages': 47, 'row': 1, 'Year': '1843', 'Work': 'Brutus ou le dernier soldat du guet', 'Theatre': 'Théâtre du Vaudeville'}, page_content='\\n\\n\\n\\n\\n\\n\\n\\n\\n\\n\\n\\n\\n\\n\\n\\n\\n\\n\\n\\n\\n\\n\\n\\n\\n\\n\\n\\n\\n\\n\\n\\n\\n\\n\\n\\n\\n\\n\\n\\n\\n\\n\\n\\n\\n\\n\\n')"
      ]
     },
     "execution_count": 19,
     "metadata": {},
     "output_type": "execute_result"
    }
   ],
   "source": [
    "docs.pop(0)  # Remove the first document because it rendered as empty\n",
    "docs.pop(0)  # Remove the second document because it rendered as empty"
   ]
  },
  {
   "cell_type": "code",
   "execution_count": 39,
   "id": "b33ec257",
   "metadata": {},
   "outputs": [
    {
     "name": "stdout",
     "output_type": "stream",
     "text": [
      "Document 0 Metadata: {'source': 'As_tu_vu_la_comete_mon_gas_text.pdf', 'file_path': 'Files\\\\PDFs\\\\As_tu_vu_la_comete_mon_gas_text.pdf', 'page': 0, 'total_pages': 104, 'Creator': 'Bibliothèque nationale de France', 'Title': \"Cogniard, Théodore (1806-1872),Clairville (1811-1879). As-tu vu la comète, mon gas ? revue de l'année 1858, en 3 actes et 4 tableaux, par MM. Théodore Cogniard et Clairville... (Paris, Variétés, 30 décembre 1858.). 1859.\", 'row': 0, 'Year': '1858', 'Work': 'As-tu vu la comète, mon gas?', 'Theatre': 'Théâtre des Variétés'}\n",
      "Document 1 Metadata: {'source': 'Brutus_ou_le_dernier_soldat.pdf', 'file_path': 'Files\\\\PDFs\\\\Brutus_ou_le_dernier_soldat.pdf', 'page': 0, 'total_pages': 47, 'row': 1, 'Year': '1843', 'Work': 'Brutus ou le dernier soldat du guet', 'Theatre': 'Théâtre du Vaudeville'}\n",
      "Document 2 Metadata: {'source': 'Clairville_Garet_Le_Palais_de_Chrysocale_(1855).pdf', 'file_path': 'Files\\\\PDFs\\\\Clairville_Garet_Le_Palais_de_Chrysocale_(1855).pdf', 'page': 0, 'total_pages': 14, 'Author': 'Clairville (M.)', 'Title': 'Le palais de chrysocale ou les exposants et les exposés', 'row': 2, 'Year': '1855', 'Work': 'Le Palais de Chrysocale', 'Theatre': 'Théâtre des Variétés'}\n",
      "Document 3 Metadata: {'source': 'Clairville_Thiboust_Le_quart_du_monde_(1855).pdf', 'file_path': 'Files\\\\PDFs\\\\Clairville_Thiboust_Le_quart_du_monde_(1855).pdf', 'page': 0, 'total_pages': 10, 'Author': 'Lambert-Thiboust (1826-1867)', 'Creator': 'Bibliothèque nationale de France', 'Title': 'Le Quart de monde, ou le Danger d\\'une particulière pleine de malice pour un individu vraiment impressionnable (parodie du \"Demi-monde\"), étude réaliste mêlée de couplets et d\\'effets de style, par MM. Clairville et Lambert ...', 'row': 3, 'Year': '1855', 'Work': 'Le Quart de Monde', 'Theatre': 'Théâtre des Variétés'}\n",
      "Document 4 Metadata: {'source': 'Coraly_ou_la_soeur_et_le_Frere.pdf', 'file_path': 'Files\\\\PDFs\\\\Coraly_ou_la_soeur_et_le_Frere.pdf', 'page': 0, 'total_pages': 47, 'Author': 'Eugène Scribe', 'Title': 'Coraly, ou la soeur et le Frere, comedie-vaudeville en 1 acte', 'row': 4, 'Year': '1824', 'Work': 'Coraly', 'Theatre': 'Théâtre du Gymnase-Dramatique'}\n"
     ]
    }
   ],
   "source": [
    "# Double check metadata\n",
    "for i in range(0,5):\n",
    "    print(f\"Document {i} Metadata: {docs[i].metadata}\")"
   ]
  },
  {
   "cell_type": "markdown",
   "id": "9037fd67",
   "metadata": {},
   "source": [
    "### Chunking Files"
   ]
  },
  {
   "cell_type": "code",
   "execution_count": 40,
   "id": "cefb36ff",
   "metadata": {},
   "outputs": [
    {
     "name": "stdout",
     "output_type": "stream",
     "text": [
      "Split 35 PDFs into 1415 sub-documents.\n"
     ]
    }
   ],
   "source": [
    "text_splitter = RecursiveCharacterTextSplitter(\n",
    "    chunk_size=2000,  # chunk size (characters)\n",
    "    chunk_overlap=400,  # chunk overlap (characters)\n",
    "    add_start_index=True,  # track index in original document\n",
    ")\n",
    "all_splits = text_splitter.split_documents(docs)\n",
    "\n",
    "print(f\"Split {len(docs)} PDFs into {len(all_splits)} sub-documents.\")"
   ]
  },
  {
   "cell_type": "markdown",
   "id": "c7af950a",
   "metadata": {},
   "source": [
    "### Embedding and adding to the vector database"
   ]
  },
  {
   "cell_type": "code",
   "execution_count": 41,
   "id": "1b55be21",
   "metadata": {},
   "outputs": [
    {
     "name": "stdout",
     "output_type": "stream",
     "text": [
      "1415\n"
     ]
    }
   ],
   "source": [
    "print(len(all_splits))"
   ]
  },
  {
   "cell_type": "code",
   "execution_count": 23,
   "id": "5c6c5c1a",
   "metadata": {},
   "outputs": [],
   "source": [
    "# If we run this again when reestablishing variables, it will duplicate documents and charge us\n",
    "\n",
    "# Splitting into three chunks to avoid overloading the vector store\n",
    "# vector_store.add_documents(documents=all_splits[:350])\n",
    "# vector_store.add_documents(documents=all_splits[350:700])\n",
    "# vector_store.add_documents(documents=all_splits[700:1050])\n",
    "# vector_store.add_documents(documents=all_splits[1050:])"
   ]
  },
  {
   "cell_type": "markdown",
   "id": "974cea33",
   "metadata": {},
   "source": [
    "## Setting Up Retrieval and Generation w/ Filters"
   ]
  },
  {
   "cell_type": "markdown",
   "id": "66a89f14",
   "metadata": {},
   "source": [
    "Here we set up our prompt and LangGraph. LangGraph allows us to set up nodes (steps) for our program to follow. The State class transfers information between each node.\n",
    "\n",
    "This is the setup for the basic RAG. Later we set up a self-check. "
   ]
  },
  {
   "cell_type": "code",
   "execution_count": null,
   "id": "49cce979",
   "metadata": {},
   "outputs": [],
   "source": [
    "# Setting up chat model\n",
    "\n",
    "if not os.environ.get(\"OPENAI_API_KEY\"):\n",
    "  os.environ[\"OPENAI_API_KEY\"] = getpass.getpass(\"Enter API key for OpenAI: \")\n",
    "\n",
    "llm = init_chat_model(\"gpt-4o\", model_provider=\"openai\")\n",
    "\n",
    "# Setting up embeddings\n",
    "\n",
    "if not os.environ.get(\"OPENAI_API_KEY\"):\n",
    "  os.environ[\"OPENAI_API_KEY\"] = getpass.getpass(\"Enter API key for OpenAI: \")\n",
    "\n",
    "\n",
    "embeddings = OpenAIEmbeddings(model=\"text-embedding-3-large\")\n",
    "\n",
    "# Reestablishing up our persist directory for Chroma\n",
    "\n",
    "vector_store = Chroma(\n",
    "    collection_name=\"example_collection\",\n",
    "    embedding_function=embeddings,\n",
    "    persist_directory=\"./chroma_langchain_db\",  # Where we stored our data before\n",
    ")\n",
    "\n",
    "# Reestablishing retrieval and generation functions\n",
    "\n",
    "\n",
    "prompt = ChatPromptTemplate.from_messages([\n",
    "    (\"system\", 'You are an expert in French musical theatre and opera of the 19th century.  You will help us explore the texts (librettos) of vaudevilles, which are dramatic productions that include periodic musical numbers, which might be songs, choruses, instrumental dances, and other sonic events. \\n '\n",
    "    'Many of these musical moments reuse some preexisting (and often well-known)  melody or tune.  These are variously called “melodie”, or “air”, and identified with a short title that refers in some way to an opera or collection of melodies from which it was drawn.  The titles might include the names of works, or other characters in those original works. '\n",
    "    '\\n In the context of the plays, these tunes become the vehicle for newly composed lyrics, which are normally rhymed, and which normally follow the poetic scansion and structure of the original lyrics.  Rhyme, versification and structure are thus of interest to us. \\n Keep the following attributes in mind as you answer questions based on the texts provided:'\n",
    "    '-the act and scene in which the event takes place'\n",
    "    '-the character or characters who are singing (or otherwise making music),'\n",
    "    '-the dramatic situation (a love scene, a crowd scene)'\n",
    "    '-the name of the air or melodie'\n",
    "    '-the poetic text'\n",
    "    '-the rhyme scheme'\n",
    "    '-form of the poetic text, which might involve some refrain'\n",
    "    '-the end accent for each line (masculine or féminine)'\n",
    "    '-syllable count for each line'\n",
    "    '-any irregularities you notice'\n",
    "    'If you cannot find the answers for anything within the context provided, state \"I dont know\" or similar - do not make assumptions beyond what is actually in the context.\\n\\n'),\n",
    "    (\"human\", \"Context:\\n{context}\\n\\nQuestion: {question}\")\n",
    "])\n",
    "\n",
    "class State(TypedDict):\n",
    "    question: str\n",
    "    filter: Optional[dict]\n",
    "    context: List[Document]\n",
    "    answer: str\n",
    "\n",
    "def apply_filter(state: State):\n",
    "    if \"filter\" in state and state[\"filter\"]:\n",
    "        state[\"filter\"] = {k: v for k, v in state[\"filter\"].items() if v is not None}\n",
    "    else:\n",
    "        state[\"filter\"] = None\n",
    "    return state\n",
    "\n",
    "def retrieve(state: State):\n",
    "    filter_dict = state[\"filter\"] if state.get(\"filter\") else None\n",
    "    retrieved_docs = vector_store.similarity_search(state[\"question\"], k=15, filter=filter_dict)\n",
    "    return {\"context\": retrieved_docs}\n",
    "\n",
    "def generate(state: State):\n",
    "    docs_content = \"\"\n",
    "    for doc in state[\"context\"]:\n",
    "        docs_content += f\"The following text is a chunk from document titled: {doc.metadata[\"Work\"]}. There are a total of {doc.metadata[\"total_pages\"]} pages in this play. \\n\"\n",
    "        docs_content += doc.page_content + \"\\n\\n\"\n",
    "    message = prompt.invoke({\"question\": state[\"question\"], \"context\": docs_content})\n",
    "    response = llm.invoke(message)\n",
    "    return {\"answer\": response.content}\n",
    "\n",
    "# Reestablishing langgraph\n",
    "\n",
    "graph_builder = StateGraph(State).add_sequence([apply_filter, retrieve, generate])\n",
    "graph_builder.add_edge(START, \"retrieve\")\n",
    "graph = graph_builder.compile()"
   ]
  },
  {
   "cell_type": "code",
   "execution_count": null,
   "id": "8b9f712f",
   "metadata": {},
   "outputs": [],
   "source": [
    "def analyze_play(i: int):\n",
    "\n",
    "    if i < 0 or i >= len(docs):\n",
    "        raise ValueError(\"Index out of range for the documents list.\")\n",
    "    \n",
    "    # Apply the graph to the state\n",
    "    message = prompt.invoke({\"question\": \"Analyze this play according to the system prompt.\", \"context\": docs[i].page_content})\n",
    "    return llm.invoke(message).content\n"
   ]
  },
  {
   "cell_type": "markdown",
   "id": "6b094069",
   "metadata": {},
   "source": [
    "## Basic RAG: Queries"
   ]
  },
  {
   "cell_type": "markdown",
   "id": "8aa40e6c",
   "metadata": {},
   "source": [
    "Now we have the basics set up. Here, we see how it performs. Later, we add a self-check step."
   ]
  },
  {
   "cell_type": "code",
   "execution_count": 14,
   "id": "00584004",
   "metadata": {},
   "outputs": [
    {
     "name": "stdout",
     "output_type": "stream",
     "text": [
      "Answer: Based on the provided text from \"Un Docteur en herbe,\" here is a structured summary of the musical moments and other relevant details:\n",
      "\n",
      "### Act I\n",
      "\n",
      "**Scene I**\n",
      "- **Characters**: Derbigny, Isidore, Lambert\n",
      "- **Dramatic Situation**: Preparations for an exam; father is urging his son to wake up.\n",
      "- **Musical Element**: None noted in this scene.\n",
      "\n",
      "**Scene II**\n",
      "- **Characters**: Isidore, Derbigny, Lambert\n",
      "- **Dramatic Situation**: Conversation about Isidore's preparation and attire.\n",
      "- **Musical Element**: None noted in this scene.\n",
      "\n",
      "**Scene III**\n",
      "- **Characters**: Isidore, Lambert\n",
      "- **Dramatic Situation**: Discussion about Isidore's lack of interest in law and preference for painting.\n",
      "- **Musical Element**: None noted in this scene.\n",
      "\n",
      "---\n",
      "\n",
      "### Act II\n",
      "\n",
      "**Scene I**\n",
      "- **Characters**: Isidore, Lambert, Delapierre Meulière\n",
      "- **Dramatic Situation**: Isidore elated about developments with Pauline.\n",
      "- **Musical Element**:\n",
      "  - **Name of the Air**: \"Ne vois-tu pas, jeune imprudent\"\n",
      "  - **Poetic Text**: \n",
      "    ```\n",
      "    Son âge l'excuse, je crois; \n",
      "    Auprès de vous qu'il rentre en grâce,\n",
      "    Car en n'est jeune qu'une fois:\n",
      "    Il faut que jeunesse se passe.\n",
      "    La folie, hélas! n'a qu'un temps,\n",
      "    Et nous avons beau nous débattre,\n",
      "    On n'a pas deux fois vingt-deux ans,\n",
      "    ```\n",
      "  - **Rhyme Scheme**: AABB CCDD\n",
      "  - **Form of the Poetic Text**: Eight lines with a couplet structure.\n",
      "  - **End Accent**: Masculine for all lines.\n",
      "  - **Syllable Count**: 10 for each line.\n",
      "  - **Irregularities**: None noted.\n",
      "\n",
      "---\n",
      "\n",
      "**Scene II**\n",
      "- **Characters**: Isidore, Delapierre Meulière, Derbigny\n",
      "- **Dramatic Situation**: Discussion of Isidore’s behavior and the expectations surrounding him.\n",
      "- **Musical Element**:\n",
      "  - **Name of the Air**: \"Ociel! quelle aventure!\"\n",
      "  - **Poetic Text**: \n",
      "    ```\n",
      "    Quel avenir superbe! \n",
      "    Le sort protègera \n",
      "    Notre docteur en herbe, \n",
      "    Qui bientôt fleurira.\n",
      "    \n",
      "    Sur ce terrain de la goguette, \n",
      "    On met d'côté la question d'art, \n",
      "    Et si la pièce n'est pas chouette, \n",
      "    Fait's quel'succès soit chic en art.\n",
      "    ```\n",
      "  - **Rhyme Scheme**: ABAB CDCD\n",
      "  - **Form of the Poetic Text**: A refrain followed by verses.\n",
      "  - **End Accent**: Masculine for the first and third lines; feminine for the second and fourth lines.\n",
      "  - **Syllable Count**: 8 for each line.\n",
      "  - **Irregularities**: None noted.\n",
      "\n",
      "### Additional Observations\n",
      "- Musical elements in the form of ancient or well-known melodies are both adapted and reused throughout the play.\n",
      "- The structure of the vaudeville allows for the interspersion of dialogue with songs that advance the plot or characterize the figures, maintaining a light-hearted comedic atmosphere typical of the genre.\n",
      "\n",
      "If additional analyses of specific scenes or frameworks of other acts are needed, please let me know!\n",
      "\n",
      "\n",
      "Sources:\n",
      "Source 1: Un_docteur_en_herbe.pdf\n",
      "Source 2: Un_docteur_en_herbe.pdf\n",
      "Source 3: Ohé_Les_p_tits_agneaux_revue.pdf\n",
      "Source 4: Ohé_Les_p_tits_agneaux_revue.pdf\n",
      "Source 5: Un_docteur_en_herbe.pdf\n",
      "Source 6: Un_docteur_en_herbe.pdf\n",
      "Source 7: Ohé_Les_p_tits_agneaux_revue.pdf\n",
      "Source 8: Un_docteur_en_herbe.pdf\n",
      "Source 9: Un_docteur_en_herbe.pdf\n",
      "Source 10: Un_docteur_en_herbe.pdf\n"
     ]
    }
   ],
   "source": [
    "result = graph.invoke({\"question\": \"Tell me about the elements of Un Docteur en Herbe\"})\n",
    "\n",
    "print(f'Answer: {result[\"answer\"]}')\n",
    "print(\"\\n\\nSources:\")\n",
    "for i, source in enumerate(result[\"context\"]):\n",
    "    print(f'Source {i+1}: {source.metadata[\"source\"]}')"
   ]
  },
  {
   "cell_type": "code",
   "execution_count": 37,
   "id": "8eeb72c1",
   "metadata": {},
   "outputs": [
    {
     "name": "stdout",
     "output_type": "stream",
     "text": [
      "Answer: \"Un Docteur en Herbe\" is a 19th-century French vaudeville in two acts. Here are the elements based on the text provided:\n",
      "\n",
      "**Act and Scene**: The play consists of two acts. Specific scenes mentioned in the provided text include Act I Scenes 1, 2, 3, 12, 13, and Act II Scene 15.\n",
      "\n",
      "**Characters/Singing**:\n",
      "1. **Derbigny** - Portrayed as an older character (50 years old) interacting with Isidore and Lambert.\n",
      "2. **Isidore** - Derbigny's son, a law student, who is portrayed as naive and somewhat scatterbrained.\n",
      "3. **Lambert** - A young doctor, involved in conversation with Derbigny and Isidore, and is characterized by a focus on balance between work and pleasure.\n",
      "4. **Delapierre Meulière** - Refers to Lambert as a friend; there's some dramatic tension with Isidore involving his daughter.\n",
      "5. **Pauline** - Derbigny’s daughter, appears in interactions with Isidore and Delapierre Meulière.\n",
      "6. **Paméla** - A grisette, involved in scenes with Isidore and Lambert.\n",
      "\n",
      "**Dramatic Situation**: \n",
      "- The play seems to revolve around personal dynamics and misunderstandings, involving themes of naiveté, societal roles, and familial obligations. \n",
      "- A specific dramatic situation includes a potential duel scenario between Isidore and Delapierre Meulière.\n",
      "- There's an element of Isidore preparing for a law exam under his father and Lambert's guidance.\n",
      "\n",
      "**Musical Elements**:\n",
      "- There are references to airs (musical pieces) like \"Ne vois-tu pas, jeune imprudent\" and \"Ociel! quelle aventure!\" which are part of vaudeville tradition using preexisting popular tunes with new lyrics.\n",
      "\n",
      "**Poetic Text**:\n",
      "- The language is rhymed and in a playful, comical style fitting vaudeville, often reflecting on the absurdity of situations.\n",
      "\n",
      "**Rhyme Scheme, Form, and Structure**:\n",
      "- Typical for the period's vaudeville, likely using couplets or quatrains, with rhymes that could be masculine or feminine.\n",
      "- Number of syllables per line and specific rhyme schemes aren't directly given in the provided text.\n",
      "\n",
      "**End Accent and Syllable Count**: \n",
      "- Not explicitly outlined, but likely varies as is common in vaudeville for comedic or dramatic effect.\n",
      "\n",
      "**Irregularities**:\n",
      "- Characters frequently switch between prose and verse, with humorous misunderstandings and comically exaggerated threats or situations.\n",
      "\n",
      "Overall, \"Un Docteur en Herbe\" showcases typical vaudeville elements with humorous dialogue, character-driven plots, and intermittent musical numbers using well-known tunes. Its themes revolve around youthful indiscretions, societal obligations, and family tensions, presented in a light-hearted manner.\n",
      "\n",
      "\n",
      "Sources:\n",
      "Source 1: Un_docteur_en_herbe.pdf\n",
      "Source 2: Un_docteur_en_herbe.pdf\n",
      "Source 3: Un_docteur_en_herbe.pdf\n",
      "Source 4: Un_docteur_en_herbe.pdf\n",
      "Source 5: Un_docteur_en_herbe.pdf\n",
      "Source 6: Un_docteur_en_herbe.pdf\n",
      "Source 7: Un_docteur_en_herbe.pdf\n",
      "Source 8: Un_docteur_en_herbe.pdf\n",
      "Source 9: Un_docteur_en_herbe.pdf\n",
      "Source 10: Un_docteur_en_herbe.pdf\n",
      "Source 11: Un_docteur_en_herbe.pdf\n",
      "Source 12: Un_docteur_en_herbe.pdf\n",
      "Source 13: Un_docteur_en_herbe.pdf\n",
      "Source 14: Un_docteur_en_herbe.pdf\n",
      "Source 15: Un_docteur_en_herbe.pdf\n"
     ]
    }
   ],
   "source": [
    "result = graph.invoke({\"question\": \"Tell me about the elements of Un Docteur en Herbe\",\n",
    "                       \"filter\": {\"Work\": \"Un Docteur en herbe\"}})\n",
    "\n",
    "print(f'Answer: {result[\"answer\"]}')\n",
    "print(\"\\n\\nSources:\")\n",
    "for i, source in enumerate(result[\"context\"]):\n",
    "    print(f'Source {i+1}: {source.metadata[\"source\"]}')"
   ]
  },
  {
   "cell_type": "code",
   "execution_count": 39,
   "id": "1d038126",
   "metadata": {},
   "outputs": [
    {
     "name": "stdout",
     "output_type": "stream",
     "text": [
      "Answer: The two plays, \"Un Docteur en Herbe\" by Duvert et Lausanne and \"Les Artistes par Occasion\" by Alexandre Duval, offer an insightful glimpse into 19th-century French vaudeville. Below is a comparative analysis based on the available text excerpts.\n",
      "\n",
      "**Act and Scene Structure:**\n",
      "- \"Un Docteur en Herbe\" is structured in at least two acts with multiple scenes, involving a diverse set of characters within different locations like a hotel in Paris and a house in Briare. The excerpts suggest a rich narrative with tight interactions among characters in different settings.\n",
      "- \"Les Artistes par Occasion\" is a single-act play set in a garden in Tivoli, near Rome, offering a continuous flow without the segmentation into multiple acts as seen in \"Un Docteur en Herbe.\"\n",
      "\n",
      "**Characters and Roles:**\n",
      "- \"Un Docteur en Herbe\" features characters such as Derbigny, Isidore, Lambert, Pauline, Pamela, and others, engaging in multi-layered relationships, often revolving around family dynamics, profession, and social standings.\n",
      "- \"Les Artistes par Occasion\" involves characters like Fomboni, Delmonte, Eléonore, Zerbine, and Pedro in a more direct plot centered around artistic endeavors and social interactions.\n",
      "\n",
      "**Dramatic Situation:**\n",
      "- The dramatic situation in \"Un Docteur en Herbe\" includes themes of social expectations, familial pressures, youthful folly, and examinations. Scenes often juxtapose personal desires with duties and societal pressure.\n",
      "- In contrast, \"Les Artistes par Occasion\" focuses on the anticipation of renowned artists visiting coinciding with preparations for a celebration, prominently involving elements of romance and artistic appreciation.\n",
      "\n",
      "**Musical Elements:**\n",
      "- \"Un Docteur en Herbe\" is infused with musical interludes enhancing the comedic and dramatic situations. The presence of airs such as \"Ne vois-tu pas, jeune imprudent\" showcases the integration of recognizable tunes with new lyrics for theatrical effect.\n",
      "- In \"Les Artistes par Occasion,\" music is also integral, with songs like romance and duet being part of the narrative, aligning with the theme of being an artist or art enthusiast.\n",
      "\n",
      "**Textual Form and Style:**\n",
      "- Both plays employ a blend of prose and rhymed verse, especially in songs, and exhibit a typical vaudeville style by integrating humor, exaggeration, and societal critique.\n",
      "- \"Un Docteur en Herbe\" often utilizes humor rooted in misunderstandings and societal norms, presenting dialogues that reveal character follies or ignorance comically.\n",
      "- The text of \"Les Artistes par Occasion\" indicates an emphasis on the romantic and artistic expressions and lite societal satire.\n",
      "\n",
      "In summary, while both plays belong to the vaudeville genre, they differ in structure, themes, and settings but share certain elements like musical integration and humor. \"Un Docteur en Herbe\" presents a more intricate plot with diverse characters and settings, whereas \"Les Artistes par Occasion\" revolves around an artistic and romantic theme within a singular setting. Both works highlight the cultural inclinations of 19th-century French theatre through their unique but complementary lenses.\n",
      "\n",
      "\n",
      "Sources:\n",
      "Source 1: Un_docteur_en_herbe.pdf\n",
      "Source 2: Un_docteur_en_herbe.pdf\n",
      "Source 3: Un_docteur_en_herbe.pdf\n",
      "Source 4: Un_docteur_en_herbe.pdf\n",
      "Source 5: Un_docteur_en_herbe.pdf\n",
      "Source 6: Duval_Les_artistes_par_occasion_(1807).pdf\n",
      "Source 7: Un_docteur_en_herbe.pdf\n",
      "Source 8: Duval_Les_artistes_par_occasion_(1807).pdf\n",
      "Source 9: Un_docteur_en_herbe.pdf\n",
      "Source 10: Un_docteur_en_herbe.pdf\n",
      "Source 11: Un_docteur_en_herbe.pdf\n",
      "Source 12: Un_docteur_en_herbe.pdf\n",
      "Source 13: Un_docteur_en_herbe.pdf\n",
      "Source 14: Un_docteur_en_herbe.pdf\n",
      "Source 15: Un_docteur_en_herbe.pdf\n"
     ]
    }
   ],
   "source": [
    "result = graph.invoke({\"question\": \"Compare Un Docteur en Herbe to Les Artistes par occasion.\",\n",
    "                       \"filter\": {\"$or\": [{\"Work\": \"Un Docteur en herbe\"},{\"Work\": \"Les Artistes par occasion\"}]}})\n",
    "\n",
    "print(f'Answer: {result[\"answer\"]}')\n",
    "print(\"\\n\\nSources:\")\n",
    "for i, source in enumerate(result[\"context\"]):\n",
    "    print(f'Source {i+1}: {source.metadata[\"source\"]}')"
   ]
  },
  {
   "cell_type": "code",
   "execution_count": 40,
   "id": "5029b148",
   "metadata": {},
   "outputs": [
    {
     "name": "stdout",
     "output_type": "stream",
     "text": [
      "Answer: When comparing the elements of \"Un Docteur en Herbe\" to \"Les Artistes par occasion,\" several aspects are noticeable:\n",
      "\n",
      "1. **Dramatic Structure:**\n",
      "   - **Un Docteur en Herbe**: Structured as a comedy-vaudeville in two acts, involving multiple characters and detailed scenes with numerous interactions.\n",
      "   - **Les Artistes par occasion**: A comedy with elements of ariettes (singing parts), presented in one act, typically showing a lighter and straightforward storyline.\n",
      "\n",
      "2. **Setting:**\n",
      "   - **Un Docteur en Herbe**: Its setting transitions from an inn in Paris to the house of Derbigny in Briare, focusing on indoor, familial, and academic environments. \n",
      "   - **Les Artistes par occasion**: Set in a picturesque garden in Tivoli, near Rome, offering an outdoor setting associated with art and leisure.\n",
      "\n",
      "3. **Characters:**\n",
      "   - **Un Docteur en Herbe**: Features characters like Derbigny, Isidore, Lambert, and Pauline, focusing on familial relationships and professional futures with a comedic undertone.\n",
      "   - **Les Artistes par occasion**: Includes characters like Fomboni, Pedro, and Eléonore, focusing on themes related to arts and performance, accompanied by humor and impersonations.\n",
      "\n",
      "4. **Dramatic Situation:**\n",
      "   - **Un Docteur en Herbe**: Predominantly revolves around Isidore's academic challenges and humorous interactions regarding his future and marriage proposals.\n",
      "   - **Les Artistes par occasion**: Centers on the comedic interactions of mistaken identities and artist impersonations leading to amusing situations.\n",
      "\n",
      "5. **Musical Elements:**\n",
      "   - **Un Docteur en Herbe**: Includes vaudeville numbers with integrated songs like \"AIR Ne vois-tu pas, jeune imprudent\" which show dramatic interaction through lyrics.\n",
      "   - **Les Artistes par occasion**: Involves ariettes where characters express emotions and storytelling, evidencing the influence of Italian opera style in the dialogue.\n",
      "\n",
      "6. **Comedy Style:**\n",
      "   - **Un Docteur en Herbe**: The comedy emerges from familial situations, personal relationships, and Isidore's endearing naiveté.\n",
      "   - **Les Artistes par occasion**: The humor is embedded in cultural misunderstandings and the satirical take on the life of artists.\n",
      "\n",
      "Conclusively, both plays exhibit a variétal approach to humor and musical integration within dramatic narratives, yet they take distinct thematic paths—academic and familial foibles in \"Un Docteur en Herbe\" versus artistic pretensions and romance in \"Les Artistes par occasion.\"\n",
      "\n",
      "\n",
      "Sources:\n",
      "Source 1: Un_docteur_en_herbe.pdf\n",
      "Source 2: Un_docteur_en_herbe.pdf\n",
      "Source 3: Un_docteur_en_herbe.pdf\n",
      "Source 4: Un_docteur_en_herbe.pdf\n",
      "Source 5: Un_docteur_en_herbe.pdf\n",
      "Source 6: Duval_Les_artistes_par_occasion_(1807).pdf\n",
      "Source 7: Un_docteur_en_herbe.pdf\n",
      "Source 8: Un_docteur_en_herbe.pdf\n",
      "Source 9: Un_docteur_en_herbe.pdf\n",
      "Source 10: Un_docteur_en_herbe.pdf\n",
      "Source 11: Un_docteur_en_herbe.pdf\n",
      "Source 12: Un_docteur_en_herbe.pdf\n",
      "Source 13: Duval_Les_artistes_par_occasion_(1807).pdf\n",
      "Source 14: Duval_Les_artistes_par_occasion_(1807).pdf\n",
      "Source 15: Un_docteur_en_herbe.pdf\n"
     ]
    }
   ],
   "source": [
    "result = graph.invoke({\"question\": \"Compare the elements of Un Docteur en Herbe to Les Artistes par occasion.\",\n",
    "                       \"filter\": {\"$or\": [{\"Work\": \"Un Docteur en herbe\"},{\"Work\": \"Les Artistes par occasion\"}]}})\n",
    "\n",
    "print(f'Answer: {result[\"answer\"]}')\n",
    "print(\"\\n\\nSources:\")\n",
    "for i, source in enumerate(result[\"context\"]):\n",
    "    print(f'Source {i+1}: {source.metadata[\"source\"]}')"
   ]
  },
  {
   "cell_type": "code",
   "execution_count": 8,
   "id": "2501eed8",
   "metadata": {},
   "outputs": [
    {
     "name": "stdout",
     "output_type": "stream",
     "text": [
      "Answer: The poetic elements of \"Un Docteur en Herbe\" can be compared to other 19th-century French vaudevilles and operettas in various ways, particularly in terms of rhyme scheme, versification, structure, and thematic elements. Here are some points of comparison:\n",
      "\n",
      "1. **Rhyme Scheme and Meter:**\n",
      "   - In \"Un Docteur en Herbe,\" the use of regular rhyme schemes (often alternating) is typical of the genre, which emphasizes musicality and the ease of memorization for the audience. For example, the song \"Moifumer?paslemoinsdumonde\" often follows an ABAB rhyme scheme.\n",
      "   - This approach mirrors that of other contemporaneous works such as Jacques Offenbach’s operettas, which also employed accessible and catchy verse structures, enhancing their appeal to a wide audience.\n",
      "\n",
      "2. **Syllable Count and Scansion:**\n",
      "   - The texts in \"Un Docteur en Herbe\" typically feature octo-syllabic or decasyllabic lines, creating a rhythmic flow that suits the comedic and often lighthearted nature of the narrative. This is similar to operatic arias from the same period, where the lyrical quality must complement expressive melodies.\n",
      "   - Compared to works like \"La Belle Hélène,\" Offenbach often used varied syllable counts to increase dramatic tension or comedic effect, which can sometimes diverge from the more uniform counts in \"Un Docteur en Herbe.\"\n",
      "\n",
      "3. **Form and Structure:**\n",
      "   - The inclusion of refrains and repeated phrases in songs from \"Un Docteur en Herbe\" reinforces the communal aspect of performance, similar to the structure found in many folk songs and popular operettas of the time.\n",
      "   - Conversely, while many vaudevilles adhered closely to simple verse forms, some pieces from composers like Charles Gounod explore more complex forms to convey deeper emotion, which might be less prevalent in the more straightforward approach of \"Un Docteur en Herbe.\"\n",
      "\n",
      "4. **Thematic Elements:**\n",
      "   - Thematic exploration in \"Un Docteur en Herbe\" reflects societal norms and humorous takes on medical practices and romantic entanglements, which are common in many vaudevilles. This is reminiscent of similar themes in other works like \"La Périchole,\" where social satire and romantic comedy intersect.\n",
      "   - In comparison, works like Victor Hugo’s \"Ruy Blas,\" while not an operetta, often utilize poetic elements that are richer in existential themes, contrasting with the lighter, comedic tones evident in \"Un Docteur en Herbe.\"\n",
      "\n",
      "5. **Characterization through Song:**\n",
      "   - The musical moments in \"Un Docteur en Herbe\" often serve to develop character traits and enhance dramatic situations (e.g., Isidore's self-deprecating humor about smoking). This technique is also prevalent in other works where songs deliver crucial insight into character motivations, as seen in the operettas of Gilbert and Sullivan.\n",
      "   - However, in more serious operatic compositions, musical moments may serve to express deep emotional states, focusing more on lyrical poetry and less on comedy.\n",
      "\n",
      "In conclusion, while \"Un Docteur en Herbe\" shares many characteristics with other 19th-century works in terms of rhyme and structure, it maintains a lighthearted approach toward themes of love and societal norms through its lyrical form. Its comedic elements align it more closely with the vaudeville tradition, contrasting with the dramatic narratives of more serious operatic works.\n",
      "\n",
      "\n",
      "Sources:\n",
      "Source 1: Un_docteur_en_herbe.pdf\n",
      "Source 2: Un_docteur_en_herbe.pdf\n",
      "Source 3: Ohé_Les_p_tits_agneaux_revue.pdf\n",
      "Source 4: Ohé_Les_p_tits_agneaux_revue.pdf\n",
      "Source 5: Un_docteur_en_herbe.pdf\n",
      "Source 6: Labiche_Rue_de_l'Homme_armé_(1849).pdf\n",
      "Source 7: Un_docteur_en_herbe.pdf\n",
      "Source 8: Un_docteur_en_herbe.pdf\n",
      "Source 9: Ohé_Les_p_tits_agneaux_revue.pdf\n",
      "Source 10: La_Dette_d_honneur.pdf\n"
     ]
    }
   ],
   "source": [
    "result = graph.invoke({\"question\": \"How do the poetic elements of Un Docteur en Herbe compare to other works?\"})\n",
    "\n",
    "print(f'Answer: {result[\"answer\"]}')\n",
    "print(\"\\n\\nSources:\")\n",
    "for i, source in enumerate(result[\"context\"]):\n",
    "    print(f'Source {i+1}: {source.metadata[\"source\"]}')"
   ]
  },
  {
   "cell_type": "code",
   "execution_count": 11,
   "id": "807bb654",
   "metadata": {},
   "outputs": [
    {
     "name": "stdout",
     "output_type": "stream",
     "text": [
      "Answer: \"Les Modistes\" is a comical operetta by Hervé, which premiered in 1872. It tells the story of a group of fashionable milliners and the romantic entanglements surrounding them. In examining the musical moments in \"Les Modistes,\" here's a breakdown of the relevant details regarding the airs/mélodies present in the piece:\n",
      "\n",
      "### Act 1\n",
      "\n",
      "#### Scene 1\n",
      "- **Character(s)**: Léon, a wealthy suitor, and the milliners\n",
      "- **Dramatic Situation**: A lively introduction as Léon meets the milliners and admires their work\n",
      "- **Name of the Air or Mélodie**: \"Les petits mousses\" (a well-known air from \"Les Huguenots\" by Meyerbeer)\n",
      "- **Poetic Text**: Celebratory lyrics about fashion and beauty\n",
      "- **Rhyme Scheme**: AABB\n",
      "- **Form of the Poetic Text**: Strophic with a refrain\n",
      "- **End Accent for Each Line**: Alternating feminine and masculine accents\n",
      "- **Syllable Count**: Lines typically range from 8 to 12 syllables\n",
      "- **Irregularities**: Some lines may extend beyond typical syllable patterns for added emphasis.\n",
      "\n",
      "#### Scene 2\n",
      "- **Character(s)**: Primarily the milliners (Désirée, Rosine, and others)\n",
      "- **Dramatic Situation**: Discussing romantic interests and their aspirations\n",
      "- **Name of the Air or Mélodie**: \"Ah! vous dirai-je, Maman\" (a popular tune)\n",
      "- **Poetic Text**: Light-hearted lyrics about love and attraction\n",
      "- **Rhyme Scheme**: ABAB\n",
      "- **Form of the Poetic Text**: Quatrains, no refrain\n",
      "- **End Accent for Each Line**: Mainly masculine\n",
      "- **Syllable Count**: Consistent 8 syllables per line\n",
      "- **Irregularities**: Minor variations in some lines to maintain flow.\n",
      "\n",
      "### Act 2\n",
      "\n",
      "#### Scene 1\n",
      "- **Character(s)**: Léon and Doublon (another suitor)\n",
      "- **Dramatic Situation**: Confrontation between the suitors\n",
      "- **Name of the Air or Mélodie**: \"Non, je ne regrette rien\" (popularized by Édith Piaf, but with older associations)\n",
      "- **Poetic Text**: Competitive lyrics about their affection for the milliners\n",
      "- **Rhyme Scheme**: AABB again\n",
      "- **Form of the Poetic Text**: Verses without catchy refrain\n",
      "- **End Accent for Each Line**: Mixed accents\n",
      "- **Syllable Count**: Varied, typically leaning toward 10\n",
      "- **Irregularities**: Some comedic interjections within the flow.\n",
      "\n",
      "### Act 3\n",
      "\n",
      "#### Scene 1\n",
      "- **Character(s)**: Milliners, Léon, Doublon, ensemble\n",
      "- **Dramatic Situation**: The climax, where love choices are revealed\n",
      "- **Name of the Air or Mélodie**: \"Carmen's Habanera\" (from Bizet's \"Carmen\")\n",
      "- **Poetic Text**: A blend of humor and dramatic revelation about love's complexities\n",
      "- **Rhyme Scheme**: ABAB\n",
      "- **Form of the Poetic Text**: Free verse sections interspersed with repeated refrains\n",
      "- **End Accent for Each Line**: Primarily masculine\n",
      "- **Syllable Count**: Mixing lines of 6 to 11 syllables\n",
      "- **Irregularities**: Some lines vary rhythmically for dramatic effect.\n",
      "\n",
      "In summary, \"Les Modistes\" features various musical moments that draw from popular tunes of the time while embedding new lyrics that reflect the light-hearted and comedic nature of the story. The arrangements and lyrics serve to enhance the characters' personalities and the overall narrative.\n",
      "\n",
      "\n",
      "Sources:\n"
     ]
    }
   ],
   "source": [
    "result = graph.invoke({\"question\": \"What airs / melodies are present in Les Modistes?\", \"filter\": {\"Work\": \"Les Modistes\"}})\n",
    "\n",
    "print(f'Answer: {result[\"answer\"]}')\n",
    "print(\"\\n\\nSources:\")\n",
    "for i, source in enumerate(result[\"context\"]):\n",
    "    print(f'Source {i+1}: {source.metadata[\"source\"]}')"
   ]
  },
  {
   "cell_type": "code",
   "execution_count": 12,
   "id": "f784905b",
   "metadata": {},
   "outputs": [
    {
     "name": "stdout",
     "output_type": "stream",
     "text": [
      "Answer: In the context of the 19th-century French vaudeville and opera, various types of airs or melodies are present in dramatic situations of romance. Below are some examples identified from the provided texts, detailing the specific dramatic situations where romance plays a crucial role. \n",
      "\n",
      "### Examples of Musical Situations in Romantic Contexts\n",
      "\n",
      "1. **Title:** Air du Fleuve de la vie  \n",
      "   - **Act & Scene:** Not specified in the excerpt (likely a romantic exchange).  \n",
      "   - **Characters Singing:** Roland.  \n",
      "   - **Dramatic Situation:** Expression of romantic feelings, addressing a love interest.  \n",
      "   - **Melodie:** \"Air du Fleuve de la vie.\"  \n",
      "   - **Poetic Text:** \n",
      "     ```\n",
      "     Saisis d'une frayeur nouvelle,  \n",
      "     Je tremble, et ne lui parle point;  \n",
      "     Qu'elle est belle!... et pourtant sur elle  \n",
      "     Tu l'emportes en un seul point.  \n",
      "     ```\n",
      "   - **Rhyme Scheme:** AABB  \n",
      "   - **Form:** Quatrains (4 lines).  \n",
      "   - **End Accent:** 1 feminine, 3 masculine.  \n",
      "   - **Syllable Count:** 10, 10, 10, 10 (consistent).  \n",
      "   - **Irregularities:** None noted.\n",
      "\n",
      "2. **Title:** Air : Femmes, voulez-vous éprouver.  \n",
      "   - **Act & Scene:** Not specified (likely involves romantic advice).  \n",
      "   - **Characters Singing:** Madame Delaunay.  \n",
      "   - **Dramatic Situation:** Advising a young woman on romance.  \n",
      "   - **Melodie:** \"Air : Femmes, voulez-vous éprouver.\"  \n",
      "   - **Poetic Text:** \n",
      "     ```\n",
      "     Quoi, se fâcher pour les amours;  \n",
      "     Ah! ton sort est digne d'envie,  \n",
      "     On ne se fâche pas toujours,  \n",
      "     Quand on avance dans la vie.  \n",
      "     ```\n",
      "   - **Rhyme Scheme:** AABB  \n",
      "   - **Form:** Quatrains (4 lines).  \n",
      "   - **End Accent:** 2 masculine, 2 feminine.  \n",
      "   - **Syllable Count:** 10, 10, 10, 10 (consistent).  \n",
      "   - **Irregularities:** None noted.\n",
      "\n",
      "3. **Title:** Air de Poncede Léon  \n",
      "   - **Act & Scene:** Not specified (revealing feelings of betrayal in romantic context).  \n",
      "   - **Characters Singing:** Clara.  \n",
      "   - **Dramatic Situation:** Expressing feelings of betrayal and love.  \n",
      "   - **Melodie:** \"Air de Poncede Léon.\"  \n",
      "   - **Poetic Text:** \n",
      "     ```\n",
      "     Si j'en avais cru le menteur,  \n",
      "     Dans cet instant, sur ma sœur,  \n",
      "     Il me donnait l'avantage,  \n",
      "     Seule je possédais son cœur.  \n",
      "     ```\n",
      "   - **Rhyme Scheme:** AABB  \n",
      "   - **Form:** Quatrains (4 lines).  \n",
      "   - **End Accent:** 2 feminine, 2 masculine.  \n",
      "   - **Syllable Count:** 10, 10, 10, 10 (consistent).  \n",
      "   - **Irregularities:** None noted.\n",
      "\n",
      "4. **Title:** Air : De Doche  \n",
      "   - **Act & Scene:** Scene XIII (romantic reflection).  \n",
      "   - **Characters Singing:** Amélie.  \n",
      "   - **Dramatic Situation:** Expressing love through dance and melody.  \n",
      "   - **Melodie:** \"De Doche.\"  \n",
      "   - **Poetic Text:** \n",
      "     ```\n",
      "     Quel charme heureux! quelle grâce légère  \n",
      "     Semble animer ses yeux déjà si doux!  \n",
      "     ```\n",
      "   - **Rhyme Scheme:** AAB  \n",
      "   - **Form:** Couplets.  \n",
      "   - **End Accent:** 1 feminine, 2 masculine.  \n",
      "   - **Syllable Count:** 10, 10 (consistent).  \n",
      "   - **Irregularities:** None noted.\n",
      "\n",
      "### Summary\n",
      "In summary, the various airs or melodies distinguished in the romantic contexts often reflect feelings of love, betrayal, or advice regarding romantic relationships. The structures typically follow consistent rhyme schemes with predictable syllable counts, aiding in the emotional delivery of the text. The songs often feature a blend of masculine and feminine endings, contributing to the lyrical quality inherent to French musical theatre and opera of the 19th century.\n",
      "\n",
      "\n",
      "Sources:\n",
      "Source 1: Duval_Les_artistes_par_occasion_(1807).pdf\n",
      "Source 2: Revel_=_Le_Fifre_du_roi_de_Prusse,_ou_les_Prisonniers_de_Spandau_(1818).pdf\n",
      "Source 3: Coraly_ou_la_soeur_et_le_Frere.pdf\n",
      "Source 4: Revel_=_Le_Fifre_du_roi_de_Prusse,_ou_les_Prisonniers_de_Spandau_(1818).pdf\n",
      "Source 5: Ohé_Les_p_tits_agneaux_revue.pdf\n",
      "Source 6: L_isle_des_noirs_ou_Les_deux_ingénues.pdf\n",
      "Source 7: Les_maris_sans_femmes.pdf\n",
      "Source 8: La_Dette_d_honneur.pdf\n",
      "Source 9: Revel_=_Le_Fifre_du_roi_de_Prusse,_ou_les_Prisonniers_de_Spandau_(1818).pdf\n",
      "Source 10: Les_maris_sans_femmes.pdf\n"
     ]
    }
   ],
   "source": [
    "result = graph.invoke({\"question\": \"What types of airs / melodies are present in dramatic situations of romance?\"})\n",
    "\n",
    "print(f'Answer: {result[\"answer\"]}')\n",
    "print(\"\\n\\nSources:\")\n",
    "for i, source in enumerate(result[\"context\"]):\n",
    "    print(f'Source {i+1}: {source.metadata[\"source\"]}')"
   ]
  },
  {
   "cell_type": "markdown",
   "id": "ab0de84c",
   "metadata": {},
   "source": [
    "## Setting up a self-check for document relevancy"
   ]
  },
  {
   "cell_type": "markdown",
   "id": "0f0780fd",
   "metadata": {},
   "source": [
    "Here, we are setting up a self-check for document relevancy. If a document is relevant, it is passed as context. If not, it is left out. "
   ]
  },
  {
   "cell_type": "code",
   "execution_count": 1,
   "id": "817c91a3",
   "metadata": {},
   "outputs": [],
   "source": [
    "# Imports for establishing the RAG from the cell below\n",
    "import getpass\n",
    "import os\n",
    "from langchain.chat_models import init_chat_model\n",
    "from langchain_openai import OpenAIEmbeddings\n",
    "from langchain_chroma import Chroma\n",
    "from langchain.schema import Document\n",
    "from typing_extensions import List, TypedDict, Optional\n",
    "from langchain_core.prompts import ChatPromptTemplate\n",
    "from langgraph.graph import START, StateGraph"
   ]
  },
  {
   "cell_type": "code",
   "execution_count": null,
   "id": "3661495a",
   "metadata": {},
   "outputs": [],
   "source": [
    "# Setting up chat model\n",
    "if not os.environ.get(\"OPENAI_API_KEY\"):\n",
    "  os.environ[\"OPENAI_API_KEY\"] = getpass.getpass(\"Enter API key for OpenAI: \")\n",
    "\n",
    "\n",
    "llm = init_chat_model(\"gpt-4o\", model_provider=\"openai\")\n",
    "\n",
    "# Setting up embeddings\n",
    "embeddings = OpenAIEmbeddings(model=\"text-embedding-3-large\")\n",
    "\n",
    "# Reestablishing up our persist directory for Chroma\n",
    "vector_store = Chroma(\n",
    "    collection_name=\"example_collection\",\n",
    "    embedding_function=embeddings,\n",
    "    persist_directory=\"./chroma_langchain_db\",  # Where we stored our data before\n",
    ")\n",
    "\n",
    "# Reestablishing retrieval and generation functions\n",
    "prompt = ChatPromptTemplate.from_messages([\n",
    "    (\"system\", 'You are an expert in French musical theatre and opera of the 19th century.  You will help us explore the texts (librettos) of vaudevilles, which are dramatic productions that include periodic musical numbers, which might be songs, choruses, instrumental dances, and other sonic events. \\n '\n",
    "    'Many of these musical moments reuse some preexisting (and often well-known)  melody or tune.  These are variously called \"melodie\", or \"air\", and identified with a short title that refers in some way to an opera or collection of melodies from which it was drawn.  The titles might include the names of works, or other characters in those original works. '\n",
    "    '\\n In the context of the plays, these tunes become the vehicle for newly composed lyrics, which are normally rhymed, and which normally follow the poetic scansion and structure of the original lyrics.  Rhyme, versification and structure are thus of interest to us. If there is a mention of \"air\" or \"melodie\", look for the tune that the section is sung to, which will be labeled as \"air\" or \"melodie\" within the text.\\n'\n",
    "    'If you cannot find the answers for anything within the context provided, state \"I dont know\" or similar - do not make assumptions beyond what is in the context. Please always mention which play you are referencing in each section of your response, if multiple. The plays are labeled at the top of each source. If you can tell what act / scene and/or page a source is from, cite it too.\\n\\n'),\n",
    "    (\"human\", \"Context:\\n{context}\\n\\nQuestion: {question}\")\n",
    "])\n",
    "\n",
    "class State(TypedDict):\n",
    "    question: str\n",
    "    filter: Optional[dict]\n",
    "    context: List[Document]\n",
    "    answer: str\n",
    "\n",
    "def apply_filter(state: State):\n",
    "    if \"filter\" in state and state[\"filter\"]:\n",
    "        state[\"filter\"] = {k: v for k, v in state[\"filter\"].items() if v is not None}\n",
    "    else:\n",
    "        state[\"filter\"] = None\n",
    "    return state\n",
    "\n",
    "def retrieve(state: State):\n",
    "    filter_dict = state[\"filter\"] if state.get(\"filter\") else None\n",
    "    retrieved_docs = vector_store.similarity_search(state[\"question\"], k=15, filter=filter_dict)\n",
    "    return {\"context\": retrieved_docs}\n",
    "\n",
    "\n",
    "retriever = vector_store.as_retriever()\n",
    "\n",
    "### Retrieval Grader\n",
    "# Data model\n",
    "class GradeDocuments(BaseModel):\n",
    "    \"\"\"Binary score for relevance check on retrieved documents.\"\"\"\n",
    "\n",
    "    binary_score: str = Field(\n",
    "        description=\"Documents are relevant to the question, 'yes' or 'no'\"\n",
    "    )\n",
    "\n",
    "\n",
    "# LLM with function call\n",
    "llm = ChatOpenAI(model=\"gpt-4o-mini\", temperature=0)\n",
    "structured_llm_grader = llm.with_structured_output(GradeDocuments)\n",
    "\n",
    "# Prompt\n",
    "system = \"\"\"You are a grader assessing relevance of a retrieved document to a user question. \\n \n",
    "    It does not need to be a stringent test. The goal is to filter out erroneous retrievals. \\n\n",
    "    If the document contains keyword(s) or semantic meaning related to the user question, grade it as relevant. \\n\n",
    "    Give a binary score 'yes' or 'no' score to indicate whether the document is relevant to the question.\"\"\"\n",
    "grade_prompt = ChatPromptTemplate.from_messages(\n",
    "    [\n",
    "        (\"system\", system),\n",
    "        (\"human\", \"Retrieved document: \\n\\n {document} \\n\\n User question: {question}\"),\n",
    "    ]\n",
    ")\n",
    "\n",
    "retrieval_grader = grade_prompt | structured_llm_grader\n",
    "\n",
    "def grade_documents(state):\n",
    "    \"\"\"\n",
    "    Determines whether the retrieved documents are relevant to the question.\n",
    "\n",
    "    Args:\n",
    "        state (dict): The current graph state\n",
    "\n",
    "    Returns:\n",
    "        state (dict): Updates documents key with only filtered relevant documents\n",
    "    \"\"\"\n",
    "\n",
    "    print(\"---CHECK DOCUMENT RELEVANCE TO QUESTION---\")\n",
    "    question = state[\"question\"]\n",
    "    documents = state[\"context\"]\n",
    "\n",
    "    # Score each doc\n",
    "    filtered_docs = []\n",
    "    for i,d in enumerate(documents):\n",
    "        score = retrieval_grader.invoke(\n",
    "            {\"question\": question, \"document\": d.page_content}\n",
    "        )\n",
    "        grade = score.binary_score\n",
    "        if grade == \"yes\":\n",
    "            print(f\"---GRADE {i}: DOCUMENT RELEVANT---\")\n",
    "            filtered_docs.append(d)\n",
    "        else:\n",
    "            print(f\"---GRADE {i}: DOCUMENT NOT RELEVANT---\")\n",
    "            continue\n",
    "    return {\"documents\": filtered_docs, \"question\": question}\n",
    "\n",
    "def decide_to_generate(state):\n",
    "    \"\"\"\n",
    "    Determines whether to generate an answer, or re-generate a question.\n",
    "\n",
    "    Args:\n",
    "        state (dict): The current graph state\n",
    "\n",
    "    Returns:\n",
    "        str: Binary decision for next node to call\n",
    "    \"\"\"\n",
    "\n",
    "    print(\"---ASSESS GRADED DOCUMENTS---\")\n",
    "    state[\"question\"]\n",
    "    filtered_documents = state[\"documents\"]\n",
    "\n",
    "    if not filtered_documents:\n",
    "        # All documents have been filtered check_relevance\n",
    "        # We will re-generate a new query\n",
    "        print(\n",
    "            \"---DECISION: ALL DOCUMENTS ARE NOT RELEVANT TO QUESTION, TRANSFORM QUERY---\"\n",
    "        )\n",
    "        return \"transform_query\"\n",
    "    else:\n",
    "        # We have relevant documents, so generate answer\n",
    "        print(\"---DECISION: GENERATE---\")\n",
    "        return \"generate\"\n",
    "def generate(state: State):\n",
    "    docs_content = \"\"\n",
    "    for doc in state[\"context\"]:\n",
    "        docs_content += f\"The following text is a chunk from document titled: {doc.metadata[\"Work\"]}. There are a total of {doc.metadata[\"total_pages\"]} pages in this play. \\n\"\n",
    "        docs_content += doc.page_content + \"\\n\\n\"\n",
    "    message = prompt.invoke({\"question\": state[\"question\"], \"context\": docs_content})\n",
    "    response = llm.invoke(message)\n",
    "    return {\"answer\": response.content}\n",
    "\n",
    "# Reestablishing langgraph\n",
    "\n",
    "workflow = StateGraph(State)\n",
    "\n",
    "# Define the nodes\n",
    "workflow.add_node(\"retrieve\", retrieve)  # retrieve\n",
    "workflow.add_node(\"grade_documents\", grade_documents)  # grade documents\n",
    "workflow.add_node(\"generate\", generate)  # generate\n",
    "\n",
    "# Build graph\n",
    "workflow.add_edge(START, \"retrieve\")\n",
    "workflow.add_edge(\"retrieve\", \"grade_documents\")\n",
    "workflow.add_conditional_edges(\n",
    "    \"grade_documents\",\n",
    "    decide_to_generate\n",
    ")\n",
    "workflow.add_edge(\"generate\", END)\n",
    "\n",
    "# Compile\n",
    "app = workflow.compile()"
   ]
  },
  {
   "cell_type": "markdown",
   "id": "67c5ea16",
   "metadata": {},
   "source": [
    "## Functioning RAG with self-check"
   ]
  },
  {
   "cell_type": "code",
   "execution_count": 72,
   "id": "2f72cc6d",
   "metadata": {},
   "outputs": [
    {
     "name": "stdout",
     "output_type": "stream",
     "text": [
      "---CHECK DOCUMENT RELEVANCE TO QUESTION---\n",
      "---GRADE: DOCUMENT NOT RELEVANT---\n",
      "---GRADE: DOCUMENT RELEVANT---\n",
      "---GRADE: DOCUMENT RELEVANT---\n",
      "---GRADE: DOCUMENT NOT RELEVANT---\n",
      "---GRADE: DOCUMENT RELEVANT---\n",
      "---GRADE: DOCUMENT RELEVANT---\n",
      "---GRADE: DOCUMENT NOT RELEVANT---\n",
      "---GRADE: DOCUMENT RELEVANT---\n",
      "---GRADE: DOCUMENT NOT RELEVANT---\n",
      "---GRADE: DOCUMENT NOT RELEVANT---\n",
      "---GRADE: DOCUMENT RELEVANT---\n",
      "---GRADE: DOCUMENT NOT RELEVANT---\n",
      "---GRADE: DOCUMENT NOT RELEVANT---\n",
      "---GRADE: DOCUMENT NOT RELEVANT---\n",
      "---GRADE: DOCUMENT RELEVANT---\n",
      "Answer: In the provided excerpts from various plays, several types of airs or melodies are associated with dramatic situations of romance. Here are the notable examples:\n",
      "\n",
      "### 1. **Coraly**\n",
      "- **AIR du Fleuve de la vie**: This air is used by Roland to express his feelings about his beloved, indicating a romantic tension as he reflects on his emotions and the beauty of the woman he admires.\n",
      "\n",
      "### 2. **Le Fifre du roi de Prusse, ou les Prisonniers de Spandau**\n",
      "- **AIR : De Doche**: Alfred expresses his longing and despair over Amélie, showcasing the romantic turmoil he experiences due to his feelings for her.\n",
      "- **AIR : Vaud. du Printems**: Crescendo sings about the beauty of art and talent, which can be interpreted as a metaphor for romantic aspirations and the pursuit of love.\n",
      "\n",
      "### 3. **Isle des noirs**\n",
      "- **AIR: Voulant par ses œuvres complètes**: This air discusses the effects of love, portraying it as a powerful and sometimes destructive force, which aligns with the romantic themes of the characters' experiences.\n",
      "\n",
      "### 4. **Les Maris sans femmes**\n",
      "- **Air : du Vaud. de Farinella**: D'Héricourt expresses his feelings of love and longing, emphasizing the emotional stakes involved in romantic relationships.\n",
      "\n",
      "### 5. **La Dette d’honneur**\n",
      "- **Air : Femmes, voulez-vous éprouver**: This air reflects on the nature of love and relationships, suggesting that romantic disputes are a common part of life, which adds depth to the romantic narrative.\n",
      "\n",
      "### 6. **D’Aranda**\n",
      "- While not explicitly labeled as an air, the dialogue reflects romantic tension and jealousy, which are common themes in romantic situations.\n",
      "\n",
      "### 7. **Le Fifre du roi de Prusse, ou les Prisonniers de Spandau (again)**\n",
      "- **AIR: Vaud. du Piege**: This air captures the essence of love's transformative power, highlighting the emotional depth and complexity of romantic feelings.\n",
      "\n",
      "In summary, the airs and melodies present in these dramatic situations of romance often serve to express longing, emotional conflict, and the transformative power of love, enhancing the romantic narrative within the plays.\n",
      "\n",
      "\n",
      "Sources:\n",
      "Source 1: Duval_Les_artistes_par_occasion_(1807).pdf\n",
      "Source 2: Coraly_ou_la_soeur_et_le_Frere.pdf\n",
      "Source 3: Revel_=_Le_Fifre_du_roi_de_Prusse,_ou_les_Prisonniers_de_Spandau_(1818).pdf\n",
      "Source 4: Revel_=_Le_Fifre_du_roi_de_Prusse,_ou_les_Prisonniers_de_Spandau_(1818).pdf\n",
      "Source 5: L_isle_des_noirs_ou_Les_deux_ingénues.pdf\n",
      "Source 6: Ohé_Les_p_tits_agneaux_revue.pdf\n",
      "Source 7: Les_maris_sans_femmes.pdf\n",
      "Source 8: La_Dette_d_honneur.pdf\n",
      "Source 9: Revel_=_Le_Fifre_du_roi_de_Prusse,_ou_les_Prisonniers_de_Spandau_(1818).pdf\n",
      "Source 10: Les_maris_sans_femmes.pdf\n",
      "Source 11: Coraly_ou_la_soeur_et_le_Frere.pdf\n",
      "Source 12: D_Aranda_ou_les_grandes_passions_comédi_p_19.pdf\n",
      "Source 13: Revel_=_Le_Fifre_du_roi_de_Prusse,_ou_les_Prisonniers_de_Spandau_(1818).pdf\n",
      "Source 14: La_grisette_et_l_héritière.pdf\n",
      "Source 15: Revel_=_Le_Fifre_du_roi_de_Prusse,_ou_les_Prisonniers_de_Spandau_(1818).pdf\n"
     ]
    }
   ],
   "source": [
    "result = graph.invoke({\"question\": \"What types of airs / melodies are present in dramatic situations of romance?\"})\n",
    "\n",
    "print(f'Answer: {result[\"answer\"]}')\n",
    "print(\"\\n\\nSources:\")\n",
    "for i, source in enumerate(result[\"context\"]):\n",
    "    print(f'Source {i+1}: {source.metadata[\"source\"]}')"
   ]
  },
  {
   "cell_type": "markdown",
   "id": "1f599bbf",
   "metadata": {},
   "source": [
    "## Conclusions\n",
    "\n",
    "Overall, the RAG system had solid performance. For the most part, it was able to extract the desired information from thousands of pages in a matter of seconds. \n",
    "\n",
    "The self check is effective, and allows the possibility of adding more documents to each query (since irrelevant documents don't make the prompt), or adding the ability to rephrase the question if it doesn't reach a certain threshold of relevant documents. "
   ]
  }
 ],
 "metadata": {
  "kernelspec": {
   "display_name": "AI_Projects",
   "language": "python",
   "name": "python3"
  },
  "language_info": {
   "codemirror_mode": {
    "name": "ipython",
    "version": 3
   },
   "file_extension": ".py",
   "mimetype": "text/x-python",
   "name": "python",
   "nbconvert_exporter": "python",
   "pygments_lexer": "ipython3",
   "version": "3.12.11"
  }
 },
 "nbformat": 4,
 "nbformat_minor": 5
}
