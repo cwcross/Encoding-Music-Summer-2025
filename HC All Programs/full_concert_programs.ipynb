{
 "cells": [
  {
   "cell_type": "raw",
   "id": "d9c65866",
   "metadata": {
    "vscode": {
     "languageId": "raw"
    }
   },
   "source": [
    "---\n",
    "title: \"RAG: Haverford College Concert Programs Fall 2009 - Spring 2022\"\n",
    "author: 'Charlie Cross'\n",
    "date: 'June 26, 2025'\n",
    "\n",
    "format:\n",
    "  html:\n",
    "    code-fold: true\n",
    "    embed-resources: true\n",
    "plotly-connected: true\n",
    "jupyter: python3\n",
    "\n",
    "---"
   ]
  },
  {
   "cell_type": "markdown",
   "id": "f7626d2e",
   "metadata": {},
   "source": [
    "# RAG: Haverford College Concert Programs Fall 2009 - Spring 2022"
   ]
  },
  {
   "cell_type": "markdown",
   "id": "54e4b49c",
   "metadata": {},
   "source": [
    "## Goals\n",
    "\n",
    "* Create a Retrieval Augmented Generation app for Haverford Concert programs 2009-2022\n",
    "* Implement metadata filters for more refined context, thus higher chance of accurate responses"
   ]
  },
  {
   "cell_type": "markdown",
   "id": "f393f1a5",
   "metadata": {},
   "source": [
    "If the kernel restarts, do not run all!! Instead, run the code [here](full_concert_programs.ipynb#run-this-cell-to-reestablish-variables-and-keys)."
   ]
  },
  {
   "cell_type": "markdown",
   "id": "618b2d8e",
   "metadata": {},
   "source": [
    "## Imports and Initial Setup"
   ]
  },
  {
   "cell_type": "code",
   "execution_count": 13,
   "id": "bf04bf03",
   "metadata": {},
   "outputs": [],
   "source": [
    "# Setting up chat model\n",
    "import getpass\n",
    "import os\n",
    "\n",
    "if not os.environ.get(\"OPENAI_API_KEY\"):\n",
    "  os.environ[\"OPENAI_API_KEY\"] = getpass.getpass(\"Enter API key for OpenAI: \")\n",
    "\n",
    "from langchain.chat_models import init_chat_model\n",
    "\n",
    "llm = init_chat_model(\"gpt-4o-mini\", model_provider=\"openai\")"
   ]
  },
  {
   "cell_type": "code",
   "execution_count": 14,
   "id": "ad466093",
   "metadata": {},
   "outputs": [],
   "source": [
    "# Setting up embeddings\n",
    "import getpass\n",
    "import os\n",
    "\n",
    "if not os.environ.get(\"OPENAI_API_KEY\"):\n",
    "  os.environ[\"OPENAI_API_KEY\"] = getpass.getpass(\"Enter API key for OpenAI: \")\n",
    "\n",
    "from langchain_openai import OpenAIEmbeddings\n",
    "\n",
    "embeddings = OpenAIEmbeddings(model=\"text-embedding-3-large\")"
   ]
  },
  {
   "cell_type": "code",
   "execution_count": 15,
   "id": "1cb97553",
   "metadata": {},
   "outputs": [],
   "source": [
    "# Setting up chroma\n",
    "from langchain_chroma import Chroma\n",
    "\n",
    "vector_store = Chroma(\n",
    "    collection_name=\"example_collection\",\n",
    "    embedding_function=embeddings,\n",
    "    persist_directory=\"./chroma_langchain_db\",  # Where to save data locally, remove if not necessary\n",
    ")"
   ]
  },
  {
   "cell_type": "markdown",
   "id": "cd40b45b",
   "metadata": {},
   "source": [
    "## Indexing"
   ]
  },
  {
   "cell_type": "markdown",
   "id": "52e267d4",
   "metadata": {},
   "source": [
    "### Loading Files"
   ]
  },
  {
   "cell_type": "markdown",
   "id": "9d556181",
   "metadata": {},
   "source": [
    "First we have to load all of our documents as text. We use Langchain's loaders. Then, we merge the CSV metadata with the documents."
   ]
  },
  {
   "cell_type": "code",
   "execution_count": 16,
   "id": "e91ce6ad",
   "metadata": {},
   "outputs": [],
   "source": [
    "# Setting up csv loading\n",
    "\n",
    "from langchain_community.document_loaders.csv_loader import CSVLoader\n",
    "\n",
    "def loadCSV(filepath: str) -> list:\n",
    "    loader = CSVLoader(file_path=filepath, source_column=\"Filename\",metadata_columns=[\"Category\",\"Year\",\"Term\"])\n",
    "    data = loader.load()\n",
    "    return data\n"
   ]
  },
  {
   "cell_type": "code",
   "execution_count": 17,
   "id": "701b9116",
   "metadata": {},
   "outputs": [
    {
     "name": "stdout",
     "output_type": "stream",
     "text": [
      "1. Curt Cacioppo _ Ying Li Program.pdf\n",
      "Chamber\n"
     ]
    }
   ],
   "source": [
    "# Load CSV\n",
    "\n",
    "csv_metadata = loadCSV(\"Files/Concert_Metadata.csv\")\n",
    "print(csv_metadata[0].metadata['source'])\n",
    "print(csv_metadata[1].metadata['Category'])"
   ]
  },
  {
   "cell_type": "markdown",
   "id": "be0133b5",
   "metadata": {},
   "source": [
    "Here we use PDFPlumberLoader, rather than the default PyPDFLoader, because it seemed to work better with these specific documents. Both have pros and cons."
   ]
  },
  {
   "cell_type": "code",
   "execution_count": 18,
   "id": "86835965",
   "metadata": {},
   "outputs": [],
   "source": [
    "# Setting up pdf loading\n",
    "\n",
    "from pathlib import Path\n",
    "from langchain.document_loaders import PDFPlumberLoader\n",
    "\n",
    "async def loadPDF(filepath: str) -> list:\n",
    "    loader = PDFPlumberLoader(filepath)\n",
    "    pages = []\n",
    "    async for page in loader.alazy_load():\n",
    "        pages.append(page)   \n",
    "    return pages\n",
    "\n",
    "\n",
    "def get_files_from_directory(directory_path: str) -> list[str]:\n",
    "    directory = Path(directory_path)\n",
    "    file_paths = [str(file) for file in directory.iterdir() if file.is_file()]\n",
    "    return file_paths\n",
    "\n",
    "\n",
    "directory_path:str = \"Files/PDFs\"\n",
    "files: list[str] = get_files_from_directory(directory_path)"
   ]
  },
  {
   "cell_type": "code",
   "execution_count": 19,
   "id": "5cdd64fb",
   "metadata": {},
   "outputs": [],
   "source": [
    "# Load PDFs w/out metadata\n",
    "loaded_PDFs: list = []\n",
    "for file in files:\n",
    "    pages = await loadPDF(file)\n",
    "    loaded_PDFs.append(pages)"
   ]
  },
  {
   "cell_type": "code",
   "execution_count": 33,
   "id": "70e05aaf",
   "metadata": {},
   "outputs": [
    {
     "name": "stdout",
     "output_type": "stream",
     "text": [
      "Document 0 \n",
      "\n",
      "hy by Curt Cacioppo; video montage by John Thornton\n",
      "Digital image and live piano\n",
      "Synaesthesis I† (2015)\n",
      "artwork by Ying Li; videography by John Thornton\n",
      "* world premiere † U.S. premiere\n",
      "‡ from the Nav\n",
      " \n",
      "\n",
      "Document 1 \n",
      "\n",
      "on,\n",
      "Rockport, Sedona, and Sarasota. Currently cellist of the Banff award-winning Amernet String Quartet,\n",
      "Ensemble-in-Residence at Florida International University in Miami, Mr. Calloway was previously\n",
      " \n",
      "\n",
      "Document 2 \n",
      "\n",
      "w Music Conference, Five College New Music Festival,\n",
      "North American Saxophone Alliance Biennial Conference at Texas Tech University, Michigan State\n",
      "University, Arizona State University, University of \n",
      " \n",
      "\n"
     ]
    }
   ],
   "source": [
    "# Check PDF content\n",
    "for i in range(3):\n",
    "    document = loaded_PDFs[i]\n",
    "    print(f\"Document {i} \\n\")\n",
    "    document_content: str = \"\"\n",
    "    for document_page in document:\n",
    "        document_content += document_page.page_content\n",
    "    print(document_content[1000:1200] + \"\\n \\n\")"
   ]
  },
  {
   "cell_type": "code",
   "execution_count": 21,
   "id": "2f952f0c",
   "metadata": {},
   "outputs": [
    {
     "name": "stdout",
     "output_type": "stream",
     "text": [
      "Document 0 \n",
      "\n",
      "[('source', 'Files\\\\PDFs\\\\1. Curt Cacioppo _ Ying Li Program.pdf'), ('file_path', 'Files\\\\PDFs\\\\1. Curt Cacioppo _ Ying Li Program.pdf'), ('page', 0), ('total_pages', 2), ('CreationDate', 'D:20160919154334Z'), ('Creator', 'Word'), ('Keywords', ''), ('ModDate', \"D:20161101094302-04'00'\"), ('Producer', 'Mac OS X 10.10.4 Quartz PDFContext'), ('Title', 'Microsoft Word - LIBRARY program.docx'), ('source', 'Files\\\\PDFs\\\\1. Curt Cacioppo _ Ying Li Program.pdf'), ('file_path', 'Files\\\\PDFs\\\\1. Curt Cacioppo _ Ying Li Program.pdf'), ('page', 1), ('total_pages', 2), ('CreationDate', 'D:20160919154334Z'), ('Creator', 'Word'), ('Keywords', ''), ('ModDate', \"D:20161101094302-04'00'\"), ('Producer', 'Mac OS X 10.10.4 Quartz PDFContext'), ('Title', 'Microsoft Word - LIBRARY program.docx')]\n",
      "Document 1 \n",
      "\n",
      "[('source', 'Files\\\\PDFs\\\\1. Jason Calloway Program 2017.pdf'), ('file_path', 'Files\\\\PDFs\\\\1. Jason Calloway Program 2017.pdf'), ('page', 0), ('total_pages', 2), ('Title', 'Calloway program 2017'), ('Author', 'Nancy Merriam '), ('Subject', ''), ('Producer', 'Mac OS X 10.11.6 Quartz PDFContext'), ('Creator', 'Word'), ('CreationDate', \"D:20170924161250Z00'00'\"), ('ModDate', \"D:20170924161250Z00'00'\"), ('Keywords', ''), ('source', 'Files\\\\PDFs\\\\1. Jason Calloway Program 2017.pdf'), ('file_path', 'Files\\\\PDFs\\\\1. Jason Calloway Program 2017.pdf'), ('page', 1), ('total_pages', 2), ('Title', 'Calloway program 2017'), ('Author', 'Nancy Merriam '), ('Subject', ''), ('Producer', 'Mac OS X 10.11.6 Quartz PDFContext'), ('Creator', 'Word'), ('CreationDate', \"D:20170924161250Z00'00'\"), ('ModDate', \"D:20170924161250Z00'00'\"), ('Keywords', '')]\n",
      "Document 2 \n",
      "\n",
      "[('source', 'Files\\\\PDFs\\\\1. Jonathan Hulting-Cohen Program.pdf'), ('file_path', 'Files\\\\PDFs\\\\1. Jonathan Hulting-Cohen Program.pdf'), ('page', 0), ('total_pages', 2), ('Title', 'Jonathan Hulting-Cohen Program'), ('Author', 'Nancy Merriam '), ('Subject', ''), ('Producer', 'Mac OS X 10.11.6 Quartz PDFContext'), ('Creator', 'Word'), ('CreationDate', \"D:20200609163839Z00'00'\"), ('ModDate', \"D:20200609163839Z00'00'\"), ('Keywords', ''), ('source', 'Files\\\\PDFs\\\\1. Jonathan Hulting-Cohen Program.pdf'), ('file_path', 'Files\\\\PDFs\\\\1. Jonathan Hulting-Cohen Program.pdf'), ('page', 1), ('total_pages', 2), ('Title', 'Jonathan Hulting-Cohen Program'), ('Author', 'Nancy Merriam '), ('Subject', ''), ('Producer', 'Mac OS X 10.11.6 Quartz PDFContext'), ('Creator', 'Word'), ('CreationDate', \"D:20200609163839Z00'00'\"), ('ModDate', \"D:20200609163839Z00'00'\"), ('Keywords', '')]\n"
     ]
    }
   ],
   "source": [
    "# Check PDF metadata\n",
    "for i in range(3):\n",
    "    document = loaded_PDFs[i]\n",
    "    print(f\"Document {i} \\n\")\n",
    "    document_metadata: list = []\n",
    "    for document_page in document:\n",
    "        document_metadata += document_page.metadata.items()\n",
    "    print(document_metadata)"
   ]
  },
  {
   "cell_type": "markdown",
   "id": "be37606a",
   "metadata": {},
   "source": [
    "So, some of this info is useful and some isn't.\n",
    "\n",
    "We should keep:\n",
    "* Source (but clean it so it's just the filename)\n",
    "* Filepath\n",
    "* Page\n",
    "* Total pages\n",
    "* Title\n",
    "* CreationDate\n",
    "\n",
    "We should remove:\n",
    "* Author (not relevant)\n",
    "* Subject (blank)\n",
    "* Producer (not relevant)\n",
    "* Creator (not relevant)\n",
    "* ModDate (not relevant)\n",
    "* Keywords (empty)\n",
    "\n",
    "Essentially, we want to preserve the fields that will help the embeddings model place these documents in the vector database, but remove extra fields that will confuse the model."
   ]
  },
  {
   "cell_type": "code",
   "execution_count": 28,
   "id": "dc7ef041",
   "metadata": {},
   "outputs": [
    {
     "name": "stdout",
     "output_type": "stream",
     "text": [
      "1. Curt Cacioppo _ Ying Li Program.pdf\n",
      "1. Jason Calloway Program 2017.pdf\n",
      "1. Jonathan Hulting-Cohen Program.pdf\n",
      "1. Jordan Dodson Program.pdf\n",
      "1. Matthew Bengtson Program.pdf\n"
     ]
    }
   ],
   "source": [
    "# Cleaning the sources to match with the CSV source names\n",
    "for source in loaded_PDFs:\n",
    "    for page in source:\n",
    "        page.metadata['source'] = page.metadata['source'].replace(\"Files\\\\PDFs\\\\\",\"\")\n",
    "\n",
    "for i in range(5):\n",
    "    source = loaded_PDFs[i]\n",
    "    print(source[0].metadata['source'])"
   ]
  },
  {
   "cell_type": "code",
   "execution_count": 29,
   "id": "0760ade0",
   "metadata": {},
   "outputs": [],
   "source": [
    "# Sorting both the CSV and PDF metadata to match\n",
    "csv_metadata.sort(key=lambda x: x.metadata['source'])\n",
    "loaded_PDFs.sort(key=lambda x: x[0].metadata['source'])"
   ]
  },
  {
   "cell_type": "markdown",
   "id": "2d655aa0",
   "metadata": {},
   "source": [
    "The following cell ensures that we have matches between PDF's and CSV rows."
   ]
  },
  {
   "cell_type": "code",
   "execution_count": 30,
   "id": "a6fd43e1",
   "metadata": {},
   "outputs": [],
   "source": [
    "# Use assert to ensure the sources match\n",
    "for i in range(len(csv_metadata)):\n",
    "    assert csv_metadata[i].metadata['source'] == loaded_PDFs[i][0].metadata['source'], f\"Mismatch at index {i}: {csv_metadata[i].metadata['source']} != {loaded_PDFs[i][0].metadata['source']}\""
   ]
  },
  {
   "cell_type": "markdown",
   "id": "4e55e112",
   "metadata": {},
   "source": [
    "#### Cleaning PDF Metadata and Adding CSV Content"
   ]
  },
  {
   "cell_type": "markdown",
   "id": "ca71f804",
   "metadata": {},
   "source": [
    "We should remove:\n",
    "* Author (not relevant)\n",
    "* Subject (blank)\n",
    "* Producer (not relevant)\n",
    "* Creator (not relevant)\n",
    "* ModDate (not relevant)\n",
    "* Keywords (empty)"
   ]
  },
  {
   "cell_type": "code",
   "execution_count": null,
   "id": "537e2da8",
   "metadata": {},
   "outputs": [
    {
     "name": "stdout",
     "output_type": "stream",
     "text": [
      "356\n",
      "356\n"
     ]
    }
   ],
   "source": [
    "print(len(csv_metadata))\n",
    "print(len(loaded_PDFs))"
   ]
  },
  {
   "cell_type": "code",
   "execution_count": null,
   "id": "50f4f37a",
   "metadata": {},
   "outputs": [],
   "source": [
    "for i in range(len(csv_metadata)):\n",
    "    row = csv_metadata[i]\n",
    "    for pdf in loaded_PDFs:\n",
    "        assert row.metadata[\"source\"] == loaded_PDFs[i][0].metadata[\"source\"], f\"Mismatch in source for row {i}: {row.metadata['source']} != {loaded_PDFs[i][0].metadata['source']}\""
   ]
  },
  {
   "cell_type": "code",
   "execution_count": 34,
   "id": "bae9f60e",
   "metadata": {},
   "outputs": [
    {
     "name": "stdout",
     "output_type": "stream",
     "text": [
      "{'source': '1. Curt Cacioppo _ Ying Li Program.pdf', 'file_path': 'Files\\\\PDFs\\\\1. Curt Cacioppo _ Ying Li Program.pdf', 'page': 0, 'total_pages': 2, 'CreationDate': 'D:20160919154334Z', 'Ensemble_Type': 'Chamber', 'Year': '2016', 'Term': 'Fall'}\n",
      "{'source': '1. Jason Calloway Program 2017.pdf', 'file_path': 'Files\\\\PDFs\\\\1. Jason Calloway Program 2017.pdf', 'page': 0, 'total_pages': 2, 'CreationDate': \"D:20170924161250Z00'00'\", 'Ensemble_Type': 'Chamber', 'Year': '2017', 'Term': 'Fall'}\n",
      "{'source': '1. Jonathan Hulting-Cohen Program.pdf', 'file_path': 'Files\\\\PDFs\\\\1. Jonathan Hulting-Cohen Program.pdf', 'page': 0, 'total_pages': 2, 'CreationDate': \"D:20200609163839Z00'00'\", 'Ensemble_Type': 'Chamber', 'Year': '2018', 'Term': 'Fall'}\n",
      "{'source': '1. Jordan Dodson Program.pdf', 'file_path': 'Files\\\\PDFs\\\\1. Jordan Dodson Program.pdf', 'page': 0, 'total_pages': 2, 'CreationDate': \"D:20200609143156Z00'00'\", 'Ensemble_Type': 'Chamber', 'Year': '2019', 'Term': 'Fall'}\n",
      "{'source': '1. Matthew Bengtson Program.pdf', 'file_path': 'Files\\\\PDFs\\\\1. Matthew Bengtson Program.pdf', 'page': 0, 'total_pages': 4, 'CreationDate': \"D:20160524162604Z00'00'\", 'Ensemble_Type': 'Chamber', 'Year': '2015', 'Term': 'Fall'}\n"
     ]
    }
   ],
   "source": [
    "irrelevant_metadata = ['Author', 'Subject', 'Producer', 'ModDate', 'Keywords', 'Creator', 'Title']\n",
    "\n",
    "for i in range(len(loaded_PDFs)):\n",
    "    document = loaded_PDFs[i]\n",
    "    for page in document:\n",
    "        for key in irrelevant_metadata:\n",
    "            if key in page.metadata:\n",
    "                del page.metadata[key]\n",
    "        # Add the category and year from the CSV metadata\n",
    "        assert page.metadata['source'] == csv_metadata[i].metadata['source'], \"Source mismatch between PDF and CSV metadata\"\n",
    "        page.metadata['Ensemble_Type'] = csv_metadata[i].metadata['Category']\n",
    "        page.metadata['Year'] = csv_metadata[i].metadata['Year']\n",
    "        page.metadata['Term'] = csv_metadata[i].metadata['Term']\n",
    "    if i < 5:\n",
    "        print(document[0].metadata)"
   ]
  },
  {
   "cell_type": "code",
   "execution_count": 36,
   "id": "50624e0c",
   "metadata": {},
   "outputs": [],
   "source": [
    "# Convert each sublist into a single document\n",
    "from langchain.schema import Document\n",
    "def convert_list_to_document(pages: list) -> Document:\n",
    "    document_content: str = \"\"\n",
    "    for page in pages:\n",
    "        document_content += page.page_content\n",
    "    document: Document = Document(\n",
    "        page_content=document_content,\n",
    "        metadata=pages[0].metadata  # Use the metadata from the first page\n",
    "    )\n",
    "    return document\n",
    "\n",
    "# Convert loaded PDFs to documents\n",
    "docs = []\n",
    "for source in loaded_PDFs:\n",
    "    doc = convert_list_to_document(source)\n",
    "    docs.append(doc)  # Append the single Document object"
   ]
  },
  {
   "cell_type": "code",
   "execution_count": 37,
   "id": "39657eb0",
   "metadata": {},
   "outputs": [
    {
     "name": "stdout",
     "output_type": "stream",
     "text": [
      "“The Colors and the Sounds Respond”\n",
      "music and performance Sharpless Gallery\n",
      "by composer & pianist Magill Library\n",
      "CURT CACIOPPO Haverford College\n",
      "in conjunction with the Wednesday, September 21, 2016\n",
      "7:30 PM\n",
      "artwork of Ying Li\n",
      "Piano music to complement the artwork on exhibit\n",
      "Summer Moon over Cape Cod* (2016)\n",
      "Boathouse Row (from Philadelphia Diary; 2008)\n",
      "Chloe* (2014)\n",
      "January Thaw (2013)\n",
      "Somnamble† (after Bellini; 2015)\n",
      "Parisian Room Waltz* (from Stories from the 7th Ward; 2016)\n",
      "Sharon’s Song* (2015)\n",
      "Drehleier Blues (after Schubert, “Der Leiermann;” 2012)\n",
      "Paean* (2015)\n",
      "Vaya con Dios (tango; 2007)\n",
      "August Rose† (2015)\n",
      "Burlesca (from Sestinamento <<Operistica>>, after Mozart; 2008)\n",
      "Digital image and audio\n",
      "Reflections of Flames on Wet Pavement‡ (from Impressioni venexiane,\n",
      "String Quartet No. 3; 2008)\n",
      "artwork: “Wuji (Infinity),” by Ying Li; video-choreography by Alexej Steinhardt HC ’99\n",
      "Sorriso a Catania‡‡ (from Divertimenti in Italia, String Quartet No. 6; 2012)\n",
      "artwork by Ying Li; photograp\n"
     ]
    }
   ],
   "source": [
    "print(docs[0].page_content[:1000])"
   ]
  },
  {
   "cell_type": "code",
   "execution_count": 38,
   "id": "cce5eaef",
   "metadata": {},
   "outputs": [
    {
     "name": "stdout",
     "output_type": "stream",
     "text": [
      "Document 90 Metadata: {'source': '18. Orchestra Program Spring 2019.pdf', 'file_path': 'Files\\\\PDFs\\\\18. Orchestra Program Spring 2019.pdf', 'page': 0, 'total_pages': 7, 'CreationDate': 'D:20190412224743Z', 'Ensemble_Type': 'Orchestra', 'Year': '2019', 'Term': 'Spring'}\n",
      "Document 91 Metadata: {'source': '18. Steven Mayer-Matthew Plenk Program.pdf', 'file_path': 'Files\\\\PDFs\\\\18. Steven Mayer-Matthew Plenk Program.pdf', 'page': 0, 'total_pages': 4, 'CreationDate': \"D:20180329155545Z00'00'\", 'Ensemble_Type': 'Chamber', 'Year': '2018', 'Term': 'Spring'}\n",
      "Document 92 Metadata: {'source': '18. Taiko _ Dance Program 2016.pdf', 'file_path': 'Files\\\\PDFs\\\\18. Taiko _ Dance Program 2016.pdf', 'page': 0, 'total_pages': 4, 'CreationDate': 'D:20160523150851Z', 'Ensemble_Type': 'Chamber', 'Year': '2016', 'Term': 'Spring'}\n",
      "Document 93 Metadata: {'source': '19. Chamber Singers Rotunda Program 2015.pdf', 'file_path': 'Files\\\\PDFs\\\\19. Chamber Singers Rotunda Program 2015.pdf', 'page': 0, 'total_pages': 1, 'CreationDate': \"D:20160524153321Z00'00'\", 'Ensemble_Type': 'Choral', 'Year': '2015', 'Term': 'Spring'}\n",
      "Document 94 Metadata: {'source': '19. Chorale Program Spring 2013.pdf', 'file_path': 'Files\\\\PDFs\\\\19. Chorale Program Spring 2013.pdf', 'page': 0, 'total_pages': 16, 'CreationDate': \"D:20160524164621Z00'00'\", 'Ensemble_Type': 'Choral', 'Year': '2013', 'Term': 'Spring'}\n",
      "Document 95 Metadata: {'source': '19. Curt Cacioppo and Friends Program.pdf', 'file_path': 'Files\\\\PDFs\\\\19. Curt Cacioppo and Friends Program.pdf', 'page': 0, 'total_pages': 10, 'CreationDate': \"D:20200615113320-04'00'\", 'Ensemble_Type': 'Chamber', 'Year': '2019', 'Term': 'Spring'}\n",
      "Document 96 Metadata: {'source': '19. David Botwinik Program.pdf', 'file_path': 'Files\\\\PDFs\\\\19. David Botwinik Program.pdf', 'page': 0, 'total_pages': 12, 'CreationDate': \"D:20120219225158-05'00'\", 'Ensemble_Type': 'Vocal', 'Year': '2012', 'Term': 'Spring'}\n",
      "Document 97 Metadata: {'source': '19. Lutton Fund-This Room-Program.pdf', 'file_path': 'Files\\\\PDFs\\\\19. Lutton Fund-This Room-Program.pdf', 'page': 0, 'total_pages': 2, 'CreationDate': \"D:20160524180634Z00'00'\", 'Ensemble_Type': 'Chamber', 'Year': '', 'Term': ''}\n"
     ]
    }
   ],
   "source": [
    "# Double check metadata\n",
    "for i in range(90,98):\n",
    "    print(f\"Document {i} Metadata: {docs[i].metadata}\")"
   ]
  },
  {
   "cell_type": "markdown",
   "id": "b35c6c95",
   "metadata": {},
   "source": [
    "### Chunking Files"
   ]
  },
  {
   "cell_type": "code",
   "execution_count": null,
   "id": "dbb91b13",
   "metadata": {},
   "outputs": [
    {
     "name": "stdout",
     "output_type": "stream",
     "text": [
      "Split 356 PDFs into 3757 sub-documents.\n"
     ]
    }
   ],
   "source": [
    "from langchain_text_splitters import RecursiveCharacterTextSplitter\n",
    "\n",
    "text_splitter = RecursiveCharacterTextSplitter(\n",
    "    chunk_size=1000,  # chunk size (characters)\n",
    "    chunk_overlap=200,  # chunk overlap (characters)\n",
    "    add_start_index=True,  # track index in original document\n",
    ")\n",
    "all_splits = text_splitter.split_documents(docs)\n",
    "\n",
    "print(f\"Split {len(docs)} PDFs into {len(all_splits)} sub-documents.\")"
   ]
  },
  {
   "cell_type": "code",
   "execution_count": null,
   "id": "7a305384",
   "metadata": {},
   "outputs": [
    {
     "name": "stdout",
     "output_type": "stream",
     "text": [
      "['f6b62a29-03d0-4b4c-a5f8-3a841d114756', '63653de1-d878-497f-b752-385c2717fe76', '28e3571c-4a8e-4a33-8937-ccc553c5cbe3']\n"
     ]
    }
   ],
   "source": [
    "# If we run this again when reestablishing variables, it will duplicate documents and charge us\n",
    "\n",
    "\n",
    "# document_ids = vector_store.add_documents(documents=all_splits) \n",
    "# print(document_ids[:3])\n",
    "\n",
    "# "
   ]
  },
  {
   "cell_type": "markdown",
   "id": "720130a3",
   "metadata": {},
   "source": [
    "The above code is commented out to avoid adding documents again, which would duplicate them in the vector store. The vector store should already be set up in `/chroma_langchain_db`"
   ]
  },
  {
   "cell_type": "markdown",
   "id": "97450275",
   "metadata": {},
   "source": [
    "## Setting Up Retrieval and Generation"
   ]
  },
  {
   "cell_type": "markdown",
   "id": "1a162585",
   "metadata": {},
   "source": [
    "We use LangGraph and a State class to set up our RAG. LangGraph allows us to set up clear steps, and the State allows us to pass information between each step. \n",
    "\n",
    "See the graph below the 3 code cells."
   ]
  },
  {
   "cell_type": "code",
   "execution_count": null,
   "id": "754e8008",
   "metadata": {},
   "outputs": [],
   "source": [
    "from langchain_core.documents import Document\n",
    "from typing_extensions import List, TypedDict\n",
    "from langchain_core.prompts import ChatPromptTemplate\n",
    "\n",
    "prompt = ChatPromptTemplate.from_messages([\n",
    "    (\"system\", \"You are a helpful assistant. Use only the information provided in the context below to answer the question. If the answer is not in the context, say 'I don't know' or 'The information is not available.'\"),\n",
    "    (\"human\", \"Context:\\n{context}\\n\\nQuestion: {question}\")\n",
    "])\n",
    "\n",
    "class State(TypedDict):\n",
    "    question: str\n",
    "    context: List[Document]\n",
    "    answer: str\n",
    "\n",
    "def retrieve(state: State):\n",
    "    retrieved_docs = vector_store.similarity_search(state[\"question\"], k = 10)\n",
    "    return {\"context\": retrieved_docs}\n",
    "\n",
    "def generate(state: State):\n",
    "    docs_content = \"\\n\\n\".join([doc.page_content for doc in state[\"context\"]])\n",
    "    message = prompt.invoke({\"question\": state[\"question\"], \"context\": docs_content})\n",
    "    response = llm.invoke(message)\n",
    "    return {\"answer\": response.content}\n"
   ]
  },
  {
   "cell_type": "code",
   "execution_count": 32,
   "id": "5841468c",
   "metadata": {},
   "outputs": [],
   "source": [
    "from langgraph.graph import START, StateGraph\n",
    "\n",
    "graph_builder = StateGraph(State).add_sequence([retrieve, generate])\n",
    "graph_builder.add_edge(START, \"retrieve\")\n",
    "graph = graph_builder.compile()"
   ]
  },
  {
   "cell_type": "code",
   "execution_count": 33,
   "id": "75204567",
   "metadata": {},
   "outputs": [
    {
     "name": "stdout",
     "output_type": "stream",
     "text": [
      "+-----------+  \n",
      "| __start__ |  \n",
      "+-----------+  \n",
      "      *        \n",
      "      *        \n",
      "      *        \n",
      "+----------+   \n",
      "| retrieve |   \n",
      "+----------+   \n",
      "      *        \n",
      "      *        \n",
      "      *        \n",
      "+----------+   \n",
      "| generate |   \n",
      "+----------+   \n",
      "      *        \n",
      "      *        \n",
      "      *        \n",
      " +---------+   \n",
      " | __end__ |   \n",
      " +---------+   \n"
     ]
    }
   ],
   "source": [
    "print(graph.get_graph().draw_ascii())"
   ]
  },
  {
   "cell_type": "markdown",
   "id": "d58a5c10",
   "metadata": {},
   "source": [
    "## Run this cell to reestablish variables and keys"
   ]
  },
  {
   "cell_type": "code",
   "execution_count": 3,
   "id": "43e2cd28",
   "metadata": {},
   "outputs": [],
   "source": [
    "# Setting up chat model\n",
    "import getpass\n",
    "import os\n",
    "\n",
    "if not os.environ.get(\"OPENAI_API_KEY\"):\n",
    "  os.environ[\"OPENAI_API_KEY\"] = getpass.getpass(\"Enter API key for OpenAI: \")\n",
    "\n",
    "from langchain.chat_models import init_chat_model\n",
    "\n",
    "llm = init_chat_model(\"gpt-4o-mini\", model_provider=\"openai\")\n",
    "\n",
    "# Setting up embeddings\n",
    "import getpass\n",
    "import os\n",
    "\n",
    "if not os.environ.get(\"OPENAI_API_KEY\"):\n",
    "  os.environ[\"OPENAI_API_KEY\"] = getpass.getpass(\"Enter API key for OpenAI: \")\n",
    "\n",
    "from langchain_openai import OpenAIEmbeddings\n",
    "\n",
    "embeddings = OpenAIEmbeddings(model=\"text-embedding-3-large\")\n",
    "\n",
    "# Reestablishing up our persist directory for Chroma\n",
    "from langchain_chroma import Chroma\n",
    "\n",
    "vector_store = Chroma(\n",
    "    collection_name=\"example_collection\",\n",
    "    embedding_function=embeddings,\n",
    "    persist_directory=\"./chroma_langchain_db\",  # Where we stored our data before\n",
    ")\n",
    "\n",
    "# Reestablishing retrieval and generation functions\n",
    "from langchain_core.documents import Document\n",
    "from typing_extensions import List, TypedDict\n",
    "\n",
    "from langchain_core.prompts import ChatPromptTemplate\n",
    "\n",
    "prompt = ChatPromptTemplate.from_messages([\n",
    "    (\"system\", \"You are a helpful assistant. Use only the information provided in the context below to answer the question. If the answer is not in the context, say 'I don't know' or 'The information is not available.'\"),\n",
    "    (\"human\", \"Context:\\n{context}\\n\\nQuestion: {question}\")\n",
    "])\n",
    "\n",
    "class State(TypedDict):\n",
    "    question: str\n",
    "    context: List[Document]\n",
    "    answer: str\n",
    "\n",
    "def retrieve(state: State):\n",
    "    retrieved_docs = vector_store.similarity_search(state[\"question\"], k = 10)\n",
    "    return {\"context\": retrieved_docs}\n",
    "\n",
    "def generate(state: State):\n",
    "    docs_content = \"\\n\\n\".join([doc.page_content for doc in state[\"context\"]])\n",
    "    message = prompt.invoke({\"question\": state[\"question\"], \"context\": docs_content})\n",
    "    response = llm.invoke(message)\n",
    "    return {\"answer\": response.content}\n",
    "\n",
    "# Reestablishing langgraph\n",
    "from langgraph.graph import START, StateGraph\n",
    "\n",
    "graph_builder = StateGraph(State).add_sequence([retrieve, generate])\n",
    "graph_builder.add_edge(START, \"retrieve\")\n",
    "graph = graph_builder.compile()"
   ]
  },
  {
   "cell_type": "markdown",
   "id": "14830d78",
   "metadata": {},
   "source": [
    "## The Basic RAG is set up - Let's ask some questions about our data"
   ]
  },
  {
   "cell_type": "code",
   "execution_count": 4,
   "id": "116682f6",
   "metadata": {},
   "outputs": [
    {
     "name": "stdout",
     "output_type": "stream",
     "text": [
      "Answer: The Chamber Singers have been conducted by Thomas Lloyd and Ng Tian Hui during the academic year of 2010/11, with Lloyd being the director before taking a sabbatical and Ng Tian Hui leading in his absence. More recently, Dr. Nathan Zullinger has been the conductor.\n",
      "Context: [Document(id='13720808-826c-45c8-b695-85c2b85d9445', metadata={'total_pages': 12, 'start_index': 22880, 'Year': '2011', 'Ensemble_Type': 'Choral', 'file_path': 'C:\\\\Users\\\\charl\\\\Documents\\\\VSCode\\\\HC All Programs\\\\Files\\\\PDFs\\\\30. Chamber Singers-Recalling Ariadne Program.pdf', 'source': '30. Chamber Singers-Recalling Ariadne Program.pdf', 'Term': 'Spring', 'page': 0, 'CreationDate': \"D:20160524182813Z00'00'\"}, page_content='academic year of 2010/11, the choir is led by Ng Tian Hui while Prof. Lloyd is away on sabbatical.\\nAs the premier vocal ensemble in the bi-college community, the Chamber Singers performs challenging repertoire ranging from\\nthe Renaissance to the present day in a variety of languages and styles. This season’s repertoire will range from 16th century\\nParis to contemporary South Africa; from Bach’s Magnificat, to Monteverdi’s Lamento d’Arianna, to new commissions by\\ncomposers based in Austria, Singapore and the US.\\nThe Chamber Singers returned from Turkey and their sixth international cultural exchange tour in the spring of 2010, and will\\nembark on a national tour in Spring 2011 including an exchange with Amherst College and a performance at Yale University’s\\nMarquand Chapel. In addition, the choir looks forward to a session with Meredith Monk, and an invitation to the College Choir\\nSeries at the Church of the Holy Trinity, Rittenhouse Square, in Philadelphia.\\nMelanie Bafitis, composer'), Document(id='1bd496bb-1591-40df-ac65-042ccb2eb9a9', metadata={'CreationDate': 'D:20181210222834Z', 'start_index': 1570, 'total_pages': 8, 'page': 0, 'Year': '2018', 'Ensemble_Type': 'Chamber', 'Term': 'Fall', 'file_path': 'C:\\\\Users\\\\charl\\\\Documents\\\\VSCode\\\\HC All Programs\\\\Files\\\\PDFs\\\\9. Chamber Singers Winter Program 2018.pdf', 'source': '9. Chamber Singers Winter Program 2018.pdf'}, page_content='Chamber Singers is comprised of singers from many disciplines across the Bi-Co. In addition to\\nstudents majoring in music, the ensemble also attracts students who wish to perform challenging\\nchoral works in a more intimate setting. Their repertoire is drawn from the Renaissance through\\nthe present day, with frequent explorations of music from cultures that are not widely\\nrepresented in the greater choral world. Chamber Singers has collaborated with arts organizations\\nand colleges throughout the northeastern United States and has undertaken foreign tours, most\\nrecently to Germany in 2017. In addition to singing, the group enjoys a family atmosphere that is\\nfostered through an annual retreat and numerous social opportunities throughout the year.\\nDr. Nathan Zullinger, conductor\\nNathan Zullinger is an Assistant Professor at Haverford College, where he conducts the Chorale,\\nthe Chamber Singers, and teaches courses in the Department of Music. Through the Bi-College'), Document(id='33fb09d3-0cd1-40c2-bf53-0139e61ca628', metadata={'total_pages': 8, 'page': 0, 'Year': '2019', 'start_index': 11208, 'Ensemble_Type': 'Choral', 'file_path': 'C:\\\\Users\\\\charl\\\\Documents\\\\VSCode\\\\HC All Programs\\\\Files\\\\PDFs\\\\9. Chamber Singers Winter Program 2019.pdf', 'Term': 'Fall', 'source': '9. Chamber Singers Winter Program 2019.pdf', 'CreationDate': \"D:20200609144044Z00'00'\"}, page_content='Colleges. In addition to students majoring in music, the ensemble also attracts students\\nfrom many other majors who wish to perform challenging choral works in a more\\nintimate setting. Their repertoire is drawn from the Renaissance through the present day,\\nwith frequent explorations of music from cultures that are not widely represented in the\\ngreater choral world. Chamber Singers has collaborated with arts organizations and\\ncolleges throughout the northeastern United States and has undertaken foreign tours. The\\nChamber Singers will spend a week touring Quebec in May 2020.\\nDr. Nathan Zullinger, conductor\\nNathan Zullinger is an Assistant Professor at Haverford College, where he\\nconducts the Chorale, the Chamber Singers, and teaches courses in the Department of\\nMusic. Through the Bi-College Partnership, he also teaches students from Bryn Mawr\\nCollege. A native of Chambersburg, Pennsylvania, Dr. Zullinger received his degrees'), Document(id='bbd2a1cb-d600-486e-a047-4365cdbb3aca', metadata={'total_pages': 12, 'file_path': 'C:\\\\Users\\\\charl\\\\Documents\\\\VSCode\\\\HC All Programs\\\\Files\\\\PDFs\\\\12. Chamber Singers-Holiday Program 2010.pdf', 'Term': 'Fall', 'Ensemble_Type': 'Choral', 'page': 0, 'Year': '2010', 'source': '12. Chamber Singers-Holiday Program 2010.pdf', 'CreationDate': \"D:20160524175217Z00'00'\", 'start_index': 15930}, page_content='the academic year of 2010/11, the choir will be led by Ng Tian Hui while Prof. Lloyd is away on sabbaticcal.\\nAs the premier vocal ensemble in the bi-college community, the Chamber Singers performs challenging repertoire ranging\\nfrom the Renaissance to the present day in a variety of languages and styles. This season’s repertoire will range from 16th\\ncentury Paris to contemporary South Africa; from Bach’s Magnificat, to Monteverdi’s Lamento d’Arianna, to new\\ncommissions by composers based in Austria, Singapore and the US.\\nThe Chamber Singers returned from Turkey and their sixth international cultural exchange tour in the Spring of 2010, and\\nwill embark on a National tour in Spring 2011 including an exchange with Amherst College and a performance at Yale\\nUniversity’s Marquand Chapel. In addition, the choir looks forward to a session with Meredith Monk, and an invitation to\\nthe College Choir Series at the Church of the Holy Trinity, Rittenhouse Square, in Philadelphia.'), Document(id='8d6222dd-0a13-488a-8006-25f5767f234e', metadata={'start_index': 6487, 'Ensemble_Type': 'Choral', 'page': 0, 'source': 'Spring 4-28-22 Chamber Singers Rotunda Program 2022.pdf', 'Term': 'Spring', 'file_path': 'C:\\\\Users\\\\charl\\\\Documents\\\\VSCode\\\\HC All Programs\\\\Files\\\\PDFs\\\\Spring 4-28-22 Chamber Singers Rotunda Program 2022.pdf', 'CreationDate': 'D:20220428134503Z', 'Year': '2022', 'total_pages': 4}, page_content='Renaissance through the present day, with frequent explorations of composers that are not widely\\nrepresented in the greater choral world. Chamber Singers has collaborated with arts organizations and\\ncolleges throughout the northeastern United States and has undertaken foreign tours. In 2020, the\\nensemble premiered a new work by Scott Ordway, “Twenty/Twenty.” A collaboration between four\\ncolleges, the piece included photographs and video taken by students to document the experience of the\\nearly pandemic. The work was featured by the classical music critic of the Philadelphia Inquirer.\\nNathan Zullinger is an Assistant Professor at Haverford College, where he conducts the Chorale, the\\nChamber Singers, and teaches courses in the Department of Music. Through the Bi-College Partnership,\\nhe also teaches students from Bryn Mawr College. A native of Chambersburg, Pennsylvania, Dr.\\nZullinger received his degrees from Messiah College and Boston University, studying with Linda'), Document(id='449fe834-3984-4b65-a09d-c77c71225d4e', metadata={'start_index': 1578, 'file_path': 'C:\\\\Users\\\\charl\\\\Documents\\\\VSCode\\\\HC All Programs\\\\Files\\\\PDFs\\\\22. Chamber Singers Rotunda Program.pdf', 'Term': 'Spring', 'source': '22. Chamber Singers Rotunda Program.pdf', 'Year': '2019', 'Ensemble_Type': 'Choral', 'total_pages': 4, 'page': 0, 'CreationDate': \"D:20200609170732Z00'00'\"}, page_content=\"from many other majors who wish to perform challenging choral works in a more intimate\\nsetting. Their repertoire is drawn from the Renaissance through the present day, with\\nfrequent explorations of music from cultures that are not widely represented in the greater\\nchoral world. Chamber Singers has collaborated with arts organizations and colleges\\nthroughout the northeastern United States and has undertaken foreign tours. This past fall\\nthe Chamber Singers performed Morten Lauridsen's Midwinter Songs and collaborated with\\nthe Bi-College Chorale on a performance of Haydn's Te Deum in C Major.\\nDr. Nathan Zullinger, conductor\\nNathan Zullinger is an Assistant Professor at Haverford College, where he conducts\\nthe Chorale, the Chamber Singers, and teaches courses in the Department of Music. Through\\nthe Bi-College Partnership, he also teaches students from Bryn Mawr College. A native of\\nChambersburg, Pennsylvania, Dr. Zullinger received his degrees from Messiah College and\"), Document(id='eb0b30dc-ce64-46e6-ae4d-f21c9b838f32', metadata={'source': '35. Chamber Singers-Commencement Program 2011.pdf', 'Ensemble_Type': 'Choral', 'CreationDate': 'D:20160524175413Z', 'start_index': 24004, 'file_path': 'C:\\\\Users\\\\charl\\\\Documents\\\\VSCode\\\\HC All Programs\\\\Files\\\\PDFs\\\\35. Chamber Singers-Commencement Program 2011.pdf', 'total_pages': 23, 'Term': 'Spring', 'Year': '2011', 'page': 0}, page_content='The Chamber Singers returned from Turkey and their sixth international cultural exchange\\ntour in the spring of 2010, and will embark on a national tour in Spring 2011 including an\\nexchange with Amherst College and a performance at Yale University’s Marquand Chapel.\\nIn addition, the choir looks forward to a session with Meredith Monk, and an invitation to\\nthe College Choir Series at the Church of the Holy Trinity, Rittenhouse Square, in\\nPhiladelphia.\\nNg Tian Hui, conductor\\nConductor, composer, and singer, Ng Tian Hui is the Interim Director of Choral and Vocal\\nStudies at Haverford and Bryn Mawr colleges, where he directs the Chorale and the\\nChamber Singers, and leads its vocal program. In addition, Mr. Ng is known for his\\nversatility as a composer and has written music for animation, dance, film, and theatre, as\\nwell as for the classical mediums of choir and orchestra.\\nMr Ng holds a Master of Music degree in Choral Conducting from the Yale School of'), Document(id='7f4f483d-cbc8-4bad-a73c-c3b3b6b66d7d', metadata={'Term': 'Fall', 'file_path': 'C:\\\\Users\\\\charl\\\\Documents\\\\VSCode\\\\HC All Programs\\\\Files\\\\PDFs\\\\3. Family Weekend Program 2015.pdf', 'Year': '2015', 'source': '3. Family Weekend Program 2015.pdf', 'CreationDate': \"D:20151028162144Z00'00'\", 'total_pages': 5, 'page': 0, 'start_index': 4770, 'Ensemble_Type': 'Mixed'}, page_content=\"Luis Loza, HC '17 Tina Kloufetos, HC '17\\nChamber Singers – Thomas Lloyd, conductor\\nSopranos Kathryn Goldberg BMC ‘18 Basses\\nJo Dutilloy BMC’16 Isabel Gross HC’17 (abroad) Adam Adorney HC’18\\nJulia Lin BMC’17 Liz Heaton HC’18 Nik Dombrowski HC’19\\nSashini Kannan BMC’19 Katherine Larson BMC’19 Kevin Dye HC’18\\nShayoni Nag BMC’16 Bola Origunwa HC’19 William Jones HC’19\\n*Abigail Stephenson BMC’16 Nadejda Polcanova BMC ex. ‘17 Daniel Lugano HC’17\\nAnna Swartzentruber BMC’18 Kat Phifer BMC’19 *Damon Motz-Storey HC’16\\nVeronica Walton BMC’19 *George Ordiway HC’16\\nTenors\\nHannah Weissman HC’17 Chris Pence HC’18\\nMason Emmert HC ‘17\\nJoaquin Vargas HS’16\\nAltos Eitan Geller-Montague HC’19\\n* elected Advisory Council\\nAlice Berry BMC’19 Nicolas Marcotrigiano HC’18\\nRachel Brodie HC’19 Luis Rivas HC’16\\nEmily Drummond BMC ’17 Matey Scheiner HC’18\\n(abroad) Tom Sternberg HC’17\\nLydia Gingerich HC’19\\nMainliners\\nDavid Cookmeyer '16 Isabella Falla '18 Sonia Copple '19\"), Document(id='c0fc2eca-94a7-4b4c-92b3-4e6f4744f5ad', metadata={'source': '33. Chamber Singers Commencement Concert 2017.pdf', 'file_path': 'C:\\\\Users\\\\charl\\\\Documents\\\\VSCode\\\\HC All Programs\\\\Files\\\\PDFs\\\\33. Chamber Singers Commencement Concert 2017.pdf', 'CreationDate': \"D:20170615155653Z00'00'\", 'total_pages': 4, 'Term': 'Spring', 'Ensemble_Type': 'Choral', 'Year': '2017', 'start_index': 5576, 'page': 0}, page_content='Daniel Lugano HC’17\\nRachel Brodie HC’19\\nEva Montgomery-Morrison HC’20\\n+Emily Drummond BMC ’17\\nNathan Merrill HC’20\\nKathryn Goldberg BMC ‘18\\nMelody Gray BMC’20\\n+ Advisory Council\\n+Isabel Gross HC’17\\nJohn Andrew Bailey, rehearsal pianist\\nLiz Heaton HC’18\\nBola Origunwa HC’19\\nIman Qazi BMC’19\\nThomas Lloyd is conducting his final concert as Director of the Choral and Vocal Studies Program for Haverford and\\nBryn Mawr Colleges since 1996. A firm believer in the power of musical collaboration to cross cultural divides, Lloyd has\\narranged shared performances with over 60 choirs and instrumental ensembles both in the US and across 5 continents over\\nthe course of leading 11 international concert tours. Most recently, a 2017 collaboration between the bi-college Chamber\\nSingers and the German and Syrian refugee choir Begegnungschor Berlin is featured in current issue the Journal of the\\nInternational Federation for Choral Music and on classical public radio station WRTI Philadelphia.'), Document(id='d3b7095e-b88d-46d6-8af9-b0d610f00783', metadata={'Ensemble_Type': 'Choral', 'source': '24. Chamber Singers Rotunda Program 2014.pdf', 'start_index': 5647, 'Year': '2014', 'file_path': 'C:\\\\Users\\\\charl\\\\Documents\\\\VSCode\\\\HC All Programs\\\\Files\\\\PDFs\\\\24. Chamber Singers Rotunda Program 2014.pdf', 'Term': 'Spring', 'page': 0, 'CreationDate': \"D:20200612110348Z00'00'\", 'total_pages': 4}, page_content='Abigail Stephenson BMC’16, soloist\\nThe Chamber Singers\\nof Haverford and BrynMawr Colleges\\nProfessor Thomas Lloyd, director\\nSopranos\\nMiriam Abaya HC’14\\nShana Burstein HC’15\\nEmily Drummond BMC’17\\nJo Dutilloy BMC’17\\nBrooke Ford HC’14\\nNaomi Goodman HC ’14\\nCarolyn Poutasse HC’16\\nAbigail Stephenson BMC’16\\nLauren Werner BMC ’14\\nAltos\\nZara Atal HC ’14\\nAllie DiTucci HC’15\\nIvy Drexel BMC’14\\nIsabel Gross HC’17\\nColleen Hansbury BMC ‘14\\nMalenca Logan HC ’14\\nHannah Nacheman BMC’15\\nAnnie Salorio BMC ’14\\nJoelle Schindler BMC’15\\nTenors\\nMason Emmert HC’17\\nBJ Hillinck HC’15\\nJoe Horowitz HC’14\\nJaimon Olmsted HC’17\\nLuis Rivas HC’16\\nBasses\\nRobin Banerji HC ‘15\\nGeorge Ordiway HC16\\nLee Rosenthal HC’15\\nMisha Terman HC’16\\nJoaquin Vargas HC’15\\nMicah John Walter HC’14\\nBen Weissman HC ‘14\\nPatrick Williams HC’14')]\n",
      "\n",
      "\n"
     ]
    }
   ],
   "source": [
    "result = graph.invoke({\"question\": \"Who has conducted the Chamber Singers over the years?\"})\n",
    "\n",
    "print(f'Answer: {result[\"answer\"]}')\n",
    "print(f'Context: {result[\"context\"]}\\n\\n')"
   ]
  },
  {
   "cell_type": "code",
   "execution_count": 5,
   "id": "c3a32574",
   "metadata": {},
   "outputs": [
    {
     "name": "stdout",
     "output_type": "stream",
     "text": [
      "Answer: I don't know.\n",
      "Context: [Document(id='a9aaff9b-6388-4acc-8c75-0d85ae7d8daa', metadata={'start_index': 17739, 'Ensemble_Type': 'Choral', 'file_path': 'C:\\\\Users\\\\charl\\\\Documents\\\\VSCode\\\\HC All Programs\\\\Files\\\\PDFs\\\\9. Chorale Program Fall 2011.pdf', 'page': 0, 'Year': '2011', 'source': '9. Chorale Program Fall 2011.pdf', 'Term': 'Fall', 'total_pages': 8, 'CreationDate': 'D:20200612115549Z'}, page_content='Haverford/Bryn Mawr Chorale Orchestra – Fall 2011\\nViolin I Bass Contrabassoon\\nLorenzo Rayal Jennifer Bradbury Ben Hoyle\\nKiran Rajamani HC ’14 Matt Roberts\\nChi Park Brent Edmondson Horns\\nNatalia Banfi HC ’15 Katie Jordan\\nHarp\\nJennifer Horne Kristina Gannon\\nAriane Giles HC ’15\\nVanessa Felso BMC ’15 Sabrina Huber\\nSophia Forker HC ’15\\nVena Johnson Ryan Stewart\\nGabriella Goodman HC ’12\\nPiccolo\\nTrumpets\\nViolin II Katherine Barbato\\nBrian Rascon\\nRodolfo Leuenberger\\nMatthew Thomas\\nMarie Greaney HC ’14 Flute\\nAaron Matthias-Long\\nAngela Sulzer BJ Hillinck HC ’15\\nNora Schmidt BMC ’12 Evangeline Krajewski HC ’14\\nTrombones\\nSarah Franklin\\nBrian Santero\\nLynn Richmond HC ’13 Oboe\\nKeith Warner HC ’15\\nMegan Reimer\\nAnthony Triplett\\nViola\\nDario McConnie-Saad English Horn\\nTuba\\nEsther Ho BMC ’15 Fiona Last\\nChris Pearlberg\\nSarah Pisano\\nKristina Kronauer BMC ’13 Clarinet\\nPercussion\\nAlyssa DeStefano Tom Lee HC ’15\\nTim Knowlten\\nVeeshal Modi Leslie Tjing HC ’15\\nSeth Bagwell\\nCello Brad Broomfield\\nBass Clarinet'), Document(id='81d58f4f-e1d2-4de5-a0ad-edc7b451fdc6', metadata={'Ensemble_Type': 'Choral', 'page': 0, 'start_index': 3989, 'source': '8. Chorale Program Fall 2019.pdf', 'CreationDate': \"D:20191202144100-05'00'\", 'Year': '2019', 'Term': 'Fall', 'file_path': 'C:\\\\Users\\\\charl\\\\Documents\\\\VSCode\\\\HC All Programs\\\\Files\\\\PDFs\\\\8. Chorale Program Fall 2019.pdf', 'total_pages': 12}, page_content='Benjamin Baumgarte HC’23 Meg Kajino Jocelyn Moore\\nSeth Boyce HC’20 Aileen Rimando Marde Meek\\nCaleb Conner HC’20 Jose Sanchez\\nJude Correll HC’23 Bassoon\\nJohn Dvorak HC’23 Violin II Aaron Datsko\\nAdam Fernandez COMM Rodolfo Leuenberger\\nGary Gordon COMM Belmary Lorcas Trumpet\\nAlexander Grimwade COMM Margaret Dziekonski Adrianna Korey\\nRafi Grossman-Naples HC’23 Liz Carlson Lucas Schurmann\\nJack Hagele COMM Andrew Hoesl\\nStevens Heckscher COMM Viola\\nJohn Joseph COMM Veronica Jurkiewicz Timpani\\nDarren Kah BMC’23 Emma Hey Nathan Buonviri\\nNicholas Lasinsky HC’23 Michael Stanley\\nDennis Li HC’21 Organ/Harpsichord\\nSteven Lindell HC FAC Cello John Walthausen\\nVincent McCarthy COMM Elena Smith\\nStephen Michael COMM Mirjam Ingolfsson Orchestra Contractor\\nBrendan Minihan COMM Dora von Trentini\\nLucas Nelson HC’23 Bass\\nLarry Passmore COMM Nancy Merriam\\nDarshan Patel HC’23 AUDITIONS for the\\nPeter Phillips COMM Haverford-Bryn Mawr\\nMark Rahdert HC’74 Chorale will take place in\\nNaren Roy HC’23 January 2020.'), Document(id='561b2b39-e271-4a54-9563-0f72679db7ac', metadata={'page': 0, 'total_pages': 6, 'start_index': 1594, 'Year': '2008', 'source': 'HC Family Weekend 08 program.pdf', 'file_path': 'C:\\\\Users\\\\charl\\\\Documents\\\\VSCode\\\\HC All Programs\\\\Files\\\\PDFs\\\\HC Family Weekend 08 program.pdf', 'Ensemble_Type': 'Mixed', 'Term': 'Fall', 'CreationDate': \"D:20130612212010Z00'00'\"}, page_content='Sadie Martin, flute, Catherine Di Vizio, oboe, Melanie Shafer, bassoon\\nChamber Singers\\nThomas Lloyd, conductor\\nAin’t Got Time to Die, arr. Hall Johnson\\nsolos: Conor Weiss and Maya Bloom\\nA Quiet Place, Carmichael, arr. Rubino\\nsolo: Allison Keefe\\nS’Chords\\nJerusalem arranged by The Harvard Krokodiloes\\nsolo: Chris Healy\\nMika’s Happy Ending arranged by Jeff Wildermuth\\nsolo: Zac Dutton\\nPerformers and audience\\nHaverford Harmony Song - Sigmund Spaeth ‘05\\nHaverford-Bryn Mawr Orchestra\\nHeidi Jacob, Director\\nVIOLIN Dan Weaver BASSOON\\nEmma Shaw Concertmistress Caroline Kenward Melanie Shafer*+\\nInez Suhardjo, Associate Principal * Nina Zipkin Hannah Brubaker #\\nGabriella Goodman Assistant Principal* Grace Loudon\\nWilla Caughey Assistant Principal + HORN\\nJanice Harlow Principal Second + CELLO Alex Mirarchi*\\nSophia Tan, Assistant Principal Second+ Simon Linn-Gerstein, Principal Sam Strauch\\nGloria Vidal Kelvin Chang, Associate Principal Katherine Lo+'), Document(id='3127128b-e6d8-419d-9dec-80d44c7f3900', metadata={'file_path': 'C:\\\\Users\\\\charl\\\\Documents\\\\VSCode\\\\HC All Programs\\\\Files\\\\PDFs\\\\7. Orchestra Program Fall 2018.pdf', 'start_index': 15953, 'total_pages': 7, 'Ensemble_Type': 'Orchestra', 'Term': 'Fall', 'source': '7. Orchestra Program Fall 2018.pdf', 'page': 0, 'Year': '2018', 'CreationDate': 'D:20181114120319Z'}, page_content='String Quartet, and she was mentored by chamber music greats Felix Galimir, Josef Gingold, Robert Mann, and\\nMischa Schneider.\\nMs. Govatos serves on the advisory boards of Astral Artists, an organization that promotes, presents, and advises\\ntalented artists on the cusp of their musical careers, and the Music School of Delaware, a community music school\\nwhere she began her studies. She also teaches privately in Philadelphia.\\nHAVERFORD-BRYN MAWR ORCHESTRA\\nVIOLIN Maria Penrice HC ’22 Co- TRUMPET\\nRuby Zeng BMC ’20 Co- Associate Principal Sam Istvan HC ’21 Stravinsky/\\nConcertmistress Stravinsky/Bellini Nina Mandel HC ’22 Co-Associate Haydn\\nDiane Moore HC ’20 Co- Principal Jesse Friedson HC ’21 Stravinsky/\\nConcertmistress Haydn/Jacob Halcyon Hu BMC ’22 Assistant Bellini\\nJackie Toben BMC ’22 Co- Principal Andrew Cornell HC ’20 Stravinsky/\\nAssociate Principal First Violin Seth Boyce HC ’20 Bellini\\nMarisa LaBarca HC ’21 Co- Maryam Jahanbin, BMC ’19 Eric Kopczynski HC ’22 Stravinsky/'), Document(id='ed4f5641-becf-4e8a-abaa-b407e4a499aa', metadata={'file_path': 'C:\\\\Users\\\\charl\\\\Documents\\\\VSCode\\\\HC All Programs\\\\Files\\\\PDFs\\\\6. Chorale Program Fall 2012.pdf', 'CreationDate': \"D:20130529015231Z00'00'\", 'start_index': 15187, 'source': '6. Chorale Program Fall 2012.pdf', 'page': 0, 'Ensemble_Type': 'Choral', 'total_pages': 8, 'Year': '2012', 'Term': 'Fall'}, page_content='principal principal Brent Edmondson\\nYue Yang BMC Sarah Pisano Michael Chaffin Percussion\\nJames Akinaka HC ‘16 Alyssa DeStefano Rachel Genovese BMC ‘15\\nLaura Hammons Jennifer Horne Trumpet Christian Fagre HC’16\\nLorenzo Raval Dario Mcconnie-Saad Joseph Hart Bill Ristow HC’16\\nChi Park Aaron Matthias-Long Tom Bowden\\nCello Andrew Kessling Joe Veltri\\nViolin II Rachel Goldstein HC ’14,\\nSara Bowers principal Trombone Harp\\nAileen Rimando, Michal Schmidt HC teacher Brian Santero Adrienne Knauer\\nAngela Sulzer Ryan Baxter-King HC ‘16 Joshua Popejoy Sophia Forker HC’15\\nElizabeth Zook Ezgi Yargici, Derek Paquette (bass)\\nKevin Sloan Kevin Lowery\\nAdam Crandell, HC staff\\nHaverford/Bryn Mawr Chorale\\nBeth Manus, accompanist\\nSopranos Anna Heilmayr, comm Tianyi Hu, HC ’16\\nDelia Bowman, BMC ’16 Leah Hollander, HC ’15 Bill Kunze, comm\\nBarb Browne, comm Melisse Jean BMC ’08 Sebastian (Siggy) Moore, HC ’09\\nMaxine Cook, comm, spouse HC ’64 Aviva Kosansky, BMC ’16 Ben Safran, HC ’13'), Document(id='83b1c956-c8ce-46bd-9a39-8deafd966165', metadata={'Year': '2013', 'total_pages': 16, 'file_path': 'C:\\\\Users\\\\charl\\\\Documents\\\\VSCode\\\\HC All Programs\\\\Files\\\\PDFs\\\\19. Chorale Program Spring 2013.pdf', 'start_index': 34621, 'Ensemble_Type': 'Choral', 'source': '19. Chorale Program Spring 2013.pdf', 'CreationDate': \"D:20160524164621Z00'00'\", 'Term': 'Spring', 'page': 0}, page_content='Alyssa DeStefano Abigail Healy HC ’15\\nBeatrice Ferreira HC ’16 Sabrina Huber\\nMatteo Miazzo HC ’15 Seth Hanes\\nDario Mcconnie-Saad\\nMeriel Campbell BMC ’16 Trumpet\\nChris Shiley\\nCello Brian Rascon\\nRachel Goldstein HC ’14 Jesse Morvan\\nEzgi Yargici\\nErin Korth HC ’13 Trombone\\nVeronica Hudacek Justin Moore\\nAdam Crandell HC staff Keith Warner HC ’15\\nErin Busch Anthony Triplett\\nBass Tuba\\nBrent Edmondson Matt Gatti\\nMartin Richard HC ’14 Percussion\\nTaj Meyer HC ’16 Tim Knowlton\\nRachel Genovese BMC ’15\\nPiccolo Christian Fagre HC ’16\\nKayoung Lee HC ’16 William Ristow HC ’16\\nThomas Bowden\\nFlute Bradley Broomfield\\nBJ Hillinck HC ’15\\nEvangeline Krajewski HC ’15 Piano/Celeste\\nBeth Manus\\nOboe John Bailey\\nJocelyn Plant\\nJoshua Bulos HC ’16 Orchestra Manager\\nVanessa Van Sickle\\nEnglish Horn\\nDavid Rosenfeld'), Document(id='73b093b9-b5f3-4469-bf11-e9fb9eb8baa8', metadata={'Term': 'Fall', 'Ensemble_Type': 'Choral', 'total_pages': 8, 'page': 0, 'CreationDate': \"D:20140623232526Z00'00'\", 'file_path': 'C:\\\\Users\\\\charl\\\\Documents\\\\VSCode\\\\HC All Programs\\\\Files\\\\PDFs\\\\2. Family Weekend Choral Program-2013.pdf', 'Year': '2013', 'start_index': 7349, 'source': '2. Family Weekend Choral Program-2013.pdf'}, page_content=\"Muyuan Li, HC ‘15 Troy Sheaffer, HC '00 Tianyi Yang, HC ‘15\\nSteven Lindell, HC fac Randall Shupp, comm\\nCHORALE ORCHESTRA\\nViolin I Cello Bassoon\\nKirin Rajamani HC’14 Michal Schmidt (fac) Emeline Chong\\nAli Can Puskulcu Rachel Goldstein HC’14 Vanessa Van Sickle\\nYue Yang BMC’16 Mirjam Ingolfsson\\nChi Park Adam Crandell (staff) Contrabassoon\\nChloe Lindeman HC’17 Andrew Desiderio Wen Hsieh\\nLorenzo Raval Erin Busch\\nJames AkinakaHC’16 Horns\\nBass\\nMarie Greaney HC’14 Ben Mulholland\\nNancy Merriam (staff)\\nSet Hanes\\nMartin Richard HC’14\\nViolin II Alexis Morris\\nBrent Edmondson\\nSara Bowers Matt Searing\\nMichael Chaffin\\nMolly Quay-\\xad‐de la Vallee\\nHC’14 Trumpets\\nPiccolo\\nLaura Norris Brian Rascon\\nKatherine Barbato\\nKatie Rowlett HC’16 Katie Miller\\nLindsey Gamble Flute\\nErin Gartland SJU BJ Hillinck HC’15 Trombones\\nNatasha Loomis Greg Strohman\\nViola Joshua Popejoy\\nCarol Briselli (fac) Oboe Matt Cohen\\nChristine Tai BMC‘17 Jocelyn Plant\\nEliana Chavkin BMC’17 Janet Monroe BMC’17 Percussion\"), Document(id='63b809a2-e1e2-4cbc-982a-dc395a994663', metadata={'Ensemble_Type': 'Mixed', 'Term': 'Fall', 'page': 0, 'CreationDate': \"D:20171024192215Z00'00'\", 'file_path': 'C:\\\\Users\\\\charl\\\\Documents\\\\VSCode\\\\HC All Programs\\\\Files\\\\PDFs\\\\5. Family Weekend Program 2017.pdf', 'total_pages': 6, 'start_index': 3946, 'source': '5. Family Weekend Program 2017.pdf', 'Year': '2017'}, page_content=\"Pilar Navarro HC ’20 BASSOON Graham Peet HC ’19\\nDavid Watkins, Community Manroocha Singh BMC ’18, Principal Sean Woodruff HC ’18\\nEmma Shaw, Alum Maria Buonviri, Guest\\nVIOLA HORN\\nJennifer Jolivert HC ’18, Principal Johanna Fowler HC ’21, Principal\\nKai McGinn BMC ’21, Associate Kristina Gannon, Guest\\nPrincipal Ben Mulholland, Guest\\nHope Chamblee BMC ’18 Joe Brausam, Guest\\nKathleen Corcella BMC ’21\\nTRUMPET\\nCELLO Sam Istvan HC ’21, Co- Principal\\nInes Purcell BMC ’20, Co- Principal Paul Futer, Guest\\nSean Woodruff HC ’18, Co- Principal Shannon Montgomery BMC ’21\\nMatthew Ludwig HC ’21, Co- Principal\\nThe Mainliners\\nRory Kennison '18 Elizabeth DeJong '18 John Burgess '20\\nAri Katz '20 Ezra Hollander '18 Chris Pence '18\\nFrances Condon '21 Tommy Ie '19 Dennis Li '21\\nCaroline Ford '21\\nThe Oxford Blues\\nTori Fleischmann '18 Rina Rosnow '19 Polina Lipskaya '21\\nIsabella Canelo Gordon '18 Christine Anderson '20 Julia Giordano '21\\nJulia Albertson '18 Sarah Savonis '20 Ari Sulpizio '21\"), Document(id='b5eda9e9-521d-46aa-b0ea-09341bf89579', metadata={'source': '6. Family Weekend 2016 program.pdf', 'total_pages': 5, 'CreationDate': \"D:20161025183956Z00'00'\", 'page': 0, 'Ensemble_Type': 'Mixed', 'Year': '2016', 'file_path': 'C:\\\\Users\\\\charl\\\\Documents\\\\VSCode\\\\HC All Programs\\\\Files\\\\PDFs\\\\6. Family Weekend 2016 program.pdf', 'Term': 'Fall', 'start_index': 1595}, page_content='Jennifer Jolivert, HC ’18, Co-Assistant Elisabeth Kamaka, BMC ’18 Ben Mulholland, Guest\\nConcertmistress Sarah Lew, BMC ’18 Kristina Gannon, Guest\\nDiane Moore, HC ’20, Associate Taylor Levine, HC ’18\\nPrincipal Second Violin Maryam Jahanbin, BMC ’19 TRUMPET\\nEun Soo Jang, BMC ’20, Assistant Seth Boyce, HC ’20 Andrew Cornell, HC ’19, Principal\\nPrincipal Second Violin Marilyn Harbert, BMC ’20 Steve Lehman, HC ’19\\nNicole Westerduin, BMC ’18, Erina Kironde, BMC’20 Paul Futer, Guest\\nAssistant Principal Second Violin\\nOlivia DuSold, HC ’18 STRING BASS TROMBONE\\nNicole Westerduin, BMC ’18 Christina Szi, HC ’18 Kevin Medansky, HC ‘19\\nMalia Wenny, HC ’18 Ava Douglas, BMC ’19 Justin Moore, Guest\\nYue Xiu, BMC ’17 Zoe Arditi, HC ’20\\nIan McGroarty, HC ’17 TUBA\\nBrittney Beidelman, BMC ’17 PICCOLO Steve Lakawicz, Guest\\nCarolyn Woodruff HC ’17 Sarah Gift, BMC ’18 (Lutoslawski)\\nMiriam Myers, BMC ’18 PERCUSSION\\nMalini Sharma, BMC ’18 FLUTE Rio Morales, HC ’17'), Document(id='a6a2389e-f647-4a6d-965a-294070a1da1c', metadata={'start_index': 3154, 'Year': '2018', 'page': 0, 'Ensemble_Type': 'Choral', 'total_pages': 8, 'Term': 'Fall', 'file_path': 'C:\\\\Users\\\\charl\\\\Documents\\\\VSCode\\\\HC All Programs\\\\Files\\\\PDFs\\\\8. Chorale Program Fall 2018.pdf', 'source': '8. Chorale Program Fall 2018.pdf', 'CreationDate': 'D:20181204201607Z'}, page_content='Timothy Blankenhorn COMM Jack Hagele COMM Larry Passmore COMM\\nSeth Boyce HC ’20 Stevens Heckscher COMM Mark Rahdert HC ’74\\nMoselle Burke HC ’21 James Jackson HC ’20 Troy Sheaffer HC ’00\\nJackson Cadenhead HC ’21 Steven Lindell HC FAC Robert Sutton HC ’69\\nDylan Dixon HC ’22 Vincent McCarthy COMM Miguel Wise HC ’19\\nAbe Doroshow HC ’21 Stephen Michael COMM Jim Wright HC ’68, BMC FAC\\nGary Gordon COMM Brendan Minihan COMM\\nHaverford-Bryn Mawr Chamber Singers\\nChloe Baumann BMC ’22 Edwin Crockett HC ’22 *Mattias Lundberg HC ’20\\nElinor Berger BMC ’22 Adam Friedman-Brown HC ’22 Nathan Merrill HC ’20\\n*Alice Berry BMC ’19 Em Groves BMC ’21 Cole Roland HC ’21\\nRachel Brodie HC ’19 Tommy Ie HC ’19 Daisy Shepherd BMC ’22\\nEllen Carlson HC ’22 Sashini Kannan BMC ’19 Eliza Sherman-Daniels HC ’21\\n*Grace Coberly HC ’21 David King HC ’20 Robbie Spratt HC ’21\\nCaleb Conner HC ’20 Lexi Lampard BMC ’20 Bilge Yilmaz HC ’21\\n* - member of advisory council\\nBi-Co Chorale Orchestra\\nViolin I Cello Flute Trumpet')]\n",
      "\n",
      "\n"
     ]
    }
   ],
   "source": [
    "result = graph.invoke({\"question\": \"Who played trumpet for the haverford-bryn mawr orchestra in 2019?\"})\n",
    "\n",
    "print(f'Answer: {result[\"answer\"]}')\n",
    "print(f'Context: {result[\"context\"]}\\n\\n')"
   ]
  },
  {
   "cell_type": "markdown",
   "id": "f2cea812",
   "metadata": {},
   "source": [
    "Clearly, we didn't pull the right documents in the above prompt. This is where the metadata filters will come in, once we set them up."
   ]
  },
  {
   "cell_type": "code",
   "execution_count": 6,
   "id": "030196e6",
   "metadata": {},
   "outputs": [
    {
     "name": "stdout",
     "output_type": "stream",
     "text": [
      "Answer: Some trumpet players in the Haverford-Bryn Mawr Orchestra include Christian Fagre HC ’16, Sam Istvan HC ’21, and Andrew Cornell HC ’20.\n",
      "\n",
      "Sources:\n",
      "Source: 19. Chorale Program Spring 2013.pdf\n",
      "Source: 9. Chorale Program Fall 2011.pdf\n",
      "Source: 6. Chorale Program Fall 2012.pdf\n",
      "Source: HC Family Weekend 08 program.pdf\n",
      "Source: 8. Chorale Program Fall 2019.pdf\n",
      "Source: 7. Orchestra Program Fall 2018.pdf\n",
      "Source: 2. Family Weekend Choral Program-2013.pdf\n",
      "Source: 10. Chorale Program Fall 2010.pdf\n",
      "Source: 8. Chorale Program Fall 2018.pdf\n",
      "Source: HC Family Weekend 08 program.pdf\n"
     ]
    }
   ],
   "source": [
    "result = graph.invoke({\"question\": \"Who are some trumpet players in the haverford-bryn mawr orchestra?\"})\n",
    "\n",
    "print(f'Answer: {result[\"answer\"]}')\n",
    "print(\"\\nSources:\")\n",
    "for source in result[\"context\"]:\n",
    "    print(f'Source: {source.metadata[\"source\"]}')"
   ]
  },
  {
   "cell_type": "markdown",
   "id": "b6c5c80e",
   "metadata": {},
   "source": [
    "## Setting up Filters"
   ]
  },
  {
   "cell_type": "markdown",
   "id": "5d37fb2a",
   "metadata": {},
   "source": [
    "As you can see, it's working pretty well, but the similarity search isn't always pulling the right documents. If we could add a simple filter, such as specifying the year or ensemble type, our results would be much better, without having to do any extra calls to the API.\n",
    "\n",
    "Setting up a filter in similarity search:"
   ]
  },
  {
   "cell_type": "code",
   "execution_count": 4,
   "id": "ee223687",
   "metadata": {},
   "outputs": [
    {
     "data": {
      "text/plain": [
       "[Document(id='6178eb27-1284-4041-8289-1d804847fcf7', metadata={'total_pages': 7, 'start_index': 776, 'file_path': 'C:\\\\Users\\\\charl\\\\Documents\\\\VSCode\\\\HC All Programs\\\\Files\\\\PDFs\\\\9. Orchestra Program Fall 2010.pdf', 'source': '9. Orchestra Program Fall 2010.pdf', 'Ensemble_Type': 'Orchestra', 'Term': 'Fall', 'CreationDate': \"D:20160524173625Z00'00'\", 'page': 0, 'Year': '2010'}, page_content='Josh Bucheister, ’14, Associate Rachael Goldstein, ’14 Co- Principal Katie Van Aken, ’12 %\\nConcertmaster Ezekiel Barnett, ’13 Assistant Principal Elizabeth Biernat, ’14@\\nEthan Joseph, ’11, Assistant Concertmaster Delaney Page, ’12 Kristina Kronauer, ’13\\nXinbei Guan, ’14, Assistant Concertmaster Laura Alexander, ’11 Kristina Gannon **\\nSarah Capasso, ’11 Noory O, ’13\\nDrew Twitchell, ’11 Erin Korth, ’13 Trumpet\\nNora Schmidt, ’12 Mary Schultz, ’12 Ian Gavigan, ’14 &@\\nTiffany Fritz, ’12 Seoung Won Jung, ’14 Linus Marco, ’13\\nYiran Zhang , ’14 Kathryn Hayden, ’14 Chelsea Miller, ’11* %\\nMarie Greaney, ’14 Emily Scott, ’14\\nMolly Quay-de la Vallee, ’14 Christina Lee, ’14 Trombone\\nJacob Lowy, ’14 Vincent Dioguardi, ’14\\nJessica Tan, ’13 Bass Douglas Laustsen **\\nAlex Cahill, ’11, Principal Derek Paquette **\\n2nd Violin Martin Richard, ’14\\nMicah John Walter, ’14, Principal Tuba\\nMolly Quay-de la Vallee, ’14, Assistant Piccolo Steve Lakawicz **\\nPrincipal Sara Landers, ’13'),\n",
       " Document(id='9c77dcbe-f7f9-483e-ad11-e2777684a2f8', metadata={'Term': 'Fall', 'CreationDate': \"D:20161115193935Z00'00'\", 'source': '8. Orchestra Program Fall 2016.pdf', 'Ensemble_Type': 'Orchestra', 'start_index': 776, 'total_pages': 4, 'page': 0, 'file_path': 'C:\\\\Users\\\\charl\\\\Documents\\\\VSCode\\\\HC All Programs\\\\Files\\\\PDFs\\\\8. Orchestra Program Fall 2016.pdf', 'Year': '2016'}, page_content='Co –Concertmistress (Mendelssohn, Ines Purcell, BMC ’20, Associate Matthew Abruzzo, HC ’17\\nLutoslawski) Principal\\nHORN\\nKatheryn Croddy, BMC ’20, Elisabeth Kamaka, BMC ’18\\nKatherine Allen, HC ’17, Co-\\nCo –Concertmistress (Schubert) Sarah Lew, BMC ’18\\nPrincipal (Mendelssohn/ Schubert)\\nKatherine Travisano, HC ’20, Co- Taylor Levine, HC ’18\\nAlexandra Lin, HC ’19, Co-\\nAssistant Concertmistress Maryam Jahanbin, BMC ’19\\nPrincipal (Lutoslawski)\\nJennifer Jolivert, HC ’18, Co-Assistant Seth Boyce, HC ’20\\nJonathan Cookmeyer, HC ’17\\nConcertmistress Marilyn Harbert, BMC ’20\\nRyan Hill, HC ’19\\nDiane Moore, HC ’20, Associate Erina Kironde, BMC’20\\nKristina Gannon, Guest\\nPrincipal Second Violin\\nNicole Westerduin, BMC ’18, STRING BASS\\nTRUMPET\\nAssistant Principal Second Violin Christina Szi, HC ’18\\nAndrew Cornell, HC ’19, Principal\\nOlivia DuSold, HC ’18 Ava Douglas, BMC ’19\\nSteve Lehman, HC ’19\\nNicole Westerduin, BMC ’18 Zoe Arditi, HC ’20\\nPaul Futer, Guest\\nMalia Wenny, HC ’18'),\n",
       " Document(id='a1cdd901-69f8-40ab-b3a1-351df3af13db', metadata={'total_pages': 4, 'file_path': 'C:\\\\Users\\\\charl\\\\Documents\\\\VSCode\\\\HC All Programs\\\\Files\\\\PDFs\\\\Fall 11-19-21 Orchestra Program Fall 2021.pdf', 'start_index': 1586, 'Ensemble_Type': 'Orchestra', 'source': 'Fall 11-19-21 Orchestra Program Fall 2021.pdf', 'Term': 'Fall', 'Year': '2021', 'page': 0, 'CreationDate': 'D:20211117123448Z'}, page_content='Elise Phung BMC ’24 Associate Principal\\nKatherine Hong HC ’24 Co-Associate Principal BASSOON\\nSophie Gardiner HC ’25 Co-Assistant Principal Kieran Mulligan HC ’25, Co-Principal (Tan\\nMaria Yea HC ’22 Dun*/Beethoven*/Smetana)\\nAlana Burgess BMC ’24 Spencer Smith BMC ’25 Co-Principal (Smetana*/Tan\\nKayla Camille BMC ’25 Dun/Beethoven)\\nIsabel Melendez HC ’25 Maria Buonviri, Guest\\nSophie Booker BMC ’25\\nMaya Geiss BMC ’25 HORN\\nZiwei Tan BMC ’25 Bethany Quist BMC ’25, Co-Principal\\n(Beethoven*/Tan Dun*/Smetana)\\nCELLO Sofia Vinci BMC ’25, Co-Principal (Smetana*/\\nNina Mandel HC ’22, Co-Principal Cello Beethoven/Tan Dun*)\\nDavid Betz HC ’24, Co-Principal Cello Charlie Everett, Community\\nJack Vice HC ’25, Co-Associate Principal Kristina Gannon, Guest\\nIvy Xie HC ’25, Assistant Principal\\nRosalie Tarsala BMC ’23 TRUMPET\\nAni Dixit BMC ’22 Jay Whitesell HC ’24, Principal\\nLogan Zurita McKinnon HC ’24 Harrison Lennertz HC ’24\\nAdeline W. DeHarpporte BMC ’25 Paul Futer, Guest\\nDOUBLE BASS TROMBONE'),\n",
       " Document(id='343dfabd-b6a4-46ea-8fed-dde54841e8fc', metadata={'start_index': 782, 'file_path': 'C:\\\\Users\\\\charl\\\\Documents\\\\VSCode\\\\HC All Programs\\\\Files\\\\PDFs\\\\25. Orchestra Program Spring 2017.pdf', 'total_pages': 4, 'page': 0, 'Ensemble_Type': 'Orchestra', 'CreationDate': \"D:20170615155942Z00'00'\", 'source': '25. Orchestra Program Spring 2017.pdf', 'Year': '2017', 'Term': 'Spring'}, page_content='Alexandra Lin, HC ’19, Principal\\nKatherine Travisano, HC ’20, Elisabeth Kamaka, BMC ’18\\nJonathan Cookmeyer, HC ’17\\nCo-Assistant Concertmistress Maryam Jahanbin, BMC ’19\\nJonathan Cookmeyer, HC ’17\\n(Dvorak) Seth Boyce, HC ’20\\nKristina Gannon, Guest\\nJennifer Jolivert, HC ’18, Marilyn Harbert, BMC ’20\\nCo-Assistant Concertmistress Erina Kironde, BMC’20\\nTRUMPET\\n(Barber) Gwynne Dulaney, BMC ’19\\nAndrew Cornell, HC ’19, Principal\\nDiane Moore, HC ’20, Samuel Walter, HC ’17\\nSteve Lehman, HC ’19\\nAssociate Principal 2nd Violin\\nNicole Westerduin, BMC ’18, STRING BASS\\nTROMBONE\\nAssistant Principal 2nd Violin Christina Szi, HC ’18\\nKevin Medansky, HC ‘19\\nOlivia DuSold, HC ’18 Zoe Arditi, HC ’20\\nLyman McBride, Guest\\nNicole Westerduin, BMC ’18\\nSean McCusker, Guest\\nMalia Wenny, HC ’18 PICCOLO\\nYue Xiu, BMC ’17 Sarah Gift, BMC ’18 TUBA\\nIan McGroarty, HC ’17 Steve Lakawicz, Guest\\nBrittney Beidelman, BMC ’17 FLUTE\\nGeorgia Meyer, HC ’19 Sarah Gift, BMC ’18, PIANO')]"
      ]
     },
     "execution_count": 4,
     "metadata": {},
     "output_type": "execute_result"
    }
   ],
   "source": [
    "vector_store.similarity_search(\"Who was the principle trumpet player in the Haverford-Bryn Mawr Orchestra in 2019?\", k=4, filter={\"Ensemble_Type\": \"Orchestra\"})"
   ]
  },
  {
   "cell_type": "markdown",
   "id": "8e2dd20d",
   "metadata": {},
   "source": [
    "Here, we repeat content from earlier, making this our new \"reestablishment\" cell. Running this cell allows the RAG to work. Then, we add filters within the LangGraph."
   ]
  },
  {
   "cell_type": "code",
   "execution_count": 7,
   "id": "acba799b",
   "metadata": {},
   "outputs": [],
   "source": [
    "# Setting up chat model\n",
    "import getpass\n",
    "import os\n",
    "\n",
    "if not os.environ.get(\"OPENAI_API_KEY\"):\n",
    "  os.environ[\"OPENAI_API_KEY\"] = getpass.getpass(\"Enter API key for OpenAI: \")\n",
    "\n",
    "from langchain.chat_models import init_chat_model\n",
    "\n",
    "llm = init_chat_model(\"gpt-4o-mini\", model_provider=\"openai\")\n",
    "\n",
    "# Setting up embeddings\n",
    "import getpass\n",
    "import os\n",
    "\n",
    "if not os.environ.get(\"OPENAI_API_KEY\"):\n",
    "  os.environ[\"OPENAI_API_KEY\"] = getpass.getpass(\"Enter API key for OpenAI: \")\n",
    "\n",
    "from langchain_openai import OpenAIEmbeddings\n",
    "\n",
    "embeddings = OpenAIEmbeddings(model=\"text-embedding-3-large\")\n",
    "\n",
    "# Reestablishing up our persist directory for Chroma\n",
    "from langchain_chroma import Chroma\n",
    "\n",
    "vector_store = Chroma(\n",
    "    collection_name=\"example_collection\",\n",
    "    embedding_function=embeddings,\n",
    "    persist_directory=\"./chroma_langchain_db\",  # Where we stored our data before\n",
    ")\n",
    "\n",
    "# Reestablishing retrieval and generation functions\n",
    "from langchain_core.documents import Document\n",
    "from typing_extensions import List, TypedDict, Optional\n",
    "from langchain_core.prompts import ChatPromptTemplate\n",
    "\n",
    "prompt = ChatPromptTemplate.from_messages([\n",
    "    (\"system\", \"You are a helpful assistant. Use only the information provided in the context below to answer the question. If the answer is not in the context, say 'I don't know' or 'The information is not available.'\"),\n",
    "    (\"human\", \"Context:\\n{context}\\n\\nQuestion: {question}\")\n",
    "])\n",
    "\n",
    "class State(TypedDict):\n",
    "    question: str\n",
    "    filter: Optional[dict]\n",
    "    context: List[Document]\n",
    "    answer: str\n",
    "\n",
    "def apply_filter(state: State):\n",
    "    \"\"\"\n",
    "    Apply a filter to the state based on the user's input.\n",
    "    The filter is expected to be a dictionary that can be used in the similarity search.\n",
    "    \"\"\"\n",
    "    if \"filter\" in state and state[\"filter\"]:\n",
    "        # If a filter is provided, use it\n",
    "        state[\"filter\"] = {k: v for k, v in state[\"filter\"].items() if v is not None}\n",
    "    else:\n",
    "        # If no filter is provided, set it to None\n",
    "        state[\"filter\"] = None\n",
    "    return state\n",
    "\n",
    "def retrieve(state: State):\n",
    "    filter_dict = state[\"filter\"] if state.get(\"filter\") else None\n",
    "    retrieved_docs = vector_store.similarity_search(state[\"question\"], k=10, filter=filter_dict)\n",
    "    return {\"context\": retrieved_docs}\n",
    "\n",
    "def generate(state: State):\n",
    "    docs_content = \"\\n\\n\".join([doc.page_content for doc in state[\"context\"]])\n",
    "    message = prompt.invoke({\"question\": state[\"question\"], \"context\": docs_content})\n",
    "    response = llm.invoke(message)\n",
    "    return {\"answer\": response.content}\n",
    "\n",
    "# Reestablishing langgraph\n",
    "from langgraph.graph import START, StateGraph\n",
    "\n",
    "graph_builder = StateGraph(State).add_sequence([apply_filter, retrieve, generate])\n",
    "graph_builder.add_edge(START, \"retrieve\")\n",
    "graph = graph_builder.compile()"
   ]
  },
  {
   "cell_type": "code",
   "execution_count": 3,
   "id": "cee70480",
   "metadata": {},
   "outputs": [
    {
     "name": "stdout",
     "output_type": "stream",
     "text": [
      "Answer: I don't know.\n",
      "\n",
      "\n",
      "Sources:\n",
      "Source 1: 21. Orchestra Program-Spring 2012.pdf\n",
      "Source 2: 17. Orchestra Program Spring 2013.pdf\n",
      "Source 3: 9. Orchestra Program Fall 2010.pdf\n",
      "Source 4: 19. Orchestra Program Spring 2016.pdf\n",
      "Source 5: Fall 11-19-21 Orchestra Program Fall 2021.pdf\n",
      "Source 6: 7. Orchestra Program Fall 2011.pdf\n",
      "Source 7: 4. Orchestra Program Fall 2012.pdf\n",
      "Source 8: 5. Orchestra Program Fall 2014.pdf\n",
      "Source 9: 8. Orchestra Program Fall 2016.pdf\n",
      "Source 10: 27. Orchestra Program-Spring 2011.pdf\n"
     ]
    }
   ],
   "source": [
    "result = graph.invoke({\n",
    "    \"question\": \"Who played trumpet for the orchestra in the year 2019?\", \"filter\": {\"Ensemble_Type\": \"Orchestra\"}})\n",
    "\n",
    "print(f'Answer: {result[\"answer\"]}')\n",
    "print(\"\\n\\nSources:\")\n",
    "for i, source in enumerate(result[\"context\"]):\n",
    "    print(f'Source {i+1}: {source.metadata[\"source\"]}')"
   ]
  },
  {
   "cell_type": "code",
   "execution_count": 8,
   "id": "64075023",
   "metadata": {},
   "outputs": [
    {
     "name": "stdout",
     "output_type": "stream",
     "text": [
      "Answer: The trumpet players for the Haverford-Bryn Mawr College Orchestra in 2019 were Jack Weinstein, HC ’23, and Sam Istvan, HC ’21, who was the principal trumpet. Additionally, Jackie Toben, BMC ’22, was also listed as a Co-Associate Principal Trumpet.\n",
      "\n",
      "\n",
      "Sources:\n",
      "Source 1: 7. Orchestra Program Fall 2019.pdf\n",
      "Source 2: 7. Orchestra Program Fall 2019.pdf\n",
      "Source 3: 18. Orchestra Program Spring 2019.pdf\n",
      "Source 4: 7. Orchestra Program Fall 2019.pdf\n",
      "Source 5: 18. Orchestra Program Spring 2019.pdf\n",
      "Source 6: 18. Orchestra Program Spring 2019.pdf\n",
      "Source 7: 7. Orchestra Program Fall 2019.pdf\n",
      "Source 8: 7. Orchestra Program Fall 2019.pdf\n",
      "Source 9: 18. Orchestra Program Spring 2019.pdf\n",
      "Source 10: 18. Orchestra Program Spring 2019.pdf\n"
     ]
    }
   ],
   "source": [
    "result = graph.invoke({\n",
    "    \"question\": \"Who played trumpet for the haverford-bryn mawr orchestra in 2019?\",\n",
    "    \"filter\": {\"$and\": [{\"Ensemble_Type\": \"Orchestra\"}, {\"Year\": \"2019\"}]}\n",
    "})\n",
    "\n",
    "print(f'Answer: {result[\"answer\"]}')\n",
    "print(\"\\n\\nSources:\")\n",
    "for i, source in enumerate(result[\"context\"]):\n",
    "    print(f'Source {i+1}: {source.metadata[\"source\"]}')"
   ]
  },
  {
   "cell_type": "markdown",
   "id": "079277df",
   "metadata": {},
   "source": [
    "## Results\n",
    "\n",
    "We successfully set up a RAG app with effective filters. We can now \"chat\" with our data, and \"look up\" specific information in seconds with a high level of accuracy. The way that this is set up creates a chance of no result, but almost no chance of a purely *incorrect* answer. \n",
    "\n",
    "Our filters, however, were very effective in reducing the chance of no answer. Though they currently require a manual call, a future, streamlined version of this project could interpret a question and auto-apply filters with an LLM call. \n",
    "\n",
    "Overall, this project resulted in an effective and rapid way to explore our data. "
   ]
  }
 ],
 "metadata": {
  "kernelspec": {
   "display_name": "AI_Projects",
   "language": "python",
   "name": "python3"
  },
  "language_info": {
   "codemirror_mode": {
    "name": "ipython",
    "version": 3
   },
   "file_extension": ".py",
   "mimetype": "text/x-python",
   "name": "python",
   "nbconvert_exporter": "python",
   "pygments_lexer": "ipython3",
   "version": "3.12.11"
  }
 },
 "nbformat": 4,
 "nbformat_minor": 5
}
